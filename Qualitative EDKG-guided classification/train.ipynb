{
 "cells": [
  {
   "cell_type": "code",
   "execution_count": 1,
   "metadata": {},
   "outputs": [],
   "source": [
    "import pandas as pd\n",
    "\n",
    "import os\n",
    "\n",
    "import torch\n",
    "from torch_geometric.data import Data, InMemoryDataset\n",
    "from torch_geometric.loader import DataLoader\n",
    "\n",
    "\n",
    "from torch.nn import Linear, Parameter\n",
    "import torch.nn.functional as F\n",
    "from torch_geometric.nn import GCNConv\n",
    "from torch_geometric.nn import global_mean_pool, MessagePassing\n",
    "from torch_geometric.utils import add_self_loops, degree"
   ]
  },
  {
   "cell_type": "markdown",
   "metadata": {},
   "source": [
    "### Preprocessing"
   ]
  },
  {
   "cell_type": "code",
   "execution_count": null,
   "metadata": {},
   "outputs": [],
   "source": [
    "class MyOwnDataset(InMemoryDataset):\n",
    "    def __init__(self, root, transform=None, pre_transform=None):\n",
    "        super().__init__(root, transform, pre_transform)\n",
    "        self.data, self.slices = torch.load(self.processed_paths[0], weights_only=False)\n",
    "\n",
    "    @property\n",
    "    def raw_file_names(self):\n",
    "        return []\n",
    "\n",
    "    @property\n",
    "    def processed_file_names(self):\n",
    "        return ['data.pt']\n",
    "\n",
    "    def process(self):\n",
    "        import os, torch\n",
    "        import pandas as pd\n",
    "        from torch_geometric.data import Data\n",
    "\n",
    "        data_list = []\n",
    "        root_dir = 'edkgdl_all_data'\n",
    "        node_dir = 'Graph_index.txt'\n",
    "        edge_direct_dir = 'Graph_edge_index_direct.txt'\n",
    "        label_dir = 'Graph_label.txt'\n",
    "\n",
    "        n = len([d for d in os.listdir(root_dir) if os.path.isdir(os.path.join(root_dir, d))])\n",
    "        # n = 903\n",
    "\n",
    "        b = pd.read_csv(os.path.join(root_dir, label_dir), header=None)\n",
    "\n",
    "        for i in range(n):\n",
    "            file_dir = str(i)\n",
    "            node_path = os.path.join(root_dir, file_dir, node_dir)\n",
    "            edge_path = os.path.join(root_dir, file_dir, edge_direct_dir)\n",
    "\n",
    "            # nodes\n",
    "            y = pd.read_csv(node_path, header=None)\n",
    "            x = torch.tensor(y.values, dtype=torch.float)\n",
    "\n",
    "            # edges\n",
    "            a = pd.read_csv(edge_path, header=None)\n",
    "            edge_index = torch.tensor(a.iloc[:, 0:2].T.values, dtype=torch.long)\n",
    "            edge_attr = torch.tensor(a.iloc[:, 2:].values, dtype=torch.float)\n",
    "\n",
    "            label = torch.tensor(b.iloc[i, 1], dtype=torch.long).reshape(1)\n",
    "\n",
    "            data = Data(x=x, edge_index=edge_index, edge_attr=edge_attr, y=label)\n",
    "            data_list.append(data)\n",
    "\n",
    "        if self.pre_filter is not None:\n",
    "            data_list = [d for d in data_list if self.pre_filter(d)]\n",
    "        if self.pre_transform is not None:\n",
    "            data_list = [self.pre_transform(d) for d in data_list]\n",
    "\n",
    "        data, slices = self.collate(data_list)\n",
    "        torch.save((data, slices), self.processed_paths[0])"
   ]
  },
  {
   "cell_type": "code",
   "execution_count": null,
   "metadata": {},
   "outputs": [
    {
     "name": "stderr",
     "output_type": "stream",
     "text": [
      "Processing...\n"
     ]
    },
    {
     "name": "stdout",
     "output_type": "stream",
     "text": [
      "\n",
      "Dataset: MyOwnDataset(903):\n",
      "==========================\n",
      "Number of graphs: 903\n",
      "Number of features: 2\n",
      "Number of classes: 2\n",
      "\n",
      "Data(x=[74, 2], edge_index=[2, 657], edge_attr=[657, 2], y=[1])\n",
      "==========================================================\n",
      "Number of nodes: 74\n",
      "Number of edges: 657\n",
      "Average node degree: 8.88\n",
      "Has isolated nodes: True\n",
      "Has self-loops: False\n",
      "Is undirected: False\n"
     ]
    },
    {
     "name": "stderr",
     "output_type": "stream",
     "text": [
      "Done!\n"
     ]
    }
   ],
   "source": [
    "dataset = MyOwnDataset(\"EDKG-DL_data\")\n",
    "\n",
    "print()\n",
    "print(f'Dataset: {dataset}:')\n",
    "print('==========================')\n",
    "print(f'Number of graphs: {len(dataset)}')\n",
    "print(f'Number of features: {dataset.num_features}')\n",
    "print(f'Number of classes: {dataset.num_classes}')\n",
    "\n",
    "data = dataset[0] # get the first graph object\n",
    "\n",
    "print()\n",
    "print(data)\n",
    "print('==========================================================')\n",
    "\n",
    "# gather some statistics about the first graph\n",
    "print(f'Number of nodes: {data.num_nodes}')\n",
    "print(f'Number of edges: {data.num_edges}')\n",
    "print(f'Average node degree: {data.num_edges / data.num_nodes:.2f}')\n",
    "print(f'Has isolated nodes: {data.has_isolated_nodes()}')\n",
    "print(f'Has self-loops: {data.has_self_loops()}')\n",
    "print(f'Is undirected: {data.is_undirected()}')"
   ]
  },
  {
   "cell_type": "code",
   "execution_count": null,
   "metadata": {},
   "outputs": [
    {
     "name": "stdout",
     "output_type": "stream",
     "text": [
      "Number of training graphs: 903\n",
      "Number of test graph: 903\n"
     ]
    }
   ],
   "source": [
    "torch.manual_seed(12345)\n",
    "dataset = dataset.shuffle()\n",
    "\n",
    "train_dataset = dataset[:87] + dataset[87:903]\n",
    "test_dataset = dataset[:87] + dataset[87:903]\n",
    "\n",
    "print(f'Number of training graphs: {len(train_dataset)}')\n",
    "print(f'Number of test graph: {len(test_dataset)}')"
   ]
  },
  {
   "cell_type": "code",
   "execution_count": 5,
   "metadata": {},
   "outputs": [
    {
     "name": "stdout",
     "output_type": "stream",
     "text": [
      "Step 1:\n",
      "=========\n",
      "Number of graphs in the current batch: 64\n",
      "DataBatch(x=[4736, 2], edge_index=[2, 42048], edge_attr=[42048, 2], y=[64], batch=[4736], ptr=[65])\n",
      "\n",
      "Step 2:\n",
      "=========\n",
      "Number of graphs in the current batch: 64\n",
      "DataBatch(x=[4736, 2], edge_index=[2, 42048], edge_attr=[42048, 2], y=[64], batch=[4736], ptr=[65])\n",
      "\n",
      "Step 3:\n",
      "=========\n",
      "Number of graphs in the current batch: 64\n",
      "DataBatch(x=[4736, 2], edge_index=[2, 42048], edge_attr=[42048, 2], y=[64], batch=[4736], ptr=[65])\n",
      "\n",
      "Step 4:\n",
      "=========\n",
      "Number of graphs in the current batch: 64\n",
      "DataBatch(x=[4736, 2], edge_index=[2, 42048], edge_attr=[42048, 2], y=[64], batch=[4736], ptr=[65])\n",
      "\n",
      "Step 5:\n",
      "=========\n",
      "Number of graphs in the current batch: 64\n",
      "DataBatch(x=[4736, 2], edge_index=[2, 42048], edge_attr=[42048, 2], y=[64], batch=[4736], ptr=[65])\n",
      "\n",
      "Step 6:\n",
      "=========\n",
      "Number of graphs in the current batch: 64\n",
      "DataBatch(x=[4736, 2], edge_index=[2, 42048], edge_attr=[42048, 2], y=[64], batch=[4736], ptr=[65])\n",
      "\n",
      "Step 7:\n",
      "=========\n",
      "Number of graphs in the current batch: 64\n",
      "DataBatch(x=[4736, 2], edge_index=[2, 42048], edge_attr=[42048, 2], y=[64], batch=[4736], ptr=[65])\n",
      "\n",
      "Step 8:\n",
      "=========\n",
      "Number of graphs in the current batch: 64\n",
      "DataBatch(x=[4736, 2], edge_index=[2, 42048], edge_attr=[42048, 2], y=[64], batch=[4736], ptr=[65])\n",
      "\n",
      "Step 9:\n",
      "=========\n",
      "Number of graphs in the current batch: 64\n",
      "DataBatch(x=[4736, 2], edge_index=[2, 42048], edge_attr=[42048, 2], y=[64], batch=[4736], ptr=[65])\n",
      "\n",
      "Step 10:\n",
      "=========\n",
      "Number of graphs in the current batch: 64\n",
      "DataBatch(x=[4736, 2], edge_index=[2, 42048], edge_attr=[42048, 2], y=[64], batch=[4736], ptr=[65])\n",
      "\n",
      "Step 11:\n",
      "=========\n",
      "Number of graphs in the current batch: 64\n",
      "DataBatch(x=[4736, 2], edge_index=[2, 42048], edge_attr=[42048, 2], y=[64], batch=[4736], ptr=[65])\n",
      "\n",
      "Step 12:\n",
      "=========\n",
      "Number of graphs in the current batch: 64\n",
      "DataBatch(x=[4736, 2], edge_index=[2, 42048], edge_attr=[42048, 2], y=[64], batch=[4736], ptr=[65])\n",
      "\n",
      "Step 13:\n",
      "=========\n",
      "Number of graphs in the current batch: 64\n",
      "DataBatch(x=[4736, 2], edge_index=[2, 42048], edge_attr=[42048, 2], y=[64], batch=[4736], ptr=[65])\n",
      "\n",
      "Step 14:\n",
      "=========\n",
      "Number of graphs in the current batch: 64\n",
      "DataBatch(x=[4736, 2], edge_index=[2, 42048], edge_attr=[42048, 2], y=[64], batch=[4736], ptr=[65])\n",
      "\n",
      "Step 15:\n",
      "=========\n",
      "Number of graphs in the current batch: 7\n",
      "DataBatch(x=[518, 2], edge_index=[2, 4599], edge_attr=[4599, 2], y=[7], batch=[518], ptr=[8])\n",
      "\n"
     ]
    }
   ],
   "source": [
    "train_loader = DataLoader(train_dataset, batch_size=64, shuffle=True)\n",
    "test_loader = DataLoader(test_dataset, batch_size=64, shuffle=False)\n",
    "\n",
    "for step, data in enumerate(train_loader):\n",
    "    print(f'Step {step + 1}:')\n",
    "    print('=========')\n",
    "    print(f'Number of graphs in the current batch: {data.num_graphs}')\n",
    "    print(data)\n",
    "    print()"
   ]
  },
  {
   "cell_type": "markdown",
   "metadata": {},
   "source": [
    "# Train"
   ]
  },
  {
   "cell_type": "code",
   "execution_count": 6,
   "metadata": {},
   "outputs": [
    {
     "name": "stdout",
     "output_type": "stream",
     "text": [
      "2\n"
     ]
    }
   ],
   "source": [
    "print(torch.cuda.device_count())\n",
    "\n",
    "# device = torch.device('cuda' if torch.cuda.is_available() else 'cpu')\n",
    "def try_gpu(i=0):  #@save\n",
    "    if torch.cuda.device_count() >= i + 1:\n",
    "        return torch.device(f'cuda:{i}')\n",
    "    return torch.device('cpu')"
   ]
  },
  {
   "cell_type": "code",
   "execution_count": null,
   "metadata": {},
   "outputs": [],
   "source": [
    "# === W&B ===\n",
    "import os, sys, pathlib, subprocess, glob, time\n",
    "\n",
    "PROJECT = \"EDCs-BT-GNN-classification\"\n",
    "WANDB_DIR = r\"E:\\THY\\EDC-AOP\\GNN\\wandb_runs\"\n",
    "pathlib.Path(WANDB_DIR).mkdir(parents=True, exist_ok=True)\n",
    "\n",
    "os.environ.update({\n",
    "    \"WANDB_MODE\": \"offline\",\n",
    "    \"WANDB_DIR\": WANDB_DIR,\n",
    "    \"WANDB_DISABLE_SERVICE\": \"true\",\n",
    "    \"WANDB_DISABLE_CODE\": \"true\",\n",
    "    \"WANDB_DISABLE_GIT\": \"true\",\n",
    "    \"WANDB_DISABLE_NOTEBOOK\": \"true\",\n",
    "    \"WANDB_DISABLE_GPU\": \"true\",\n",
    "    \"WANDB_HTTP_TIMEOUT\": \"30\",\n",
    "    \"WANDB_INIT_TIMEOUT\": \"30\",\n",
    "})\n",
    "\n",
    "import wandb"
   ]
  },
  {
   "cell_type": "code",
   "execution_count": 8,
   "metadata": {},
   "outputs": [],
   "source": [
    "class GCNConvEdge(MessagePassing):\n",
    "    def __init__(self, in_channels, out_channels, edge_channels):\n",
    "        super().__init__(aggr='add')  # \"Add\" aggregation (Step 5).\n",
    "        self.lin = Linear(in_channels, out_channels, bias=False)\n",
    "        self.bias = Parameter(torch.empty(2 * out_channels))\n",
    "        self.lin_edge = Linear(edge_channels, out_channels, bias=False)\n",
    "\n",
    "        self.reset_parameters()\n",
    "\n",
    "    def reset_parameters(self):\n",
    "        self.lin.reset_parameters()\n",
    "        self.bias.data.zero_()\n",
    "        self.lin_edge.reset_parameters()\n",
    "\n",
    "    def forward(self, x, edge_index, ex):\n",
    "        # x has shape [N, in_channels]\n",
    "        # edge_index has shape [2, E]\n",
    "\n",
    "        # Step 1: Add self-loops to the adjacency matrix.\n",
    "        edge_index, _ = add_self_loops(edge_index, num_nodes=x.size(0))\n",
    "\n",
    "        # Step 2: Linearly transform node feature matrix.\n",
    "        x = self.lin(x)\n",
    "        ex = self.lin_edge(ex)\n",
    "        extended_ex = torch.cat([ex, torch.zeros([x.shape[0],ex.shape[1]], device=ex.device, dtype=ex.dtype)], dim=0)\n",
    "\n",
    "        # Step 3: Compute normalization.\n",
    "        row, col = edge_index\n",
    "        deg = degree(col, x.size(0), dtype=x.dtype)\n",
    "        deg_inv_sqrt = deg.pow(-0.5)\n",
    "        deg_inv_sqrt[deg_inv_sqrt == float('inf')] = 0\n",
    "        norm = deg_inv_sqrt[row] * deg_inv_sqrt[col]\n",
    "\n",
    "        # Step 4-5: Start propagating messages.\n",
    "        out = self.propagate(edge_index, x=x, norm=norm, ex=extended_ex)\n",
    "\n",
    "        # Step 6: Apply a final bias vector.\n",
    "        out += self.bias\n",
    "\n",
    "        return out, ex\n",
    "\n",
    "    def message(self, x_j, norm, ex):\n",
    "        # x_j has shape [E, out_channels]\n",
    "\n",
    "        # Step 4: Normalize node features.\n",
    "        return norm.view(-1, 1) * torch.cat([x_j, ex], dim=1)\n",
    "    \n",
    "# model \n",
    "class GCN(torch.nn.Module):\n",
    "    def __init__(self, hidden_channels_1, hidden_channels_2, hidden_channels_3):\n",
    "        super(GCN, self).__init__()\n",
    "        torch.manual_seed(12345)\n",
    "        self.conv1 = GCNConvEdge(dataset.num_node_features, hidden_channels_1, dataset.num_edge_features)\n",
    "        self.conv2 = GCNConvEdge(2 * hidden_channels_1, hidden_channels_2, hidden_channels_1)\n",
    "        self.conv3 = GCNConvEdge(2 * hidden_channels_2, hidden_channels_3, hidden_channels_2)\n",
    "        self.lin = Linear(2 * hidden_channels_3, dataset.num_classes)\n",
    "\n",
    "    def forward(self, x, edge_index, batch, edge_attr):\n",
    "        # 1. obtain node embeddings and edge embeddings\n",
    "        x, ex = self.conv1(x, edge_index, edge_attr)\n",
    "        x = x.relu()\n",
    "        x, ex = self.conv2(x, edge_index, ex)\n",
    "        x = x.relu()\n",
    "        x, _ = self.conv3(x, edge_index, ex)\n",
    "\n",
    "        # 2. readout layer\n",
    "        x = global_mean_pool(x, batch) # [batch_size, hidden_channels]\n",
    "\n",
    "        # 3. apply a final classifier \n",
    "        x = F.dropout(x, p=0.5, training=self.training)\n",
    "        x = self.lin(x)\n",
    "\n",
    "        return x"
   ]
  },
  {
   "cell_type": "code",
   "execution_count": 9,
   "metadata": {},
   "outputs": [],
   "source": [
    "import tqdm\n",
    "\n",
    "def agent_fn():\n",
    "    wandb.init()\n",
    "    model = GCN(\n",
    "       hidden_channels_1=wandb.config.hidden_size1,\n",
    "       hidden_channels_2=wandb.config.hidden_size2,\n",
    "       hidden_channels_3=wandb.config.hidden_size3\n",
    "    ).to(device=try_gpu())\n",
    "    wandb.watch(model)\n",
    "\n",
    "    optimizer = torch.optim.Adam(model.parameters(), lr=wandb.config.lr, weight_decay=wandb.config.weight_decay)\n",
    "    criterion = torch.nn.CrossEntropyLoss()\n",
    "\n",
    "    batch_size = wandb.config.batch_size\n",
    "    train_iter = DataLoader(train_dataset, batch_size=batch_size, shuffle=True)\n",
    "    test_iter = DataLoader(test_dataset, batch_size=32, shuffle=False)\n",
    "    \n",
    "    def train(loader):\n",
    "      model.train()\n",
    "\n",
    "      for data in loader: # iterate in batches over the training dataset.\n",
    "        data = data.to(device=try_gpu())\n",
    "        out = model(data.x, data.edge_index, data.batch, data.edge_attr) # perform a single forward pass.\n",
    "        loss = criterion(out, data.y) # compute the loss\n",
    "        loss.backward() # derive gradients.\n",
    "        optimizer.step() # update parameters based on gradients.\n",
    "        optimizer.zero_grad() # clear gradients.\n",
    "        \n",
    "    def test(loader):\n",
    "      model.eval()\n",
    "      \n",
    "      TP = 0\n",
    "      TN = 0\n",
    "      FP = 0\n",
    "      FN = 0\n",
    "      for data in loader:\n",
    "        data = data.to(device=try_gpu())\n",
    "        labels = data.y.squeeze()\n",
    "        out = model(data.x, data.edge_index, data.batch, data.edge_attr)\n",
    "        pred = out.argmax(dim=1)\n",
    "        for i in range(len(labels)):\n",
    "          if pred[i] == 1 and labels[i] == 1: # TruePositive\n",
    "            TP = TP + 1\n",
    "          elif pred[i] == 0 and labels[i] == 0: # TrueNegative\n",
    "            TN = TN + 1\n",
    "          elif pred[i] == 1 and labels[i] == 0: # FalsePositive\n",
    "            FP = FP + 1\n",
    "          else: # FalseNegative\n",
    "            FN = FN + 1\n",
    "        acc = (TP + TN) / (FN + FP + TP + TN)\n",
    "      return TP, TN, FP, FN, acc\n",
    "\n",
    "\n",
    "    for epoch in tqdm.tqdm(range(1, 201)):\n",
    "        train(train_iter)\n",
    "        _, _, _, _, train_acc = test(train_loader)\n",
    "        _, _, _, _, test_acc = test(test_loader)\n",
    "        wandb.log({\"GCNConvEdge-4Layers/train_acc\": train_acc})\n",
    "        wandb.log({\"GCNConvEdge-4Layers/test_acc\": test_acc})\n",
    "\n",
    "\n",
    "    model.eval()\n",
    "    TP, TN, FP, FN, acc = test(test_iter)\n",
    "    if TP + FP > 0:\n",
    "       pre = TP/ (TP + FP)\n",
    "    else:\n",
    "       pre = 0\n",
    "    if TP + FN > 0:\n",
    "       recall = TP / (TP + FN)\n",
    "    else:\n",
    "       recall = 0\n",
    "    if pre + recall > 0:\n",
    "       F1 = 2 * (pre * recall) / (pre + recall)\n",
    "    else:\n",
    "       F1 = 0\n",
    "\n",
    "    wandb.summary[\"GCNConvEdge-4Layers/TruePositives\"] = TP\n",
    "    wandb.summary[\"GCNConvEdge-4Layers/TrueNegatives\"] = TN\n",
    "    wandb.summary[\"GCNConvEdge4Layers/FalsePositives\"] = FP\n",
    "    wandb.summary[\"GCNConvEdge-4Layers/FalseNegatives\"] = FN\n",
    "    wandb.summary[\"GCNConvEdge-4Layers/Accuracy\"] = acc\n",
    "    wandb.summary[\"GCNConvEdge-4Layers/Precision\"] = pre\n",
    "    wandb.summary[\"GCNConvEdge-4Layers/Recall\"] = recall\n",
    "    wandb.summary[\"GCNConvEdge-4Layers/F1-score\"] = F1\n",
    "    wandb.log({\"GCNConvEdge-4Layers/TruePositives\": TP})\n",
    "    wandb.log({\"GCNConvEdge-4Layers/TrueNegatives\": TN})\n",
    "    wandb.log({\"GCNConvEdge-4Layers/FalsePositives\": FP})\n",
    "    wandb.log({\"GCNConvEdge-4Layers/FalseNegatives\": FN})\n",
    "    wandb.log({\"GCNConvEdge-4Layers/Accuracy\": acc})\n",
    "    wandb.log({\"GCNConvEdge-4Layers/Precision\": pre})\n",
    "    wandb.log({\"GCNConvEdge-4Layers/Recall\": recall})\n",
    "    wandb.log({\"GCNConvEdge-4Layers/F1-score\": F1})\n",
    "\n",
    "    # 获取当前 run 的 files 目录\n",
    "    run_dir = wandb.run.dir  # 形如 .../offline-run-xxxx/files\n",
    "\n",
    "    # 保存模型 state_dict\n",
    "    model_path = os.path.join(run_dir, \"model_state.pt\")\n",
    "    torch.save(model.state_dict(), model_path)\n",
    "\n",
    "    wandb.finish()"
   ]
  },
  {
   "cell_type": "code",
   "execution_count": 10,
   "metadata": {},
   "outputs": [],
   "source": [
    "sweep_config = {\n",
    "    \"name\": \"GCNConvEdge-4Layers\",\n",
    "    \"method\": \"bayes\",\n",
    "    \"metric\": {\n",
    "        \"name\": \"GCNConvEdge-4Layers/F1-score\",\n",
    "        \"goal\": \"maximize\",\n",
    "    },\n",
    "    \"parameters\": {\n",
    "        \"hidden_size1\": {\n",
    "            \"values\": [100, 80, 60, 50, 40, 30, 20, 10]\n",
    "        },\n",
    "        \"hidden_size2\": {\n",
    "            \"values\": [100, 80, 60, 50, 40, 30, 20, 10]\n",
    "        },\n",
    "        \"hidden_size3\": {\n",
    "            \"values\": [100, 80, 60, 50, 40, 30, 20, 10]\n",
    "        },\n",
    "        \"weight_decay\": {\n",
    "            \"distribution\": \"normal\",\n",
    "            \"mu\": 5e-4,\n",
    "            \"sigma\": 1e-5,\n",
    "        },\n",
    "        \"lr\": {\n",
    "            \"min\": 1e-4,\n",
    "            \"max\": 1e-3\n",
    "        },\n",
    "        \"batch_size\": {\n",
    "            \"values\": [300, 200, 100, 50, 20]\n",
    "        }\n",
    "    }\n",
    "}"
   ]
  },
  {
   "cell_type": "code",
   "execution_count": 11,
   "metadata": {},
   "outputs": [
    {
     "name": "stderr",
     "output_type": "stream",
     "text": [
      "\u001b[34m\u001b[1mwandb\u001b[0m: \u001b[33mWARNING\u001b[0m Unable to verify login in offline mode.\n"
     ]
    },
    {
     "name": "stdout",
     "output_type": "stream",
     "text": [
      "Create sweep with ID: hwetukn4\n",
      "Sweep URL: https://wandb.ai/haoyuejudy/EDCs-BT-GNN-classification/sweeps/hwetukn4\n"
     ]
    }
   ],
   "source": [
    "# Register the Sweep with W&B\n",
    "sweep_id = wandb.sweep(sweep_config, project=PROJECT)"
   ]
  },
  {
   "cell_type": "code",
   "execution_count": 12,
   "metadata": {},
   "outputs": [
    {
     "name": "stderr",
     "output_type": "stream",
     "text": [
      "\u001b[34m\u001b[1mwandb\u001b[0m: \u001b[33mWARNING\u001b[0m Unable to verify login in offline mode.\n",
      "\u001b[34m\u001b[1mwandb\u001b[0m: Agent Starting Run: t4ufj57v with config:\n",
      "\u001b[34m\u001b[1mwandb\u001b[0m: \tbatch_size: 50\n",
      "\u001b[34m\u001b[1mwandb\u001b[0m: \thidden_size1: 60\n",
      "\u001b[34m\u001b[1mwandb\u001b[0m: \thidden_size2: 10\n",
      "\u001b[34m\u001b[1mwandb\u001b[0m: \thidden_size3: 40\n",
      "\u001b[34m\u001b[1mwandb\u001b[0m: \tlr: 0.0004747885725318372\n",
      "\u001b[34m\u001b[1mwandb\u001b[0m: \tweight_decay: 0.0004910197348067454\n"
     ]
    },
    {
     "data": {
      "text/html": [
       "Tracking run with wandb version 0.20.1"
      ],
      "text/plain": [
       "<IPython.core.display.HTML object>"
      ]
     },
     "metadata": {},
     "output_type": "display_data"
    },
    {
     "data": {
      "text/html": [
       "W&B syncing is set to <code>`offline`<code> in this directory. Run <code>`wandb online`<code> or set <code>WANDB_MODE=online<code> to enable cloud syncing."
      ],
      "text/plain": [
       "<IPython.core.display.HTML object>"
      ]
     },
     "metadata": {},
     "output_type": "display_data"
    },
    {
     "name": "stderr",
     "output_type": "stream",
     "text": [
      "100%|██████████| 200/200 [04:25<00:00,  1.33s/it]\n"
     ]
    },
    {
     "data": {
      "text/html": [],
      "text/plain": [
       "<IPython.core.display.HTML object>"
      ]
     },
     "metadata": {},
     "output_type": "display_data"
    },
    {
     "data": {
      "text/html": [
       "<br>    <style><br>        .wandb-row {<br>            display: flex;<br>            flex-direction: row;<br>            flex-wrap: wrap;<br>            justify-content: flex-start;<br>            width: 100%;<br>        }<br>        .wandb-col {<br>            display: flex;<br>            flex-direction: column;<br>            flex-basis: 100%;<br>            flex: 1;<br>            padding: 10px;<br>        }<br>    </style><br><div class=\"wandb-row\"><div class=\"wandb-col\"><h3>Run history:</h3><br/><table class=\"wandb\"><tr><td>GCNConvEdge-4Layers/Accuracy</td><td>▁</td></tr><tr><td>GCNConvEdge-4Layers/F1-score</td><td>▁</td></tr><tr><td>GCNConvEdge-4Layers/FalseNegatives</td><td>▁</td></tr><tr><td>GCNConvEdge-4Layers/FalsePositives</td><td>▁</td></tr><tr><td>GCNConvEdge-4Layers/Precision</td><td>▁</td></tr><tr><td>GCNConvEdge-4Layers/Recall</td><td>▁</td></tr><tr><td>GCNConvEdge-4Layers/TrueNegatives</td><td>▁</td></tr><tr><td>GCNConvEdge-4Layers/TruePositives</td><td>▁</td></tr><tr><td>GCNConvEdge-4Layers/test_acc</td><td>▁▁▁▁▁▁▁▁▆▆▆▆▆▆▆▆▆█▆▆▆▆▆▆▆██▆▆▆█▆▆▆▆▆▆▆▇▆</td></tr><tr><td>GCNConvEdge-4Layers/train_acc</td><td>▁▁▁▁▁▆▆▇▇▇▇▇▇▇▇▆▇▇▇██▇▇▆█▆▇▇▇▆█▄▇▇█▇▇▇▆█</td></tr></table><br/></div><div class=\"wandb-col\"><h3>Run summary:</h3><br/><table class=\"wandb\"><tr><td>GCNConvEdge-4Layers/Accuracy</td><td>0.93577</td></tr><tr><td>GCNConvEdge-4Layers/F1-score</td><td>0.57971</td></tr><tr><td>GCNConvEdge-4Layers/FalseNegatives</td><td>47</td></tr><tr><td>GCNConvEdge-4Layers/FalsePositives</td><td>11</td></tr><tr><td>GCNConvEdge-4Layers/Precision</td><td>0.78431</td></tr><tr><td>GCNConvEdge-4Layers/Recall</td><td>0.45977</td></tr><tr><td>GCNConvEdge-4Layers/TrueNegatives</td><td>805</td></tr><tr><td>GCNConvEdge-4Layers/TruePositives</td><td>40</td></tr><tr><td>GCNConvEdge-4Layers/test_acc</td><td>0.93577</td></tr><tr><td>GCNConvEdge-4Layers/train_acc</td><td>0.93577</td></tr><tr><td>GCNConvEdge4Layers/FalsePositives</td><td>11</td></tr></table><br/></div></div>"
      ],
      "text/plain": [
       "<IPython.core.display.HTML object>"
      ]
     },
     "metadata": {},
     "output_type": "display_data"
    },
    {
     "data": {
      "text/html": [
       "You can sync this run to the cloud by running:<br><code>wandb sync E:\\THY\\EDC-AOP\\GNN\\wandb_runs\\wandb\\offline-run-20250811_215727-t4ufj57v<code>"
      ],
      "text/plain": [
       "<IPython.core.display.HTML object>"
      ]
     },
     "metadata": {},
     "output_type": "display_data"
    },
    {
     "data": {
      "text/html": [
       "Find logs at: <code>E:\\THY\\EDC-AOP\\GNN\\wandb_runs\\wandb\\offline-run-20250811_215727-t4ufj57v\\logs</code>"
      ],
      "text/plain": [
       "<IPython.core.display.HTML object>"
      ]
     },
     "metadata": {},
     "output_type": "display_data"
    },
    {
     "name": "stderr",
     "output_type": "stream",
     "text": [
      "\u001b[34m\u001b[1mwandb\u001b[0m: Agent Starting Run: z57gdbrv with config:\n",
      "\u001b[34m\u001b[1mwandb\u001b[0m: \tbatch_size: 200\n",
      "\u001b[34m\u001b[1mwandb\u001b[0m: \thidden_size1: 20\n",
      "\u001b[34m\u001b[1mwandb\u001b[0m: \thidden_size2: 80\n",
      "\u001b[34m\u001b[1mwandb\u001b[0m: \thidden_size3: 40\n",
      "\u001b[34m\u001b[1mwandb\u001b[0m: \tlr: 0.0005855525593884546\n",
      "\u001b[34m\u001b[1mwandb\u001b[0m: \tweight_decay: 0.0005150926605720456\n"
     ]
    },
    {
     "data": {
      "text/html": [
       "Tracking run with wandb version 0.20.1"
      ],
      "text/plain": [
       "<IPython.core.display.HTML object>"
      ]
     },
     "metadata": {},
     "output_type": "display_data"
    },
    {
     "data": {
      "text/html": [
       "W&B syncing is set to <code>`offline`<code> in this directory. Run <code>`wandb online`<code> or set <code>WANDB_MODE=online<code> to enable cloud syncing."
      ],
      "text/plain": [
       "<IPython.core.display.HTML object>"
      ]
     },
     "metadata": {},
     "output_type": "display_data"
    },
    {
     "name": "stderr",
     "output_type": "stream",
     "text": [
      "100%|██████████| 200/200 [03:35<00:00,  1.08s/it]\n"
     ]
    },
    {
     "data": {
      "text/html": [],
      "text/plain": [
       "<IPython.core.display.HTML object>"
      ]
     },
     "metadata": {},
     "output_type": "display_data"
    },
    {
     "data": {
      "text/html": [
       "<br>    <style><br>        .wandb-row {<br>            display: flex;<br>            flex-direction: row;<br>            flex-wrap: wrap;<br>            justify-content: flex-start;<br>            width: 100%;<br>        }<br>        .wandb-col {<br>            display: flex;<br>            flex-direction: column;<br>            flex-basis: 100%;<br>            flex: 1;<br>            padding: 10px;<br>        }<br>    </style><br><div class=\"wandb-row\"><div class=\"wandb-col\"><h3>Run history:</h3><br/><table class=\"wandb\"><tr><td>GCNConvEdge-4Layers/Accuracy</td><td>▁</td></tr><tr><td>GCNConvEdge-4Layers/F1-score</td><td>▁</td></tr><tr><td>GCNConvEdge-4Layers/FalseNegatives</td><td>▁</td></tr><tr><td>GCNConvEdge-4Layers/FalsePositives</td><td>▁</td></tr><tr><td>GCNConvEdge-4Layers/Precision</td><td>▁</td></tr><tr><td>GCNConvEdge-4Layers/Recall</td><td>▁</td></tr><tr><td>GCNConvEdge-4Layers/TrueNegatives</td><td>▁</td></tr><tr><td>GCNConvEdge-4Layers/TruePositives</td><td>▁</td></tr><tr><td>GCNConvEdge-4Layers/test_acc</td><td>▁▁▁▁▁▁▁▁▁▁▁▃▃▃▅▇▇▇▇▇▇▇▇▇▇▇▇▇█▇▇▇▇▇▇▇█▇▇█</td></tr><tr><td>GCNConvEdge-4Layers/train_acc</td><td>▁▁▁▁▁▁▁▁▁▁▁▁▁▂▂▆▆▆▆▆▆▆▆▆▆▆▆▆▆▆▆▆▆▆▆█▆▆▆▆</td></tr></table><br/></div><div class=\"wandb-col\"><h3>Run summary:</h3><br/><table class=\"wandb\"><tr><td>GCNConvEdge-4Layers/Accuracy</td><td>0.93466</td></tr><tr><td>GCNConvEdge-4Layers/F1-score</td><td>0.57554</td></tr><tr><td>GCNConvEdge-4Layers/FalseNegatives</td><td>47</td></tr><tr><td>GCNConvEdge-4Layers/FalsePositives</td><td>12</td></tr><tr><td>GCNConvEdge-4Layers/Precision</td><td>0.76923</td></tr><tr><td>GCNConvEdge-4Layers/Recall</td><td>0.45977</td></tr><tr><td>GCNConvEdge-4Layers/TrueNegatives</td><td>804</td></tr><tr><td>GCNConvEdge-4Layers/TruePositives</td><td>40</td></tr><tr><td>GCNConvEdge-4Layers/test_acc</td><td>0.93466</td></tr><tr><td>GCNConvEdge-4Layers/train_acc</td><td>0.93466</td></tr><tr><td>GCNConvEdge4Layers/FalsePositives</td><td>12</td></tr></table><br/></div></div>"
      ],
      "text/plain": [
       "<IPython.core.display.HTML object>"
      ]
     },
     "metadata": {},
     "output_type": "display_data"
    },
    {
     "data": {
      "text/html": [
       "You can sync this run to the cloud by running:<br><code>wandb sync E:\\THY\\EDC-AOP\\GNN\\wandb_runs\\wandb\\offline-run-20250811_220201-z57gdbrv<code>"
      ],
      "text/plain": [
       "<IPython.core.display.HTML object>"
      ]
     },
     "metadata": {},
     "output_type": "display_data"
    },
    {
     "data": {
      "text/html": [
       "Find logs at: <code>E:\\THY\\EDC-AOP\\GNN\\wandb_runs\\wandb\\offline-run-20250811_220201-z57gdbrv\\logs</code>"
      ],
      "text/plain": [
       "<IPython.core.display.HTML object>"
      ]
     },
     "metadata": {},
     "output_type": "display_data"
    },
    {
     "name": "stderr",
     "output_type": "stream",
     "text": [
      "\u001b[34m\u001b[1mwandb\u001b[0m: Sweep Agent: Waiting for job.\n",
      "\u001b[34m\u001b[1mwandb\u001b[0m: Job received.\n",
      "\u001b[34m\u001b[1mwandb\u001b[0m: Agent Starting Run: bq48ollz with config:\n",
      "\u001b[34m\u001b[1mwandb\u001b[0m: \tbatch_size: 300\n",
      "\u001b[34m\u001b[1mwandb\u001b[0m: \thidden_size1: 50\n",
      "\u001b[34m\u001b[1mwandb\u001b[0m: \thidden_size2: 50\n",
      "\u001b[34m\u001b[1mwandb\u001b[0m: \thidden_size3: 60\n",
      "\u001b[34m\u001b[1mwandb\u001b[0m: \tlr: 0.00027472362345084763\n",
      "\u001b[34m\u001b[1mwandb\u001b[0m: \tweight_decay: 0.00048157765002374784\n"
     ]
    },
    {
     "data": {
      "text/html": [
       "Tracking run with wandb version 0.20.1"
      ],
      "text/plain": [
       "<IPython.core.display.HTML object>"
      ]
     },
     "metadata": {},
     "output_type": "display_data"
    },
    {
     "data": {
      "text/html": [
       "W&B syncing is set to <code>`offline`<code> in this directory. Run <code>`wandb online`<code> or set <code>WANDB_MODE=online<code> to enable cloud syncing."
      ],
      "text/plain": [
       "<IPython.core.display.HTML object>"
      ]
     },
     "metadata": {},
     "output_type": "display_data"
    },
    {
     "name": "stderr",
     "output_type": "stream",
     "text": [
      "100%|██████████| 200/200 [03:33<00:00,  1.07s/it]\n"
     ]
    },
    {
     "data": {
      "text/html": [],
      "text/plain": [
       "<IPython.core.display.HTML object>"
      ]
     },
     "metadata": {},
     "output_type": "display_data"
    },
    {
     "data": {
      "text/html": [
       "<br>    <style><br>        .wandb-row {<br>            display: flex;<br>            flex-direction: row;<br>            flex-wrap: wrap;<br>            justify-content: flex-start;<br>            width: 100%;<br>        }<br>        .wandb-col {<br>            display: flex;<br>            flex-direction: column;<br>            flex-basis: 100%;<br>            flex: 1;<br>            padding: 10px;<br>        }<br>    </style><br><div class=\"wandb-row\"><div class=\"wandb-col\"><h3>Run history:</h3><br/><table class=\"wandb\"><tr><td>GCNConvEdge-4Layers/Accuracy</td><td>▁</td></tr><tr><td>GCNConvEdge-4Layers/F1-score</td><td>▁</td></tr><tr><td>GCNConvEdge-4Layers/FalseNegatives</td><td>▁</td></tr><tr><td>GCNConvEdge-4Layers/FalsePositives</td><td>▁</td></tr><tr><td>GCNConvEdge-4Layers/Precision</td><td>▁</td></tr><tr><td>GCNConvEdge-4Layers/Recall</td><td>▁</td></tr><tr><td>GCNConvEdge-4Layers/TrueNegatives</td><td>▁</td></tr><tr><td>GCNConvEdge-4Layers/TruePositives</td><td>▁</td></tr><tr><td>GCNConvEdge-4Layers/test_acc</td><td>▁▁▁▁▁▁▁▁▁▁▁▁▁▁▁▁▁▁▁▁▁▁▁▁▁▁▁▁▁▁▁▁▁▁▁▁▁▁▁▁</td></tr><tr><td>GCNConvEdge-4Layers/train_acc</td><td>▁▁▁▁▁▁▁▁▁▁▁▁▁▁▁▁▁▁▁▁▁▁▁▁▁▁▁▁▁▁▁▁▁▁▁▁▁▁▁▁</td></tr></table><br/></div><div class=\"wandb-col\"><h3>Run summary:</h3><br/><table class=\"wandb\"><tr><td>GCNConvEdge-4Layers/Accuracy</td><td>0.90365</td></tr><tr><td>GCNConvEdge-4Layers/F1-score</td><td>0</td></tr><tr><td>GCNConvEdge-4Layers/FalseNegatives</td><td>87</td></tr><tr><td>GCNConvEdge-4Layers/FalsePositives</td><td>0</td></tr><tr><td>GCNConvEdge-4Layers/Precision</td><td>0</td></tr><tr><td>GCNConvEdge-4Layers/Recall</td><td>0</td></tr><tr><td>GCNConvEdge-4Layers/TrueNegatives</td><td>816</td></tr><tr><td>GCNConvEdge-4Layers/TruePositives</td><td>0</td></tr><tr><td>GCNConvEdge-4Layers/test_acc</td><td>0.90365</td></tr><tr><td>GCNConvEdge-4Layers/train_acc</td><td>0.90365</td></tr><tr><td>GCNConvEdge4Layers/FalsePositives</td><td>0</td></tr></table><br/></div></div>"
      ],
      "text/plain": [
       "<IPython.core.display.HTML object>"
      ]
     },
     "metadata": {},
     "output_type": "display_data"
    },
    {
     "data": {
      "text/html": [
       "You can sync this run to the cloud by running:<br><code>wandb sync E:\\THY\\EDC-AOP\\GNN\\wandb_runs\\wandb\\offline-run-20250811_220558-bq48ollz<code>"
      ],
      "text/plain": [
       "<IPython.core.display.HTML object>"
      ]
     },
     "metadata": {},
     "output_type": "display_data"
    },
    {
     "data": {
      "text/html": [
       "Find logs at: <code>E:\\THY\\EDC-AOP\\GNN\\wandb_runs\\wandb\\offline-run-20250811_220558-bq48ollz\\logs</code>"
      ],
      "text/plain": [
       "<IPython.core.display.HTML object>"
      ]
     },
     "metadata": {},
     "output_type": "display_data"
    },
    {
     "name": "stderr",
     "output_type": "stream",
     "text": [
      "\u001b[34m\u001b[1mwandb\u001b[0m: Agent Starting Run: qvozpzxf with config:\n",
      "\u001b[34m\u001b[1mwandb\u001b[0m: \tbatch_size: 50\n",
      "\u001b[34m\u001b[1mwandb\u001b[0m: \thidden_size1: 50\n",
      "\u001b[34m\u001b[1mwandb\u001b[0m: \thidden_size2: 100\n",
      "\u001b[34m\u001b[1mwandb\u001b[0m: \thidden_size3: 60\n",
      "\u001b[34m\u001b[1mwandb\u001b[0m: \tlr: 0.0004644987166669757\n",
      "\u001b[34m\u001b[1mwandb\u001b[0m: \tweight_decay: 0.0005011614710338505\n"
     ]
    },
    {
     "data": {
      "text/html": [
       "Tracking run with wandb version 0.20.1"
      ],
      "text/plain": [
       "<IPython.core.display.HTML object>"
      ]
     },
     "metadata": {},
     "output_type": "display_data"
    },
    {
     "data": {
      "text/html": [
       "W&B syncing is set to <code>`offline`<code> in this directory. Run <code>`wandb online`<code> or set <code>WANDB_MODE=online<code> to enable cloud syncing."
      ],
      "text/plain": [
       "<IPython.core.display.HTML object>"
      ]
     },
     "metadata": {},
     "output_type": "display_data"
    },
    {
     "name": "stderr",
     "output_type": "stream",
     "text": [
      "100%|██████████| 200/200 [04:33<00:00,  1.37s/it]\n"
     ]
    },
    {
     "data": {
      "text/html": [],
      "text/plain": [
       "<IPython.core.display.HTML object>"
      ]
     },
     "metadata": {},
     "output_type": "display_data"
    },
    {
     "data": {
      "text/html": [
       "<br>    <style><br>        .wandb-row {<br>            display: flex;<br>            flex-direction: row;<br>            flex-wrap: wrap;<br>            justify-content: flex-start;<br>            width: 100%;<br>        }<br>        .wandb-col {<br>            display: flex;<br>            flex-direction: column;<br>            flex-basis: 100%;<br>            flex: 1;<br>            padding: 10px;<br>        }<br>    </style><br><div class=\"wandb-row\"><div class=\"wandb-col\"><h3>Run history:</h3><br/><table class=\"wandb\"><tr><td>GCNConvEdge-4Layers/Accuracy</td><td>▁</td></tr><tr><td>GCNConvEdge-4Layers/F1-score</td><td>▁</td></tr><tr><td>GCNConvEdge-4Layers/FalseNegatives</td><td>▁</td></tr><tr><td>GCNConvEdge-4Layers/FalsePositives</td><td>▁</td></tr><tr><td>GCNConvEdge-4Layers/Precision</td><td>▁</td></tr><tr><td>GCNConvEdge-4Layers/Recall</td><td>▁</td></tr><tr><td>GCNConvEdge-4Layers/TrueNegatives</td><td>▁</td></tr><tr><td>GCNConvEdge-4Layers/TruePositives</td><td>▁</td></tr><tr><td>GCNConvEdge-4Layers/test_acc</td><td>▁▁▁▁▁▆▅▆▆▅▆▆▆█▆▆▆█▆▆▆▆▆▆▆▆██▆▄▆▆▆▆▆▇▆█▆▆</td></tr><tr><td>GCNConvEdge-4Layers/train_acc</td><td>▁▁▁▁▁▄▄▆▆▄▅▄▅▅▆▅▅▅▅▆▅▆▅▅▅▅▄▅▅▅▅▆▅▅▆█▅▅▅▅</td></tr></table><br/></div><div class=\"wandb-col\"><h3>Run summary:</h3><br/><table class=\"wandb\"><tr><td>GCNConvEdge-4Layers/Accuracy</td><td>0.93466</td></tr><tr><td>GCNConvEdge-4Layers/F1-score</td><td>0.57554</td></tr><tr><td>GCNConvEdge-4Layers/FalseNegatives</td><td>47</td></tr><tr><td>GCNConvEdge-4Layers/FalsePositives</td><td>12</td></tr><tr><td>GCNConvEdge-4Layers/Precision</td><td>0.76923</td></tr><tr><td>GCNConvEdge-4Layers/Recall</td><td>0.45977</td></tr><tr><td>GCNConvEdge-4Layers/TrueNegatives</td><td>804</td></tr><tr><td>GCNConvEdge-4Layers/TruePositives</td><td>40</td></tr><tr><td>GCNConvEdge-4Layers/test_acc</td><td>0.93466</td></tr><tr><td>GCNConvEdge-4Layers/train_acc</td><td>0.93466</td></tr><tr><td>GCNConvEdge4Layers/FalsePositives</td><td>12</td></tr></table><br/></div></div>"
      ],
      "text/plain": [
       "<IPython.core.display.HTML object>"
      ]
     },
     "metadata": {},
     "output_type": "display_data"
    },
    {
     "data": {
      "text/html": [
       "You can sync this run to the cloud by running:<br><code>wandb sync E:\\THY\\EDC-AOP\\GNN\\wandb_runs\\wandb\\offline-run-20250811_220935-qvozpzxf<code>"
      ],
      "text/plain": [
       "<IPython.core.display.HTML object>"
      ]
     },
     "metadata": {},
     "output_type": "display_data"
    },
    {
     "data": {
      "text/html": [
       "Find logs at: <code>E:\\THY\\EDC-AOP\\GNN\\wandb_runs\\wandb\\offline-run-20250811_220935-qvozpzxf\\logs</code>"
      ],
      "text/plain": [
       "<IPython.core.display.HTML object>"
      ]
     },
     "metadata": {},
     "output_type": "display_data"
    },
    {
     "name": "stderr",
     "output_type": "stream",
     "text": [
      "\u001b[34m\u001b[1mwandb\u001b[0m: Agent Starting Run: whzmyhto with config:\n",
      "\u001b[34m\u001b[1mwandb\u001b[0m: \tbatch_size: 300\n",
      "\u001b[34m\u001b[1mwandb\u001b[0m: \thidden_size1: 40\n",
      "\u001b[34m\u001b[1mwandb\u001b[0m: \thidden_size2: 60\n",
      "\u001b[34m\u001b[1mwandb\u001b[0m: \thidden_size3: 50\n",
      "\u001b[34m\u001b[1mwandb\u001b[0m: \tlr: 0.0008756647075625584\n",
      "\u001b[34m\u001b[1mwandb\u001b[0m: \tweight_decay: 0.0005074110087506592\n"
     ]
    },
    {
     "data": {
      "text/html": [
       "Tracking run with wandb version 0.20.1"
      ],
      "text/plain": [
       "<IPython.core.display.HTML object>"
      ]
     },
     "metadata": {},
     "output_type": "display_data"
    },
    {
     "data": {
      "text/html": [
       "W&B syncing is set to <code>`offline`<code> in this directory. Run <code>`wandb online`<code> or set <code>WANDB_MODE=online<code> to enable cloud syncing."
      ],
      "text/plain": [
       "<IPython.core.display.HTML object>"
      ]
     },
     "metadata": {},
     "output_type": "display_data"
    },
    {
     "name": "stderr",
     "output_type": "stream",
     "text": [
      "100%|██████████| 200/200 [03:31<00:00,  1.06s/it]\n"
     ]
    },
    {
     "data": {
      "text/html": [],
      "text/plain": [
       "<IPython.core.display.HTML object>"
      ]
     },
     "metadata": {},
     "output_type": "display_data"
    },
    {
     "data": {
      "text/html": [
       "<br>    <style><br>        .wandb-row {<br>            display: flex;<br>            flex-direction: row;<br>            flex-wrap: wrap;<br>            justify-content: flex-start;<br>            width: 100%;<br>        }<br>        .wandb-col {<br>            display: flex;<br>            flex-direction: column;<br>            flex-basis: 100%;<br>            flex: 1;<br>            padding: 10px;<br>        }<br>    </style><br><div class=\"wandb-row\"><div class=\"wandb-col\"><h3>Run history:</h3><br/><table class=\"wandb\"><tr><td>GCNConvEdge-4Layers/Accuracy</td><td>▁</td></tr><tr><td>GCNConvEdge-4Layers/F1-score</td><td>▁</td></tr><tr><td>GCNConvEdge-4Layers/FalseNegatives</td><td>▁</td></tr><tr><td>GCNConvEdge-4Layers/FalsePositives</td><td>▁</td></tr><tr><td>GCNConvEdge-4Layers/Precision</td><td>▁</td></tr><tr><td>GCNConvEdge-4Layers/Recall</td><td>▁</td></tr><tr><td>GCNConvEdge-4Layers/TrueNegatives</td><td>▁</td></tr><tr><td>GCNConvEdge-4Layers/TruePositives</td><td>▁</td></tr><tr><td>GCNConvEdge-4Layers/test_acc</td><td>▁▁▁▁▁▁▁▁▁▁▁▁▁▁▁▁▁▁▁▁▁▁▁▁▁▁▁▁▁▁▃▁▁▃▁█▁▁▃▃</td></tr><tr><td>GCNConvEdge-4Layers/train_acc</td><td>▁▁▁▁▁▁▁▁▁▁▁▁▁▁▁▁▁▁▁▁▁▁▁▁▁▁▁▁▁▁▁▁▂▁▂▁▁▆█▂</td></tr></table><br/></div><div class=\"wandb-col\"><h3>Run summary:</h3><br/><table class=\"wandb\"><tr><td>GCNConvEdge-4Layers/Accuracy</td><td>0.9103</td></tr><tr><td>GCNConvEdge-4Layers/F1-score</td><td>0.19802</td></tr><tr><td>GCNConvEdge-4Layers/FalseNegatives</td><td>77</td></tr><tr><td>GCNConvEdge-4Layers/FalsePositives</td><td>4</td></tr><tr><td>GCNConvEdge-4Layers/Precision</td><td>0.71429</td></tr><tr><td>GCNConvEdge-4Layers/Recall</td><td>0.11494</td></tr><tr><td>GCNConvEdge-4Layers/TrueNegatives</td><td>812</td></tr><tr><td>GCNConvEdge-4Layers/TruePositives</td><td>10</td></tr><tr><td>GCNConvEdge-4Layers/test_acc</td><td>0.9103</td></tr><tr><td>GCNConvEdge-4Layers/train_acc</td><td>0.9103</td></tr><tr><td>GCNConvEdge4Layers/FalsePositives</td><td>4</td></tr></table><br/></div></div>"
      ],
      "text/plain": [
       "<IPython.core.display.HTML object>"
      ]
     },
     "metadata": {},
     "output_type": "display_data"
    },
    {
     "data": {
      "text/html": [
       "You can sync this run to the cloud by running:<br><code>wandb sync E:\\THY\\EDC-AOP\\GNN\\wandb_runs\\wandb\\offline-run-20250811_221415-whzmyhto<code>"
      ],
      "text/plain": [
       "<IPython.core.display.HTML object>"
      ]
     },
     "metadata": {},
     "output_type": "display_data"
    },
    {
     "data": {
      "text/html": [
       "Find logs at: <code>E:\\THY\\EDC-AOP\\GNN\\wandb_runs\\wandb\\offline-run-20250811_221415-whzmyhto\\logs</code>"
      ],
      "text/plain": [
       "<IPython.core.display.HTML object>"
      ]
     },
     "metadata": {},
     "output_type": "display_data"
    },
    {
     "name": "stderr",
     "output_type": "stream",
     "text": [
      "\u001b[34m\u001b[1mwandb\u001b[0m: Sweep Agent: Waiting for job.\n",
      "\u001b[34m\u001b[1mwandb\u001b[0m: Job received.\n",
      "\u001b[34m\u001b[1mwandb\u001b[0m: Agent Starting Run: xzeaeacm with config:\n",
      "\u001b[34m\u001b[1mwandb\u001b[0m: \tbatch_size: 100\n",
      "\u001b[34m\u001b[1mwandb\u001b[0m: \thidden_size1: 10\n",
      "\u001b[34m\u001b[1mwandb\u001b[0m: \thidden_size2: 100\n",
      "\u001b[34m\u001b[1mwandb\u001b[0m: \thidden_size3: 50\n",
      "\u001b[34m\u001b[1mwandb\u001b[0m: \tlr: 0.0009348430514871034\n",
      "\u001b[34m\u001b[1mwandb\u001b[0m: \tweight_decay: 0.0004892885044420883\n"
     ]
    },
    {
     "data": {
      "text/html": [
       "Tracking run with wandb version 0.20.1"
      ],
      "text/plain": [
       "<IPython.core.display.HTML object>"
      ]
     },
     "metadata": {},
     "output_type": "display_data"
    },
    {
     "data": {
      "text/html": [
       "W&B syncing is set to <code>`offline`<code> in this directory. Run <code>`wandb online`<code> or set <code>WANDB_MODE=online<code> to enable cloud syncing."
      ],
      "text/plain": [
       "<IPython.core.display.HTML object>"
      ]
     },
     "metadata": {},
     "output_type": "display_data"
    },
    {
     "name": "stderr",
     "output_type": "stream",
     "text": [
      "100%|██████████| 200/200 [03:44<00:00,  1.12s/it]\n"
     ]
    },
    {
     "data": {
      "text/html": [],
      "text/plain": [
       "<IPython.core.display.HTML object>"
      ]
     },
     "metadata": {},
     "output_type": "display_data"
    },
    {
     "data": {
      "text/html": [
       "<br>    <style><br>        .wandb-row {<br>            display: flex;<br>            flex-direction: row;<br>            flex-wrap: wrap;<br>            justify-content: flex-start;<br>            width: 100%;<br>        }<br>        .wandb-col {<br>            display: flex;<br>            flex-direction: column;<br>            flex-basis: 100%;<br>            flex: 1;<br>            padding: 10px;<br>        }<br>    </style><br><div class=\"wandb-row\"><div class=\"wandb-col\"><h3>Run history:</h3><br/><table class=\"wandb\"><tr><td>GCNConvEdge-4Layers/Accuracy</td><td>▁</td></tr><tr><td>GCNConvEdge-4Layers/F1-score</td><td>▁</td></tr><tr><td>GCNConvEdge-4Layers/FalseNegatives</td><td>▁</td></tr><tr><td>GCNConvEdge-4Layers/FalsePositives</td><td>▁</td></tr><tr><td>GCNConvEdge-4Layers/Precision</td><td>▁</td></tr><tr><td>GCNConvEdge-4Layers/Recall</td><td>▁</td></tr><tr><td>GCNConvEdge-4Layers/TrueNegatives</td><td>▁</td></tr><tr><td>GCNConvEdge-4Layers/TruePositives</td><td>▁</td></tr><tr><td>GCNConvEdge-4Layers/test_acc</td><td>▁▁▁▁▁▁▁▁▁▁▅▇█▅▅▅▅▅▆▆▆▆▆▆▆▆▆▆▆▆▇▆▅▆▆▆▇▆▇▆</td></tr><tr><td>GCNConvEdge-4Layers/train_acc</td><td>▁▁▁▁▁▁▁▁▁▁▅▅▅▅▆▅▅▆▅▆▆▆▅▅▆█▆▆▆▅▅▆▆▆▆▆▆▆▆▆</td></tr></table><br/></div><div class=\"wandb-col\"><h3>Run summary:</h3><br/><table class=\"wandb\"><tr><td>GCNConvEdge-4Layers/Accuracy</td><td>0.94131</td></tr><tr><td>GCNConvEdge-4Layers/F1-score</td><td>0.64901</td></tr><tr><td>GCNConvEdge-4Layers/FalseNegatives</td><td>38</td></tr><tr><td>GCNConvEdge-4Layers/FalsePositives</td><td>15</td></tr><tr><td>GCNConvEdge-4Layers/Precision</td><td>0.76562</td></tr><tr><td>GCNConvEdge-4Layers/Recall</td><td>0.56322</td></tr><tr><td>GCNConvEdge-4Layers/TrueNegatives</td><td>801</td></tr><tr><td>GCNConvEdge-4Layers/TruePositives</td><td>49</td></tr><tr><td>GCNConvEdge-4Layers/test_acc</td><td>0.94131</td></tr><tr><td>GCNConvEdge-4Layers/train_acc</td><td>0.94131</td></tr><tr><td>GCNConvEdge4Layers/FalsePositives</td><td>15</td></tr></table><br/></div></div>"
      ],
      "text/plain": [
       "<IPython.core.display.HTML object>"
      ]
     },
     "metadata": {},
     "output_type": "display_data"
    },
    {
     "data": {
      "text/html": [
       "You can sync this run to the cloud by running:<br><code>wandb sync E:\\THY\\EDC-AOP\\GNN\\wandb_runs\\wandb\\offline-run-20250811_221758-xzeaeacm<code>"
      ],
      "text/plain": [
       "<IPython.core.display.HTML object>"
      ]
     },
     "metadata": {},
     "output_type": "display_data"
    },
    {
     "data": {
      "text/html": [
       "Find logs at: <code>E:\\THY\\EDC-AOP\\GNN\\wandb_runs\\wandb\\offline-run-20250811_221758-xzeaeacm\\logs</code>"
      ],
      "text/plain": [
       "<IPython.core.display.HTML object>"
      ]
     },
     "metadata": {},
     "output_type": "display_data"
    },
    {
     "name": "stderr",
     "output_type": "stream",
     "text": [
      "\u001b[34m\u001b[1mwandb\u001b[0m: Sweep Agent: Waiting for job.\n",
      "\u001b[34m\u001b[1mwandb\u001b[0m: Job received.\n",
      "\u001b[34m\u001b[1mwandb\u001b[0m: Agent Starting Run: azyt2ldt with config:\n",
      "\u001b[34m\u001b[1mwandb\u001b[0m: \tbatch_size: 100\n",
      "\u001b[34m\u001b[1mwandb\u001b[0m: \thidden_size1: 20\n",
      "\u001b[34m\u001b[1mwandb\u001b[0m: \thidden_size2: 40\n",
      "\u001b[34m\u001b[1mwandb\u001b[0m: \thidden_size3: 80\n",
      "\u001b[34m\u001b[1mwandb\u001b[0m: \tlr: 0.0003362118909550924\n",
      "\u001b[34m\u001b[1mwandb\u001b[0m: \tweight_decay: 0.0004924992058672548\n"
     ]
    },
    {
     "data": {
      "text/html": [
       "Tracking run with wandb version 0.20.1"
      ],
      "text/plain": [
       "<IPython.core.display.HTML object>"
      ]
     },
     "metadata": {},
     "output_type": "display_data"
    },
    {
     "data": {
      "text/html": [
       "W&B syncing is set to <code>`offline`<code> in this directory. Run <code>`wandb online`<code> or set <code>WANDB_MODE=online<code> to enable cloud syncing."
      ],
      "text/plain": [
       "<IPython.core.display.HTML object>"
      ]
     },
     "metadata": {},
     "output_type": "display_data"
    },
    {
     "name": "stderr",
     "output_type": "stream",
     "text": [
      "100%|██████████| 200/200 [04:00<00:00,  1.20s/it]\n"
     ]
    },
    {
     "data": {
      "text/html": [],
      "text/plain": [
       "<IPython.core.display.HTML object>"
      ]
     },
     "metadata": {},
     "output_type": "display_data"
    },
    {
     "data": {
      "text/html": [
       "<br>    <style><br>        .wandb-row {<br>            display: flex;<br>            flex-direction: row;<br>            flex-wrap: wrap;<br>            justify-content: flex-start;<br>            width: 100%;<br>        }<br>        .wandb-col {<br>            display: flex;<br>            flex-direction: column;<br>            flex-basis: 100%;<br>            flex: 1;<br>            padding: 10px;<br>        }<br>    </style><br><div class=\"wandb-row\"><div class=\"wandb-col\"><h3>Run history:</h3><br/><table class=\"wandb\"><tr><td>GCNConvEdge-4Layers/Accuracy</td><td>▁</td></tr><tr><td>GCNConvEdge-4Layers/F1-score</td><td>▁</td></tr><tr><td>GCNConvEdge-4Layers/FalseNegatives</td><td>▁</td></tr><tr><td>GCNConvEdge-4Layers/FalsePositives</td><td>▁</td></tr><tr><td>GCNConvEdge-4Layers/Precision</td><td>▁</td></tr><tr><td>GCNConvEdge-4Layers/Recall</td><td>▁</td></tr><tr><td>GCNConvEdge-4Layers/TrueNegatives</td><td>▁</td></tr><tr><td>GCNConvEdge-4Layers/TruePositives</td><td>▁</td></tr><tr><td>GCNConvEdge-4Layers/test_acc</td><td>▁▁▁▁▁▁▁▁▁▁▁▁▁▁▁▁▂▂▂▅▆▆▆▆▆▆▆█▆▆▆▆▆▆▆▆▆▆▇▆</td></tr><tr><td>GCNConvEdge-4Layers/train_acc</td><td>▁▁▁▁▁▁▁▁▁▁▁▁▁▁▁▂▆▄▆▆▆▆▆▆▆▆▆▆▆▆▆▆▆█▆▆▆▆█▆</td></tr></table><br/></div><div class=\"wandb-col\"><h3>Run summary:</h3><br/><table class=\"wandb\"><tr><td>GCNConvEdge-4Layers/Accuracy</td><td>0.93023</td></tr><tr><td>GCNConvEdge-4Layers/F1-score</td><td>0.53333</td></tr><tr><td>GCNConvEdge-4Layers/FalseNegatives</td><td>51</td></tr><tr><td>GCNConvEdge-4Layers/FalsePositives</td><td>12</td></tr><tr><td>GCNConvEdge-4Layers/Precision</td><td>0.75</td></tr><tr><td>GCNConvEdge-4Layers/Recall</td><td>0.41379</td></tr><tr><td>GCNConvEdge-4Layers/TrueNegatives</td><td>804</td></tr><tr><td>GCNConvEdge-4Layers/TruePositives</td><td>36</td></tr><tr><td>GCNConvEdge-4Layers/test_acc</td><td>0.93023</td></tr><tr><td>GCNConvEdge-4Layers/train_acc</td><td>0.93023</td></tr><tr><td>GCNConvEdge4Layers/FalsePositives</td><td>12</td></tr></table><br/></div></div>"
      ],
      "text/plain": [
       "<IPython.core.display.HTML object>"
      ]
     },
     "metadata": {},
     "output_type": "display_data"
    },
    {
     "data": {
      "text/html": [
       "You can sync this run to the cloud by running:<br><code>wandb sync E:\\THY\\EDC-AOP\\GNN\\wandb_runs\\wandb\\offline-run-20250811_222153-azyt2ldt<code>"
      ],
      "text/plain": [
       "<IPython.core.display.HTML object>"
      ]
     },
     "metadata": {},
     "output_type": "display_data"
    },
    {
     "data": {
      "text/html": [
       "Find logs at: <code>E:\\THY\\EDC-AOP\\GNN\\wandb_runs\\wandb\\offline-run-20250811_222153-azyt2ldt\\logs</code>"
      ],
      "text/plain": [
       "<IPython.core.display.HTML object>"
      ]
     },
     "metadata": {},
     "output_type": "display_data"
    },
    {
     "name": "stderr",
     "output_type": "stream",
     "text": [
      "\u001b[34m\u001b[1mwandb\u001b[0m: Sweep Agent: Waiting for job.\n",
      "\u001b[34m\u001b[1mwandb\u001b[0m: Job received.\n",
      "\u001b[34m\u001b[1mwandb\u001b[0m: Agent Starting Run: t7m1ebtm with config:\n",
      "\u001b[34m\u001b[1mwandb\u001b[0m: \tbatch_size: 50\n",
      "\u001b[34m\u001b[1mwandb\u001b[0m: \thidden_size1: 40\n",
      "\u001b[34m\u001b[1mwandb\u001b[0m: \thidden_size2: 40\n",
      "\u001b[34m\u001b[1mwandb\u001b[0m: \thidden_size3: 50\n",
      "\u001b[34m\u001b[1mwandb\u001b[0m: \tlr: 0.00018788493463005836\n",
      "\u001b[34m\u001b[1mwandb\u001b[0m: \tweight_decay: 0.0005070537872299033\n"
     ]
    },
    {
     "data": {
      "text/html": [
       "Tracking run with wandb version 0.20.1"
      ],
      "text/plain": [
       "<IPython.core.display.HTML object>"
      ]
     },
     "metadata": {},
     "output_type": "display_data"
    },
    {
     "data": {
      "text/html": [
       "W&B syncing is set to <code>`offline`<code> in this directory. Run <code>`wandb online`<code> or set <code>WANDB_MODE=online<code> to enable cloud syncing."
      ],
      "text/plain": [
       "<IPython.core.display.HTML object>"
      ]
     },
     "metadata": {},
     "output_type": "display_data"
    },
    {
     "name": "stderr",
     "output_type": "stream",
     "text": [
      "100%|██████████| 200/200 [04:52<00:00,  1.46s/it]\n"
     ]
    },
    {
     "data": {
      "text/html": [],
      "text/plain": [
       "<IPython.core.display.HTML object>"
      ]
     },
     "metadata": {},
     "output_type": "display_data"
    },
    {
     "data": {
      "text/html": [
       "<br>    <style><br>        .wandb-row {<br>            display: flex;<br>            flex-direction: row;<br>            flex-wrap: wrap;<br>            justify-content: flex-start;<br>            width: 100%;<br>        }<br>        .wandb-col {<br>            display: flex;<br>            flex-direction: column;<br>            flex-basis: 100%;<br>            flex: 1;<br>            padding: 10px;<br>        }<br>    </style><br><div class=\"wandb-row\"><div class=\"wandb-col\"><h3>Run history:</h3><br/><table class=\"wandb\"><tr><td>GCNConvEdge-4Layers/Accuracy</td><td>▁</td></tr><tr><td>GCNConvEdge-4Layers/F1-score</td><td>▁</td></tr><tr><td>GCNConvEdge-4Layers/FalseNegatives</td><td>▁</td></tr><tr><td>GCNConvEdge-4Layers/FalsePositives</td><td>▁</td></tr><tr><td>GCNConvEdge-4Layers/Precision</td><td>▁</td></tr><tr><td>GCNConvEdge-4Layers/Recall</td><td>▁</td></tr><tr><td>GCNConvEdge-4Layers/TrueNegatives</td><td>▁</td></tr><tr><td>GCNConvEdge-4Layers/TruePositives</td><td>▁</td></tr><tr><td>GCNConvEdge-4Layers/test_acc</td><td>▁▁▁▁▁▁▁▁▁▁▁▁▁▁▂▆▆▆▆▆▆▆▆▆▇▇▆▆▆▆▆▆▆▆▆▇█▆▆▆</td></tr><tr><td>GCNConvEdge-4Layers/train_acc</td><td>▁▁▁▁▁▁▁▁▁▁▁▁▁▁▁▁▁▆▅▆▆▆▆▆▆█▆▆▆▆▆▇▆▆▇▆▆▇▆▆</td></tr></table><br/></div><div class=\"wandb-col\"><h3>Run summary:</h3><br/><table class=\"wandb\"><tr><td>GCNConvEdge-4Layers/Accuracy</td><td>0.93466</td></tr><tr><td>GCNConvEdge-4Layers/F1-score</td><td>0.58156</td></tr><tr><td>GCNConvEdge-4Layers/FalseNegatives</td><td>46</td></tr><tr><td>GCNConvEdge-4Layers/FalsePositives</td><td>13</td></tr><tr><td>GCNConvEdge-4Layers/Precision</td><td>0.75926</td></tr><tr><td>GCNConvEdge-4Layers/Recall</td><td>0.47126</td></tr><tr><td>GCNConvEdge-4Layers/TrueNegatives</td><td>803</td></tr><tr><td>GCNConvEdge-4Layers/TruePositives</td><td>41</td></tr><tr><td>GCNConvEdge-4Layers/test_acc</td><td>0.93466</td></tr><tr><td>GCNConvEdge-4Layers/train_acc</td><td>0.93466</td></tr><tr><td>GCNConvEdge4Layers/FalsePositives</td><td>13</td></tr></table><br/></div></div>"
      ],
      "text/plain": [
       "<IPython.core.display.HTML object>"
      ]
     },
     "metadata": {},
     "output_type": "display_data"
    },
    {
     "data": {
      "text/html": [
       "You can sync this run to the cloud by running:<br><code>wandb sync E:\\THY\\EDC-AOP\\GNN\\wandb_runs\\wandb\\offline-run-20250811_222605-t7m1ebtm<code>"
      ],
      "text/plain": [
       "<IPython.core.display.HTML object>"
      ]
     },
     "metadata": {},
     "output_type": "display_data"
    },
    {
     "data": {
      "text/html": [
       "Find logs at: <code>E:\\THY\\EDC-AOP\\GNN\\wandb_runs\\wandb\\offline-run-20250811_222605-t7m1ebtm\\logs</code>"
      ],
      "text/plain": [
       "<IPython.core.display.HTML object>"
      ]
     },
     "metadata": {},
     "output_type": "display_data"
    },
    {
     "name": "stderr",
     "output_type": "stream",
     "text": [
      "\u001b[34m\u001b[1mwandb\u001b[0m: Sweep Agent: Waiting for job.\n",
      "\u001b[34m\u001b[1mwandb\u001b[0m: Job received.\n",
      "\u001b[34m\u001b[1mwandb\u001b[0m: Agent Starting Run: rru00m7x with config:\n",
      "\u001b[34m\u001b[1mwandb\u001b[0m: \tbatch_size: 20\n",
      "\u001b[34m\u001b[1mwandb\u001b[0m: \thidden_size1: 100\n",
      "\u001b[34m\u001b[1mwandb\u001b[0m: \thidden_size2: 30\n",
      "\u001b[34m\u001b[1mwandb\u001b[0m: \thidden_size3: 60\n",
      "\u001b[34m\u001b[1mwandb\u001b[0m: \tlr: 0.00015860706894202075\n",
      "\u001b[34m\u001b[1mwandb\u001b[0m: \tweight_decay: 0.0004961135644887283\n"
     ]
    },
    {
     "data": {
      "text/html": [
       "Tracking run with wandb version 0.20.1"
      ],
      "text/plain": [
       "<IPython.core.display.HTML object>"
      ]
     },
     "metadata": {},
     "output_type": "display_data"
    },
    {
     "data": {
      "text/html": [
       "W&B syncing is set to <code>`offline`<code> in this directory. Run <code>`wandb online`<code> or set <code>WANDB_MODE=online<code> to enable cloud syncing."
      ],
      "text/plain": [
       "<IPython.core.display.HTML object>"
      ]
     },
     "metadata": {},
     "output_type": "display_data"
    },
    {
     "name": "stderr",
     "output_type": "stream",
     "text": [
      "100%|██████████| 200/200 [05:38<00:00,  1.69s/it]\n"
     ]
    },
    {
     "data": {
      "text/html": [],
      "text/plain": [
       "<IPython.core.display.HTML object>"
      ]
     },
     "metadata": {},
     "output_type": "display_data"
    },
    {
     "data": {
      "text/html": [
       "<br>    <style><br>        .wandb-row {<br>            display: flex;<br>            flex-direction: row;<br>            flex-wrap: wrap;<br>            justify-content: flex-start;<br>            width: 100%;<br>        }<br>        .wandb-col {<br>            display: flex;<br>            flex-direction: column;<br>            flex-basis: 100%;<br>            flex: 1;<br>            padding: 10px;<br>        }<br>    </style><br><div class=\"wandb-row\"><div class=\"wandb-col\"><h3>Run history:</h3><br/><table class=\"wandb\"><tr><td>GCNConvEdge-4Layers/Accuracy</td><td>▁</td></tr><tr><td>GCNConvEdge-4Layers/F1-score</td><td>▁</td></tr><tr><td>GCNConvEdge-4Layers/FalseNegatives</td><td>▁</td></tr><tr><td>GCNConvEdge-4Layers/FalsePositives</td><td>▁</td></tr><tr><td>GCNConvEdge-4Layers/Precision</td><td>▁</td></tr><tr><td>GCNConvEdge-4Layers/Recall</td><td>▁</td></tr><tr><td>GCNConvEdge-4Layers/TrueNegatives</td><td>▁</td></tr><tr><td>GCNConvEdge-4Layers/TruePositives</td><td>▁</td></tr><tr><td>GCNConvEdge-4Layers/test_acc</td><td>▁▁▁▁▁▁▁▂▂▄▄▅▆▄▄▅▄▅▅▄▆▄▅▄▄▅▆▅▆▅▄▅▆▅▄▅▅▆█▅</td></tr><tr><td>GCNConvEdge-4Layers/train_acc</td><td>▁▁▁▁▁▁▁▅▂▆▃▆▆▅▆▆█▆█▆▆█▆█▇▆▇█▆▆▆▆▇▆▆▆▆▇▆▆</td></tr></table><br/></div><div class=\"wandb-col\"><h3>Run summary:</h3><br/><table class=\"wandb\"><tr><td>GCNConvEdge-4Layers/Accuracy</td><td>0.93466</td></tr><tr><td>GCNConvEdge-4Layers/F1-score</td><td>0.56934</td></tr><tr><td>GCNConvEdge-4Layers/FalseNegatives</td><td>48</td></tr><tr><td>GCNConvEdge-4Layers/FalsePositives</td><td>11</td></tr><tr><td>GCNConvEdge-4Layers/Precision</td><td>0.78</td></tr><tr><td>GCNConvEdge-4Layers/Recall</td><td>0.44828</td></tr><tr><td>GCNConvEdge-4Layers/TrueNegatives</td><td>805</td></tr><tr><td>GCNConvEdge-4Layers/TruePositives</td><td>39</td></tr><tr><td>GCNConvEdge-4Layers/test_acc</td><td>0.93466</td></tr><tr><td>GCNConvEdge-4Layers/train_acc</td><td>0.93466</td></tr><tr><td>GCNConvEdge4Layers/FalsePositives</td><td>11</td></tr></table><br/></div></div>"
      ],
      "text/plain": [
       "<IPython.core.display.HTML object>"
      ]
     },
     "metadata": {},
     "output_type": "display_data"
    },
    {
     "data": {
      "text/html": [
       "You can sync this run to the cloud by running:<br><code>wandb sync E:\\THY\\EDC-AOP\\GNN\\wandb_runs\\wandb\\offline-run-20250811_223109-rru00m7x<code>"
      ],
      "text/plain": [
       "<IPython.core.display.HTML object>"
      ]
     },
     "metadata": {},
     "output_type": "display_data"
    },
    {
     "data": {
      "text/html": [
       "Find logs at: <code>E:\\THY\\EDC-AOP\\GNN\\wandb_runs\\wandb\\offline-run-20250811_223109-rru00m7x\\logs</code>"
      ],
      "text/plain": [
       "<IPython.core.display.HTML object>"
      ]
     },
     "metadata": {},
     "output_type": "display_data"
    },
    {
     "name": "stderr",
     "output_type": "stream",
     "text": [
      "\u001b[34m\u001b[1mwandb\u001b[0m: Agent Starting Run: sieu5a72 with config:\n",
      "\u001b[34m\u001b[1mwandb\u001b[0m: \tbatch_size: 300\n",
      "\u001b[34m\u001b[1mwandb\u001b[0m: \thidden_size1: 80\n",
      "\u001b[34m\u001b[1mwandb\u001b[0m: \thidden_size2: 20\n",
      "\u001b[34m\u001b[1mwandb\u001b[0m: \thidden_size3: 100\n",
      "\u001b[34m\u001b[1mwandb\u001b[0m: \tlr: 0.00035861176841281395\n",
      "\u001b[34m\u001b[1mwandb\u001b[0m: \tweight_decay: 0.0004980151620223444\n"
     ]
    },
    {
     "data": {
      "text/html": [
       "Tracking run with wandb version 0.20.1"
      ],
      "text/plain": [
       "<IPython.core.display.HTML object>"
      ]
     },
     "metadata": {},
     "output_type": "display_data"
    },
    {
     "data": {
      "text/html": [
       "W&B syncing is set to <code>`offline`<code> in this directory. Run <code>`wandb online`<code> or set <code>WANDB_MODE=online<code> to enable cloud syncing."
      ],
      "text/plain": [
       "<IPython.core.display.HTML object>"
      ]
     },
     "metadata": {},
     "output_type": "display_data"
    },
    {
     "name": "stderr",
     "output_type": "stream",
     "text": [
      "100%|██████████| 200/200 [03:25<00:00,  1.03s/it]\n"
     ]
    },
    {
     "data": {
      "text/html": [],
      "text/plain": [
       "<IPython.core.display.HTML object>"
      ]
     },
     "metadata": {},
     "output_type": "display_data"
    },
    {
     "data": {
      "text/html": [
       "<br>    <style><br>        .wandb-row {<br>            display: flex;<br>            flex-direction: row;<br>            flex-wrap: wrap;<br>            justify-content: flex-start;<br>            width: 100%;<br>        }<br>        .wandb-col {<br>            display: flex;<br>            flex-direction: column;<br>            flex-basis: 100%;<br>            flex: 1;<br>            padding: 10px;<br>        }<br>    </style><br><div class=\"wandb-row\"><div class=\"wandb-col\"><h3>Run history:</h3><br/><table class=\"wandb\"><tr><td>GCNConvEdge-4Layers/Accuracy</td><td>▁</td></tr><tr><td>GCNConvEdge-4Layers/F1-score</td><td>▁</td></tr><tr><td>GCNConvEdge-4Layers/FalseNegatives</td><td>▁</td></tr><tr><td>GCNConvEdge-4Layers/FalsePositives</td><td>▁</td></tr><tr><td>GCNConvEdge-4Layers/Precision</td><td>▁</td></tr><tr><td>GCNConvEdge-4Layers/Recall</td><td>▁</td></tr><tr><td>GCNConvEdge-4Layers/TrueNegatives</td><td>▁</td></tr><tr><td>GCNConvEdge-4Layers/TruePositives</td><td>▁</td></tr><tr><td>GCNConvEdge-4Layers/test_acc</td><td>▁▁▁▁▁▁▁▁▁▁▁▁▁▁▁▁▁▁▁▁▁▁▁▁▁▁▁▁▁▁▁▁▁▁▁▁▁▁▁▁</td></tr><tr><td>GCNConvEdge-4Layers/train_acc</td><td>▁▁▁▁▁▁▁▁▁▁▁▁▁▁▁▁▁▁▁▁▁▁▁▁▁▁▁▁▁▁▁▁▁▁▁▁▁▁▁▁</td></tr></table><br/></div><div class=\"wandb-col\"><h3>Run summary:</h3><br/><table class=\"wandb\"><tr><td>GCNConvEdge-4Layers/Accuracy</td><td>0.90365</td></tr><tr><td>GCNConvEdge-4Layers/F1-score</td><td>0</td></tr><tr><td>GCNConvEdge-4Layers/FalseNegatives</td><td>87</td></tr><tr><td>GCNConvEdge-4Layers/FalsePositives</td><td>0</td></tr><tr><td>GCNConvEdge-4Layers/Precision</td><td>0</td></tr><tr><td>GCNConvEdge-4Layers/Recall</td><td>0</td></tr><tr><td>GCNConvEdge-4Layers/TrueNegatives</td><td>816</td></tr><tr><td>GCNConvEdge-4Layers/TruePositives</td><td>0</td></tr><tr><td>GCNConvEdge-4Layers/test_acc</td><td>0.90365</td></tr><tr><td>GCNConvEdge-4Layers/train_acc</td><td>0.90365</td></tr><tr><td>GCNConvEdge4Layers/FalsePositives</td><td>0</td></tr></table><br/></div></div>"
      ],
      "text/plain": [
       "<IPython.core.display.HTML object>"
      ]
     },
     "metadata": {},
     "output_type": "display_data"
    },
    {
     "data": {
      "text/html": [
       "You can sync this run to the cloud by running:<br><code>wandb sync E:\\THY\\EDC-AOP\\GNN\\wandb_runs\\wandb\\offline-run-20250811_223651-sieu5a72<code>"
      ],
      "text/plain": [
       "<IPython.core.display.HTML object>"
      ]
     },
     "metadata": {},
     "output_type": "display_data"
    },
    {
     "data": {
      "text/html": [
       "Find logs at: <code>E:\\THY\\EDC-AOP\\GNN\\wandb_runs\\wandb\\offline-run-20250811_223651-sieu5a72\\logs</code>"
      ],
      "text/plain": [
       "<IPython.core.display.HTML object>"
      ]
     },
     "metadata": {},
     "output_type": "display_data"
    },
    {
     "name": "stderr",
     "output_type": "stream",
     "text": [
      "\u001b[34m\u001b[1mwandb\u001b[0m: Agent Starting Run: ok7e2zu2 with config:\n",
      "\u001b[34m\u001b[1mwandb\u001b[0m: \tbatch_size: 50\n",
      "\u001b[34m\u001b[1mwandb\u001b[0m: \thidden_size1: 40\n",
      "\u001b[34m\u001b[1mwandb\u001b[0m: \thidden_size2: 50\n",
      "\u001b[34m\u001b[1mwandb\u001b[0m: \thidden_size3: 60\n",
      "\u001b[34m\u001b[1mwandb\u001b[0m: \tlr: 0.0005901134772109808\n",
      "\u001b[34m\u001b[1mwandb\u001b[0m: \tweight_decay: 0.00048847738760025\n"
     ]
    },
    {
     "data": {
      "text/html": [
       "Tracking run with wandb version 0.20.1"
      ],
      "text/plain": [
       "<IPython.core.display.HTML object>"
      ]
     },
     "metadata": {},
     "output_type": "display_data"
    },
    {
     "data": {
      "text/html": [
       "W&B syncing is set to <code>`offline`<code> in this directory. Run <code>`wandb online`<code> or set <code>WANDB_MODE=online<code> to enable cloud syncing."
      ],
      "text/plain": [
       "<IPython.core.display.HTML object>"
      ]
     },
     "metadata": {},
     "output_type": "display_data"
    },
    {
     "name": "stderr",
     "output_type": "stream",
     "text": [
      "100%|██████████| 200/200 [04:14<00:00,  1.27s/it]\n"
     ]
    },
    {
     "data": {
      "text/html": [],
      "text/plain": [
       "<IPython.core.display.HTML object>"
      ]
     },
     "metadata": {},
     "output_type": "display_data"
    },
    {
     "data": {
      "text/html": [
       "<br>    <style><br>        .wandb-row {<br>            display: flex;<br>            flex-direction: row;<br>            flex-wrap: wrap;<br>            justify-content: flex-start;<br>            width: 100%;<br>        }<br>        .wandb-col {<br>            display: flex;<br>            flex-direction: column;<br>            flex-basis: 100%;<br>            flex: 1;<br>            padding: 10px;<br>        }<br>    </style><br><div class=\"wandb-row\"><div class=\"wandb-col\"><h3>Run history:</h3><br/><table class=\"wandb\"><tr><td>GCNConvEdge-4Layers/Accuracy</td><td>▁</td></tr><tr><td>GCNConvEdge-4Layers/F1-score</td><td>▁</td></tr><tr><td>GCNConvEdge-4Layers/FalseNegatives</td><td>▁</td></tr><tr><td>GCNConvEdge-4Layers/FalsePositives</td><td>▁</td></tr><tr><td>GCNConvEdge-4Layers/Precision</td><td>▁</td></tr><tr><td>GCNConvEdge-4Layers/Recall</td><td>▁</td></tr><tr><td>GCNConvEdge-4Layers/TrueNegatives</td><td>▁</td></tr><tr><td>GCNConvEdge-4Layers/TruePositives</td><td>▁</td></tr><tr><td>GCNConvEdge-4Layers/test_acc</td><td>▁▁▁▁▁▇▇▄▅▆▅▆▅▅▅▆█▆▆▆▅▅▆█▅▅▅▅▆▅▆▆▅▆▆▆▅▅▅▅</td></tr><tr><td>GCNConvEdge-4Layers/train_acc</td><td>▁▁▁▁▁▁▁▁▁▅▆▅▆▆▆▆▆▆▆▆▆█▆▆▆▆▆▆█▆▆▆█▆▆▇█▆▆▆</td></tr></table><br/></div><div class=\"wandb-col\"><h3>Run summary:</h3><br/><table class=\"wandb\"><tr><td>GCNConvEdge-4Layers/Accuracy</td><td>0.93466</td></tr><tr><td>GCNConvEdge-4Layers/F1-score</td><td>0.58156</td></tr><tr><td>GCNConvEdge-4Layers/FalseNegatives</td><td>46</td></tr><tr><td>GCNConvEdge-4Layers/FalsePositives</td><td>13</td></tr><tr><td>GCNConvEdge-4Layers/Precision</td><td>0.75926</td></tr><tr><td>GCNConvEdge-4Layers/Recall</td><td>0.47126</td></tr><tr><td>GCNConvEdge-4Layers/TrueNegatives</td><td>803</td></tr><tr><td>GCNConvEdge-4Layers/TruePositives</td><td>41</td></tr><tr><td>GCNConvEdge-4Layers/test_acc</td><td>0.93466</td></tr><tr><td>GCNConvEdge-4Layers/train_acc</td><td>0.93466</td></tr><tr><td>GCNConvEdge4Layers/FalsePositives</td><td>13</td></tr></table><br/></div></div>"
      ],
      "text/plain": [
       "<IPython.core.display.HTML object>"
      ]
     },
     "metadata": {},
     "output_type": "display_data"
    },
    {
     "data": {
      "text/html": [
       "You can sync this run to the cloud by running:<br><code>wandb sync E:\\THY\\EDC-AOP\\GNN\\wandb_runs\\wandb\\offline-run-20250811_224020-ok7e2zu2<code>"
      ],
      "text/plain": [
       "<IPython.core.display.HTML object>"
      ]
     },
     "metadata": {},
     "output_type": "display_data"
    },
    {
     "data": {
      "text/html": [
       "Find logs at: <code>E:\\THY\\EDC-AOP\\GNN\\wandb_runs\\wandb\\offline-run-20250811_224020-ok7e2zu2\\logs</code>"
      ],
      "text/plain": [
       "<IPython.core.display.HTML object>"
      ]
     },
     "metadata": {},
     "output_type": "display_data"
    },
    {
     "name": "stderr",
     "output_type": "stream",
     "text": [
      "\u001b[34m\u001b[1mwandb\u001b[0m: Agent Starting Run: q1991kpf with config:\n",
      "\u001b[34m\u001b[1mwandb\u001b[0m: \tbatch_size: 50\n",
      "\u001b[34m\u001b[1mwandb\u001b[0m: \thidden_size1: 20\n",
      "\u001b[34m\u001b[1mwandb\u001b[0m: \thidden_size2: 30\n",
      "\u001b[34m\u001b[1mwandb\u001b[0m: \thidden_size3: 40\n",
      "\u001b[34m\u001b[1mwandb\u001b[0m: \tlr: 0.0003149235655135774\n",
      "\u001b[34m\u001b[1mwandb\u001b[0m: \tweight_decay: 0.0004993432046158795\n"
     ]
    },
    {
     "data": {
      "text/html": [
       "Tracking run with wandb version 0.20.1"
      ],
      "text/plain": [
       "<IPython.core.display.HTML object>"
      ]
     },
     "metadata": {},
     "output_type": "display_data"
    },
    {
     "data": {
      "text/html": [
       "W&B syncing is set to <code>`offline`<code> in this directory. Run <code>`wandb online`<code> or set <code>WANDB_MODE=online<code> to enable cloud syncing."
      ],
      "text/plain": [
       "<IPython.core.display.HTML object>"
      ]
     },
     "metadata": {},
     "output_type": "display_data"
    },
    {
     "name": "stderr",
     "output_type": "stream",
     "text": [
      "100%|██████████| 200/200 [04:12<00:00,  1.26s/it]\n"
     ]
    },
    {
     "data": {
      "text/html": [],
      "text/plain": [
       "<IPython.core.display.HTML object>"
      ]
     },
     "metadata": {},
     "output_type": "display_data"
    },
    {
     "data": {
      "text/html": [
       "<br>    <style><br>        .wandb-row {<br>            display: flex;<br>            flex-direction: row;<br>            flex-wrap: wrap;<br>            justify-content: flex-start;<br>            width: 100%;<br>        }<br>        .wandb-col {<br>            display: flex;<br>            flex-direction: column;<br>            flex-basis: 100%;<br>            flex: 1;<br>            padding: 10px;<br>        }<br>    </style><br><div class=\"wandb-row\"><div class=\"wandb-col\"><h3>Run history:</h3><br/><table class=\"wandb\"><tr><td>GCNConvEdge-4Layers/Accuracy</td><td>▁</td></tr><tr><td>GCNConvEdge-4Layers/F1-score</td><td>▁</td></tr><tr><td>GCNConvEdge-4Layers/FalseNegatives</td><td>▁</td></tr><tr><td>GCNConvEdge-4Layers/FalsePositives</td><td>▁</td></tr><tr><td>GCNConvEdge-4Layers/Precision</td><td>▁</td></tr><tr><td>GCNConvEdge-4Layers/Recall</td><td>▁</td></tr><tr><td>GCNConvEdge-4Layers/TrueNegatives</td><td>▁</td></tr><tr><td>GCNConvEdge-4Layers/TruePositives</td><td>▁</td></tr><tr><td>GCNConvEdge-4Layers/test_acc</td><td>▁▁▁▁▁▁▁▁▁▁▁▁▁▁▃▇▄▇▇▇▇▇▇▇▇▇▇▇▇▇▇▇▇▇█▇▇▇▇▇</td></tr><tr><td>GCNConvEdge-4Layers/train_acc</td><td>▁▁▁▁▁▁▁▁▁▁▁▁▁▁▂▆▆▆▆▆▆▆▆▆▆▆▆▆█▆▆▇▆▆▆▆▆▆▆▆</td></tr></table><br/></div><div class=\"wandb-col\"><h3>Run summary:</h3><br/><table class=\"wandb\"><tr><td>GCNConvEdge-4Layers/Accuracy</td><td>0.93023</td></tr><tr><td>GCNConvEdge-4Layers/F1-score</td><td>0.53333</td></tr><tr><td>GCNConvEdge-4Layers/FalseNegatives</td><td>51</td></tr><tr><td>GCNConvEdge-4Layers/FalsePositives</td><td>12</td></tr><tr><td>GCNConvEdge-4Layers/Precision</td><td>0.75</td></tr><tr><td>GCNConvEdge-4Layers/Recall</td><td>0.41379</td></tr><tr><td>GCNConvEdge-4Layers/TrueNegatives</td><td>804</td></tr><tr><td>GCNConvEdge-4Layers/TruePositives</td><td>36</td></tr><tr><td>GCNConvEdge-4Layers/test_acc</td><td>0.93023</td></tr><tr><td>GCNConvEdge-4Layers/train_acc</td><td>0.93023</td></tr><tr><td>GCNConvEdge4Layers/FalsePositives</td><td>12</td></tr></table><br/></div></div>"
      ],
      "text/plain": [
       "<IPython.core.display.HTML object>"
      ]
     },
     "metadata": {},
     "output_type": "display_data"
    },
    {
     "data": {
      "text/html": [
       "You can sync this run to the cloud by running:<br><code>wandb sync E:\\THY\\EDC-AOP\\GNN\\wandb_runs\\wandb\\offline-run-20250811_224440-q1991kpf<code>"
      ],
      "text/plain": [
       "<IPython.core.display.HTML object>"
      ]
     },
     "metadata": {},
     "output_type": "display_data"
    },
    {
     "data": {
      "text/html": [
       "Find logs at: <code>E:\\THY\\EDC-AOP\\GNN\\wandb_runs\\wandb\\offline-run-20250811_224440-q1991kpf\\logs</code>"
      ],
      "text/plain": [
       "<IPython.core.display.HTML object>"
      ]
     },
     "metadata": {},
     "output_type": "display_data"
    },
    {
     "name": "stderr",
     "output_type": "stream",
     "text": [
      "\u001b[34m\u001b[1mwandb\u001b[0m: Agent Starting Run: gnog15iv with config:\n",
      "\u001b[34m\u001b[1mwandb\u001b[0m: \tbatch_size: 50\n",
      "\u001b[34m\u001b[1mwandb\u001b[0m: \thidden_size1: 50\n",
      "\u001b[34m\u001b[1mwandb\u001b[0m: \thidden_size2: 20\n",
      "\u001b[34m\u001b[1mwandb\u001b[0m: \thidden_size3: 60\n",
      "\u001b[34m\u001b[1mwandb\u001b[0m: \tlr: 0.0005026646426829573\n",
      "\u001b[34m\u001b[1mwandb\u001b[0m: \tweight_decay: 0.0005105643375425622\n"
     ]
    },
    {
     "data": {
      "text/html": [
       "Tracking run with wandb version 0.20.1"
      ],
      "text/plain": [
       "<IPython.core.display.HTML object>"
      ]
     },
     "metadata": {},
     "output_type": "display_data"
    },
    {
     "data": {
      "text/html": [
       "W&B syncing is set to <code>`offline`<code> in this directory. Run <code>`wandb online`<code> or set <code>WANDB_MODE=online<code> to enable cloud syncing."
      ],
      "text/plain": [
       "<IPython.core.display.HTML object>"
      ]
     },
     "metadata": {},
     "output_type": "display_data"
    },
    {
     "name": "stderr",
     "output_type": "stream",
     "text": [
      "100%|██████████| 200/200 [04:42<00:00,  1.41s/it]\n"
     ]
    },
    {
     "data": {
      "text/html": [],
      "text/plain": [
       "<IPython.core.display.HTML object>"
      ]
     },
     "metadata": {},
     "output_type": "display_data"
    },
    {
     "data": {
      "text/html": [
       "<br>    <style><br>        .wandb-row {<br>            display: flex;<br>            flex-direction: row;<br>            flex-wrap: wrap;<br>            justify-content: flex-start;<br>            width: 100%;<br>        }<br>        .wandb-col {<br>            display: flex;<br>            flex-direction: column;<br>            flex-basis: 100%;<br>            flex: 1;<br>            padding: 10px;<br>        }<br>    </style><br><div class=\"wandb-row\"><div class=\"wandb-col\"><h3>Run history:</h3><br/><table class=\"wandb\"><tr><td>GCNConvEdge-4Layers/Accuracy</td><td>▁</td></tr><tr><td>GCNConvEdge-4Layers/F1-score</td><td>▁</td></tr><tr><td>GCNConvEdge-4Layers/FalseNegatives</td><td>▁</td></tr><tr><td>GCNConvEdge-4Layers/FalsePositives</td><td>▁</td></tr><tr><td>GCNConvEdge-4Layers/Precision</td><td>▁</td></tr><tr><td>GCNConvEdge-4Layers/Recall</td><td>▁</td></tr><tr><td>GCNConvEdge-4Layers/TrueNegatives</td><td>▁</td></tr><tr><td>GCNConvEdge-4Layers/TruePositives</td><td>▁</td></tr><tr><td>GCNConvEdge-4Layers/test_acc</td><td>▁▁▁▁▁▁▁▁▁▁▁▁▁▂▂▄▅▄▆▅▅▅▄▆▅▆▅▅▅▆▅▆▆▆▅█▅▅▅▅</td></tr><tr><td>GCNConvEdge-4Layers/train_acc</td><td>▁▁▁▁▁▁▁▁▁▁▂▆▅▅▇▆▆▆▆▆▆▆▆█▆▆▆▆▆▆▆▆█▆▆▆▇▆█▆</td></tr></table><br/></div><div class=\"wandb-col\"><h3>Run summary:</h3><br/><table class=\"wandb\"><tr><td>GCNConvEdge-4Layers/Accuracy</td><td>0.94463</td></tr><tr><td>GCNConvEdge-4Layers/F1-score</td><td>0.67949</td></tr><tr><td>GCNConvEdge-4Layers/FalseNegatives</td><td>34</td></tr><tr><td>GCNConvEdge-4Layers/FalsePositives</td><td>16</td></tr><tr><td>GCNConvEdge-4Layers/Precision</td><td>0.76812</td></tr><tr><td>GCNConvEdge-4Layers/Recall</td><td>0.6092</td></tr><tr><td>GCNConvEdge-4Layers/TrueNegatives</td><td>800</td></tr><tr><td>GCNConvEdge-4Layers/TruePositives</td><td>53</td></tr><tr><td>GCNConvEdge-4Layers/test_acc</td><td>0.94463</td></tr><tr><td>GCNConvEdge-4Layers/train_acc</td><td>0.94463</td></tr><tr><td>GCNConvEdge4Layers/FalsePositives</td><td>16</td></tr></table><br/></div></div>"
      ],
      "text/plain": [
       "<IPython.core.display.HTML object>"
      ]
     },
     "metadata": {},
     "output_type": "display_data"
    },
    {
     "data": {
      "text/html": [
       "You can sync this run to the cloud by running:<br><code>wandb sync E:\\THY\\EDC-AOP\\GNN\\wandb_runs\\wandb\\offline-run-20250811_224858-gnog15iv<code>"
      ],
      "text/plain": [
       "<IPython.core.display.HTML object>"
      ]
     },
     "metadata": {},
     "output_type": "display_data"
    },
    {
     "data": {
      "text/html": [
       "Find logs at: <code>E:\\THY\\EDC-AOP\\GNN\\wandb_runs\\wandb\\offline-run-20250811_224858-gnog15iv\\logs</code>"
      ],
      "text/plain": [
       "<IPython.core.display.HTML object>"
      ]
     },
     "metadata": {},
     "output_type": "display_data"
    },
    {
     "name": "stderr",
     "output_type": "stream",
     "text": [
      "\u001b[34m\u001b[1mwandb\u001b[0m: Agent Starting Run: 3e5sapjr with config:\n",
      "\u001b[34m\u001b[1mwandb\u001b[0m: \tbatch_size: 300\n",
      "\u001b[34m\u001b[1mwandb\u001b[0m: \thidden_size1: 60\n",
      "\u001b[34m\u001b[1mwandb\u001b[0m: \thidden_size2: 100\n",
      "\u001b[34m\u001b[1mwandb\u001b[0m: \thidden_size3: 100\n",
      "\u001b[34m\u001b[1mwandb\u001b[0m: \tlr: 0.0006181773214874653\n",
      "\u001b[34m\u001b[1mwandb\u001b[0m: \tweight_decay: 0.0005002944781650345\n"
     ]
    },
    {
     "data": {
      "text/html": [
       "Tracking run with wandb version 0.20.1"
      ],
      "text/plain": [
       "<IPython.core.display.HTML object>"
      ]
     },
     "metadata": {},
     "output_type": "display_data"
    },
    {
     "data": {
      "text/html": [
       "W&B syncing is set to <code>`offline`<code> in this directory. Run <code>`wandb online`<code> or set <code>WANDB_MODE=online<code> to enable cloud syncing."
      ],
      "text/plain": [
       "<IPython.core.display.HTML object>"
      ]
     },
     "metadata": {},
     "output_type": "display_data"
    },
    {
     "name": "stderr",
     "output_type": "stream",
     "text": [
      "100%|██████████| 200/200 [03:22<00:00,  1.01s/it]\n"
     ]
    },
    {
     "data": {
      "text/html": [],
      "text/plain": [
       "<IPython.core.display.HTML object>"
      ]
     },
     "metadata": {},
     "output_type": "display_data"
    },
    {
     "data": {
      "text/html": [
       "<br>    <style><br>        .wandb-row {<br>            display: flex;<br>            flex-direction: row;<br>            flex-wrap: wrap;<br>            justify-content: flex-start;<br>            width: 100%;<br>        }<br>        .wandb-col {<br>            display: flex;<br>            flex-direction: column;<br>            flex-basis: 100%;<br>            flex: 1;<br>            padding: 10px;<br>        }<br>    </style><br><div class=\"wandb-row\"><div class=\"wandb-col\"><h3>Run history:</h3><br/><table class=\"wandb\"><tr><td>GCNConvEdge-4Layers/Accuracy</td><td>▁</td></tr><tr><td>GCNConvEdge-4Layers/F1-score</td><td>▁</td></tr><tr><td>GCNConvEdge-4Layers/FalseNegatives</td><td>▁</td></tr><tr><td>GCNConvEdge-4Layers/FalsePositives</td><td>▁</td></tr><tr><td>GCNConvEdge-4Layers/Precision</td><td>▁</td></tr><tr><td>GCNConvEdge-4Layers/Recall</td><td>▁</td></tr><tr><td>GCNConvEdge-4Layers/TrueNegatives</td><td>▁</td></tr><tr><td>GCNConvEdge-4Layers/TruePositives</td><td>▁</td></tr><tr><td>GCNConvEdge-4Layers/test_acc</td><td>▁▁▁▁▁▁▁▁▁▁▁▁▁▁▁▁▁▁▁▁▁▁▁▁▁▁▂▆▆▁▂▁▆▂▆▆▂█▂▆</td></tr><tr><td>GCNConvEdge-4Layers/train_acc</td><td>▁▁▁▁▁▁▁▁▁▁▁▁▁▁▁▁▁▁▁▁▁▁▁▁▁▁▁▁▁▁▅█▃██▃█▃▁█</td></tr></table><br/></div><div class=\"wandb-col\"><h3>Run summary:</h3><br/><table class=\"wandb\"><tr><td>GCNConvEdge-4Layers/Accuracy</td><td>0.93023</td></tr><tr><td>GCNConvEdge-4Layers/F1-score</td><td>0.51908</td></tr><tr><td>GCNConvEdge-4Layers/FalseNegatives</td><td>53</td></tr><tr><td>GCNConvEdge-4Layers/FalsePositives</td><td>10</td></tr><tr><td>GCNConvEdge-4Layers/Precision</td><td>0.77273</td></tr><tr><td>GCNConvEdge-4Layers/Recall</td><td>0.3908</td></tr><tr><td>GCNConvEdge-4Layers/TrueNegatives</td><td>806</td></tr><tr><td>GCNConvEdge-4Layers/TruePositives</td><td>34</td></tr><tr><td>GCNConvEdge-4Layers/test_acc</td><td>0.93023</td></tr><tr><td>GCNConvEdge-4Layers/train_acc</td><td>0.93023</td></tr><tr><td>GCNConvEdge4Layers/FalsePositives</td><td>10</td></tr></table><br/></div></div>"
      ],
      "text/plain": [
       "<IPython.core.display.HTML object>"
      ]
     },
     "metadata": {},
     "output_type": "display_data"
    },
    {
     "data": {
      "text/html": [
       "You can sync this run to the cloud by running:<br><code>wandb sync E:\\THY\\EDC-AOP\\GNN\\wandb_runs\\wandb\\offline-run-20250811_225346-3e5sapjr<code>"
      ],
      "text/plain": [
       "<IPython.core.display.HTML object>"
      ]
     },
     "metadata": {},
     "output_type": "display_data"
    },
    {
     "data": {
      "text/html": [
       "Find logs at: <code>E:\\THY\\EDC-AOP\\GNN\\wandb_runs\\wandb\\offline-run-20250811_225346-3e5sapjr\\logs</code>"
      ],
      "text/plain": [
       "<IPython.core.display.HTML object>"
      ]
     },
     "metadata": {},
     "output_type": "display_data"
    },
    {
     "name": "stderr",
     "output_type": "stream",
     "text": [
      "\u001b[34m\u001b[1mwandb\u001b[0m: Agent Starting Run: jzidiaov with config:\n",
      "\u001b[34m\u001b[1mwandb\u001b[0m: \tbatch_size: 50\n",
      "\u001b[34m\u001b[1mwandb\u001b[0m: \thidden_size1: 10\n",
      "\u001b[34m\u001b[1mwandb\u001b[0m: \thidden_size2: 10\n",
      "\u001b[34m\u001b[1mwandb\u001b[0m: \thidden_size3: 20\n",
      "\u001b[34m\u001b[1mwandb\u001b[0m: \tlr: 0.0009564183469441256\n",
      "\u001b[34m\u001b[1mwandb\u001b[0m: \tweight_decay: 0.0004956922198759671\n"
     ]
    },
    {
     "data": {
      "text/html": [
       "Tracking run with wandb version 0.20.1"
      ],
      "text/plain": [
       "<IPython.core.display.HTML object>"
      ]
     },
     "metadata": {},
     "output_type": "display_data"
    },
    {
     "data": {
      "text/html": [
       "W&B syncing is set to <code>`offline`<code> in this directory. Run <code>`wandb online`<code> or set <code>WANDB_MODE=online<code> to enable cloud syncing."
      ],
      "text/plain": [
       "<IPython.core.display.HTML object>"
      ]
     },
     "metadata": {},
     "output_type": "display_data"
    },
    {
     "name": "stderr",
     "output_type": "stream",
     "text": [
      "100%|██████████| 200/200 [04:31<00:00,  1.36s/it]\n"
     ]
    },
    {
     "data": {
      "text/html": [],
      "text/plain": [
       "<IPython.core.display.HTML object>"
      ]
     },
     "metadata": {},
     "output_type": "display_data"
    },
    {
     "data": {
      "text/html": [
       "<br>    <style><br>        .wandb-row {<br>            display: flex;<br>            flex-direction: row;<br>            flex-wrap: wrap;<br>            justify-content: flex-start;<br>            width: 100%;<br>        }<br>        .wandb-col {<br>            display: flex;<br>            flex-direction: column;<br>            flex-basis: 100%;<br>            flex: 1;<br>            padding: 10px;<br>        }<br>    </style><br><div class=\"wandb-row\"><div class=\"wandb-col\"><h3>Run history:</h3><br/><table class=\"wandb\"><tr><td>GCNConvEdge-4Layers/Accuracy</td><td>▁</td></tr><tr><td>GCNConvEdge-4Layers/F1-score</td><td>▁</td></tr><tr><td>GCNConvEdge-4Layers/FalseNegatives</td><td>▁</td></tr><tr><td>GCNConvEdge-4Layers/FalsePositives</td><td>▁</td></tr><tr><td>GCNConvEdge-4Layers/Precision</td><td>▁</td></tr><tr><td>GCNConvEdge-4Layers/Recall</td><td>▁</td></tr><tr><td>GCNConvEdge-4Layers/TrueNegatives</td><td>▁</td></tr><tr><td>GCNConvEdge-4Layers/TruePositives</td><td>▁</td></tr><tr><td>GCNConvEdge-4Layers/test_acc</td><td>▁▁▁▁▁▁▁▁▁▁▁▅▆▅▆▆▆▆██▆▆████▆▇▆▆▆▆█▆▆▆▆▆█▇</td></tr><tr><td>GCNConvEdge-4Layers/train_acc</td><td>▁▁▁▁▁▁▁▁▁▁▄▃▄▆▅▅▅▅█▅▅▆▅▆▅▆▆▅▅▅▆▆▅▆█▅▅▅▅▅</td></tr></table><br/></div><div class=\"wandb-col\"><h3>Run summary:</h3><br/><table class=\"wandb\"><tr><td>GCNConvEdge-4Layers/Accuracy</td><td>0.94241</td></tr><tr><td>GCNConvEdge-4Layers/F1-score</td><td>0.66234</td></tr><tr><td>GCNConvEdge-4Layers/FalseNegatives</td><td>36</td></tr><tr><td>GCNConvEdge-4Layers/FalsePositives</td><td>16</td></tr><tr><td>GCNConvEdge-4Layers/Precision</td><td>0.76119</td></tr><tr><td>GCNConvEdge-4Layers/Recall</td><td>0.58621</td></tr><tr><td>GCNConvEdge-4Layers/TrueNegatives</td><td>800</td></tr><tr><td>GCNConvEdge-4Layers/TruePositives</td><td>51</td></tr><tr><td>GCNConvEdge-4Layers/test_acc</td><td>0.94241</td></tr><tr><td>GCNConvEdge-4Layers/train_acc</td><td>0.94241</td></tr><tr><td>GCNConvEdge4Layers/FalsePositives</td><td>16</td></tr></table><br/></div></div>"
      ],
      "text/plain": [
       "<IPython.core.display.HTML object>"
      ]
     },
     "metadata": {},
     "output_type": "display_data"
    },
    {
     "data": {
      "text/html": [
       "You can sync this run to the cloud by running:<br><code>wandb sync E:\\THY\\EDC-AOP\\GNN\\wandb_runs\\wandb\\offline-run-20250811_225714-jzidiaov<code>"
      ],
      "text/plain": [
       "<IPython.core.display.HTML object>"
      ]
     },
     "metadata": {},
     "output_type": "display_data"
    },
    {
     "data": {
      "text/html": [
       "Find logs at: <code>E:\\THY\\EDC-AOP\\GNN\\wandb_runs\\wandb\\offline-run-20250811_225714-jzidiaov\\logs</code>"
      ],
      "text/plain": [
       "<IPython.core.display.HTML object>"
      ]
     },
     "metadata": {},
     "output_type": "display_data"
    },
    {
     "name": "stderr",
     "output_type": "stream",
     "text": [
      "\u001b[34m\u001b[1mwandb\u001b[0m: Agent Starting Run: t4ufj57v with config:\n",
      "\u001b[34m\u001b[1mwandb\u001b[0m: \tbatch_size: 50\n",
      "\u001b[34m\u001b[1mwandb\u001b[0m: \thidden_size1: 60\n",
      "\u001b[34m\u001b[1mwandb\u001b[0m: \thidden_size2: 10\n",
      "\u001b[34m\u001b[1mwandb\u001b[0m: \thidden_size3: 40\n",
      "\u001b[34m\u001b[1mwandb\u001b[0m: \tlr: 0.0004747885725318372\n",
      "\u001b[34m\u001b[1mwandb\u001b[0m: \tweight_decay: 0.0004910197348067454\n"
     ]
    },
    {
     "data": {
      "text/html": [
       "Tracking run with wandb version 0.20.1"
      ],
      "text/plain": [
       "<IPython.core.display.HTML object>"
      ]
     },
     "metadata": {},
     "output_type": "display_data"
    },
    {
     "data": {
      "text/html": [
       "W&B syncing is set to <code>`offline`<code> in this directory. Run <code>`wandb online`<code> or set <code>WANDB_MODE=online<code> to enable cloud syncing."
      ],
      "text/plain": [
       "<IPython.core.display.HTML object>"
      ]
     },
     "metadata": {},
     "output_type": "display_data"
    },
    {
     "name": "stderr",
     "output_type": "stream",
     "text": [
      "100%|██████████| 200/200 [04:14<00:00,  1.27s/it]\n"
     ]
    },
    {
     "data": {
      "text/html": [],
      "text/plain": [
       "<IPython.core.display.HTML object>"
      ]
     },
     "metadata": {},
     "output_type": "display_data"
    },
    {
     "data": {
      "text/html": [
       "<br>    <style><br>        .wandb-row {<br>            display: flex;<br>            flex-direction: row;<br>            flex-wrap: wrap;<br>            justify-content: flex-start;<br>            width: 100%;<br>        }<br>        .wandb-col {<br>            display: flex;<br>            flex-direction: column;<br>            flex-basis: 100%;<br>            flex: 1;<br>            padding: 10px;<br>        }<br>    </style><br><div class=\"wandb-row\"><div class=\"wandb-col\"><h3>Run history:</h3><br/><table class=\"wandb\"><tr><td>GCNConvEdge-4Layers/Accuracy</td><td>▁</td></tr><tr><td>GCNConvEdge-4Layers/F1-score</td><td>▁</td></tr><tr><td>GCNConvEdge-4Layers/FalseNegatives</td><td>▁</td></tr><tr><td>GCNConvEdge-4Layers/FalsePositives</td><td>▁</td></tr><tr><td>GCNConvEdge-4Layers/Precision</td><td>▁</td></tr><tr><td>GCNConvEdge-4Layers/Recall</td><td>▁</td></tr><tr><td>GCNConvEdge-4Layers/TrueNegatives</td><td>▁</td></tr><tr><td>GCNConvEdge-4Layers/TruePositives</td><td>▁</td></tr><tr><td>GCNConvEdge-4Layers/test_acc</td><td>▁▁▁▁▁▅▅▅▆▆▆▅▆▆▆█▅▆▆▆▅▆▆▆▆▅█▆▆██▆▇▇▆▆▆▆▆█</td></tr><tr><td>GCNConvEdge-4Layers/train_acc</td><td>▁▁▁▁▁▁▁▁▁▂▅▆▆▆▆▆▆▆▇▆█▆▆▆▆▆▆▆▆▆▆▆▆▆▆▆▆▆▆▆</td></tr></table><br/></div><div class=\"wandb-col\"><h3>Run summary:</h3><br/><table class=\"wandb\"><tr><td>GCNConvEdge-4Layers/Accuracy</td><td>0.93577</td></tr><tr><td>GCNConvEdge-4Layers/F1-score</td><td>0.57971</td></tr><tr><td>GCNConvEdge-4Layers/FalseNegatives</td><td>47</td></tr><tr><td>GCNConvEdge-4Layers/FalsePositives</td><td>11</td></tr><tr><td>GCNConvEdge-4Layers/Precision</td><td>0.78431</td></tr><tr><td>GCNConvEdge-4Layers/Recall</td><td>0.45977</td></tr><tr><td>GCNConvEdge-4Layers/TrueNegatives</td><td>805</td></tr><tr><td>GCNConvEdge-4Layers/TruePositives</td><td>40</td></tr><tr><td>GCNConvEdge-4Layers/test_acc</td><td>0.93577</td></tr><tr><td>GCNConvEdge-4Layers/train_acc</td><td>0.93577</td></tr><tr><td>GCNConvEdge4Layers/FalsePositives</td><td>11</td></tr></table><br/></div></div>"
      ],
      "text/plain": [
       "<IPython.core.display.HTML object>"
      ]
     },
     "metadata": {},
     "output_type": "display_data"
    },
    {
     "data": {
      "text/html": [
       "You can sync this run to the cloud by running:<br><code>wandb sync E:\\THY\\EDC-AOP\\GNN\\wandb_runs\\wandb\\offline-run-20250811_230149-t4ufj57v<code>"
      ],
      "text/plain": [
       "<IPython.core.display.HTML object>"
      ]
     },
     "metadata": {},
     "output_type": "display_data"
    },
    {
     "data": {
      "text/html": [
       "Find logs at: <code>E:\\THY\\EDC-AOP\\GNN\\wandb_runs\\wandb\\offline-run-20250811_230149-t4ufj57v\\logs</code>"
      ],
      "text/plain": [
       "<IPython.core.display.HTML object>"
      ]
     },
     "metadata": {},
     "output_type": "display_data"
    },
    {
     "name": "stderr",
     "output_type": "stream",
     "text": [
      "\u001b[34m\u001b[1mwandb\u001b[0m: Agent Starting Run: z57gdbrv with config:\n",
      "\u001b[34m\u001b[1mwandb\u001b[0m: \tbatch_size: 200\n",
      "\u001b[34m\u001b[1mwandb\u001b[0m: \thidden_size1: 20\n",
      "\u001b[34m\u001b[1mwandb\u001b[0m: \thidden_size2: 80\n",
      "\u001b[34m\u001b[1mwandb\u001b[0m: \thidden_size3: 40\n",
      "\u001b[34m\u001b[1mwandb\u001b[0m: \tlr: 0.0005855525593884546\n",
      "\u001b[34m\u001b[1mwandb\u001b[0m: \tweight_decay: 0.0005150926605720456\n"
     ]
    },
    {
     "data": {
      "text/html": [
       "Tracking run with wandb version 0.20.1"
      ],
      "text/plain": [
       "<IPython.core.display.HTML object>"
      ]
     },
     "metadata": {},
     "output_type": "display_data"
    },
    {
     "data": {
      "text/html": [
       "W&B syncing is set to <code>`offline`<code> in this directory. Run <code>`wandb online`<code> or set <code>WANDB_MODE=online<code> to enable cloud syncing."
      ],
      "text/plain": [
       "<IPython.core.display.HTML object>"
      ]
     },
     "metadata": {},
     "output_type": "display_data"
    },
    {
     "name": "stderr",
     "output_type": "stream",
     "text": [
      "100%|██████████| 200/200 [03:29<00:00,  1.05s/it]\n"
     ]
    },
    {
     "data": {
      "text/html": [],
      "text/plain": [
       "<IPython.core.display.HTML object>"
      ]
     },
     "metadata": {},
     "output_type": "display_data"
    },
    {
     "data": {
      "text/html": [
       "<br>    <style><br>        .wandb-row {<br>            display: flex;<br>            flex-direction: row;<br>            flex-wrap: wrap;<br>            justify-content: flex-start;<br>            width: 100%;<br>        }<br>        .wandb-col {<br>            display: flex;<br>            flex-direction: column;<br>            flex-basis: 100%;<br>            flex: 1;<br>            padding: 10px;<br>        }<br>    </style><br><div class=\"wandb-row\"><div class=\"wandb-col\"><h3>Run history:</h3><br/><table class=\"wandb\"><tr><td>GCNConvEdge-4Layers/Accuracy</td><td>▁</td></tr><tr><td>GCNConvEdge-4Layers/F1-score</td><td>▁</td></tr><tr><td>GCNConvEdge-4Layers/FalseNegatives</td><td>▁</td></tr><tr><td>GCNConvEdge-4Layers/FalsePositives</td><td>▁</td></tr><tr><td>GCNConvEdge-4Layers/Precision</td><td>▁</td></tr><tr><td>GCNConvEdge-4Layers/Recall</td><td>▁</td></tr><tr><td>GCNConvEdge-4Layers/TrueNegatives</td><td>▁</td></tr><tr><td>GCNConvEdge-4Layers/TruePositives</td><td>▁</td></tr><tr><td>GCNConvEdge-4Layers/test_acc</td><td>▁▁▁▁▁▁▁▁▁▁▁▁▅▇▇▇▇▇▇▇▇▇▇▇▇▇▇▇▇▇▇▇▇▇█▇▇█▇▇</td></tr><tr><td>GCNConvEdge-4Layers/train_acc</td><td>▁▁▁▁▁▁▁▁▁▁▁▁▁▁▁▂▇▇▇▇▇▇▇▇█▇▇▇▇▇▇▇▇▇▇▇█▇▇█</td></tr></table><br/></div><div class=\"wandb-col\"><h3>Run summary:</h3><br/><table class=\"wandb\"><tr><td>GCNConvEdge-4Layers/Accuracy</td><td>0.93466</td></tr><tr><td>GCNConvEdge-4Layers/F1-score</td><td>0.57554</td></tr><tr><td>GCNConvEdge-4Layers/FalseNegatives</td><td>47</td></tr><tr><td>GCNConvEdge-4Layers/FalsePositives</td><td>12</td></tr><tr><td>GCNConvEdge-4Layers/Precision</td><td>0.76923</td></tr><tr><td>GCNConvEdge-4Layers/Recall</td><td>0.45977</td></tr><tr><td>GCNConvEdge-4Layers/TrueNegatives</td><td>804</td></tr><tr><td>GCNConvEdge-4Layers/TruePositives</td><td>40</td></tr><tr><td>GCNConvEdge-4Layers/test_acc</td><td>0.93466</td></tr><tr><td>GCNConvEdge-4Layers/train_acc</td><td>0.93466</td></tr><tr><td>GCNConvEdge4Layers/FalsePositives</td><td>12</td></tr></table><br/></div></div>"
      ],
      "text/plain": [
       "<IPython.core.display.HTML object>"
      ]
     },
     "metadata": {},
     "output_type": "display_data"
    },
    {
     "data": {
      "text/html": [
       "You can sync this run to the cloud by running:<br><code>wandb sync E:\\THY\\EDC-AOP\\GNN\\wandb_runs\\wandb\\offline-run-20250811_230607-z57gdbrv<code>"
      ],
      "text/plain": [
       "<IPython.core.display.HTML object>"
      ]
     },
     "metadata": {},
     "output_type": "display_data"
    },
    {
     "data": {
      "text/html": [
       "Find logs at: <code>E:\\THY\\EDC-AOP\\GNN\\wandb_runs\\wandb\\offline-run-20250811_230607-z57gdbrv\\logs</code>"
      ],
      "text/plain": [
       "<IPython.core.display.HTML object>"
      ]
     },
     "metadata": {},
     "output_type": "display_data"
    },
    {
     "name": "stderr",
     "output_type": "stream",
     "text": [
      "\u001b[34m\u001b[1mwandb\u001b[0m: Agent Starting Run: bq48ollz with config:\n",
      "\u001b[34m\u001b[1mwandb\u001b[0m: \tbatch_size: 300\n",
      "\u001b[34m\u001b[1mwandb\u001b[0m: \thidden_size1: 50\n",
      "\u001b[34m\u001b[1mwandb\u001b[0m: \thidden_size2: 50\n",
      "\u001b[34m\u001b[1mwandb\u001b[0m: \thidden_size3: 60\n",
      "\u001b[34m\u001b[1mwandb\u001b[0m: \tlr: 0.00027472362345084763\n",
      "\u001b[34m\u001b[1mwandb\u001b[0m: \tweight_decay: 0.00048157765002374784\n"
     ]
    },
    {
     "data": {
      "text/html": [
       "Tracking run with wandb version 0.20.1"
      ],
      "text/plain": [
       "<IPython.core.display.HTML object>"
      ]
     },
     "metadata": {},
     "output_type": "display_data"
    },
    {
     "data": {
      "text/html": [
       "W&B syncing is set to <code>`offline`<code> in this directory. Run <code>`wandb online`<code> or set <code>WANDB_MODE=online<code> to enable cloud syncing."
      ],
      "text/plain": [
       "<IPython.core.display.HTML object>"
      ]
     },
     "metadata": {},
     "output_type": "display_data"
    },
    {
     "name": "stderr",
     "output_type": "stream",
     "text": [
      "100%|██████████| 200/200 [03:21<00:00,  1.01s/it]\n"
     ]
    },
    {
     "data": {
      "text/html": [],
      "text/plain": [
       "<IPython.core.display.HTML object>"
      ]
     },
     "metadata": {},
     "output_type": "display_data"
    },
    {
     "data": {
      "text/html": [
       "<br>    <style><br>        .wandb-row {<br>            display: flex;<br>            flex-direction: row;<br>            flex-wrap: wrap;<br>            justify-content: flex-start;<br>            width: 100%;<br>        }<br>        .wandb-col {<br>            display: flex;<br>            flex-direction: column;<br>            flex-basis: 100%;<br>            flex: 1;<br>            padding: 10px;<br>        }<br>    </style><br><div class=\"wandb-row\"><div class=\"wandb-col\"><h3>Run history:</h3><br/><table class=\"wandb\"><tr><td>GCNConvEdge-4Layers/Accuracy</td><td>▁</td></tr><tr><td>GCNConvEdge-4Layers/F1-score</td><td>▁</td></tr><tr><td>GCNConvEdge-4Layers/FalseNegatives</td><td>▁</td></tr><tr><td>GCNConvEdge-4Layers/FalsePositives</td><td>▁</td></tr><tr><td>GCNConvEdge-4Layers/Precision</td><td>▁</td></tr><tr><td>GCNConvEdge-4Layers/Recall</td><td>▁</td></tr><tr><td>GCNConvEdge-4Layers/TrueNegatives</td><td>▁</td></tr><tr><td>GCNConvEdge-4Layers/TruePositives</td><td>▁</td></tr><tr><td>GCNConvEdge-4Layers/test_acc</td><td>▁▁▁▁▁▁▁▁▁▁▁▁▁▁▁▁▁▁▁▁▁▁▁▁▁▁▁▁▁▁▁▁▁▁▁▁▁▁▁▁</td></tr><tr><td>GCNConvEdge-4Layers/train_acc</td><td>▁▁▁▁▁▁▁▁▁▁▁▁▁▁▁▁▁▁▁▁▁▁▁▁▁▁▁▁▁▁▁▁▁▁▁▁▁▁▁▁</td></tr></table><br/></div><div class=\"wandb-col\"><h3>Run summary:</h3><br/><table class=\"wandb\"><tr><td>GCNConvEdge-4Layers/Accuracy</td><td>0.90365</td></tr><tr><td>GCNConvEdge-4Layers/F1-score</td><td>0</td></tr><tr><td>GCNConvEdge-4Layers/FalseNegatives</td><td>87</td></tr><tr><td>GCNConvEdge-4Layers/FalsePositives</td><td>0</td></tr><tr><td>GCNConvEdge-4Layers/Precision</td><td>0</td></tr><tr><td>GCNConvEdge-4Layers/Recall</td><td>0</td></tr><tr><td>GCNConvEdge-4Layers/TrueNegatives</td><td>816</td></tr><tr><td>GCNConvEdge-4Layers/TruePositives</td><td>0</td></tr><tr><td>GCNConvEdge-4Layers/test_acc</td><td>0.90365</td></tr><tr><td>GCNConvEdge-4Layers/train_acc</td><td>0.90365</td></tr><tr><td>GCNConvEdge4Layers/FalsePositives</td><td>0</td></tr></table><br/></div></div>"
      ],
      "text/plain": [
       "<IPython.core.display.HTML object>"
      ]
     },
     "metadata": {},
     "output_type": "display_data"
    },
    {
     "data": {
      "text/html": [
       "You can sync this run to the cloud by running:<br><code>wandb sync E:\\THY\\EDC-AOP\\GNN\\wandb_runs\\wandb\\offline-run-20250811_230940-bq48ollz<code>"
      ],
      "text/plain": [
       "<IPython.core.display.HTML object>"
      ]
     },
     "metadata": {},
     "output_type": "display_data"
    },
    {
     "data": {
      "text/html": [
       "Find logs at: <code>E:\\THY\\EDC-AOP\\GNN\\wandb_runs\\wandb\\offline-run-20250811_230940-bq48ollz\\logs</code>"
      ],
      "text/plain": [
       "<IPython.core.display.HTML object>"
      ]
     },
     "metadata": {},
     "output_type": "display_data"
    },
    {
     "name": "stderr",
     "output_type": "stream",
     "text": [
      "\u001b[34m\u001b[1mwandb\u001b[0m: Agent Starting Run: qvozpzxf with config:\n",
      "\u001b[34m\u001b[1mwandb\u001b[0m: \tbatch_size: 50\n",
      "\u001b[34m\u001b[1mwandb\u001b[0m: \thidden_size1: 50\n",
      "\u001b[34m\u001b[1mwandb\u001b[0m: \thidden_size2: 100\n",
      "\u001b[34m\u001b[1mwandb\u001b[0m: \thidden_size3: 60\n",
      "\u001b[34m\u001b[1mwandb\u001b[0m: \tlr: 0.0004644987166669757\n",
      "\u001b[34m\u001b[1mwandb\u001b[0m: \tweight_decay: 0.0005011614710338505\n"
     ]
    },
    {
     "data": {
      "text/html": [
       "Tracking run with wandb version 0.20.1"
      ],
      "text/plain": [
       "<IPython.core.display.HTML object>"
      ]
     },
     "metadata": {},
     "output_type": "display_data"
    },
    {
     "data": {
      "text/html": [
       "W&B syncing is set to <code>`offline`<code> in this directory. Run <code>`wandb online`<code> or set <code>WANDB_MODE=online<code> to enable cloud syncing."
      ],
      "text/plain": [
       "<IPython.core.display.HTML object>"
      ]
     },
     "metadata": {},
     "output_type": "display_data"
    },
    {
     "name": "stderr",
     "output_type": "stream",
     "text": [
      "100%|██████████| 200/200 [04:23<00:00,  1.32s/it]\n"
     ]
    },
    {
     "data": {
      "text/html": [],
      "text/plain": [
       "<IPython.core.display.HTML object>"
      ]
     },
     "metadata": {},
     "output_type": "display_data"
    },
    {
     "data": {
      "text/html": [
       "<br>    <style><br>        .wandb-row {<br>            display: flex;<br>            flex-direction: row;<br>            flex-wrap: wrap;<br>            justify-content: flex-start;<br>            width: 100%;<br>        }<br>        .wandb-col {<br>            display: flex;<br>            flex-direction: column;<br>            flex-basis: 100%;<br>            flex: 1;<br>            padding: 10px;<br>        }<br>    </style><br><div class=\"wandb-row\"><div class=\"wandb-col\"><h3>Run history:</h3><br/><table class=\"wandb\"><tr><td>GCNConvEdge-4Layers/Accuracy</td><td>▁</td></tr><tr><td>GCNConvEdge-4Layers/F1-score</td><td>▁</td></tr><tr><td>GCNConvEdge-4Layers/FalseNegatives</td><td>▁</td></tr><tr><td>GCNConvEdge-4Layers/FalsePositives</td><td>▁</td></tr><tr><td>GCNConvEdge-4Layers/Precision</td><td>▁</td></tr><tr><td>GCNConvEdge-4Layers/Recall</td><td>▁</td></tr><tr><td>GCNConvEdge-4Layers/TrueNegatives</td><td>▁</td></tr><tr><td>GCNConvEdge-4Layers/TruePositives</td><td>▁</td></tr><tr><td>GCNConvEdge-4Layers/test_acc</td><td>▁▁▁▁▁▅▆▆▆▆▆█▆█▆▆▆▆▆▆▆▆▆▆▆▆█▆▆▆▆▆▆▆▆██▆█▆</td></tr><tr><td>GCNConvEdge-4Layers/train_acc</td><td>▁▁▁▁▁▁▁▁▁▁▅▅▅▅▅▅▆▅▇█▆▅▅▆▆▆█▆▆▆▆▆▅▆▆▇▆▇▇▆</td></tr></table><br/></div><div class=\"wandb-col\"><h3>Run summary:</h3><br/><table class=\"wandb\"><tr><td>GCNConvEdge-4Layers/Accuracy</td><td>0.93577</td></tr><tr><td>GCNConvEdge-4Layers/F1-score</td><td>0.57971</td></tr><tr><td>GCNConvEdge-4Layers/FalseNegatives</td><td>47</td></tr><tr><td>GCNConvEdge-4Layers/FalsePositives</td><td>11</td></tr><tr><td>GCNConvEdge-4Layers/Precision</td><td>0.78431</td></tr><tr><td>GCNConvEdge-4Layers/Recall</td><td>0.45977</td></tr><tr><td>GCNConvEdge-4Layers/TrueNegatives</td><td>805</td></tr><tr><td>GCNConvEdge-4Layers/TruePositives</td><td>40</td></tr><tr><td>GCNConvEdge-4Layers/test_acc</td><td>0.93577</td></tr><tr><td>GCNConvEdge-4Layers/train_acc</td><td>0.93577</td></tr><tr><td>GCNConvEdge4Layers/FalsePositives</td><td>11</td></tr></table><br/></div></div>"
      ],
      "text/plain": [
       "<IPython.core.display.HTML object>"
      ]
     },
     "metadata": {},
     "output_type": "display_data"
    },
    {
     "data": {
      "text/html": [
       "You can sync this run to the cloud by running:<br><code>wandb sync E:\\THY\\EDC-AOP\\GNN\\wandb_runs\\wandb\\offline-run-20250811_231308-qvozpzxf<code>"
      ],
      "text/plain": [
       "<IPython.core.display.HTML object>"
      ]
     },
     "metadata": {},
     "output_type": "display_data"
    },
    {
     "data": {
      "text/html": [
       "Find logs at: <code>E:\\THY\\EDC-AOP\\GNN\\wandb_runs\\wandb\\offline-run-20250811_231308-qvozpzxf\\logs</code>"
      ],
      "text/plain": [
       "<IPython.core.display.HTML object>"
      ]
     },
     "metadata": {},
     "output_type": "display_data"
    },
    {
     "name": "stderr",
     "output_type": "stream",
     "text": [
      "\u001b[34m\u001b[1mwandb\u001b[0m: Agent Starting Run: whzmyhto with config:\n",
      "\u001b[34m\u001b[1mwandb\u001b[0m: \tbatch_size: 300\n",
      "\u001b[34m\u001b[1mwandb\u001b[0m: \thidden_size1: 40\n",
      "\u001b[34m\u001b[1mwandb\u001b[0m: \thidden_size2: 60\n",
      "\u001b[34m\u001b[1mwandb\u001b[0m: \thidden_size3: 50\n",
      "\u001b[34m\u001b[1mwandb\u001b[0m: \tlr: 0.0008756647075625584\n",
      "\u001b[34m\u001b[1mwandb\u001b[0m: \tweight_decay: 0.0005074110087506592\n"
     ]
    },
    {
     "data": {
      "text/html": [
       "Tracking run with wandb version 0.20.1"
      ],
      "text/plain": [
       "<IPython.core.display.HTML object>"
      ]
     },
     "metadata": {},
     "output_type": "display_data"
    },
    {
     "data": {
      "text/html": [
       "W&B syncing is set to <code>`offline`<code> in this directory. Run <code>`wandb online`<code> or set <code>WANDB_MODE=online<code> to enable cloud syncing."
      ],
      "text/plain": [
       "<IPython.core.display.HTML object>"
      ]
     },
     "metadata": {},
     "output_type": "display_data"
    },
    {
     "name": "stderr",
     "output_type": "stream",
     "text": [
      "100%|██████████| 200/200 [03:22<00:00,  1.01s/it]\n"
     ]
    },
    {
     "data": {
      "text/html": [],
      "text/plain": [
       "<IPython.core.display.HTML object>"
      ]
     },
     "metadata": {},
     "output_type": "display_data"
    },
    {
     "data": {
      "text/html": [
       "<br>    <style><br>        .wandb-row {<br>            display: flex;<br>            flex-direction: row;<br>            flex-wrap: wrap;<br>            justify-content: flex-start;<br>            width: 100%;<br>        }<br>        .wandb-col {<br>            display: flex;<br>            flex-direction: column;<br>            flex-basis: 100%;<br>            flex: 1;<br>            padding: 10px;<br>        }<br>    </style><br><div class=\"wandb-row\"><div class=\"wandb-col\"><h3>Run history:</h3><br/><table class=\"wandb\"><tr><td>GCNConvEdge-4Layers/Accuracy</td><td>▁</td></tr><tr><td>GCNConvEdge-4Layers/F1-score</td><td>▁</td></tr><tr><td>GCNConvEdge-4Layers/FalseNegatives</td><td>▁</td></tr><tr><td>GCNConvEdge-4Layers/FalsePositives</td><td>▁</td></tr><tr><td>GCNConvEdge-4Layers/Precision</td><td>▁</td></tr><tr><td>GCNConvEdge-4Layers/Recall</td><td>▁</td></tr><tr><td>GCNConvEdge-4Layers/TrueNegatives</td><td>▁</td></tr><tr><td>GCNConvEdge-4Layers/TruePositives</td><td>▁</td></tr><tr><td>GCNConvEdge-4Layers/test_acc</td><td>▁▁▁▁▁▁▁▁▁▁▁▁▁▁▁▁▁▁▁▁▁▁▁▁▁▁▁▁▁▁▁▁▁▁▁▁▁█▃▇</td></tr><tr><td>GCNConvEdge-4Layers/train_acc</td><td>▁▁▁▁▁▁▁▁▁▁▁▁▁▁▁▁▁▁▁▁▁▁▁▁▁▁▁▁▁▁▁▁▁▁▁▁▁█▆▃</td></tr></table><br/></div><div class=\"wandb-col\"><h3>Run summary:</h3><br/><table class=\"wandb\"><tr><td>GCNConvEdge-4Layers/Accuracy</td><td>0.9103</td></tr><tr><td>GCNConvEdge-4Layers/F1-score</td><td>0.19802</td></tr><tr><td>GCNConvEdge-4Layers/FalseNegatives</td><td>77</td></tr><tr><td>GCNConvEdge-4Layers/FalsePositives</td><td>4</td></tr><tr><td>GCNConvEdge-4Layers/Precision</td><td>0.71429</td></tr><tr><td>GCNConvEdge-4Layers/Recall</td><td>0.11494</td></tr><tr><td>GCNConvEdge-4Layers/TrueNegatives</td><td>812</td></tr><tr><td>GCNConvEdge-4Layers/TruePositives</td><td>10</td></tr><tr><td>GCNConvEdge-4Layers/test_acc</td><td>0.9103</td></tr><tr><td>GCNConvEdge-4Layers/train_acc</td><td>0.9103</td></tr><tr><td>GCNConvEdge4Layers/FalsePositives</td><td>4</td></tr></table><br/></div></div>"
      ],
      "text/plain": [
       "<IPython.core.display.HTML object>"
      ]
     },
     "metadata": {},
     "output_type": "display_data"
    },
    {
     "data": {
      "text/html": [
       "You can sync this run to the cloud by running:<br><code>wandb sync E:\\THY\\EDC-AOP\\GNN\\wandb_runs\\wandb\\offline-run-20250811_231735-whzmyhto<code>"
      ],
      "text/plain": [
       "<IPython.core.display.HTML object>"
      ]
     },
     "metadata": {},
     "output_type": "display_data"
    },
    {
     "data": {
      "text/html": [
       "Find logs at: <code>E:\\THY\\EDC-AOP\\GNN\\wandb_runs\\wandb\\offline-run-20250811_231735-whzmyhto\\logs</code>"
      ],
      "text/plain": [
       "<IPython.core.display.HTML object>"
      ]
     },
     "metadata": {},
     "output_type": "display_data"
    },
    {
     "name": "stderr",
     "output_type": "stream",
     "text": [
      "\u001b[34m\u001b[1mwandb\u001b[0m: Agent Starting Run: xzeaeacm with config:\n",
      "\u001b[34m\u001b[1mwandb\u001b[0m: \tbatch_size: 100\n",
      "\u001b[34m\u001b[1mwandb\u001b[0m: \thidden_size1: 10\n",
      "\u001b[34m\u001b[1mwandb\u001b[0m: \thidden_size2: 100\n",
      "\u001b[34m\u001b[1mwandb\u001b[0m: \thidden_size3: 50\n",
      "\u001b[34m\u001b[1mwandb\u001b[0m: \tlr: 0.0009348430514871034\n",
      "\u001b[34m\u001b[1mwandb\u001b[0m: \tweight_decay: 0.0004892885044420883\n"
     ]
    },
    {
     "data": {
      "text/html": [
       "Tracking run with wandb version 0.20.1"
      ],
      "text/plain": [
       "<IPython.core.display.HTML object>"
      ]
     },
     "metadata": {},
     "output_type": "display_data"
    },
    {
     "data": {
      "text/html": [
       "W&B syncing is set to <code>`offline`<code> in this directory. Run <code>`wandb online`<code> or set <code>WANDB_MODE=online<code> to enable cloud syncing."
      ],
      "text/plain": [
       "<IPython.core.display.HTML object>"
      ]
     },
     "metadata": {},
     "output_type": "display_data"
    },
    {
     "name": "stderr",
     "output_type": "stream",
     "text": [
      "100%|██████████| 200/200 [03:42<00:00,  1.11s/it]\n"
     ]
    },
    {
     "data": {
      "text/html": [],
      "text/plain": [
       "<IPython.core.display.HTML object>"
      ]
     },
     "metadata": {},
     "output_type": "display_data"
    },
    {
     "data": {
      "text/html": [
       "<br>    <style><br>        .wandb-row {<br>            display: flex;<br>            flex-direction: row;<br>            flex-wrap: wrap;<br>            justify-content: flex-start;<br>            width: 100%;<br>        }<br>        .wandb-col {<br>            display: flex;<br>            flex-direction: column;<br>            flex-basis: 100%;<br>            flex: 1;<br>            padding: 10px;<br>        }<br>    </style><br><div class=\"wandb-row\"><div class=\"wandb-col\"><h3>Run history:</h3><br/><table class=\"wandb\"><tr><td>GCNConvEdge-4Layers/Accuracy</td><td>▁</td></tr><tr><td>GCNConvEdge-4Layers/F1-score</td><td>▁</td></tr><tr><td>GCNConvEdge-4Layers/FalseNegatives</td><td>▁</td></tr><tr><td>GCNConvEdge-4Layers/FalsePositives</td><td>▁</td></tr><tr><td>GCNConvEdge-4Layers/Precision</td><td>▁</td></tr><tr><td>GCNConvEdge-4Layers/Recall</td><td>▁</td></tr><tr><td>GCNConvEdge-4Layers/TrueNegatives</td><td>▁</td></tr><tr><td>GCNConvEdge-4Layers/TruePositives</td><td>▁</td></tr><tr><td>GCNConvEdge-4Layers/test_acc</td><td>▁▁▁▁▁▁▁▁▁▁▂▇▇▇▇██▇██▇▇███████▇██▇███████</td></tr><tr><td>GCNConvEdge-4Layers/train_acc</td><td>▁▁▁▁▁▁▁▁▁▁▁▁▇▇▇▇▇██▇████████▇███████████</td></tr></table><br/></div><div class=\"wandb-col\"><h3>Run summary:</h3><br/><table class=\"wandb\"><tr><td>GCNConvEdge-4Layers/Accuracy</td><td>0.93355</td></tr><tr><td>GCNConvEdge-4Layers/F1-score</td><td>0.57746</td></tr><tr><td>GCNConvEdge-4Layers/FalseNegatives</td><td>46</td></tr><tr><td>GCNConvEdge-4Layers/FalsePositives</td><td>14</td></tr><tr><td>GCNConvEdge-4Layers/Precision</td><td>0.74545</td></tr><tr><td>GCNConvEdge-4Layers/Recall</td><td>0.47126</td></tr><tr><td>GCNConvEdge-4Layers/TrueNegatives</td><td>802</td></tr><tr><td>GCNConvEdge-4Layers/TruePositives</td><td>41</td></tr><tr><td>GCNConvEdge-4Layers/test_acc</td><td>0.93355</td></tr><tr><td>GCNConvEdge-4Layers/train_acc</td><td>0.93355</td></tr><tr><td>GCNConvEdge4Layers/FalsePositives</td><td>14</td></tr></table><br/></div></div>"
      ],
      "text/plain": [
       "<IPython.core.display.HTML object>"
      ]
     },
     "metadata": {},
     "output_type": "display_data"
    },
    {
     "data": {
      "text/html": [
       "You can sync this run to the cloud by running:<br><code>wandb sync E:\\THY\\EDC-AOP\\GNN\\wandb_runs\\wandb\\offline-run-20250811_232103-xzeaeacm<code>"
      ],
      "text/plain": [
       "<IPython.core.display.HTML object>"
      ]
     },
     "metadata": {},
     "output_type": "display_data"
    },
    {
     "data": {
      "text/html": [
       "Find logs at: <code>E:\\THY\\EDC-AOP\\GNN\\wandb_runs\\wandb\\offline-run-20250811_232103-xzeaeacm\\logs</code>"
      ],
      "text/plain": [
       "<IPython.core.display.HTML object>"
      ]
     },
     "metadata": {},
     "output_type": "display_data"
    },
    {
     "name": "stderr",
     "output_type": "stream",
     "text": [
      "\u001b[34m\u001b[1mwandb\u001b[0m: Sweep Agent: Waiting for job.\n",
      "\u001b[34m\u001b[1mwandb\u001b[0m: Job received.\n",
      "\u001b[34m\u001b[1mwandb\u001b[0m: Agent Starting Run: azyt2ldt with config:\n",
      "\u001b[34m\u001b[1mwandb\u001b[0m: \tbatch_size: 100\n",
      "\u001b[34m\u001b[1mwandb\u001b[0m: \thidden_size1: 20\n",
      "\u001b[34m\u001b[1mwandb\u001b[0m: \thidden_size2: 40\n",
      "\u001b[34m\u001b[1mwandb\u001b[0m: \thidden_size3: 80\n",
      "\u001b[34m\u001b[1mwandb\u001b[0m: \tlr: 0.0003362118909550924\n",
      "\u001b[34m\u001b[1mwandb\u001b[0m: \tweight_decay: 0.0004924992058672548\n"
     ]
    },
    {
     "data": {
      "text/html": [
       "Tracking run with wandb version 0.20.1"
      ],
      "text/plain": [
       "<IPython.core.display.HTML object>"
      ]
     },
     "metadata": {},
     "output_type": "display_data"
    },
    {
     "data": {
      "text/html": [
       "W&B syncing is set to <code>`offline`<code> in this directory. Run <code>`wandb online`<code> or set <code>WANDB_MODE=online<code> to enable cloud syncing."
      ],
      "text/plain": [
       "<IPython.core.display.HTML object>"
      ]
     },
     "metadata": {},
     "output_type": "display_data"
    },
    {
     "name": "stderr",
     "output_type": "stream",
     "text": [
      "100%|██████████| 200/200 [03:56<00:00,  1.18s/it]\n"
     ]
    },
    {
     "data": {
      "text/html": [],
      "text/plain": [
       "<IPython.core.display.HTML object>"
      ]
     },
     "metadata": {},
     "output_type": "display_data"
    },
    {
     "data": {
      "text/html": [
       "<br>    <style><br>        .wandb-row {<br>            display: flex;<br>            flex-direction: row;<br>            flex-wrap: wrap;<br>            justify-content: flex-start;<br>            width: 100%;<br>        }<br>        .wandb-col {<br>            display: flex;<br>            flex-direction: column;<br>            flex-basis: 100%;<br>            flex: 1;<br>            padding: 10px;<br>        }<br>    </style><br><div class=\"wandb-row\"><div class=\"wandb-col\"><h3>Run history:</h3><br/><table class=\"wandb\"><tr><td>GCNConvEdge-4Layers/Accuracy</td><td>▁</td></tr><tr><td>GCNConvEdge-4Layers/F1-score</td><td>▁</td></tr><tr><td>GCNConvEdge-4Layers/FalseNegatives</td><td>▁</td></tr><tr><td>GCNConvEdge-4Layers/FalsePositives</td><td>▁</td></tr><tr><td>GCNConvEdge-4Layers/Precision</td><td>▁</td></tr><tr><td>GCNConvEdge-4Layers/Recall</td><td>▁</td></tr><tr><td>GCNConvEdge-4Layers/TrueNegatives</td><td>▁</td></tr><tr><td>GCNConvEdge-4Layers/TruePositives</td><td>▁</td></tr><tr><td>GCNConvEdge-4Layers/test_acc</td><td>▁▁▁▁▁▁▁▁▁▁▁▁▁▁▁▂▆▆▆▆█▆▆▆▆▆▆▆▆▆█▆▆▆▆▆▇▆▆▆</td></tr><tr><td>GCNConvEdge-4Layers/train_acc</td><td>▁▁▁▁▁▁▁▁▁▁▁▁▁▁▁▁▁▁▂▂▂▂▂▆▂▆▆▆█▆▆▆▆▆▆▆▆▆▆▆</td></tr></table><br/></div><div class=\"wandb-col\"><h3>Run summary:</h3><br/><table class=\"wandb\"><tr><td>GCNConvEdge-4Layers/Accuracy</td><td>0.93023</td></tr><tr><td>GCNConvEdge-4Layers/F1-score</td><td>0.53333</td></tr><tr><td>GCNConvEdge-4Layers/FalseNegatives</td><td>51</td></tr><tr><td>GCNConvEdge-4Layers/FalsePositives</td><td>12</td></tr><tr><td>GCNConvEdge-4Layers/Precision</td><td>0.75</td></tr><tr><td>GCNConvEdge-4Layers/Recall</td><td>0.41379</td></tr><tr><td>GCNConvEdge-4Layers/TrueNegatives</td><td>804</td></tr><tr><td>GCNConvEdge-4Layers/TruePositives</td><td>36</td></tr><tr><td>GCNConvEdge-4Layers/test_acc</td><td>0.93023</td></tr><tr><td>GCNConvEdge-4Layers/train_acc</td><td>0.93023</td></tr><tr><td>GCNConvEdge4Layers/FalsePositives</td><td>12</td></tr></table><br/></div></div>"
      ],
      "text/plain": [
       "<IPython.core.display.HTML object>"
      ]
     },
     "metadata": {},
     "output_type": "display_data"
    },
    {
     "data": {
      "text/html": [
       "You can sync this run to the cloud by running:<br><code>wandb sync E:\\THY\\EDC-AOP\\GNN\\wandb_runs\\wandb\\offline-run-20250811_232458-azyt2ldt<code>"
      ],
      "text/plain": [
       "<IPython.core.display.HTML object>"
      ]
     },
     "metadata": {},
     "output_type": "display_data"
    },
    {
     "data": {
      "text/html": [
       "Find logs at: <code>E:\\THY\\EDC-AOP\\GNN\\wandb_runs\\wandb\\offline-run-20250811_232458-azyt2ldt\\logs</code>"
      ],
      "text/plain": [
       "<IPython.core.display.HTML object>"
      ]
     },
     "metadata": {},
     "output_type": "display_data"
    },
    {
     "name": "stderr",
     "output_type": "stream",
     "text": [
      "\u001b[34m\u001b[1mwandb\u001b[0m: Agent Starting Run: t7m1ebtm with config:\n",
      "\u001b[34m\u001b[1mwandb\u001b[0m: \tbatch_size: 50\n",
      "\u001b[34m\u001b[1mwandb\u001b[0m: \thidden_size1: 40\n",
      "\u001b[34m\u001b[1mwandb\u001b[0m: \thidden_size2: 40\n",
      "\u001b[34m\u001b[1mwandb\u001b[0m: \thidden_size3: 50\n",
      "\u001b[34m\u001b[1mwandb\u001b[0m: \tlr: 0.00018788493463005836\n",
      "\u001b[34m\u001b[1mwandb\u001b[0m: \tweight_decay: 0.0005070537872299033\n"
     ]
    },
    {
     "data": {
      "text/html": [
       "Tracking run with wandb version 0.20.1"
      ],
      "text/plain": [
       "<IPython.core.display.HTML object>"
      ]
     },
     "metadata": {},
     "output_type": "display_data"
    },
    {
     "data": {
      "text/html": [
       "W&B syncing is set to <code>`offline`<code> in this directory. Run <code>`wandb online`<code> or set <code>WANDB_MODE=online<code> to enable cloud syncing."
      ],
      "text/plain": [
       "<IPython.core.display.HTML object>"
      ]
     },
     "metadata": {},
     "output_type": "display_data"
    },
    {
     "name": "stderr",
     "output_type": "stream",
     "text": [
      "100%|██████████| 200/200 [04:28<00:00,  1.34s/it]\n"
     ]
    },
    {
     "data": {
      "text/html": [],
      "text/plain": [
       "<IPython.core.display.HTML object>"
      ]
     },
     "metadata": {},
     "output_type": "display_data"
    },
    {
     "data": {
      "text/html": [
       "<br>    <style><br>        .wandb-row {<br>            display: flex;<br>            flex-direction: row;<br>            flex-wrap: wrap;<br>            justify-content: flex-start;<br>            width: 100%;<br>        }<br>        .wandb-col {<br>            display: flex;<br>            flex-direction: column;<br>            flex-basis: 100%;<br>            flex: 1;<br>            padding: 10px;<br>        }<br>    </style><br><div class=\"wandb-row\"><div class=\"wandb-col\"><h3>Run history:</h3><br/><table class=\"wandb\"><tr><td>GCNConvEdge-4Layers/Accuracy</td><td>▁</td></tr><tr><td>GCNConvEdge-4Layers/F1-score</td><td>▁</td></tr><tr><td>GCNConvEdge-4Layers/FalseNegatives</td><td>▁</td></tr><tr><td>GCNConvEdge-4Layers/FalsePositives</td><td>▁</td></tr><tr><td>GCNConvEdge-4Layers/Precision</td><td>▁</td></tr><tr><td>GCNConvEdge-4Layers/Recall</td><td>▁</td></tr><tr><td>GCNConvEdge-4Layers/TrueNegatives</td><td>▁</td></tr><tr><td>GCNConvEdge-4Layers/TruePositives</td><td>▁</td></tr><tr><td>GCNConvEdge-4Layers/test_acc</td><td>▁▁▁▁▁▁▁▁▁▁▁▁▁▁▁▁▂▂▂▆▅▆▆▆▆▆▇▆▆▆▆▆▆▆▆▆▆█▆▆</td></tr><tr><td>GCNConvEdge-4Layers/train_acc</td><td>▁▁▁▁▁▁▁▁▁▁▁▁▂▂▂▅▅▅▆▆▅▅▆█▆▅▆▆▆▆▆▅▆▆▆▆▆█▆▆</td></tr></table><br/></div><div class=\"wandb-col\"><h3>Run summary:</h3><br/><table class=\"wandb\"><tr><td>GCNConvEdge-4Layers/Accuracy</td><td>0.93466</td></tr><tr><td>GCNConvEdge-4Layers/F1-score</td><td>0.58156</td></tr><tr><td>GCNConvEdge-4Layers/FalseNegatives</td><td>46</td></tr><tr><td>GCNConvEdge-4Layers/FalsePositives</td><td>13</td></tr><tr><td>GCNConvEdge-4Layers/Precision</td><td>0.75926</td></tr><tr><td>GCNConvEdge-4Layers/Recall</td><td>0.47126</td></tr><tr><td>GCNConvEdge-4Layers/TrueNegatives</td><td>803</td></tr><tr><td>GCNConvEdge-4Layers/TruePositives</td><td>41</td></tr><tr><td>GCNConvEdge-4Layers/test_acc</td><td>0.93466</td></tr><tr><td>GCNConvEdge-4Layers/train_acc</td><td>0.93466</td></tr><tr><td>GCNConvEdge4Layers/FalsePositives</td><td>13</td></tr></table><br/></div></div>"
      ],
      "text/plain": [
       "<IPython.core.display.HTML object>"
      ]
     },
     "metadata": {},
     "output_type": "display_data"
    },
    {
     "data": {
      "text/html": [
       "You can sync this run to the cloud by running:<br><code>wandb sync E:\\THY\\EDC-AOP\\GNN\\wandb_runs\\wandb\\offline-run-20250811_232859-t7m1ebtm<code>"
      ],
      "text/plain": [
       "<IPython.core.display.HTML object>"
      ]
     },
     "metadata": {},
     "output_type": "display_data"
    },
    {
     "data": {
      "text/html": [
       "Find logs at: <code>E:\\THY\\EDC-AOP\\GNN\\wandb_runs\\wandb\\offline-run-20250811_232859-t7m1ebtm\\logs</code>"
      ],
      "text/plain": [
       "<IPython.core.display.HTML object>"
      ]
     },
     "metadata": {},
     "output_type": "display_data"
    },
    {
     "name": "stderr",
     "output_type": "stream",
     "text": [
      "\u001b[34m\u001b[1mwandb\u001b[0m: Sweep Agent: Waiting for job.\n",
      "\u001b[34m\u001b[1mwandb\u001b[0m: Job received.\n",
      "\u001b[34m\u001b[1mwandb\u001b[0m: Agent Starting Run: rru00m7x with config:\n",
      "\u001b[34m\u001b[1mwandb\u001b[0m: \tbatch_size: 20\n",
      "\u001b[34m\u001b[1mwandb\u001b[0m: \thidden_size1: 100\n",
      "\u001b[34m\u001b[1mwandb\u001b[0m: \thidden_size2: 30\n",
      "\u001b[34m\u001b[1mwandb\u001b[0m: \thidden_size3: 60\n",
      "\u001b[34m\u001b[1mwandb\u001b[0m: \tlr: 0.00015860706894202075\n",
      "\u001b[34m\u001b[1mwandb\u001b[0m: \tweight_decay: 0.0004961135644887283\n"
     ]
    },
    {
     "data": {
      "text/html": [
       "Tracking run with wandb version 0.20.1"
      ],
      "text/plain": [
       "<IPython.core.display.HTML object>"
      ]
     },
     "metadata": {},
     "output_type": "display_data"
    },
    {
     "data": {
      "text/html": [
       "W&B syncing is set to <code>`offline`<code> in this directory. Run <code>`wandb online`<code> or set <code>WANDB_MODE=online<code> to enable cloud syncing."
      ],
      "text/plain": [
       "<IPython.core.display.HTML object>"
      ]
     },
     "metadata": {},
     "output_type": "display_data"
    },
    {
     "name": "stderr",
     "output_type": "stream",
     "text": [
      "100%|██████████| 200/200 [05:39<00:00,  1.70s/it]\n"
     ]
    },
    {
     "data": {
      "text/html": [],
      "text/plain": [
       "<IPython.core.display.HTML object>"
      ]
     },
     "metadata": {},
     "output_type": "display_data"
    },
    {
     "data": {
      "text/html": [
       "<br>    <style><br>        .wandb-row {<br>            display: flex;<br>            flex-direction: row;<br>            flex-wrap: wrap;<br>            justify-content: flex-start;<br>            width: 100%;<br>        }<br>        .wandb-col {<br>            display: flex;<br>            flex-direction: column;<br>            flex-basis: 100%;<br>            flex: 1;<br>            padding: 10px;<br>        }<br>    </style><br><div class=\"wandb-row\"><div class=\"wandb-col\"><h3>Run history:</h3><br/><table class=\"wandb\"><tr><td>GCNConvEdge-4Layers/Accuracy</td><td>▁</td></tr><tr><td>GCNConvEdge-4Layers/F1-score</td><td>▁</td></tr><tr><td>GCNConvEdge-4Layers/FalseNegatives</td><td>▁</td></tr><tr><td>GCNConvEdge-4Layers/FalsePositives</td><td>▁</td></tr><tr><td>GCNConvEdge-4Layers/Precision</td><td>▁</td></tr><tr><td>GCNConvEdge-4Layers/Recall</td><td>▁</td></tr><tr><td>GCNConvEdge-4Layers/TrueNegatives</td><td>▁</td></tr><tr><td>GCNConvEdge-4Layers/TruePositives</td><td>▁</td></tr><tr><td>GCNConvEdge-4Layers/test_acc</td><td>▁▁▁▁▂▅▅▅▅▅▇▆▆▅▇▆▅▆▅▅▆▇▅▅▆▆▆▇▅▆▆▅█▆▅▆▆▅▆▆</td></tr><tr><td>GCNConvEdge-4Layers/train_acc</td><td>▁▁▁▁▁▆▃▆▆▇▅▆▆▆▆▆█▇█▅▆▆▆▆▆▇▆▆▆▇▆▆▆▆▆▆▆▆▆▆</td></tr></table><br/></div><div class=\"wandb-col\"><h3>Run summary:</h3><br/><table class=\"wandb\"><tr><td>GCNConvEdge-4Layers/Accuracy</td><td>0.93466</td></tr><tr><td>GCNConvEdge-4Layers/F1-score</td><td>0.56934</td></tr><tr><td>GCNConvEdge-4Layers/FalseNegatives</td><td>48</td></tr><tr><td>GCNConvEdge-4Layers/FalsePositives</td><td>11</td></tr><tr><td>GCNConvEdge-4Layers/Precision</td><td>0.78</td></tr><tr><td>GCNConvEdge-4Layers/Recall</td><td>0.44828</td></tr><tr><td>GCNConvEdge-4Layers/TrueNegatives</td><td>805</td></tr><tr><td>GCNConvEdge-4Layers/TruePositives</td><td>39</td></tr><tr><td>GCNConvEdge-4Layers/test_acc</td><td>0.93466</td></tr><tr><td>GCNConvEdge-4Layers/train_acc</td><td>0.93466</td></tr><tr><td>GCNConvEdge4Layers/FalsePositives</td><td>11</td></tr></table><br/></div></div>"
      ],
      "text/plain": [
       "<IPython.core.display.HTML object>"
      ]
     },
     "metadata": {},
     "output_type": "display_data"
    },
    {
     "data": {
      "text/html": [
       "You can sync this run to the cloud by running:<br><code>wandb sync E:\\THY\\EDC-AOP\\GNN\\wandb_runs\\wandb\\offline-run-20250811_233339-rru00m7x<code>"
      ],
      "text/plain": [
       "<IPython.core.display.HTML object>"
      ]
     },
     "metadata": {},
     "output_type": "display_data"
    },
    {
     "data": {
      "text/html": [
       "Find logs at: <code>E:\\THY\\EDC-AOP\\GNN\\wandb_runs\\wandb\\offline-run-20250811_233339-rru00m7x\\logs</code>"
      ],
      "text/plain": [
       "<IPython.core.display.HTML object>"
      ]
     },
     "metadata": {},
     "output_type": "display_data"
    },
    {
     "name": "stderr",
     "output_type": "stream",
     "text": [
      "\u001b[34m\u001b[1mwandb\u001b[0m: Agent Starting Run: sieu5a72 with config:\n",
      "\u001b[34m\u001b[1mwandb\u001b[0m: \tbatch_size: 300\n",
      "\u001b[34m\u001b[1mwandb\u001b[0m: \thidden_size1: 80\n",
      "\u001b[34m\u001b[1mwandb\u001b[0m: \thidden_size2: 20\n",
      "\u001b[34m\u001b[1mwandb\u001b[0m: \thidden_size3: 100\n",
      "\u001b[34m\u001b[1mwandb\u001b[0m: \tlr: 0.00035861176841281395\n",
      "\u001b[34m\u001b[1mwandb\u001b[0m: \tweight_decay: 0.0004980151620223444\n"
     ]
    },
    {
     "data": {
      "text/html": [
       "Tracking run with wandb version 0.20.1"
      ],
      "text/plain": [
       "<IPython.core.display.HTML object>"
      ]
     },
     "metadata": {},
     "output_type": "display_data"
    },
    {
     "data": {
      "text/html": [
       "W&B syncing is set to <code>`offline`<code> in this directory. Run <code>`wandb online`<code> or set <code>WANDB_MODE=online<code> to enable cloud syncing."
      ],
      "text/plain": [
       "<IPython.core.display.HTML object>"
      ]
     },
     "metadata": {},
     "output_type": "display_data"
    },
    {
     "name": "stderr",
     "output_type": "stream",
     "text": [
      "100%|██████████| 200/200 [03:23<00:00,  1.02s/it]\n"
     ]
    },
    {
     "data": {
      "text/html": [],
      "text/plain": [
       "<IPython.core.display.HTML object>"
      ]
     },
     "metadata": {},
     "output_type": "display_data"
    },
    {
     "data": {
      "text/html": [
       "<br>    <style><br>        .wandb-row {<br>            display: flex;<br>            flex-direction: row;<br>            flex-wrap: wrap;<br>            justify-content: flex-start;<br>            width: 100%;<br>        }<br>        .wandb-col {<br>            display: flex;<br>            flex-direction: column;<br>            flex-basis: 100%;<br>            flex: 1;<br>            padding: 10px;<br>        }<br>    </style><br><div class=\"wandb-row\"><div class=\"wandb-col\"><h3>Run history:</h3><br/><table class=\"wandb\"><tr><td>GCNConvEdge-4Layers/Accuracy</td><td>▁</td></tr><tr><td>GCNConvEdge-4Layers/F1-score</td><td>▁</td></tr><tr><td>GCNConvEdge-4Layers/FalseNegatives</td><td>▁</td></tr><tr><td>GCNConvEdge-4Layers/FalsePositives</td><td>▁</td></tr><tr><td>GCNConvEdge-4Layers/Precision</td><td>▁</td></tr><tr><td>GCNConvEdge-4Layers/Recall</td><td>▁</td></tr><tr><td>GCNConvEdge-4Layers/TrueNegatives</td><td>▁</td></tr><tr><td>GCNConvEdge-4Layers/TruePositives</td><td>▁</td></tr><tr><td>GCNConvEdge-4Layers/test_acc</td><td>▁▁▁▁▁▁▁▁▁▁▁▁▁▁▁▁▁▁▁▁▁▁▁▁▁▁▁▁▁▁▁▁▁▁▁▁▁▁▁▁</td></tr><tr><td>GCNConvEdge-4Layers/train_acc</td><td>▁▁▁▁▁▁▁▁▁▁▁▁▁▁▁▁▁▁▁▁▁▁▁▁▁▁▁▁▁▁▁▁▁▁▁▁▁▁▁▁</td></tr></table><br/></div><div class=\"wandb-col\"><h3>Run summary:</h3><br/><table class=\"wandb\"><tr><td>GCNConvEdge-4Layers/Accuracy</td><td>0.90365</td></tr><tr><td>GCNConvEdge-4Layers/F1-score</td><td>0</td></tr><tr><td>GCNConvEdge-4Layers/FalseNegatives</td><td>87</td></tr><tr><td>GCNConvEdge-4Layers/FalsePositives</td><td>0</td></tr><tr><td>GCNConvEdge-4Layers/Precision</td><td>0</td></tr><tr><td>GCNConvEdge-4Layers/Recall</td><td>0</td></tr><tr><td>GCNConvEdge-4Layers/TrueNegatives</td><td>816</td></tr><tr><td>GCNConvEdge-4Layers/TruePositives</td><td>0</td></tr><tr><td>GCNConvEdge-4Layers/test_acc</td><td>0.90365</td></tr><tr><td>GCNConvEdge-4Layers/train_acc</td><td>0.90365</td></tr><tr><td>GCNConvEdge4Layers/FalsePositives</td><td>0</td></tr></table><br/></div></div>"
      ],
      "text/plain": [
       "<IPython.core.display.HTML object>"
      ]
     },
     "metadata": {},
     "output_type": "display_data"
    },
    {
     "data": {
      "text/html": [
       "You can sync this run to the cloud by running:<br><code>wandb sync E:\\THY\\EDC-AOP\\GNN\\wandb_runs\\wandb\\offline-run-20250811_233922-sieu5a72<code>"
      ],
      "text/plain": [
       "<IPython.core.display.HTML object>"
      ]
     },
     "metadata": {},
     "output_type": "display_data"
    },
    {
     "data": {
      "text/html": [
       "Find logs at: <code>E:\\THY\\EDC-AOP\\GNN\\wandb_runs\\wandb\\offline-run-20250811_233922-sieu5a72\\logs</code>"
      ],
      "text/plain": [
       "<IPython.core.display.HTML object>"
      ]
     },
     "metadata": {},
     "output_type": "display_data"
    },
    {
     "name": "stderr",
     "output_type": "stream",
     "text": [
      "\u001b[34m\u001b[1mwandb\u001b[0m: Agent Starting Run: ok7e2zu2 with config:\n",
      "\u001b[34m\u001b[1mwandb\u001b[0m: \tbatch_size: 50\n",
      "\u001b[34m\u001b[1mwandb\u001b[0m: \thidden_size1: 40\n",
      "\u001b[34m\u001b[1mwandb\u001b[0m: \thidden_size2: 50\n",
      "\u001b[34m\u001b[1mwandb\u001b[0m: \thidden_size3: 60\n",
      "\u001b[34m\u001b[1mwandb\u001b[0m: \tlr: 0.0005901134772109808\n",
      "\u001b[34m\u001b[1mwandb\u001b[0m: \tweight_decay: 0.00048847738760025\n"
     ]
    },
    {
     "data": {
      "text/html": [
       "Tracking run with wandb version 0.20.1"
      ],
      "text/plain": [
       "<IPython.core.display.HTML object>"
      ]
     },
     "metadata": {},
     "output_type": "display_data"
    },
    {
     "data": {
      "text/html": [
       "W&B syncing is set to <code>`offline`<code> in this directory. Run <code>`wandb online`<code> or set <code>WANDB_MODE=online<code> to enable cloud syncing."
      ],
      "text/plain": [
       "<IPython.core.display.HTML object>"
      ]
     },
     "metadata": {},
     "output_type": "display_data"
    },
    {
     "name": "stderr",
     "output_type": "stream",
     "text": [
      "100%|██████████| 200/200 [04:12<00:00,  1.26s/it]\n"
     ]
    },
    {
     "data": {
      "text/html": [],
      "text/plain": [
       "<IPython.core.display.HTML object>"
      ]
     },
     "metadata": {},
     "output_type": "display_data"
    },
    {
     "data": {
      "text/html": [
       "<br>    <style><br>        .wandb-row {<br>            display: flex;<br>            flex-direction: row;<br>            flex-wrap: wrap;<br>            justify-content: flex-start;<br>            width: 100%;<br>        }<br>        .wandb-col {<br>            display: flex;<br>            flex-direction: column;<br>            flex-basis: 100%;<br>            flex: 1;<br>            padding: 10px;<br>        }<br>    </style><br><div class=\"wandb-row\"><div class=\"wandb-col\"><h3>Run history:</h3><br/><table class=\"wandb\"><tr><td>GCNConvEdge-4Layers/Accuracy</td><td>▁</td></tr><tr><td>GCNConvEdge-4Layers/F1-score</td><td>▁</td></tr><tr><td>GCNConvEdge-4Layers/FalseNegatives</td><td>▁</td></tr><tr><td>GCNConvEdge-4Layers/FalsePositives</td><td>▁</td></tr><tr><td>GCNConvEdge-4Layers/Precision</td><td>▁</td></tr><tr><td>GCNConvEdge-4Layers/Recall</td><td>▁</td></tr><tr><td>GCNConvEdge-4Layers/TrueNegatives</td><td>▁</td></tr><tr><td>GCNConvEdge-4Layers/TruePositives</td><td>▁</td></tr><tr><td>GCNConvEdge-4Layers/test_acc</td><td>▁▁▁▁▁▁▄▄▅▄▄▅▆▅▅▅▅▄▅▆▅▅█▅▅▆▅▅▅▆▆▅▅▅▅▅▅▅▅▅</td></tr><tr><td>GCNConvEdge-4Layers/train_acc</td><td>▁▁▁▁▁▅▅▅▅▇█▆▆▆▆██▆█▆▆▆▆█▆▆▆▆▆▆▇▇▆▇▆▆▆▆▆█</td></tr></table><br/></div><div class=\"wandb-col\"><h3>Run summary:</h3><br/><table class=\"wandb\"><tr><td>GCNConvEdge-4Layers/Accuracy</td><td>0.93466</td></tr><tr><td>GCNConvEdge-4Layers/F1-score</td><td>0.58156</td></tr><tr><td>GCNConvEdge-4Layers/FalseNegatives</td><td>46</td></tr><tr><td>GCNConvEdge-4Layers/FalsePositives</td><td>13</td></tr><tr><td>GCNConvEdge-4Layers/Precision</td><td>0.75926</td></tr><tr><td>GCNConvEdge-4Layers/Recall</td><td>0.47126</td></tr><tr><td>GCNConvEdge-4Layers/TrueNegatives</td><td>803</td></tr><tr><td>GCNConvEdge-4Layers/TruePositives</td><td>41</td></tr><tr><td>GCNConvEdge-4Layers/test_acc</td><td>0.93466</td></tr><tr><td>GCNConvEdge-4Layers/train_acc</td><td>0.93466</td></tr><tr><td>GCNConvEdge4Layers/FalsePositives</td><td>13</td></tr></table><br/></div></div>"
      ],
      "text/plain": [
       "<IPython.core.display.HTML object>"
      ]
     },
     "metadata": {},
     "output_type": "display_data"
    },
    {
     "data": {
      "text/html": [
       "You can sync this run to the cloud by running:<br><code>wandb sync E:\\THY\\EDC-AOP\\GNN\\wandb_runs\\wandb\\offline-run-20250811_234251-ok7e2zu2<code>"
      ],
      "text/plain": [
       "<IPython.core.display.HTML object>"
      ]
     },
     "metadata": {},
     "output_type": "display_data"
    },
    {
     "data": {
      "text/html": [
       "Find logs at: <code>E:\\THY\\EDC-AOP\\GNN\\wandb_runs\\wandb\\offline-run-20250811_234251-ok7e2zu2\\logs</code>"
      ],
      "text/plain": [
       "<IPython.core.display.HTML object>"
      ]
     },
     "metadata": {},
     "output_type": "display_data"
    },
    {
     "name": "stderr",
     "output_type": "stream",
     "text": [
      "\u001b[34m\u001b[1mwandb\u001b[0m: Agent Starting Run: q1991kpf with config:\n",
      "\u001b[34m\u001b[1mwandb\u001b[0m: \tbatch_size: 50\n",
      "\u001b[34m\u001b[1mwandb\u001b[0m: \thidden_size1: 20\n",
      "\u001b[34m\u001b[1mwandb\u001b[0m: \thidden_size2: 30\n",
      "\u001b[34m\u001b[1mwandb\u001b[0m: \thidden_size3: 40\n",
      "\u001b[34m\u001b[1mwandb\u001b[0m: \tlr: 0.0003149235655135774\n",
      "\u001b[34m\u001b[1mwandb\u001b[0m: \tweight_decay: 0.0004993432046158795\n"
     ]
    },
    {
     "data": {
      "text/html": [
       "Tracking run with wandb version 0.20.1"
      ],
      "text/plain": [
       "<IPython.core.display.HTML object>"
      ]
     },
     "metadata": {},
     "output_type": "display_data"
    },
    {
     "data": {
      "text/html": [
       "W&B syncing is set to <code>`offline`<code> in this directory. Run <code>`wandb online`<code> or set <code>WANDB_MODE=online<code> to enable cloud syncing."
      ],
      "text/plain": [
       "<IPython.core.display.HTML object>"
      ]
     },
     "metadata": {},
     "output_type": "display_data"
    },
    {
     "name": "stderr",
     "output_type": "stream",
     "text": [
      "100%|██████████| 200/200 [04:16<00:00,  1.28s/it]\n"
     ]
    },
    {
     "data": {
      "text/html": [],
      "text/plain": [
       "<IPython.core.display.HTML object>"
      ]
     },
     "metadata": {},
     "output_type": "display_data"
    },
    {
     "data": {
      "text/html": [
       "<br>    <style><br>        .wandb-row {<br>            display: flex;<br>            flex-direction: row;<br>            flex-wrap: wrap;<br>            justify-content: flex-start;<br>            width: 100%;<br>        }<br>        .wandb-col {<br>            display: flex;<br>            flex-direction: column;<br>            flex-basis: 100%;<br>            flex: 1;<br>            padding: 10px;<br>        }<br>    </style><br><div class=\"wandb-row\"><div class=\"wandb-col\"><h3>Run history:</h3><br/><table class=\"wandb\"><tr><td>GCNConvEdge-4Layers/Accuracy</td><td>▁</td></tr><tr><td>GCNConvEdge-4Layers/F1-score</td><td>▁</td></tr><tr><td>GCNConvEdge-4Layers/FalseNegatives</td><td>▁</td></tr><tr><td>GCNConvEdge-4Layers/FalsePositives</td><td>▁</td></tr><tr><td>GCNConvEdge-4Layers/Precision</td><td>▁</td></tr><tr><td>GCNConvEdge-4Layers/Recall</td><td>▁</td></tr><tr><td>GCNConvEdge-4Layers/TrueNegatives</td><td>▁</td></tr><tr><td>GCNConvEdge-4Layers/TruePositives</td><td>▁</td></tr><tr><td>GCNConvEdge-4Layers/test_acc</td><td>▁▁▁▁▁▁▁▁▁▁▁▁▂▇▇▇▇▇▇▇█▇▇▇▇▇▇▇▇▇▇▇▇▇▇▇█▇▇▇</td></tr><tr><td>GCNConvEdge-4Layers/train_acc</td><td>▁▁▁▁▁▁▁▁▁▁▁▁▁▁▁▂▇▇▇▇▇▇▇▇▇▇▇▇▇▇▇▇▇▇▇▇▇██▇</td></tr></table><br/></div><div class=\"wandb-col\"><h3>Run summary:</h3><br/><table class=\"wandb\"><tr><td>GCNConvEdge-4Layers/Accuracy</td><td>0.93023</td></tr><tr><td>GCNConvEdge-4Layers/F1-score</td><td>0.53333</td></tr><tr><td>GCNConvEdge-4Layers/FalseNegatives</td><td>51</td></tr><tr><td>GCNConvEdge-4Layers/FalsePositives</td><td>12</td></tr><tr><td>GCNConvEdge-4Layers/Precision</td><td>0.75</td></tr><tr><td>GCNConvEdge-4Layers/Recall</td><td>0.41379</td></tr><tr><td>GCNConvEdge-4Layers/TrueNegatives</td><td>804</td></tr><tr><td>GCNConvEdge-4Layers/TruePositives</td><td>36</td></tr><tr><td>GCNConvEdge-4Layers/test_acc</td><td>0.93023</td></tr><tr><td>GCNConvEdge-4Layers/train_acc</td><td>0.93023</td></tr><tr><td>GCNConvEdge4Layers/FalsePositives</td><td>12</td></tr></table><br/></div></div>"
      ],
      "text/plain": [
       "<IPython.core.display.HTML object>"
      ]
     },
     "metadata": {},
     "output_type": "display_data"
    },
    {
     "data": {
      "text/html": [
       "You can sync this run to the cloud by running:<br><code>wandb sync E:\\THY\\EDC-AOP\\GNN\\wandb_runs\\wandb\\offline-run-20250811_234708-q1991kpf<code>"
      ],
      "text/plain": [
       "<IPython.core.display.HTML object>"
      ]
     },
     "metadata": {},
     "output_type": "display_data"
    },
    {
     "data": {
      "text/html": [
       "Find logs at: <code>E:\\THY\\EDC-AOP\\GNN\\wandb_runs\\wandb\\offline-run-20250811_234708-q1991kpf\\logs</code>"
      ],
      "text/plain": [
       "<IPython.core.display.HTML object>"
      ]
     },
     "metadata": {},
     "output_type": "display_data"
    },
    {
     "name": "stderr",
     "output_type": "stream",
     "text": [
      "\u001b[34m\u001b[1mwandb\u001b[0m: Sweep Agent: Waiting for job.\n",
      "\u001b[34m\u001b[1mwandb\u001b[0m: Job received.\n",
      "\u001b[34m\u001b[1mwandb\u001b[0m: Agent Starting Run: gnog15iv with config:\n",
      "\u001b[34m\u001b[1mwandb\u001b[0m: \tbatch_size: 50\n",
      "\u001b[34m\u001b[1mwandb\u001b[0m: \thidden_size1: 50\n",
      "\u001b[34m\u001b[1mwandb\u001b[0m: \thidden_size2: 20\n",
      "\u001b[34m\u001b[1mwandb\u001b[0m: \thidden_size3: 60\n",
      "\u001b[34m\u001b[1mwandb\u001b[0m: \tlr: 0.0005026646426829573\n",
      "\u001b[34m\u001b[1mwandb\u001b[0m: \tweight_decay: 0.0005105643375425622\n"
     ]
    },
    {
     "data": {
      "text/html": [
       "Tracking run with wandb version 0.20.1"
      ],
      "text/plain": [
       "<IPython.core.display.HTML object>"
      ]
     },
     "metadata": {},
     "output_type": "display_data"
    },
    {
     "data": {
      "text/html": [
       "W&B syncing is set to <code>`offline`<code> in this directory. Run <code>`wandb online`<code> or set <code>WANDB_MODE=online<code> to enable cloud syncing."
      ],
      "text/plain": [
       "<IPython.core.display.HTML object>"
      ]
     },
     "metadata": {},
     "output_type": "display_data"
    },
    {
     "name": "stderr",
     "output_type": "stream",
     "text": [
      "100%|██████████| 200/200 [04:14<00:00,  1.27s/it]\n"
     ]
    },
    {
     "data": {
      "text/html": [],
      "text/plain": [
       "<IPython.core.display.HTML object>"
      ]
     },
     "metadata": {},
     "output_type": "display_data"
    },
    {
     "data": {
      "text/html": [
       "<br>    <style><br>        .wandb-row {<br>            display: flex;<br>            flex-direction: row;<br>            flex-wrap: wrap;<br>            justify-content: flex-start;<br>            width: 100%;<br>        }<br>        .wandb-col {<br>            display: flex;<br>            flex-direction: column;<br>            flex-basis: 100%;<br>            flex: 1;<br>            padding: 10px;<br>        }<br>    </style><br><div class=\"wandb-row\"><div class=\"wandb-col\"><h3>Run history:</h3><br/><table class=\"wandb\"><tr><td>GCNConvEdge-4Layers/Accuracy</td><td>▁</td></tr><tr><td>GCNConvEdge-4Layers/F1-score</td><td>▁</td></tr><tr><td>GCNConvEdge-4Layers/FalseNegatives</td><td>▁</td></tr><tr><td>GCNConvEdge-4Layers/FalsePositives</td><td>▁</td></tr><tr><td>GCNConvEdge-4Layers/Precision</td><td>▁</td></tr><tr><td>GCNConvEdge-4Layers/Recall</td><td>▁</td></tr><tr><td>GCNConvEdge-4Layers/TrueNegatives</td><td>▁</td></tr><tr><td>GCNConvEdge-4Layers/TruePositives</td><td>▁</td></tr><tr><td>GCNConvEdge-4Layers/test_acc</td><td>▁▁▁▁▁▁▁▁▁▂▅▅▅▅▄▆▄▅▆█▅▅▆▅▅▆▅▅▅▆▅▆▅▆▆▆▆▅▆▅</td></tr><tr><td>GCNConvEdge-4Layers/train_acc</td><td>▁▁▁▁▁▁▁▁▁▁▁▅▅▅▆▆▅▆█▆▆▆▆▆▆▆▆█▆▆█▇▆▆▇▆▆█▆▇</td></tr></table><br/></div><div class=\"wandb-col\"><h3>Run summary:</h3><br/><table class=\"wandb\"><tr><td>GCNConvEdge-4Layers/Accuracy</td><td>0.94241</td></tr><tr><td>GCNConvEdge-4Layers/F1-score</td><td>0.66234</td></tr><tr><td>GCNConvEdge-4Layers/FalseNegatives</td><td>36</td></tr><tr><td>GCNConvEdge-4Layers/FalsePositives</td><td>16</td></tr><tr><td>GCNConvEdge-4Layers/Precision</td><td>0.76119</td></tr><tr><td>GCNConvEdge-4Layers/Recall</td><td>0.58621</td></tr><tr><td>GCNConvEdge-4Layers/TrueNegatives</td><td>800</td></tr><tr><td>GCNConvEdge-4Layers/TruePositives</td><td>51</td></tr><tr><td>GCNConvEdge-4Layers/test_acc</td><td>0.94241</td></tr><tr><td>GCNConvEdge-4Layers/train_acc</td><td>0.94241</td></tr><tr><td>GCNConvEdge4Layers/FalsePositives</td><td>16</td></tr></table><br/></div></div>"
      ],
      "text/plain": [
       "<IPython.core.display.HTML object>"
      ]
     },
     "metadata": {},
     "output_type": "display_data"
    },
    {
     "data": {
      "text/html": [
       "You can sync this run to the cloud by running:<br><code>wandb sync E:\\THY\\EDC-AOP\\GNN\\wandb_runs\\wandb\\offline-run-20250811_235135-gnog15iv<code>"
      ],
      "text/plain": [
       "<IPython.core.display.HTML object>"
      ]
     },
     "metadata": {},
     "output_type": "display_data"
    },
    {
     "data": {
      "text/html": [
       "Find logs at: <code>E:\\THY\\EDC-AOP\\GNN\\wandb_runs\\wandb\\offline-run-20250811_235135-gnog15iv\\logs</code>"
      ],
      "text/plain": [
       "<IPython.core.display.HTML object>"
      ]
     },
     "metadata": {},
     "output_type": "display_data"
    },
    {
     "name": "stderr",
     "output_type": "stream",
     "text": [
      "\u001b[34m\u001b[1mwandb\u001b[0m: Sweep Agent: Waiting for job.\n",
      "\u001b[34m\u001b[1mwandb\u001b[0m: Job received.\n",
      "\u001b[34m\u001b[1mwandb\u001b[0m: Agent Starting Run: 3e5sapjr with config:\n",
      "\u001b[34m\u001b[1mwandb\u001b[0m: \tbatch_size: 300\n",
      "\u001b[34m\u001b[1mwandb\u001b[0m: \thidden_size1: 60\n",
      "\u001b[34m\u001b[1mwandb\u001b[0m: \thidden_size2: 100\n",
      "\u001b[34m\u001b[1mwandb\u001b[0m: \thidden_size3: 100\n",
      "\u001b[34m\u001b[1mwandb\u001b[0m: \tlr: 0.0006181773214874653\n",
      "\u001b[34m\u001b[1mwandb\u001b[0m: \tweight_decay: 0.0005002944781650345\n"
     ]
    },
    {
     "data": {
      "text/html": [
       "Tracking run with wandb version 0.20.1"
      ],
      "text/plain": [
       "<IPython.core.display.HTML object>"
      ]
     },
     "metadata": {},
     "output_type": "display_data"
    },
    {
     "data": {
      "text/html": [
       "W&B syncing is set to <code>`offline`<code> in this directory. Run <code>`wandb online`<code> or set <code>WANDB_MODE=online<code> to enable cloud syncing."
      ],
      "text/plain": [
       "<IPython.core.display.HTML object>"
      ]
     },
     "metadata": {},
     "output_type": "display_data"
    },
    {
     "name": "stderr",
     "output_type": "stream",
     "text": [
      "100%|██████████| 200/200 [03:21<00:00,  1.01s/it]\n"
     ]
    },
    {
     "data": {
      "text/html": [],
      "text/plain": [
       "<IPython.core.display.HTML object>"
      ]
     },
     "metadata": {},
     "output_type": "display_data"
    },
    {
     "data": {
      "text/html": [
       "<br>    <style><br>        .wandb-row {<br>            display: flex;<br>            flex-direction: row;<br>            flex-wrap: wrap;<br>            justify-content: flex-start;<br>            width: 100%;<br>        }<br>        .wandb-col {<br>            display: flex;<br>            flex-direction: column;<br>            flex-basis: 100%;<br>            flex: 1;<br>            padding: 10px;<br>        }<br>    </style><br><div class=\"wandb-row\"><div class=\"wandb-col\"><h3>Run history:</h3><br/><table class=\"wandb\"><tr><td>GCNConvEdge-4Layers/Accuracy</td><td>▁</td></tr><tr><td>GCNConvEdge-4Layers/F1-score</td><td>▁</td></tr><tr><td>GCNConvEdge-4Layers/FalseNegatives</td><td>▁</td></tr><tr><td>GCNConvEdge-4Layers/FalsePositives</td><td>▁</td></tr><tr><td>GCNConvEdge-4Layers/Precision</td><td>▁</td></tr><tr><td>GCNConvEdge-4Layers/Recall</td><td>▁</td></tr><tr><td>GCNConvEdge-4Layers/TrueNegatives</td><td>▁</td></tr><tr><td>GCNConvEdge-4Layers/TruePositives</td><td>▁</td></tr><tr><td>GCNConvEdge-4Layers/test_acc</td><td>▁▁▁▁▁▁▁▁▁▁▁▁▁▁▁▁▁▁▁▁▁▁▁▁▁▁▁▁▁▁▃▁▁█▃█████</td></tr><tr><td>GCNConvEdge-4Layers/train_acc</td><td>▁▁▁▁▁▁▁▁▁▁▁▁▁▁▁▁▁▁▁▁▁▁▁▁▁▁▁▁▁▁▁▆█▂▆▆▆▂▂▆</td></tr></table><br/></div><div class=\"wandb-col\"><h3>Run summary:</h3><br/><table class=\"wandb\"><tr><td>GCNConvEdge-4Layers/Accuracy</td><td>0.93023</td></tr><tr><td>GCNConvEdge-4Layers/F1-score</td><td>0.51908</td></tr><tr><td>GCNConvEdge-4Layers/FalseNegatives</td><td>53</td></tr><tr><td>GCNConvEdge-4Layers/FalsePositives</td><td>10</td></tr><tr><td>GCNConvEdge-4Layers/Precision</td><td>0.77273</td></tr><tr><td>GCNConvEdge-4Layers/Recall</td><td>0.3908</td></tr><tr><td>GCNConvEdge-4Layers/TrueNegatives</td><td>806</td></tr><tr><td>GCNConvEdge-4Layers/TruePositives</td><td>34</td></tr><tr><td>GCNConvEdge-4Layers/test_acc</td><td>0.93023</td></tr><tr><td>GCNConvEdge-4Layers/train_acc</td><td>0.93023</td></tr><tr><td>GCNConvEdge4Layers/FalsePositives</td><td>10</td></tr></table><br/></div></div>"
      ],
      "text/plain": [
       "<IPython.core.display.HTML object>"
      ]
     },
     "metadata": {},
     "output_type": "display_data"
    },
    {
     "data": {
      "text/html": [
       "You can sync this run to the cloud by running:<br><code>wandb sync E:\\THY\\EDC-AOP\\GNN\\wandb_runs\\wandb\\offline-run-20250811_235601-3e5sapjr<code>"
      ],
      "text/plain": [
       "<IPython.core.display.HTML object>"
      ]
     },
     "metadata": {},
     "output_type": "display_data"
    },
    {
     "data": {
      "text/html": [
       "Find logs at: <code>E:\\THY\\EDC-AOP\\GNN\\wandb_runs\\wandb\\offline-run-20250811_235601-3e5sapjr\\logs</code>"
      ],
      "text/plain": [
       "<IPython.core.display.HTML object>"
      ]
     },
     "metadata": {},
     "output_type": "display_data"
    },
    {
     "name": "stderr",
     "output_type": "stream",
     "text": [
      "\u001b[34m\u001b[1mwandb\u001b[0m: Agent Starting Run: jzidiaov with config:\n",
      "\u001b[34m\u001b[1mwandb\u001b[0m: \tbatch_size: 50\n",
      "\u001b[34m\u001b[1mwandb\u001b[0m: \thidden_size1: 10\n",
      "\u001b[34m\u001b[1mwandb\u001b[0m: \thidden_size2: 10\n",
      "\u001b[34m\u001b[1mwandb\u001b[0m: \thidden_size3: 20\n",
      "\u001b[34m\u001b[1mwandb\u001b[0m: \tlr: 0.0009564183469441256\n",
      "\u001b[34m\u001b[1mwandb\u001b[0m: \tweight_decay: 0.0004956922198759671\n"
     ]
    },
    {
     "data": {
      "text/html": [
       "Tracking run with wandb version 0.20.1"
      ],
      "text/plain": [
       "<IPython.core.display.HTML object>"
      ]
     },
     "metadata": {},
     "output_type": "display_data"
    },
    {
     "data": {
      "text/html": [
       "W&B syncing is set to <code>`offline`<code> in this directory. Run <code>`wandb online`<code> or set <code>WANDB_MODE=online<code> to enable cloud syncing."
      ],
      "text/plain": [
       "<IPython.core.display.HTML object>"
      ]
     },
     "metadata": {},
     "output_type": "display_data"
    },
    {
     "name": "stderr",
     "output_type": "stream",
     "text": [
      "100%|██████████| 200/200 [04:01<00:00,  1.21s/it]\n"
     ]
    },
    {
     "data": {
      "text/html": [],
      "text/plain": [
       "<IPython.core.display.HTML object>"
      ]
     },
     "metadata": {},
     "output_type": "display_data"
    },
    {
     "data": {
      "text/html": [
       "<br>    <style><br>        .wandb-row {<br>            display: flex;<br>            flex-direction: row;<br>            flex-wrap: wrap;<br>            justify-content: flex-start;<br>            width: 100%;<br>        }<br>        .wandb-col {<br>            display: flex;<br>            flex-direction: column;<br>            flex-basis: 100%;<br>            flex: 1;<br>            padding: 10px;<br>        }<br>    </style><br><div class=\"wandb-row\"><div class=\"wandb-col\"><h3>Run history:</h3><br/><table class=\"wandb\"><tr><td>GCNConvEdge-4Layers/Accuracy</td><td>▁</td></tr><tr><td>GCNConvEdge-4Layers/F1-score</td><td>▁</td></tr><tr><td>GCNConvEdge-4Layers/FalseNegatives</td><td>▁</td></tr><tr><td>GCNConvEdge-4Layers/FalsePositives</td><td>▁</td></tr><tr><td>GCNConvEdge-4Layers/Precision</td><td>▁</td></tr><tr><td>GCNConvEdge-4Layers/Recall</td><td>▁</td></tr><tr><td>GCNConvEdge-4Layers/TrueNegatives</td><td>▁</td></tr><tr><td>GCNConvEdge-4Layers/TruePositives</td><td>▁</td></tr><tr><td>GCNConvEdge-4Layers/test_acc</td><td>▁▁▁▁▁▁▁▁▁▁▁▁▁▁▁▄▄▅▅▆▅▅▅▅▆▅▆█▆▅▅▆▆▅█▆█▅▆▅</td></tr><tr><td>GCNConvEdge-4Layers/train_acc</td><td>▁▁▁▁▁▁▁▁▁▃▅▄▆▅▅▅▅▆▅▅▅▅▆▅▅▆▅█▆▆█▅▆▆▅▅▅▅▅▅</td></tr></table><br/></div><div class=\"wandb-col\"><h3>Run summary:</h3><br/><table class=\"wandb\"><tr><td>GCNConvEdge-4Layers/Accuracy</td><td>0.94241</td></tr><tr><td>GCNConvEdge-4Layers/F1-score</td><td>0.66234</td></tr><tr><td>GCNConvEdge-4Layers/FalseNegatives</td><td>36</td></tr><tr><td>GCNConvEdge-4Layers/FalsePositives</td><td>16</td></tr><tr><td>GCNConvEdge-4Layers/Precision</td><td>0.76119</td></tr><tr><td>GCNConvEdge-4Layers/Recall</td><td>0.58621</td></tr><tr><td>GCNConvEdge-4Layers/TrueNegatives</td><td>800</td></tr><tr><td>GCNConvEdge-4Layers/TruePositives</td><td>51</td></tr><tr><td>GCNConvEdge-4Layers/test_acc</td><td>0.94241</td></tr><tr><td>GCNConvEdge-4Layers/train_acc</td><td>0.94241</td></tr><tr><td>GCNConvEdge4Layers/FalsePositives</td><td>16</td></tr></table><br/></div></div>"
      ],
      "text/plain": [
       "<IPython.core.display.HTML object>"
      ]
     },
     "metadata": {},
     "output_type": "display_data"
    },
    {
     "data": {
      "text/html": [
       "You can sync this run to the cloud by running:<br><code>wandb sync E:\\THY\\EDC-AOP\\GNN\\wandb_runs\\wandb\\offline-run-20250811_235927-jzidiaov<code>"
      ],
      "text/plain": [
       "<IPython.core.display.HTML object>"
      ]
     },
     "metadata": {},
     "output_type": "display_data"
    },
    {
     "data": {
      "text/html": [
       "Find logs at: <code>E:\\THY\\EDC-AOP\\GNN\\wandb_runs\\wandb\\offline-run-20250811_235927-jzidiaov\\logs</code>"
      ],
      "text/plain": [
       "<IPython.core.display.HTML object>"
      ]
     },
     "metadata": {},
     "output_type": "display_data"
    },
    {
     "name": "stderr",
     "output_type": "stream",
     "text": [
      "\u001b[34m\u001b[1mwandb\u001b[0m: Agent Starting Run: t4ufj57v with config:\n",
      "\u001b[34m\u001b[1mwandb\u001b[0m: \tbatch_size: 50\n",
      "\u001b[34m\u001b[1mwandb\u001b[0m: \thidden_size1: 60\n",
      "\u001b[34m\u001b[1mwandb\u001b[0m: \thidden_size2: 10\n",
      "\u001b[34m\u001b[1mwandb\u001b[0m: \thidden_size3: 40\n",
      "\u001b[34m\u001b[1mwandb\u001b[0m: \tlr: 0.0004747885725318372\n",
      "\u001b[34m\u001b[1mwandb\u001b[0m: \tweight_decay: 0.0004910197348067454\n"
     ]
    },
    {
     "data": {
      "text/html": [
       "Tracking run with wandb version 0.20.1"
      ],
      "text/plain": [
       "<IPython.core.display.HTML object>"
      ]
     },
     "metadata": {},
     "output_type": "display_data"
    },
    {
     "data": {
      "text/html": [
       "W&B syncing is set to <code>`offline`<code> in this directory. Run <code>`wandb online`<code> or set <code>WANDB_MODE=online<code> to enable cloud syncing."
      ],
      "text/plain": [
       "<IPython.core.display.HTML object>"
      ]
     },
     "metadata": {},
     "output_type": "display_data"
    },
    {
     "name": "stderr",
     "output_type": "stream",
     "text": [
      "100%|██████████| 200/200 [04:16<00:00,  1.28s/it]\n"
     ]
    },
    {
     "data": {
      "text/html": [],
      "text/plain": [
       "<IPython.core.display.HTML object>"
      ]
     },
     "metadata": {},
     "output_type": "display_data"
    },
    {
     "data": {
      "text/html": [
       "<br>    <style><br>        .wandb-row {<br>            display: flex;<br>            flex-direction: row;<br>            flex-wrap: wrap;<br>            justify-content: flex-start;<br>            width: 100%;<br>        }<br>        .wandb-col {<br>            display: flex;<br>            flex-direction: column;<br>            flex-basis: 100%;<br>            flex: 1;<br>            padding: 10px;<br>        }<br>    </style><br><div class=\"wandb-row\"><div class=\"wandb-col\"><h3>Run history:</h3><br/><table class=\"wandb\"><tr><td>GCNConvEdge-4Layers/Accuracy</td><td>▁</td></tr><tr><td>GCNConvEdge-4Layers/F1-score</td><td>▁</td></tr><tr><td>GCNConvEdge-4Layers/FalseNegatives</td><td>▁</td></tr><tr><td>GCNConvEdge-4Layers/FalsePositives</td><td>▁</td></tr><tr><td>GCNConvEdge-4Layers/Precision</td><td>▁</td></tr><tr><td>GCNConvEdge-4Layers/Recall</td><td>▁</td></tr><tr><td>GCNConvEdge-4Layers/TrueNegatives</td><td>▁</td></tr><tr><td>GCNConvEdge-4Layers/TruePositives</td><td>▁</td></tr><tr><td>GCNConvEdge-4Layers/test_acc</td><td>▁▁▁▁▁▁▁▁▁▂▆▅▅▆▆▆▆▆█▆▆█▆▆▆▇▆▆▇▆▆█▆▇█▆▆▆▆▆</td></tr><tr><td>GCNConvEdge-4Layers/train_acc</td><td>▁▁▁▁▁▁▁▁▂▂▅▅▆▆▆▆▆▆▇▆▆▆▆▆▆▇▆▇▆▆▆▆▆█▆▇▆▆▆▆</td></tr></table><br/></div><div class=\"wandb-col\"><h3>Run summary:</h3><br/><table class=\"wandb\"><tr><td>GCNConvEdge-4Layers/Accuracy</td><td>0.93577</td></tr><tr><td>GCNConvEdge-4Layers/F1-score</td><td>0.57971</td></tr><tr><td>GCNConvEdge-4Layers/FalseNegatives</td><td>47</td></tr><tr><td>GCNConvEdge-4Layers/FalsePositives</td><td>11</td></tr><tr><td>GCNConvEdge-4Layers/Precision</td><td>0.78431</td></tr><tr><td>GCNConvEdge-4Layers/Recall</td><td>0.45977</td></tr><tr><td>GCNConvEdge-4Layers/TrueNegatives</td><td>805</td></tr><tr><td>GCNConvEdge-4Layers/TruePositives</td><td>40</td></tr><tr><td>GCNConvEdge-4Layers/test_acc</td><td>0.93577</td></tr><tr><td>GCNConvEdge-4Layers/train_acc</td><td>0.93577</td></tr><tr><td>GCNConvEdge4Layers/FalsePositives</td><td>11</td></tr></table><br/></div></div>"
      ],
      "text/plain": [
       "<IPython.core.display.HTML object>"
      ]
     },
     "metadata": {},
     "output_type": "display_data"
    },
    {
     "data": {
      "text/html": [
       "You can sync this run to the cloud by running:<br><code>wandb sync E:\\THY\\EDC-AOP\\GNN\\wandb_runs\\wandb\\offline-run-20250812_000334-t4ufj57v<code>"
      ],
      "text/plain": [
       "<IPython.core.display.HTML object>"
      ]
     },
     "metadata": {},
     "output_type": "display_data"
    },
    {
     "data": {
      "text/html": [
       "Find logs at: <code>E:\\THY\\EDC-AOP\\GNN\\wandb_runs\\wandb\\offline-run-20250812_000334-t4ufj57v\\logs</code>"
      ],
      "text/plain": [
       "<IPython.core.display.HTML object>"
      ]
     },
     "metadata": {},
     "output_type": "display_data"
    },
    {
     "name": "stderr",
     "output_type": "stream",
     "text": [
      "\u001b[34m\u001b[1mwandb\u001b[0m: Sweep Agent: Waiting for job.\n",
      "\u001b[34m\u001b[1mwandb\u001b[0m: Job received.\n",
      "\u001b[34m\u001b[1mwandb\u001b[0m: Agent Starting Run: z57gdbrv with config:\n",
      "\u001b[34m\u001b[1mwandb\u001b[0m: \tbatch_size: 200\n",
      "\u001b[34m\u001b[1mwandb\u001b[0m: \thidden_size1: 20\n",
      "\u001b[34m\u001b[1mwandb\u001b[0m: \thidden_size2: 80\n",
      "\u001b[34m\u001b[1mwandb\u001b[0m: \thidden_size3: 40\n",
      "\u001b[34m\u001b[1mwandb\u001b[0m: \tlr: 0.0005855525593884546\n",
      "\u001b[34m\u001b[1mwandb\u001b[0m: \tweight_decay: 0.0005150926605720456\n"
     ]
    },
    {
     "data": {
      "text/html": [
       "Tracking run with wandb version 0.20.1"
      ],
      "text/plain": [
       "<IPython.core.display.HTML object>"
      ]
     },
     "metadata": {},
     "output_type": "display_data"
    },
    {
     "data": {
      "text/html": [
       "W&B syncing is set to <code>`offline`<code> in this directory. Run <code>`wandb online`<code> or set <code>WANDB_MODE=online<code> to enable cloud syncing."
      ],
      "text/plain": [
       "<IPython.core.display.HTML object>"
      ]
     },
     "metadata": {},
     "output_type": "display_data"
    },
    {
     "name": "stderr",
     "output_type": "stream",
     "text": [
      "100%|██████████| 200/200 [03:58<00:00,  1.19s/it]\n"
     ]
    },
    {
     "data": {
      "text/html": [],
      "text/plain": [
       "<IPython.core.display.HTML object>"
      ]
     },
     "metadata": {},
     "output_type": "display_data"
    },
    {
     "data": {
      "text/html": [
       "<br>    <style><br>        .wandb-row {<br>            display: flex;<br>            flex-direction: row;<br>            flex-wrap: wrap;<br>            justify-content: flex-start;<br>            width: 100%;<br>        }<br>        .wandb-col {<br>            display: flex;<br>            flex-direction: column;<br>            flex-basis: 100%;<br>            flex: 1;<br>            padding: 10px;<br>        }<br>    </style><br><div class=\"wandb-row\"><div class=\"wandb-col\"><h3>Run history:</h3><br/><table class=\"wandb\"><tr><td>GCNConvEdge-4Layers/Accuracy</td><td>▁</td></tr><tr><td>GCNConvEdge-4Layers/F1-score</td><td>▁</td></tr><tr><td>GCNConvEdge-4Layers/FalseNegatives</td><td>▁</td></tr><tr><td>GCNConvEdge-4Layers/FalsePositives</td><td>▁</td></tr><tr><td>GCNConvEdge-4Layers/Precision</td><td>▁</td></tr><tr><td>GCNConvEdge-4Layers/Recall</td><td>▁</td></tr><tr><td>GCNConvEdge-4Layers/TrueNegatives</td><td>▁</td></tr><tr><td>GCNConvEdge-4Layers/TruePositives</td><td>▁</td></tr><tr><td>GCNConvEdge-4Layers/test_acc</td><td>▁▁▁▁▁▁▁▁▁▁▁▁▁▁▁▃▅▇▇█▇▇▇▇▇▇▇▇▇▇▇▇█▇▇▇▇▇▇█</td></tr><tr><td>GCNConvEdge-4Layers/train_acc</td><td>▁▁▁▁▁▁▁▁▁▁▃▃▃▃▅▇▇▇█▇▇▇▇▇▇▇▇▇▇▇▇▇▇▇██▇▇▇█</td></tr></table><br/></div><div class=\"wandb-col\"><h3>Run summary:</h3><br/><table class=\"wandb\"><tr><td>GCNConvEdge-4Layers/Accuracy</td><td>0.93466</td></tr><tr><td>GCNConvEdge-4Layers/F1-score</td><td>0.57554</td></tr><tr><td>GCNConvEdge-4Layers/FalseNegatives</td><td>47</td></tr><tr><td>GCNConvEdge-4Layers/FalsePositives</td><td>12</td></tr><tr><td>GCNConvEdge-4Layers/Precision</td><td>0.76923</td></tr><tr><td>GCNConvEdge-4Layers/Recall</td><td>0.45977</td></tr><tr><td>GCNConvEdge-4Layers/TrueNegatives</td><td>804</td></tr><tr><td>GCNConvEdge-4Layers/TruePositives</td><td>40</td></tr><tr><td>GCNConvEdge-4Layers/test_acc</td><td>0.93466</td></tr><tr><td>GCNConvEdge-4Layers/train_acc</td><td>0.93466</td></tr><tr><td>GCNConvEdge4Layers/FalsePositives</td><td>12</td></tr></table><br/></div></div>"
      ],
      "text/plain": [
       "<IPython.core.display.HTML object>"
      ]
     },
     "metadata": {},
     "output_type": "display_data"
    },
    {
     "data": {
      "text/html": [
       "You can sync this run to the cloud by running:<br><code>wandb sync E:\\THY\\EDC-AOP\\GNN\\wandb_runs\\wandb\\offline-run-20250812_000802-z57gdbrv<code>"
      ],
      "text/plain": [
       "<IPython.core.display.HTML object>"
      ]
     },
     "metadata": {},
     "output_type": "display_data"
    },
    {
     "data": {
      "text/html": [
       "Find logs at: <code>E:\\THY\\EDC-AOP\\GNN\\wandb_runs\\wandb\\offline-run-20250812_000802-z57gdbrv\\logs</code>"
      ],
      "text/plain": [
       "<IPython.core.display.HTML object>"
      ]
     },
     "metadata": {},
     "output_type": "display_data"
    },
    {
     "name": "stderr",
     "output_type": "stream",
     "text": [
      "\u001b[34m\u001b[1mwandb\u001b[0m: Agent Starting Run: bq48ollz with config:\n",
      "\u001b[34m\u001b[1mwandb\u001b[0m: \tbatch_size: 300\n",
      "\u001b[34m\u001b[1mwandb\u001b[0m: \thidden_size1: 50\n",
      "\u001b[34m\u001b[1mwandb\u001b[0m: \thidden_size2: 50\n",
      "\u001b[34m\u001b[1mwandb\u001b[0m: \thidden_size3: 60\n",
      "\u001b[34m\u001b[1mwandb\u001b[0m: \tlr: 0.00027472362345084763\n",
      "\u001b[34m\u001b[1mwandb\u001b[0m: \tweight_decay: 0.00048157765002374784\n"
     ]
    },
    {
     "data": {
      "text/html": [
       "Tracking run with wandb version 0.20.1"
      ],
      "text/plain": [
       "<IPython.core.display.HTML object>"
      ]
     },
     "metadata": {},
     "output_type": "display_data"
    },
    {
     "data": {
      "text/html": [
       "W&B syncing is set to <code>`offline`<code> in this directory. Run <code>`wandb online`<code> or set <code>WANDB_MODE=online<code> to enable cloud syncing."
      ],
      "text/plain": [
       "<IPython.core.display.HTML object>"
      ]
     },
     "metadata": {},
     "output_type": "display_data"
    },
    {
     "name": "stderr",
     "output_type": "stream",
     "text": [
      "100%|██████████| 200/200 [03:55<00:00,  1.18s/it]\n"
     ]
    },
    {
     "data": {
      "text/html": [],
      "text/plain": [
       "<IPython.core.display.HTML object>"
      ]
     },
     "metadata": {},
     "output_type": "display_data"
    },
    {
     "data": {
      "text/html": [
       "<br>    <style><br>        .wandb-row {<br>            display: flex;<br>            flex-direction: row;<br>            flex-wrap: wrap;<br>            justify-content: flex-start;<br>            width: 100%;<br>        }<br>        .wandb-col {<br>            display: flex;<br>            flex-direction: column;<br>            flex-basis: 100%;<br>            flex: 1;<br>            padding: 10px;<br>        }<br>    </style><br><div class=\"wandb-row\"><div class=\"wandb-col\"><h3>Run history:</h3><br/><table class=\"wandb\"><tr><td>GCNConvEdge-4Layers/Accuracy</td><td>▁</td></tr><tr><td>GCNConvEdge-4Layers/F1-score</td><td>▁</td></tr><tr><td>GCNConvEdge-4Layers/FalseNegatives</td><td>▁</td></tr><tr><td>GCNConvEdge-4Layers/FalsePositives</td><td>▁</td></tr><tr><td>GCNConvEdge-4Layers/Precision</td><td>▁</td></tr><tr><td>GCNConvEdge-4Layers/Recall</td><td>▁</td></tr><tr><td>GCNConvEdge-4Layers/TrueNegatives</td><td>▁</td></tr><tr><td>GCNConvEdge-4Layers/TruePositives</td><td>▁</td></tr><tr><td>GCNConvEdge-4Layers/test_acc</td><td>▁▁▁▁▁▁▁▁▁▁▁▁▁▁▁▁▁▁▁▁▁▁▁▁▁▁▁▁▁▁▁▁▁▁▁▁▁▁▁▁</td></tr><tr><td>GCNConvEdge-4Layers/train_acc</td><td>▁▁▁▁▁▁▁▁▁▁▁▁▁▁▁▁▁▁▁▁▁▁▁▁▁▁▁▁▁▁▁▁▁▁▁▁▁▁▁▁</td></tr></table><br/></div><div class=\"wandb-col\"><h3>Run summary:</h3><br/><table class=\"wandb\"><tr><td>GCNConvEdge-4Layers/Accuracy</td><td>0.90365</td></tr><tr><td>GCNConvEdge-4Layers/F1-score</td><td>0</td></tr><tr><td>GCNConvEdge-4Layers/FalseNegatives</td><td>87</td></tr><tr><td>GCNConvEdge-4Layers/FalsePositives</td><td>0</td></tr><tr><td>GCNConvEdge-4Layers/Precision</td><td>0</td></tr><tr><td>GCNConvEdge-4Layers/Recall</td><td>0</td></tr><tr><td>GCNConvEdge-4Layers/TrueNegatives</td><td>816</td></tr><tr><td>GCNConvEdge-4Layers/TruePositives</td><td>0</td></tr><tr><td>GCNConvEdge-4Layers/test_acc</td><td>0.90365</td></tr><tr><td>GCNConvEdge-4Layers/train_acc</td><td>0.90365</td></tr><tr><td>GCNConvEdge4Layers/FalsePositives</td><td>0</td></tr></table><br/></div></div>"
      ],
      "text/plain": [
       "<IPython.core.display.HTML object>"
      ]
     },
     "metadata": {},
     "output_type": "display_data"
    },
    {
     "data": {
      "text/html": [
       "You can sync this run to the cloud by running:<br><code>wandb sync E:\\THY\\EDC-AOP\\GNN\\wandb_runs\\wandb\\offline-run-20250812_001205-bq48ollz<code>"
      ],
      "text/plain": [
       "<IPython.core.display.HTML object>"
      ]
     },
     "metadata": {},
     "output_type": "display_data"
    },
    {
     "data": {
      "text/html": [
       "Find logs at: <code>E:\\THY\\EDC-AOP\\GNN\\wandb_runs\\wandb\\offline-run-20250812_001205-bq48ollz\\logs</code>"
      ],
      "text/plain": [
       "<IPython.core.display.HTML object>"
      ]
     },
     "metadata": {},
     "output_type": "display_data"
    },
    {
     "name": "stderr",
     "output_type": "stream",
     "text": [
      "\u001b[34m\u001b[1mwandb\u001b[0m: Agent Starting Run: qvozpzxf with config:\n",
      "\u001b[34m\u001b[1mwandb\u001b[0m: \tbatch_size: 50\n",
      "\u001b[34m\u001b[1mwandb\u001b[0m: \thidden_size1: 50\n",
      "\u001b[34m\u001b[1mwandb\u001b[0m: \thidden_size2: 100\n",
      "\u001b[34m\u001b[1mwandb\u001b[0m: \thidden_size3: 60\n",
      "\u001b[34m\u001b[1mwandb\u001b[0m: \tlr: 0.0004644987166669757\n",
      "\u001b[34m\u001b[1mwandb\u001b[0m: \tweight_decay: 0.0005011614710338505\n"
     ]
    },
    {
     "data": {
      "text/html": [
       "Tracking run with wandb version 0.20.1"
      ],
      "text/plain": [
       "<IPython.core.display.HTML object>"
      ]
     },
     "metadata": {},
     "output_type": "display_data"
    },
    {
     "data": {
      "text/html": [
       "W&B syncing is set to <code>`offline`<code> in this directory. Run <code>`wandb online`<code> or set <code>WANDB_MODE=online<code> to enable cloud syncing."
      ],
      "text/plain": [
       "<IPython.core.display.HTML object>"
      ]
     },
     "metadata": {},
     "output_type": "display_data"
    },
    {
     "name": "stderr",
     "output_type": "stream",
     "text": [
      "100%|██████████| 200/200 [04:59<00:00,  1.50s/it]\n"
     ]
    },
    {
     "data": {
      "text/html": [],
      "text/plain": [
       "<IPython.core.display.HTML object>"
      ]
     },
     "metadata": {},
     "output_type": "display_data"
    },
    {
     "data": {
      "text/html": [
       "<br>    <style><br>        .wandb-row {<br>            display: flex;<br>            flex-direction: row;<br>            flex-wrap: wrap;<br>            justify-content: flex-start;<br>            width: 100%;<br>        }<br>        .wandb-col {<br>            display: flex;<br>            flex-direction: column;<br>            flex-basis: 100%;<br>            flex: 1;<br>            padding: 10px;<br>        }<br>    </style><br><div class=\"wandb-row\"><div class=\"wandb-col\"><h3>Run history:</h3><br/><table class=\"wandb\"><tr><td>GCNConvEdge-4Layers/Accuracy</td><td>▁</td></tr><tr><td>GCNConvEdge-4Layers/F1-score</td><td>▁</td></tr><tr><td>GCNConvEdge-4Layers/FalseNegatives</td><td>▁</td></tr><tr><td>GCNConvEdge-4Layers/FalsePositives</td><td>▁</td></tr><tr><td>GCNConvEdge-4Layers/Precision</td><td>▁</td></tr><tr><td>GCNConvEdge-4Layers/Recall</td><td>▁</td></tr><tr><td>GCNConvEdge-4Layers/TrueNegatives</td><td>▁</td></tr><tr><td>GCNConvEdge-4Layers/TruePositives</td><td>▁</td></tr><tr><td>GCNConvEdge-4Layers/test_acc</td><td>▁▁▁▁▁▁▁▁▁▁▁▆▄▄▅▄▄▅▄▆▅▆▅▅▆▅▆▅▅█▅▅▄▅▅▅▆▅▆▆</td></tr><tr><td>GCNConvEdge-4Layers/train_acc</td><td>▁▁▁▁▁▁▁▁▁▁▄▄▄▅▆▆▆▄▄▆▅▅▅▅▅▅▆▅▅▅▅█▄▅▄▅▆▄▅▅</td></tr></table><br/></div><div class=\"wandb-col\"><h3>Run summary:</h3><br/><table class=\"wandb\"><tr><td>GCNConvEdge-4Layers/Accuracy</td><td>0.93577</td></tr><tr><td>GCNConvEdge-4Layers/F1-score</td><td>0.57971</td></tr><tr><td>GCNConvEdge-4Layers/FalseNegatives</td><td>47</td></tr><tr><td>GCNConvEdge-4Layers/FalsePositives</td><td>11</td></tr><tr><td>GCNConvEdge-4Layers/Precision</td><td>0.78431</td></tr><tr><td>GCNConvEdge-4Layers/Recall</td><td>0.45977</td></tr><tr><td>GCNConvEdge-4Layers/TrueNegatives</td><td>805</td></tr><tr><td>GCNConvEdge-4Layers/TruePositives</td><td>40</td></tr><tr><td>GCNConvEdge-4Layers/test_acc</td><td>0.93577</td></tr><tr><td>GCNConvEdge-4Layers/train_acc</td><td>0.93577</td></tr><tr><td>GCNConvEdge4Layers/FalsePositives</td><td>11</td></tr></table><br/></div></div>"
      ],
      "text/plain": [
       "<IPython.core.display.HTML object>"
      ]
     },
     "metadata": {},
     "output_type": "display_data"
    },
    {
     "data": {
      "text/html": [
       "You can sync this run to the cloud by running:<br><code>wandb sync E:\\THY\\EDC-AOP\\GNN\\wandb_runs\\wandb\\offline-run-20250812_001604-qvozpzxf<code>"
      ],
      "text/plain": [
       "<IPython.core.display.HTML object>"
      ]
     },
     "metadata": {},
     "output_type": "display_data"
    },
    {
     "data": {
      "text/html": [
       "Find logs at: <code>E:\\THY\\EDC-AOP\\GNN\\wandb_runs\\wandb\\offline-run-20250812_001604-qvozpzxf\\logs</code>"
      ],
      "text/plain": [
       "<IPython.core.display.HTML object>"
      ]
     },
     "metadata": {},
     "output_type": "display_data"
    },
    {
     "name": "stderr",
     "output_type": "stream",
     "text": [
      "\u001b[34m\u001b[1mwandb\u001b[0m: Sweep Agent: Waiting for job.\n",
      "\u001b[34m\u001b[1mwandb\u001b[0m: Job received.\n",
      "\u001b[34m\u001b[1mwandb\u001b[0m: Agent Starting Run: whzmyhto with config:\n",
      "\u001b[34m\u001b[1mwandb\u001b[0m: \tbatch_size: 300\n",
      "\u001b[34m\u001b[1mwandb\u001b[0m: \thidden_size1: 40\n",
      "\u001b[34m\u001b[1mwandb\u001b[0m: \thidden_size2: 60\n",
      "\u001b[34m\u001b[1mwandb\u001b[0m: \thidden_size3: 50\n",
      "\u001b[34m\u001b[1mwandb\u001b[0m: \tlr: 0.0008756647075625584\n",
      "\u001b[34m\u001b[1mwandb\u001b[0m: \tweight_decay: 0.0005074110087506592\n"
     ]
    },
    {
     "data": {
      "text/html": [
       "Tracking run with wandb version 0.20.1"
      ],
      "text/plain": [
       "<IPython.core.display.HTML object>"
      ]
     },
     "metadata": {},
     "output_type": "display_data"
    },
    {
     "data": {
      "text/html": [
       "W&B syncing is set to <code>`offline`<code> in this directory. Run <code>`wandb online`<code> or set <code>WANDB_MODE=online<code> to enable cloud syncing."
      ],
      "text/plain": [
       "<IPython.core.display.HTML object>"
      ]
     },
     "metadata": {},
     "output_type": "display_data"
    },
    {
     "name": "stderr",
     "output_type": "stream",
     "text": [
      "100%|██████████| 200/200 [03:52<00:00,  1.16s/it]\n"
     ]
    },
    {
     "data": {
      "text/html": [],
      "text/plain": [
       "<IPython.core.display.HTML object>"
      ]
     },
     "metadata": {},
     "output_type": "display_data"
    },
    {
     "data": {
      "text/html": [
       "<br>    <style><br>        .wandb-row {<br>            display: flex;<br>            flex-direction: row;<br>            flex-wrap: wrap;<br>            justify-content: flex-start;<br>            width: 100%;<br>        }<br>        .wandb-col {<br>            display: flex;<br>            flex-direction: column;<br>            flex-basis: 100%;<br>            flex: 1;<br>            padding: 10px;<br>        }<br>    </style><br><div class=\"wandb-row\"><div class=\"wandb-col\"><h3>Run history:</h3><br/><table class=\"wandb\"><tr><td>GCNConvEdge-4Layers/Accuracy</td><td>▁</td></tr><tr><td>GCNConvEdge-4Layers/F1-score</td><td>▁</td></tr><tr><td>GCNConvEdge-4Layers/FalseNegatives</td><td>▁</td></tr><tr><td>GCNConvEdge-4Layers/FalsePositives</td><td>▁</td></tr><tr><td>GCNConvEdge-4Layers/Precision</td><td>▁</td></tr><tr><td>GCNConvEdge-4Layers/Recall</td><td>▁</td></tr><tr><td>GCNConvEdge-4Layers/TrueNegatives</td><td>▁</td></tr><tr><td>GCNConvEdge-4Layers/TruePositives</td><td>▁</td></tr><tr><td>GCNConvEdge-4Layers/test_acc</td><td>▁▁▁▁▁▁▁▁▁▁▁▁▁▁▁▁▁▁▁▁▁▁▁▁▁▁▁▁▁▁▁▁▁▁█▁█▁█▃</td></tr><tr><td>GCNConvEdge-4Layers/train_acc</td><td>▁▁▁▁▁▁▁▁▁▁▁▁▁▁▁▁▁▁▁▁▁▁▁▁▁▁▁▁▁▁▁▁▁▁█▁▁▇▇▃</td></tr></table><br/></div><div class=\"wandb-col\"><h3>Run summary:</h3><br/><table class=\"wandb\"><tr><td>GCNConvEdge-4Layers/Accuracy</td><td>0.9103</td></tr><tr><td>GCNConvEdge-4Layers/F1-score</td><td>0.19802</td></tr><tr><td>GCNConvEdge-4Layers/FalseNegatives</td><td>77</td></tr><tr><td>GCNConvEdge-4Layers/FalsePositives</td><td>4</td></tr><tr><td>GCNConvEdge-4Layers/Precision</td><td>0.71429</td></tr><tr><td>GCNConvEdge-4Layers/Recall</td><td>0.11494</td></tr><tr><td>GCNConvEdge-4Layers/TrueNegatives</td><td>812</td></tr><tr><td>GCNConvEdge-4Layers/TruePositives</td><td>10</td></tr><tr><td>GCNConvEdge-4Layers/test_acc</td><td>0.9103</td></tr><tr><td>GCNConvEdge-4Layers/train_acc</td><td>0.9103</td></tr><tr><td>GCNConvEdge4Layers/FalsePositives</td><td>4</td></tr></table><br/></div></div>"
      ],
      "text/plain": [
       "<IPython.core.display.HTML object>"
      ]
     },
     "metadata": {},
     "output_type": "display_data"
    },
    {
     "data": {
      "text/html": [
       "You can sync this run to the cloud by running:<br><code>wandb sync E:\\THY\\EDC-AOP\\GNN\\wandb_runs\\wandb\\offline-run-20250812_002116-whzmyhto<code>"
      ],
      "text/plain": [
       "<IPython.core.display.HTML object>"
      ]
     },
     "metadata": {},
     "output_type": "display_data"
    },
    {
     "data": {
      "text/html": [
       "Find logs at: <code>E:\\THY\\EDC-AOP\\GNN\\wandb_runs\\wandb\\offline-run-20250812_002116-whzmyhto\\logs</code>"
      ],
      "text/plain": [
       "<IPython.core.display.HTML object>"
      ]
     },
     "metadata": {},
     "output_type": "display_data"
    },
    {
     "name": "stderr",
     "output_type": "stream",
     "text": [
      "\u001b[34m\u001b[1mwandb\u001b[0m: Agent Starting Run: xzeaeacm with config:\n",
      "\u001b[34m\u001b[1mwandb\u001b[0m: \tbatch_size: 100\n",
      "\u001b[34m\u001b[1mwandb\u001b[0m: \thidden_size1: 10\n",
      "\u001b[34m\u001b[1mwandb\u001b[0m: \thidden_size2: 100\n",
      "\u001b[34m\u001b[1mwandb\u001b[0m: \thidden_size3: 50\n",
      "\u001b[34m\u001b[1mwandb\u001b[0m: \tlr: 0.0009348430514871034\n",
      "\u001b[34m\u001b[1mwandb\u001b[0m: \tweight_decay: 0.0004892885044420883\n"
     ]
    },
    {
     "data": {
      "text/html": [
       "Tracking run with wandb version 0.20.1"
      ],
      "text/plain": [
       "<IPython.core.display.HTML object>"
      ]
     },
     "metadata": {},
     "output_type": "display_data"
    },
    {
     "data": {
      "text/html": [
       "W&B syncing is set to <code>`offline`<code> in this directory. Run <code>`wandb online`<code> or set <code>WANDB_MODE=online<code> to enable cloud syncing."
      ],
      "text/plain": [
       "<IPython.core.display.HTML object>"
      ]
     },
     "metadata": {},
     "output_type": "display_data"
    },
    {
     "name": "stderr",
     "output_type": "stream",
     "text": [
      "100%|██████████| 200/200 [04:22<00:00,  1.31s/it]\n"
     ]
    },
    {
     "data": {
      "text/html": [],
      "text/plain": [
       "<IPython.core.display.HTML object>"
      ]
     },
     "metadata": {},
     "output_type": "display_data"
    },
    {
     "data": {
      "text/html": [
       "<br>    <style><br>        .wandb-row {<br>            display: flex;<br>            flex-direction: row;<br>            flex-wrap: wrap;<br>            justify-content: flex-start;<br>            width: 100%;<br>        }<br>        .wandb-col {<br>            display: flex;<br>            flex-direction: column;<br>            flex-basis: 100%;<br>            flex: 1;<br>            padding: 10px;<br>        }<br>    </style><br><div class=\"wandb-row\"><div class=\"wandb-col\"><h3>Run history:</h3><br/><table class=\"wandb\"><tr><td>GCNConvEdge-4Layers/Accuracy</td><td>▁</td></tr><tr><td>GCNConvEdge-4Layers/F1-score</td><td>▁</td></tr><tr><td>GCNConvEdge-4Layers/FalseNegatives</td><td>▁</td></tr><tr><td>GCNConvEdge-4Layers/FalsePositives</td><td>▁</td></tr><tr><td>GCNConvEdge-4Layers/Precision</td><td>▁</td></tr><tr><td>GCNConvEdge-4Layers/Recall</td><td>▁</td></tr><tr><td>GCNConvEdge-4Layers/TrueNegatives</td><td>▁</td></tr><tr><td>GCNConvEdge-4Layers/TruePositives</td><td>▁</td></tr><tr><td>GCNConvEdge-4Layers/test_acc</td><td>▁▁▁▁▁▁▁▁▁▁▁▁▁▁▁▂██▇▇██▇███▇████▇▇███████</td></tr><tr><td>GCNConvEdge-4Layers/train_acc</td><td>▁▁▁▁▁▁▁▁▁▁▂█▂▅▅▅▇▅▅▆▆▆▆▆▆▆▆▆▆▅▆▆▆▆▆▆▆▆▆▆</td></tr></table><br/></div><div class=\"wandb-col\"><h3>Run summary:</h3><br/><table class=\"wandb\"><tr><td>GCNConvEdge-4Layers/Accuracy</td><td>0.94131</td></tr><tr><td>GCNConvEdge-4Layers/F1-score</td><td>0.64901</td></tr><tr><td>GCNConvEdge-4Layers/FalseNegatives</td><td>38</td></tr><tr><td>GCNConvEdge-4Layers/FalsePositives</td><td>15</td></tr><tr><td>GCNConvEdge-4Layers/Precision</td><td>0.76562</td></tr><tr><td>GCNConvEdge-4Layers/Recall</td><td>0.56322</td></tr><tr><td>GCNConvEdge-4Layers/TrueNegatives</td><td>801</td></tr><tr><td>GCNConvEdge-4Layers/TruePositives</td><td>49</td></tr><tr><td>GCNConvEdge-4Layers/test_acc</td><td>0.94131</td></tr><tr><td>GCNConvEdge-4Layers/train_acc</td><td>0.94131</td></tr><tr><td>GCNConvEdge4Layers/FalsePositives</td><td>15</td></tr></table><br/></div></div>"
      ],
      "text/plain": [
       "<IPython.core.display.HTML object>"
      ]
     },
     "metadata": {},
     "output_type": "display_data"
    },
    {
     "data": {
      "text/html": [
       "You can sync this run to the cloud by running:<br><code>wandb sync E:\\THY\\EDC-AOP\\GNN\\wandb_runs\\wandb\\offline-run-20250812_002513-xzeaeacm<code>"
      ],
      "text/plain": [
       "<IPython.core.display.HTML object>"
      ]
     },
     "metadata": {},
     "output_type": "display_data"
    },
    {
     "data": {
      "text/html": [
       "Find logs at: <code>E:\\THY\\EDC-AOP\\GNN\\wandb_runs\\wandb\\offline-run-20250812_002513-xzeaeacm\\logs</code>"
      ],
      "text/plain": [
       "<IPython.core.display.HTML object>"
      ]
     },
     "metadata": {},
     "output_type": "display_data"
    },
    {
     "name": "stderr",
     "output_type": "stream",
     "text": [
      "\u001b[34m\u001b[1mwandb\u001b[0m: Agent Starting Run: azyt2ldt with config:\n",
      "\u001b[34m\u001b[1mwandb\u001b[0m: \tbatch_size: 100\n",
      "\u001b[34m\u001b[1mwandb\u001b[0m: \thidden_size1: 20\n",
      "\u001b[34m\u001b[1mwandb\u001b[0m: \thidden_size2: 40\n",
      "\u001b[34m\u001b[1mwandb\u001b[0m: \thidden_size3: 80\n",
      "\u001b[34m\u001b[1mwandb\u001b[0m: \tlr: 0.0003362118909550924\n",
      "\u001b[34m\u001b[1mwandb\u001b[0m: \tweight_decay: 0.0004924992058672548\n"
     ]
    },
    {
     "data": {
      "text/html": [
       "Tracking run with wandb version 0.20.1"
      ],
      "text/plain": [
       "<IPython.core.display.HTML object>"
      ]
     },
     "metadata": {},
     "output_type": "display_data"
    },
    {
     "data": {
      "text/html": [
       "W&B syncing is set to <code>`offline`<code> in this directory. Run <code>`wandb online`<code> or set <code>WANDB_MODE=online<code> to enable cloud syncing."
      ],
      "text/plain": [
       "<IPython.core.display.HTML object>"
      ]
     },
     "metadata": {},
     "output_type": "display_data"
    },
    {
     "name": "stderr",
     "output_type": "stream",
     "text": [
      "100%|██████████| 200/200 [04:30<00:00,  1.35s/it]\n"
     ]
    },
    {
     "data": {
      "text/html": [],
      "text/plain": [
       "<IPython.core.display.HTML object>"
      ]
     },
     "metadata": {},
     "output_type": "display_data"
    },
    {
     "data": {
      "text/html": [
       "<br>    <style><br>        .wandb-row {<br>            display: flex;<br>            flex-direction: row;<br>            flex-wrap: wrap;<br>            justify-content: flex-start;<br>            width: 100%;<br>        }<br>        .wandb-col {<br>            display: flex;<br>            flex-direction: column;<br>            flex-basis: 100%;<br>            flex: 1;<br>            padding: 10px;<br>        }<br>    </style><br><div class=\"wandb-row\"><div class=\"wandb-col\"><h3>Run history:</h3><br/><table class=\"wandb\"><tr><td>GCNConvEdge-4Layers/Accuracy</td><td>▁</td></tr><tr><td>GCNConvEdge-4Layers/F1-score</td><td>▁</td></tr><tr><td>GCNConvEdge-4Layers/FalseNegatives</td><td>▁</td></tr><tr><td>GCNConvEdge-4Layers/FalsePositives</td><td>▁</td></tr><tr><td>GCNConvEdge-4Layers/Precision</td><td>▁</td></tr><tr><td>GCNConvEdge-4Layers/Recall</td><td>▁</td></tr><tr><td>GCNConvEdge-4Layers/TrueNegatives</td><td>▁</td></tr><tr><td>GCNConvEdge-4Layers/TruePositives</td><td>▁</td></tr><tr><td>GCNConvEdge-4Layers/test_acc</td><td>▁▁▁▁▁▁▁▁▁▁▁▁▁▁▁▁▁▁▁▃▃▇▇▇▇▇▇▇▇▇▇▇▇▇▇█▇▇▇▇</td></tr><tr><td>GCNConvEdge-4Layers/train_acc</td><td>▁▁▁▁▁▁▁▁▁▁▁▁▁▁▁▁▃█▃█████████████████████</td></tr></table><br/></div><div class=\"wandb-col\"><h3>Run summary:</h3><br/><table class=\"wandb\"><tr><td>GCNConvEdge-4Layers/Accuracy</td><td>0.93023</td></tr><tr><td>GCNConvEdge-4Layers/F1-score</td><td>0.53333</td></tr><tr><td>GCNConvEdge-4Layers/FalseNegatives</td><td>51</td></tr><tr><td>GCNConvEdge-4Layers/FalsePositives</td><td>12</td></tr><tr><td>GCNConvEdge-4Layers/Precision</td><td>0.75</td></tr><tr><td>GCNConvEdge-4Layers/Recall</td><td>0.41379</td></tr><tr><td>GCNConvEdge-4Layers/TrueNegatives</td><td>804</td></tr><tr><td>GCNConvEdge-4Layers/TruePositives</td><td>36</td></tr><tr><td>GCNConvEdge-4Layers/test_acc</td><td>0.93023</td></tr><tr><td>GCNConvEdge-4Layers/train_acc</td><td>0.93023</td></tr><tr><td>GCNConvEdge4Layers/FalsePositives</td><td>12</td></tr></table><br/></div></div>"
      ],
      "text/plain": [
       "<IPython.core.display.HTML object>"
      ]
     },
     "metadata": {},
     "output_type": "display_data"
    },
    {
     "data": {
      "text/html": [
       "You can sync this run to the cloud by running:<br><code>wandb sync E:\\THY\\EDC-AOP\\GNN\\wandb_runs\\wandb\\offline-run-20250812_002941-azyt2ldt<code>"
      ],
      "text/plain": [
       "<IPython.core.display.HTML object>"
      ]
     },
     "metadata": {},
     "output_type": "display_data"
    },
    {
     "data": {
      "text/html": [
       "Find logs at: <code>E:\\THY\\EDC-AOP\\GNN\\wandb_runs\\wandb\\offline-run-20250812_002941-azyt2ldt\\logs</code>"
      ],
      "text/plain": [
       "<IPython.core.display.HTML object>"
      ]
     },
     "metadata": {},
     "output_type": "display_data"
    },
    {
     "name": "stderr",
     "output_type": "stream",
     "text": [
      "\u001b[34m\u001b[1mwandb\u001b[0m: Agent Starting Run: t7m1ebtm with config:\n",
      "\u001b[34m\u001b[1mwandb\u001b[0m: \tbatch_size: 50\n",
      "\u001b[34m\u001b[1mwandb\u001b[0m: \thidden_size1: 40\n",
      "\u001b[34m\u001b[1mwandb\u001b[0m: \thidden_size2: 40\n",
      "\u001b[34m\u001b[1mwandb\u001b[0m: \thidden_size3: 50\n",
      "\u001b[34m\u001b[1mwandb\u001b[0m: \tlr: 0.00018788493463005836\n",
      "\u001b[34m\u001b[1mwandb\u001b[0m: \tweight_decay: 0.0005070537872299033\n"
     ]
    },
    {
     "data": {
      "text/html": [
       "Tracking run with wandb version 0.20.1"
      ],
      "text/plain": [
       "<IPython.core.display.HTML object>"
      ]
     },
     "metadata": {},
     "output_type": "display_data"
    },
    {
     "data": {
      "text/html": [
       "W&B syncing is set to <code>`offline`<code> in this directory. Run <code>`wandb online`<code> or set <code>WANDB_MODE=online<code> to enable cloud syncing."
      ],
      "text/plain": [
       "<IPython.core.display.HTML object>"
      ]
     },
     "metadata": {},
     "output_type": "display_data"
    },
    {
     "name": "stderr",
     "output_type": "stream",
     "text": [
      "100%|██████████| 200/200 [05:11<00:00,  1.56s/it]\n"
     ]
    },
    {
     "data": {
      "text/html": [],
      "text/plain": [
       "<IPython.core.display.HTML object>"
      ]
     },
     "metadata": {},
     "output_type": "display_data"
    },
    {
     "data": {
      "text/html": [
       "<br>    <style><br>        .wandb-row {<br>            display: flex;<br>            flex-direction: row;<br>            flex-wrap: wrap;<br>            justify-content: flex-start;<br>            width: 100%;<br>        }<br>        .wandb-col {<br>            display: flex;<br>            flex-direction: column;<br>            flex-basis: 100%;<br>            flex: 1;<br>            padding: 10px;<br>        }<br>    </style><br><div class=\"wandb-row\"><div class=\"wandb-col\"><h3>Run history:</h3><br/><table class=\"wandb\"><tr><td>GCNConvEdge-4Layers/Accuracy</td><td>▁</td></tr><tr><td>GCNConvEdge-4Layers/F1-score</td><td>▁</td></tr><tr><td>GCNConvEdge-4Layers/FalseNegatives</td><td>▁</td></tr><tr><td>GCNConvEdge-4Layers/FalsePositives</td><td>▁</td></tr><tr><td>GCNConvEdge-4Layers/Precision</td><td>▁</td></tr><tr><td>GCNConvEdge-4Layers/Recall</td><td>▁</td></tr><tr><td>GCNConvEdge-4Layers/TrueNegatives</td><td>▁</td></tr><tr><td>GCNConvEdge-4Layers/TruePositives</td><td>▁</td></tr><tr><td>GCNConvEdge-4Layers/test_acc</td><td>▁▁▁▁▁▁▁▁▁▁▁▁▁▁▁▁▂▅▃▆▆▆▆▆▆▆▆▆█▆▆▆▆▆▇▆▆▇▆▆</td></tr><tr><td>GCNConvEdge-4Layers/train_acc</td><td>▁▁▁▁▁▁▁▁▁▁▁▂▂▅▃▅▆▆▆▆▆▆▆▆█▆▆▆▆▆▇▆▆▆▆▆▆▆▆▆</td></tr></table><br/></div><div class=\"wandb-col\"><h3>Run summary:</h3><br/><table class=\"wandb\"><tr><td>GCNConvEdge-4Layers/Accuracy</td><td>0.93466</td></tr><tr><td>GCNConvEdge-4Layers/F1-score</td><td>0.58156</td></tr><tr><td>GCNConvEdge-4Layers/FalseNegatives</td><td>46</td></tr><tr><td>GCNConvEdge-4Layers/FalsePositives</td><td>13</td></tr><tr><td>GCNConvEdge-4Layers/Precision</td><td>0.75926</td></tr><tr><td>GCNConvEdge-4Layers/Recall</td><td>0.47126</td></tr><tr><td>GCNConvEdge-4Layers/TrueNegatives</td><td>803</td></tr><tr><td>GCNConvEdge-4Layers/TruePositives</td><td>41</td></tr><tr><td>GCNConvEdge-4Layers/test_acc</td><td>0.93466</td></tr><tr><td>GCNConvEdge-4Layers/train_acc</td><td>0.93466</td></tr><tr><td>GCNConvEdge4Layers/FalsePositives</td><td>13</td></tr></table><br/></div></div>"
      ],
      "text/plain": [
       "<IPython.core.display.HTML object>"
      ]
     },
     "metadata": {},
     "output_type": "display_data"
    },
    {
     "data": {
      "text/html": [
       "You can sync this run to the cloud by running:<br><code>wandb sync E:\\THY\\EDC-AOP\\GNN\\wandb_runs\\wandb\\offline-run-20250812_003417-t7m1ebtm<code>"
      ],
      "text/plain": [
       "<IPython.core.display.HTML object>"
      ]
     },
     "metadata": {},
     "output_type": "display_data"
    },
    {
     "data": {
      "text/html": [
       "Find logs at: <code>E:\\THY\\EDC-AOP\\GNN\\wandb_runs\\wandb\\offline-run-20250812_003417-t7m1ebtm\\logs</code>"
      ],
      "text/plain": [
       "<IPython.core.display.HTML object>"
      ]
     },
     "metadata": {},
     "output_type": "display_data"
    },
    {
     "name": "stderr",
     "output_type": "stream",
     "text": [
      "\u001b[34m\u001b[1mwandb\u001b[0m: Sweep Agent: Waiting for job.\n",
      "\u001b[34m\u001b[1mwandb\u001b[0m: Job received.\n",
      "\u001b[34m\u001b[1mwandb\u001b[0m: Agent Starting Run: rru00m7x with config:\n",
      "\u001b[34m\u001b[1mwandb\u001b[0m: \tbatch_size: 20\n",
      "\u001b[34m\u001b[1mwandb\u001b[0m: \thidden_size1: 100\n",
      "\u001b[34m\u001b[1mwandb\u001b[0m: \thidden_size2: 30\n",
      "\u001b[34m\u001b[1mwandb\u001b[0m: \thidden_size3: 60\n",
      "\u001b[34m\u001b[1mwandb\u001b[0m: \tlr: 0.00015860706894202075\n",
      "\u001b[34m\u001b[1mwandb\u001b[0m: \tweight_decay: 0.0004961135644887283\n"
     ]
    },
    {
     "data": {
      "text/html": [
       "Tracking run with wandb version 0.20.1"
      ],
      "text/plain": [
       "<IPython.core.display.HTML object>"
      ]
     },
     "metadata": {},
     "output_type": "display_data"
    },
    {
     "data": {
      "text/html": [
       "W&B syncing is set to <code>`offline`<code> in this directory. Run <code>`wandb online`<code> or set <code>WANDB_MODE=online<code> to enable cloud syncing."
      ],
      "text/plain": [
       "<IPython.core.display.HTML object>"
      ]
     },
     "metadata": {},
     "output_type": "display_data"
    },
    {
     "name": "stderr",
     "output_type": "stream",
     "text": [
      "100%|██████████| 200/200 [06:08<00:00,  1.84s/it]\n"
     ]
    },
    {
     "data": {
      "text/html": [],
      "text/plain": [
       "<IPython.core.display.HTML object>"
      ]
     },
     "metadata": {},
     "output_type": "display_data"
    },
    {
     "data": {
      "text/html": [
       "<br>    <style><br>        .wandb-row {<br>            display: flex;<br>            flex-direction: row;<br>            flex-wrap: wrap;<br>            justify-content: flex-start;<br>            width: 100%;<br>        }<br>        .wandb-col {<br>            display: flex;<br>            flex-direction: column;<br>            flex-basis: 100%;<br>            flex: 1;<br>            padding: 10px;<br>        }<br>    </style><br><div class=\"wandb-row\"><div class=\"wandb-col\"><h3>Run history:</h3><br/><table class=\"wandb\"><tr><td>GCNConvEdge-4Layers/Accuracy</td><td>▁</td></tr><tr><td>GCNConvEdge-4Layers/F1-score</td><td>▁</td></tr><tr><td>GCNConvEdge-4Layers/FalseNegatives</td><td>▁</td></tr><tr><td>GCNConvEdge-4Layers/FalsePositives</td><td>▁</td></tr><tr><td>GCNConvEdge-4Layers/Precision</td><td>▁</td></tr><tr><td>GCNConvEdge-4Layers/Recall</td><td>▁</td></tr><tr><td>GCNConvEdge-4Layers/TrueNegatives</td><td>▁</td></tr><tr><td>GCNConvEdge-4Layers/TruePositives</td><td>▁</td></tr><tr><td>GCNConvEdge-4Layers/test_acc</td><td>▁▁▁▁▂▆▆▃▆▆▆▇▆██▆▅▅▆▆▆▆▇▇▆█▆▆▆▆▆▆█▆▆▆▆▆▆▆</td></tr><tr><td>GCNConvEdge-4Layers/train_acc</td><td>▁▁▁▁▁▁▁▁▁▁▄▄▂▂▄▄▄▅▆▆▄▆▄▄▅▆▅▆▅▅▅▅▅▅▅▅▅▅█▅</td></tr></table><br/></div><div class=\"wandb-col\"><h3>Run summary:</h3><br/><table class=\"wandb\"><tr><td>GCNConvEdge-4Layers/Accuracy</td><td>0.93466</td></tr><tr><td>GCNConvEdge-4Layers/F1-score</td><td>0.56934</td></tr><tr><td>GCNConvEdge-4Layers/FalseNegatives</td><td>48</td></tr><tr><td>GCNConvEdge-4Layers/FalsePositives</td><td>11</td></tr><tr><td>GCNConvEdge-4Layers/Precision</td><td>0.78</td></tr><tr><td>GCNConvEdge-4Layers/Recall</td><td>0.44828</td></tr><tr><td>GCNConvEdge-4Layers/TrueNegatives</td><td>805</td></tr><tr><td>GCNConvEdge-4Layers/TruePositives</td><td>39</td></tr><tr><td>GCNConvEdge-4Layers/test_acc</td><td>0.93466</td></tr><tr><td>GCNConvEdge-4Layers/train_acc</td><td>0.93466</td></tr><tr><td>GCNConvEdge4Layers/FalsePositives</td><td>11</td></tr></table><br/></div></div>"
      ],
      "text/plain": [
       "<IPython.core.display.HTML object>"
      ]
     },
     "metadata": {},
     "output_type": "display_data"
    },
    {
     "data": {
      "text/html": [
       "You can sync this run to the cloud by running:<br><code>wandb sync E:\\THY\\EDC-AOP\\GNN\\wandb_runs\\wandb\\offline-run-20250812_003941-rru00m7x<code>"
      ],
      "text/plain": [
       "<IPython.core.display.HTML object>"
      ]
     },
     "metadata": {},
     "output_type": "display_data"
    },
    {
     "data": {
      "text/html": [
       "Find logs at: <code>E:\\THY\\EDC-AOP\\GNN\\wandb_runs\\wandb\\offline-run-20250812_003941-rru00m7x\\logs</code>"
      ],
      "text/plain": [
       "<IPython.core.display.HTML object>"
      ]
     },
     "metadata": {},
     "output_type": "display_data"
    },
    {
     "name": "stderr",
     "output_type": "stream",
     "text": [
      "\u001b[34m\u001b[1mwandb\u001b[0m: Agent Starting Run: sieu5a72 with config:\n",
      "\u001b[34m\u001b[1mwandb\u001b[0m: \tbatch_size: 300\n",
      "\u001b[34m\u001b[1mwandb\u001b[0m: \thidden_size1: 80\n",
      "\u001b[34m\u001b[1mwandb\u001b[0m: \thidden_size2: 20\n",
      "\u001b[34m\u001b[1mwandb\u001b[0m: \thidden_size3: 100\n",
      "\u001b[34m\u001b[1mwandb\u001b[0m: \tlr: 0.00035861176841281395\n",
      "\u001b[34m\u001b[1mwandb\u001b[0m: \tweight_decay: 0.0004980151620223444\n"
     ]
    },
    {
     "data": {
      "text/html": [
       "Tracking run with wandb version 0.20.1"
      ],
      "text/plain": [
       "<IPython.core.display.HTML object>"
      ]
     },
     "metadata": {},
     "output_type": "display_data"
    },
    {
     "data": {
      "text/html": [
       "W&B syncing is set to <code>`offline`<code> in this directory. Run <code>`wandb online`<code> or set <code>WANDB_MODE=online<code> to enable cloud syncing."
      ],
      "text/plain": [
       "<IPython.core.display.HTML object>"
      ]
     },
     "metadata": {},
     "output_type": "display_data"
    },
    {
     "name": "stderr",
     "output_type": "stream",
     "text": [
      "100%|██████████| 200/200 [04:02<00:00,  1.21s/it]\n"
     ]
    },
    {
     "data": {
      "text/html": [],
      "text/plain": [
       "<IPython.core.display.HTML object>"
      ]
     },
     "metadata": {},
     "output_type": "display_data"
    },
    {
     "data": {
      "text/html": [
       "<br>    <style><br>        .wandb-row {<br>            display: flex;<br>            flex-direction: row;<br>            flex-wrap: wrap;<br>            justify-content: flex-start;<br>            width: 100%;<br>        }<br>        .wandb-col {<br>            display: flex;<br>            flex-direction: column;<br>            flex-basis: 100%;<br>            flex: 1;<br>            padding: 10px;<br>        }<br>    </style><br><div class=\"wandb-row\"><div class=\"wandb-col\"><h3>Run history:</h3><br/><table class=\"wandb\"><tr><td>GCNConvEdge-4Layers/Accuracy</td><td>▁</td></tr><tr><td>GCNConvEdge-4Layers/F1-score</td><td>▁</td></tr><tr><td>GCNConvEdge-4Layers/FalseNegatives</td><td>▁</td></tr><tr><td>GCNConvEdge-4Layers/FalsePositives</td><td>▁</td></tr><tr><td>GCNConvEdge-4Layers/Precision</td><td>▁</td></tr><tr><td>GCNConvEdge-4Layers/Recall</td><td>▁</td></tr><tr><td>GCNConvEdge-4Layers/TrueNegatives</td><td>▁</td></tr><tr><td>GCNConvEdge-4Layers/TruePositives</td><td>▁</td></tr><tr><td>GCNConvEdge-4Layers/test_acc</td><td>▁▁▁▁▁▁▁▁▁▁▁▁▁▁▁▁▁▁▁▁▁▁▁▁▁▁▁▁▁▁▁▁▁▁▁▁▁▁▁▁</td></tr><tr><td>GCNConvEdge-4Layers/train_acc</td><td>▁▁▁▁▁▁▁▁▁▁▁▁▁▁▁▁▁▁▁▁▁▁▁▁▁▁▁▁▁▁▁▁▁▁▁▁▁▁▁▁</td></tr></table><br/></div><div class=\"wandb-col\"><h3>Run summary:</h3><br/><table class=\"wandb\"><tr><td>GCNConvEdge-4Layers/Accuracy</td><td>0.90365</td></tr><tr><td>GCNConvEdge-4Layers/F1-score</td><td>0</td></tr><tr><td>GCNConvEdge-4Layers/FalseNegatives</td><td>87</td></tr><tr><td>GCNConvEdge-4Layers/FalsePositives</td><td>0</td></tr><tr><td>GCNConvEdge-4Layers/Precision</td><td>0</td></tr><tr><td>GCNConvEdge-4Layers/Recall</td><td>0</td></tr><tr><td>GCNConvEdge-4Layers/TrueNegatives</td><td>816</td></tr><tr><td>GCNConvEdge-4Layers/TruePositives</td><td>0</td></tr><tr><td>GCNConvEdge-4Layers/test_acc</td><td>0.90365</td></tr><tr><td>GCNConvEdge-4Layers/train_acc</td><td>0.90365</td></tr><tr><td>GCNConvEdge4Layers/FalsePositives</td><td>0</td></tr></table><br/></div></div>"
      ],
      "text/plain": [
       "<IPython.core.display.HTML object>"
      ]
     },
     "metadata": {},
     "output_type": "display_data"
    },
    {
     "data": {
      "text/html": [
       "You can sync this run to the cloud by running:<br><code>wandb sync E:\\THY\\EDC-AOP\\GNN\\wandb_runs\\wandb\\offline-run-20250812_004555-sieu5a72<code>"
      ],
      "text/plain": [
       "<IPython.core.display.HTML object>"
      ]
     },
     "metadata": {},
     "output_type": "display_data"
    },
    {
     "data": {
      "text/html": [
       "Find logs at: <code>E:\\THY\\EDC-AOP\\GNN\\wandb_runs\\wandb\\offline-run-20250812_004555-sieu5a72\\logs</code>"
      ],
      "text/plain": [
       "<IPython.core.display.HTML object>"
      ]
     },
     "metadata": {},
     "output_type": "display_data"
    },
    {
     "name": "stderr",
     "output_type": "stream",
     "text": [
      "\u001b[34m\u001b[1mwandb\u001b[0m: Agent Starting Run: ok7e2zu2 with config:\n",
      "\u001b[34m\u001b[1mwandb\u001b[0m: \tbatch_size: 50\n",
      "\u001b[34m\u001b[1mwandb\u001b[0m: \thidden_size1: 40\n",
      "\u001b[34m\u001b[1mwandb\u001b[0m: \thidden_size2: 50\n",
      "\u001b[34m\u001b[1mwandb\u001b[0m: \thidden_size3: 60\n",
      "\u001b[34m\u001b[1mwandb\u001b[0m: \tlr: 0.0005901134772109808\n",
      "\u001b[34m\u001b[1mwandb\u001b[0m: \tweight_decay: 0.00048847738760025\n"
     ]
    },
    {
     "data": {
      "text/html": [
       "Tracking run with wandb version 0.20.1"
      ],
      "text/plain": [
       "<IPython.core.display.HTML object>"
      ]
     },
     "metadata": {},
     "output_type": "display_data"
    },
    {
     "data": {
      "text/html": [
       "W&B syncing is set to <code>`offline`<code> in this directory. Run <code>`wandb online`<code> or set <code>WANDB_MODE=online<code> to enable cloud syncing."
      ],
      "text/plain": [
       "<IPython.core.display.HTML object>"
      ]
     },
     "metadata": {},
     "output_type": "display_data"
    },
    {
     "name": "stderr",
     "output_type": "stream",
     "text": [
      "100%|██████████| 200/200 [05:13<00:00,  1.57s/it]\n"
     ]
    },
    {
     "data": {
      "text/html": [],
      "text/plain": [
       "<IPython.core.display.HTML object>"
      ]
     },
     "metadata": {},
     "output_type": "display_data"
    },
    {
     "data": {
      "text/html": [
       "<br>    <style><br>        .wandb-row {<br>            display: flex;<br>            flex-direction: row;<br>            flex-wrap: wrap;<br>            justify-content: flex-start;<br>            width: 100%;<br>        }<br>        .wandb-col {<br>            display: flex;<br>            flex-direction: column;<br>            flex-basis: 100%;<br>            flex: 1;<br>            padding: 10px;<br>        }<br>    </style><br><div class=\"wandb-row\"><div class=\"wandb-col\"><h3>Run history:</h3><br/><table class=\"wandb\"><tr><td>GCNConvEdge-4Layers/Accuracy</td><td>▁</td></tr><tr><td>GCNConvEdge-4Layers/F1-score</td><td>▁</td></tr><tr><td>GCNConvEdge-4Layers/FalseNegatives</td><td>▁</td></tr><tr><td>GCNConvEdge-4Layers/FalsePositives</td><td>▁</td></tr><tr><td>GCNConvEdge-4Layers/Precision</td><td>▁</td></tr><tr><td>GCNConvEdge-4Layers/Recall</td><td>▁</td></tr><tr><td>GCNConvEdge-4Layers/TrueNegatives</td><td>▁</td></tr><tr><td>GCNConvEdge-4Layers/TruePositives</td><td>▁</td></tr><tr><td>GCNConvEdge-4Layers/test_acc</td><td>▁▁▁▁▁▄▄▅▅▄▂▄▆▆▄▅▅▅▆▅█▅▅▆▅▅▆▆▄▆▅▅▆▅▆▅▆▅▅▆</td></tr><tr><td>GCNConvEdge-4Layers/train_acc</td><td>▁▁▁▁▁▁▁▄▅▄▅▅▅▆▅▅▅▅▆▆▅▆▅▅█▅▅▅▅▆▅▅▅▅▅▆▅▆▅▅</td></tr></table><br/></div><div class=\"wandb-col\"><h3>Run summary:</h3><br/><table class=\"wandb\"><tr><td>GCNConvEdge-4Layers/Accuracy</td><td>0.93466</td></tr><tr><td>GCNConvEdge-4Layers/F1-score</td><td>0.58156</td></tr><tr><td>GCNConvEdge-4Layers/FalseNegatives</td><td>46</td></tr><tr><td>GCNConvEdge-4Layers/FalsePositives</td><td>13</td></tr><tr><td>GCNConvEdge-4Layers/Precision</td><td>0.75926</td></tr><tr><td>GCNConvEdge-4Layers/Recall</td><td>0.47126</td></tr><tr><td>GCNConvEdge-4Layers/TrueNegatives</td><td>803</td></tr><tr><td>GCNConvEdge-4Layers/TruePositives</td><td>41</td></tr><tr><td>GCNConvEdge-4Layers/test_acc</td><td>0.93466</td></tr><tr><td>GCNConvEdge-4Layers/train_acc</td><td>0.93466</td></tr><tr><td>GCNConvEdge4Layers/FalsePositives</td><td>13</td></tr></table><br/></div></div>"
      ],
      "text/plain": [
       "<IPython.core.display.HTML object>"
      ]
     },
     "metadata": {},
     "output_type": "display_data"
    },
    {
     "data": {
      "text/html": [
       "You can sync this run to the cloud by running:<br><code>wandb sync E:\\THY\\EDC-AOP\\GNN\\wandb_runs\\wandb\\offline-run-20250812_005002-ok7e2zu2<code>"
      ],
      "text/plain": [
       "<IPython.core.display.HTML object>"
      ]
     },
     "metadata": {},
     "output_type": "display_data"
    },
    {
     "data": {
      "text/html": [
       "Find logs at: <code>E:\\THY\\EDC-AOP\\GNN\\wandb_runs\\wandb\\offline-run-20250812_005002-ok7e2zu2\\logs</code>"
      ],
      "text/plain": [
       "<IPython.core.display.HTML object>"
      ]
     },
     "metadata": {},
     "output_type": "display_data"
    },
    {
     "name": "stderr",
     "output_type": "stream",
     "text": [
      "\u001b[34m\u001b[1mwandb\u001b[0m: Agent Starting Run: q1991kpf with config:\n",
      "\u001b[34m\u001b[1mwandb\u001b[0m: \tbatch_size: 50\n",
      "\u001b[34m\u001b[1mwandb\u001b[0m: \thidden_size1: 20\n",
      "\u001b[34m\u001b[1mwandb\u001b[0m: \thidden_size2: 30\n",
      "\u001b[34m\u001b[1mwandb\u001b[0m: \thidden_size3: 40\n",
      "\u001b[34m\u001b[1mwandb\u001b[0m: \tlr: 0.0003149235655135774\n",
      "\u001b[34m\u001b[1mwandb\u001b[0m: \tweight_decay: 0.0004993432046158795\n"
     ]
    },
    {
     "data": {
      "text/html": [
       "Tracking run with wandb version 0.20.1"
      ],
      "text/plain": [
       "<IPython.core.display.HTML object>"
      ]
     },
     "metadata": {},
     "output_type": "display_data"
    },
    {
     "data": {
      "text/html": [
       "W&B syncing is set to <code>`offline`<code> in this directory. Run <code>`wandb online`<code> or set <code>WANDB_MODE=online<code> to enable cloud syncing."
      ],
      "text/plain": [
       "<IPython.core.display.HTML object>"
      ]
     },
     "metadata": {},
     "output_type": "display_data"
    },
    {
     "name": "stderr",
     "output_type": "stream",
     "text": [
      "100%|██████████| 200/200 [04:55<00:00,  1.48s/it]\n"
     ]
    },
    {
     "data": {
      "text/html": [],
      "text/plain": [
       "<IPython.core.display.HTML object>"
      ]
     },
     "metadata": {},
     "output_type": "display_data"
    },
    {
     "data": {
      "text/html": [
       "<br>    <style><br>        .wandb-row {<br>            display: flex;<br>            flex-direction: row;<br>            flex-wrap: wrap;<br>            justify-content: flex-start;<br>            width: 100%;<br>        }<br>        .wandb-col {<br>            display: flex;<br>            flex-direction: column;<br>            flex-basis: 100%;<br>            flex: 1;<br>            padding: 10px;<br>        }<br>    </style><br><div class=\"wandb-row\"><div class=\"wandb-col\"><h3>Run history:</h3><br/><table class=\"wandb\"><tr><td>GCNConvEdge-4Layers/Accuracy</td><td>▁</td></tr><tr><td>GCNConvEdge-4Layers/F1-score</td><td>▁</td></tr><tr><td>GCNConvEdge-4Layers/FalseNegatives</td><td>▁</td></tr><tr><td>GCNConvEdge-4Layers/FalsePositives</td><td>▁</td></tr><tr><td>GCNConvEdge-4Layers/Precision</td><td>▁</td></tr><tr><td>GCNConvEdge-4Layers/Recall</td><td>▁</td></tr><tr><td>GCNConvEdge-4Layers/TrueNegatives</td><td>▁</td></tr><tr><td>GCNConvEdge-4Layers/TruePositives</td><td>▁</td></tr><tr><td>GCNConvEdge-4Layers/test_acc</td><td>▁▁▁▁▁▁▁▁▁▁▁▁▁▁▂▇▇▇▇▇▇▇▇▇▇▇██▇███▇▇▇▇▇▇▇█</td></tr><tr><td>GCNConvEdge-4Layers/train_acc</td><td>▁▁▁▁▁▁▁▁▁▁▁▁▁▁▁▇▇▇▇▇▇▂▇▇▇▇▇▇▇▇▇▇█▇██▇▇▇▇</td></tr></table><br/></div><div class=\"wandb-col\"><h3>Run summary:</h3><br/><table class=\"wandb\"><tr><td>GCNConvEdge-4Layers/Accuracy</td><td>0.93023</td></tr><tr><td>GCNConvEdge-4Layers/F1-score</td><td>0.53333</td></tr><tr><td>GCNConvEdge-4Layers/FalseNegatives</td><td>51</td></tr><tr><td>GCNConvEdge-4Layers/FalsePositives</td><td>12</td></tr><tr><td>GCNConvEdge-4Layers/Precision</td><td>0.75</td></tr><tr><td>GCNConvEdge-4Layers/Recall</td><td>0.41379</td></tr><tr><td>GCNConvEdge-4Layers/TrueNegatives</td><td>804</td></tr><tr><td>GCNConvEdge-4Layers/TruePositives</td><td>36</td></tr><tr><td>GCNConvEdge-4Layers/test_acc</td><td>0.93023</td></tr><tr><td>GCNConvEdge-4Layers/train_acc</td><td>0.93023</td></tr><tr><td>GCNConvEdge4Layers/FalsePositives</td><td>12</td></tr></table><br/></div></div>"
      ],
      "text/plain": [
       "<IPython.core.display.HTML object>"
      ]
     },
     "metadata": {},
     "output_type": "display_data"
    },
    {
     "data": {
      "text/html": [
       "You can sync this run to the cloud by running:<br><code>wandb sync E:\\THY\\EDC-AOP\\GNN\\wandb_runs\\wandb\\offline-run-20250812_005521-q1991kpf<code>"
      ],
      "text/plain": [
       "<IPython.core.display.HTML object>"
      ]
     },
     "metadata": {},
     "output_type": "display_data"
    },
    {
     "data": {
      "text/html": [
       "Find logs at: <code>E:\\THY\\EDC-AOP\\GNN\\wandb_runs\\wandb\\offline-run-20250812_005521-q1991kpf\\logs</code>"
      ],
      "text/plain": [
       "<IPython.core.display.HTML object>"
      ]
     },
     "metadata": {},
     "output_type": "display_data"
    },
    {
     "name": "stderr",
     "output_type": "stream",
     "text": [
      "\u001b[34m\u001b[1mwandb\u001b[0m: Agent Starting Run: gnog15iv with config:\n",
      "\u001b[34m\u001b[1mwandb\u001b[0m: \tbatch_size: 50\n",
      "\u001b[34m\u001b[1mwandb\u001b[0m: \thidden_size1: 50\n",
      "\u001b[34m\u001b[1mwandb\u001b[0m: \thidden_size2: 20\n",
      "\u001b[34m\u001b[1mwandb\u001b[0m: \thidden_size3: 60\n",
      "\u001b[34m\u001b[1mwandb\u001b[0m: \tlr: 0.0005026646426829573\n",
      "\u001b[34m\u001b[1mwandb\u001b[0m: \tweight_decay: 0.0005105643375425622\n"
     ]
    },
    {
     "data": {
      "text/html": [
       "Tracking run with wandb version 0.20.1"
      ],
      "text/plain": [
       "<IPython.core.display.HTML object>"
      ]
     },
     "metadata": {},
     "output_type": "display_data"
    },
    {
     "data": {
      "text/html": [
       "W&B syncing is set to <code>`offline`<code> in this directory. Run <code>`wandb online`<code> or set <code>WANDB_MODE=online<code> to enable cloud syncing."
      ],
      "text/plain": [
       "<IPython.core.display.HTML object>"
      ]
     },
     "metadata": {},
     "output_type": "display_data"
    },
    {
     "name": "stderr",
     "output_type": "stream",
     "text": [
      "100%|██████████| 200/200 [05:04<00:00,  1.52s/it]\n"
     ]
    },
    {
     "data": {
      "text/html": [],
      "text/plain": [
       "<IPython.core.display.HTML object>"
      ]
     },
     "metadata": {},
     "output_type": "display_data"
    },
    {
     "data": {
      "text/html": [
       "<br>    <style><br>        .wandb-row {<br>            display: flex;<br>            flex-direction: row;<br>            flex-wrap: wrap;<br>            justify-content: flex-start;<br>            width: 100%;<br>        }<br>        .wandb-col {<br>            display: flex;<br>            flex-direction: column;<br>            flex-basis: 100%;<br>            flex: 1;<br>            padding: 10px;<br>        }<br>    </style><br><div class=\"wandb-row\"><div class=\"wandb-col\"><h3>Run history:</h3><br/><table class=\"wandb\"><tr><td>GCNConvEdge-4Layers/Accuracy</td><td>▁</td></tr><tr><td>GCNConvEdge-4Layers/F1-score</td><td>▁</td></tr><tr><td>GCNConvEdge-4Layers/FalseNegatives</td><td>▁</td></tr><tr><td>GCNConvEdge-4Layers/FalsePositives</td><td>▁</td></tr><tr><td>GCNConvEdge-4Layers/Precision</td><td>▁</td></tr><tr><td>GCNConvEdge-4Layers/Recall</td><td>▁</td></tr><tr><td>GCNConvEdge-4Layers/TrueNegatives</td><td>▁</td></tr><tr><td>GCNConvEdge-4Layers/TruePositives</td><td>▁</td></tr><tr><td>GCNConvEdge-4Layers/test_acc</td><td>▁▁▁▁▁▁▁▁▁▁▁▄▄▅▄▅▅▅▆█▅▅▅▆▅▆▆▅▆▆▆▆▅▅▅▅▅▆▆▆</td></tr><tr><td>GCNConvEdge-4Layers/train_acc</td><td>▁▁▁▁▁▁▁▁▁▁▅▅▆▅▅▆▅▆▅▆▆▅▆█▆█▆▆█▆▆█▆█▆▇▆▆▆▇</td></tr></table><br/></div><div class=\"wandb-col\"><h3>Run summary:</h3><br/><table class=\"wandb\"><tr><td>GCNConvEdge-4Layers/Accuracy</td><td>0.94241</td></tr><tr><td>GCNConvEdge-4Layers/F1-score</td><td>0.66234</td></tr><tr><td>GCNConvEdge-4Layers/FalseNegatives</td><td>36</td></tr><tr><td>GCNConvEdge-4Layers/FalsePositives</td><td>16</td></tr><tr><td>GCNConvEdge-4Layers/Precision</td><td>0.76119</td></tr><tr><td>GCNConvEdge-4Layers/Recall</td><td>0.58621</td></tr><tr><td>GCNConvEdge-4Layers/TrueNegatives</td><td>800</td></tr><tr><td>GCNConvEdge-4Layers/TruePositives</td><td>51</td></tr><tr><td>GCNConvEdge-4Layers/test_acc</td><td>0.94241</td></tr><tr><td>GCNConvEdge-4Layers/train_acc</td><td>0.94241</td></tr><tr><td>GCNConvEdge4Layers/FalsePositives</td><td>16</td></tr></table><br/></div></div>"
      ],
      "text/plain": [
       "<IPython.core.display.HTML object>"
      ]
     },
     "metadata": {},
     "output_type": "display_data"
    },
    {
     "data": {
      "text/html": [
       "You can sync this run to the cloud by running:<br><code>wandb sync E:\\THY\\EDC-AOP\\GNN\\wandb_runs\\wandb\\offline-run-20250812_010019-gnog15iv<code>"
      ],
      "text/plain": [
       "<IPython.core.display.HTML object>"
      ]
     },
     "metadata": {},
     "output_type": "display_data"
    },
    {
     "data": {
      "text/html": [
       "Find logs at: <code>E:\\THY\\EDC-AOP\\GNN\\wandb_runs\\wandb\\offline-run-20250812_010019-gnog15iv\\logs</code>"
      ],
      "text/plain": [
       "<IPython.core.display.HTML object>"
      ]
     },
     "metadata": {},
     "output_type": "display_data"
    },
    {
     "name": "stderr",
     "output_type": "stream",
     "text": [
      "\u001b[34m\u001b[1mwandb\u001b[0m: Agent Starting Run: t4ufj57v with config:\n",
      "\u001b[34m\u001b[1mwandb\u001b[0m: \tbatch_size: 50\n",
      "\u001b[34m\u001b[1mwandb\u001b[0m: \thidden_size1: 60\n",
      "\u001b[34m\u001b[1mwandb\u001b[0m: \thidden_size2: 10\n",
      "\u001b[34m\u001b[1mwandb\u001b[0m: \thidden_size3: 40\n",
      "\u001b[34m\u001b[1mwandb\u001b[0m: \tlr: 0.0004747885725318372\n",
      "\u001b[34m\u001b[1mwandb\u001b[0m: \tweight_decay: 0.0004910197348067454\n"
     ]
    },
    {
     "data": {
      "text/html": [
       "Tracking run with wandb version 0.20.1"
      ],
      "text/plain": [
       "<IPython.core.display.HTML object>"
      ]
     },
     "metadata": {},
     "output_type": "display_data"
    },
    {
     "data": {
      "text/html": [
       "W&B syncing is set to <code>`offline`<code> in this directory. Run <code>`wandb online`<code> or set <code>WANDB_MODE=online<code> to enable cloud syncing."
      ],
      "text/plain": [
       "<IPython.core.display.HTML object>"
      ]
     },
     "metadata": {},
     "output_type": "display_data"
    },
    {
     "name": "stderr",
     "output_type": "stream",
     "text": [
      "100%|██████████| 200/200 [04:58<00:00,  1.49s/it]\n"
     ]
    },
    {
     "data": {
      "text/html": [],
      "text/plain": [
       "<IPython.core.display.HTML object>"
      ]
     },
     "metadata": {},
     "output_type": "display_data"
    },
    {
     "data": {
      "text/html": [
       "<br>    <style><br>        .wandb-row {<br>            display: flex;<br>            flex-direction: row;<br>            flex-wrap: wrap;<br>            justify-content: flex-start;<br>            width: 100%;<br>        }<br>        .wandb-col {<br>            display: flex;<br>            flex-direction: column;<br>            flex-basis: 100%;<br>            flex: 1;<br>            padding: 10px;<br>        }<br>    </style><br><div class=\"wandb-row\"><div class=\"wandb-col\"><h3>Run history:</h3><br/><table class=\"wandb\"><tr><td>GCNConvEdge-4Layers/Accuracy</td><td>▁</td></tr><tr><td>GCNConvEdge-4Layers/F1-score</td><td>▁</td></tr><tr><td>GCNConvEdge-4Layers/FalseNegatives</td><td>▁</td></tr><tr><td>GCNConvEdge-4Layers/FalsePositives</td><td>▁</td></tr><tr><td>GCNConvEdge-4Layers/Precision</td><td>▁</td></tr><tr><td>GCNConvEdge-4Layers/Recall</td><td>▁</td></tr><tr><td>GCNConvEdge-4Layers/TrueNegatives</td><td>▁</td></tr><tr><td>GCNConvEdge-4Layers/TruePositives</td><td>▁</td></tr><tr><td>GCNConvEdge-4Layers/test_acc</td><td>▁▁▁▁▁▁▁▁▂▅▆▆▆▆▆▇▆▆▆█▆▆▇▆▆▆▆▆▆▆▆██▆▆▆▆▆█▇</td></tr><tr><td>GCNConvEdge-4Layers/train_acc</td><td>▁▁▁▁▂▂▃▆▅▆▆▆▆▇▆██▆▆▆▆▆▆▆▆▆▆██▆▆▆▆▅▇▆▆▆▆▇</td></tr></table><br/></div><div class=\"wandb-col\"><h3>Run summary:</h3><br/><table class=\"wandb\"><tr><td>GCNConvEdge-4Layers/Accuracy</td><td>0.93577</td></tr><tr><td>GCNConvEdge-4Layers/F1-score</td><td>0.57971</td></tr><tr><td>GCNConvEdge-4Layers/FalseNegatives</td><td>47</td></tr><tr><td>GCNConvEdge-4Layers/FalsePositives</td><td>11</td></tr><tr><td>GCNConvEdge-4Layers/Precision</td><td>0.78431</td></tr><tr><td>GCNConvEdge-4Layers/Recall</td><td>0.45977</td></tr><tr><td>GCNConvEdge-4Layers/TrueNegatives</td><td>805</td></tr><tr><td>GCNConvEdge-4Layers/TruePositives</td><td>40</td></tr><tr><td>GCNConvEdge-4Layers/test_acc</td><td>0.93577</td></tr><tr><td>GCNConvEdge-4Layers/train_acc</td><td>0.93577</td></tr><tr><td>GCNConvEdge4Layers/FalsePositives</td><td>11</td></tr></table><br/></div></div>"
      ],
      "text/plain": [
       "<IPython.core.display.HTML object>"
      ]
     },
     "metadata": {},
     "output_type": "display_data"
    },
    {
     "data": {
      "text/html": [
       "You can sync this run to the cloud by running:<br><code>wandb sync E:\\THY\\EDC-AOP\\GNN\\wandb_runs\\wandb\\offline-run-20250812_010529-t4ufj57v<code>"
      ],
      "text/plain": [
       "<IPython.core.display.HTML object>"
      ]
     },
     "metadata": {},
     "output_type": "display_data"
    },
    {
     "data": {
      "text/html": [
       "Find logs at: <code>E:\\THY\\EDC-AOP\\GNN\\wandb_runs\\wandb\\offline-run-20250812_010529-t4ufj57v\\logs</code>"
      ],
      "text/plain": [
       "<IPython.core.display.HTML object>"
      ]
     },
     "metadata": {},
     "output_type": "display_data"
    },
    {
     "name": "stderr",
     "output_type": "stream",
     "text": [
      "\u001b[34m\u001b[1mwandb\u001b[0m: Agent Starting Run: z57gdbrv with config:\n",
      "\u001b[34m\u001b[1mwandb\u001b[0m: \tbatch_size: 200\n",
      "\u001b[34m\u001b[1mwandb\u001b[0m: \thidden_size1: 20\n",
      "\u001b[34m\u001b[1mwandb\u001b[0m: \thidden_size2: 80\n",
      "\u001b[34m\u001b[1mwandb\u001b[0m: \thidden_size3: 40\n",
      "\u001b[34m\u001b[1mwandb\u001b[0m: \tlr: 0.0005855525593884546\n",
      "\u001b[34m\u001b[1mwandb\u001b[0m: \tweight_decay: 0.0005150926605720456\n"
     ]
    },
    {
     "data": {
      "text/html": [
       "Tracking run with wandb version 0.20.1"
      ],
      "text/plain": [
       "<IPython.core.display.HTML object>"
      ]
     },
     "metadata": {},
     "output_type": "display_data"
    },
    {
     "data": {
      "text/html": [
       "W&B syncing is set to <code>`offline`<code> in this directory. Run <code>`wandb online`<code> or set <code>WANDB_MODE=online<code> to enable cloud syncing."
      ],
      "text/plain": [
       "<IPython.core.display.HTML object>"
      ]
     },
     "metadata": {},
     "output_type": "display_data"
    },
    {
     "name": "stderr",
     "output_type": "stream",
     "text": [
      "100%|██████████| 200/200 [04:06<00:00,  1.23s/it]\n"
     ]
    },
    {
     "data": {
      "text/html": [],
      "text/plain": [
       "<IPython.core.display.HTML object>"
      ]
     },
     "metadata": {},
     "output_type": "display_data"
    },
    {
     "data": {
      "text/html": [
       "<br>    <style><br>        .wandb-row {<br>            display: flex;<br>            flex-direction: row;<br>            flex-wrap: wrap;<br>            justify-content: flex-start;<br>            width: 100%;<br>        }<br>        .wandb-col {<br>            display: flex;<br>            flex-direction: column;<br>            flex-basis: 100%;<br>            flex: 1;<br>            padding: 10px;<br>        }<br>    </style><br><div class=\"wandb-row\"><div class=\"wandb-col\"><h3>Run history:</h3><br/><table class=\"wandb\"><tr><td>GCNConvEdge-4Layers/Accuracy</td><td>▁</td></tr><tr><td>GCNConvEdge-4Layers/F1-score</td><td>▁</td></tr><tr><td>GCNConvEdge-4Layers/FalseNegatives</td><td>▁</td></tr><tr><td>GCNConvEdge-4Layers/FalsePositives</td><td>▁</td></tr><tr><td>GCNConvEdge-4Layers/Precision</td><td>▁</td></tr><tr><td>GCNConvEdge-4Layers/Recall</td><td>▁</td></tr><tr><td>GCNConvEdge-4Layers/TrueNegatives</td><td>▁</td></tr><tr><td>GCNConvEdge-4Layers/TruePositives</td><td>▁</td></tr><tr><td>GCNConvEdge-4Layers/test_acc</td><td>▁▁▁▁▁▁▁▁▁▁▁▁▁▁▁▁▁▁▁▂▄▅▆▆▆▆▆▆▆▆▆▆▆▆▆▆▆█▆▆</td></tr><tr><td>GCNConvEdge-4Layers/train_acc</td><td>▁▁▁▁▁▁▁▁▁▁▁▁▇▇▇▇▇▇▇▇▇▇▇▇▇▇▇██▇▇█▇█▇█▇▇▇█</td></tr></table><br/></div><div class=\"wandb-col\"><h3>Run summary:</h3><br/><table class=\"wandb\"><tr><td>GCNConvEdge-4Layers/Accuracy</td><td>0.93466</td></tr><tr><td>GCNConvEdge-4Layers/F1-score</td><td>0.57554</td></tr><tr><td>GCNConvEdge-4Layers/FalseNegatives</td><td>47</td></tr><tr><td>GCNConvEdge-4Layers/FalsePositives</td><td>12</td></tr><tr><td>GCNConvEdge-4Layers/Precision</td><td>0.76923</td></tr><tr><td>GCNConvEdge-4Layers/Recall</td><td>0.45977</td></tr><tr><td>GCNConvEdge-4Layers/TrueNegatives</td><td>804</td></tr><tr><td>GCNConvEdge-4Layers/TruePositives</td><td>40</td></tr><tr><td>GCNConvEdge-4Layers/test_acc</td><td>0.93466</td></tr><tr><td>GCNConvEdge-4Layers/train_acc</td><td>0.93466</td></tr><tr><td>GCNConvEdge4Layers/FalsePositives</td><td>12</td></tr></table><br/></div></div>"
      ],
      "text/plain": [
       "<IPython.core.display.HTML object>"
      ]
     },
     "metadata": {},
     "output_type": "display_data"
    },
    {
     "data": {
      "text/html": [
       "You can sync this run to the cloud by running:<br><code>wandb sync E:\\THY\\EDC-AOP\\GNN\\wandb_runs\\wandb\\offline-run-20250812_011033-z57gdbrv<code>"
      ],
      "text/plain": [
       "<IPython.core.display.HTML object>"
      ]
     },
     "metadata": {},
     "output_type": "display_data"
    },
    {
     "data": {
      "text/html": [
       "Find logs at: <code>E:\\THY\\EDC-AOP\\GNN\\wandb_runs\\wandb\\offline-run-20250812_011033-z57gdbrv\\logs</code>"
      ],
      "text/plain": [
       "<IPython.core.display.HTML object>"
      ]
     },
     "metadata": {},
     "output_type": "display_data"
    },
    {
     "name": "stderr",
     "output_type": "stream",
     "text": [
      "\u001b[34m\u001b[1mwandb\u001b[0m: Agent Starting Run: bq48ollz with config:\n",
      "\u001b[34m\u001b[1mwandb\u001b[0m: \tbatch_size: 300\n",
      "\u001b[34m\u001b[1mwandb\u001b[0m: \thidden_size1: 50\n",
      "\u001b[34m\u001b[1mwandb\u001b[0m: \thidden_size2: 50\n",
      "\u001b[34m\u001b[1mwandb\u001b[0m: \thidden_size3: 60\n",
      "\u001b[34m\u001b[1mwandb\u001b[0m: \tlr: 0.00027472362345084763\n",
      "\u001b[34m\u001b[1mwandb\u001b[0m: \tweight_decay: 0.00048157765002374784\n"
     ]
    },
    {
     "data": {
      "text/html": [
       "Tracking run with wandb version 0.20.1"
      ],
      "text/plain": [
       "<IPython.core.display.HTML object>"
      ]
     },
     "metadata": {},
     "output_type": "display_data"
    },
    {
     "data": {
      "text/html": [
       "W&B syncing is set to <code>`offline`<code> in this directory. Run <code>`wandb online`<code> or set <code>WANDB_MODE=online<code> to enable cloud syncing."
      ],
      "text/plain": [
       "<IPython.core.display.HTML object>"
      ]
     },
     "metadata": {},
     "output_type": "display_data"
    },
    {
     "name": "stderr",
     "output_type": "stream",
     "text": [
      "100%|██████████| 200/200 [04:11<00:00,  1.26s/it]\n"
     ]
    },
    {
     "data": {
      "text/html": [],
      "text/plain": [
       "<IPython.core.display.HTML object>"
      ]
     },
     "metadata": {},
     "output_type": "display_data"
    },
    {
     "data": {
      "text/html": [
       "<br>    <style><br>        .wandb-row {<br>            display: flex;<br>            flex-direction: row;<br>            flex-wrap: wrap;<br>            justify-content: flex-start;<br>            width: 100%;<br>        }<br>        .wandb-col {<br>            display: flex;<br>            flex-direction: column;<br>            flex-basis: 100%;<br>            flex: 1;<br>            padding: 10px;<br>        }<br>    </style><br><div class=\"wandb-row\"><div class=\"wandb-col\"><h3>Run history:</h3><br/><table class=\"wandb\"><tr><td>GCNConvEdge-4Layers/Accuracy</td><td>▁</td></tr><tr><td>GCNConvEdge-4Layers/F1-score</td><td>▁</td></tr><tr><td>GCNConvEdge-4Layers/FalseNegatives</td><td>▁</td></tr><tr><td>GCNConvEdge-4Layers/FalsePositives</td><td>▁</td></tr><tr><td>GCNConvEdge-4Layers/Precision</td><td>▁</td></tr><tr><td>GCNConvEdge-4Layers/Recall</td><td>▁</td></tr><tr><td>GCNConvEdge-4Layers/TrueNegatives</td><td>▁</td></tr><tr><td>GCNConvEdge-4Layers/TruePositives</td><td>▁</td></tr><tr><td>GCNConvEdge-4Layers/test_acc</td><td>▁▁▁▁▁▁▁▁▁▁▁▁▁▁▁▁▁▁▁▁▁▁▁▁▁▁▁▁▁▁▁▁▁▁▁▁▁▁▁▁</td></tr><tr><td>GCNConvEdge-4Layers/train_acc</td><td>▁▁▁▁▁▁▁▁▁▁▁▁▁▁▁▁▁▁▁▁▁▁▁▁▁▁▁▁▁▁▁▁▁▁▁▁▁▁▁▁</td></tr></table><br/></div><div class=\"wandb-col\"><h3>Run summary:</h3><br/><table class=\"wandb\"><tr><td>GCNConvEdge-4Layers/Accuracy</td><td>0.90365</td></tr><tr><td>GCNConvEdge-4Layers/F1-score</td><td>0</td></tr><tr><td>GCNConvEdge-4Layers/FalseNegatives</td><td>87</td></tr><tr><td>GCNConvEdge-4Layers/FalsePositives</td><td>0</td></tr><tr><td>GCNConvEdge-4Layers/Precision</td><td>0</td></tr><tr><td>GCNConvEdge-4Layers/Recall</td><td>0</td></tr><tr><td>GCNConvEdge-4Layers/TrueNegatives</td><td>816</td></tr><tr><td>GCNConvEdge-4Layers/TruePositives</td><td>0</td></tr><tr><td>GCNConvEdge-4Layers/test_acc</td><td>0.90365</td></tr><tr><td>GCNConvEdge-4Layers/train_acc</td><td>0.90365</td></tr><tr><td>GCNConvEdge4Layers/FalsePositives</td><td>0</td></tr></table><br/></div></div>"
      ],
      "text/plain": [
       "<IPython.core.display.HTML object>"
      ]
     },
     "metadata": {},
     "output_type": "display_data"
    },
    {
     "data": {
      "text/html": [
       "You can sync this run to the cloud by running:<br><code>wandb sync E:\\THY\\EDC-AOP\\GNN\\wandb_runs\\wandb\\offline-run-20250812_011444-bq48ollz<code>"
      ],
      "text/plain": [
       "<IPython.core.display.HTML object>"
      ]
     },
     "metadata": {},
     "output_type": "display_data"
    },
    {
     "data": {
      "text/html": [
       "Find logs at: <code>E:\\THY\\EDC-AOP\\GNN\\wandb_runs\\wandb\\offline-run-20250812_011444-bq48ollz\\logs</code>"
      ],
      "text/plain": [
       "<IPython.core.display.HTML object>"
      ]
     },
     "metadata": {},
     "output_type": "display_data"
    },
    {
     "name": "stderr",
     "output_type": "stream",
     "text": [
      "\u001b[34m\u001b[1mwandb\u001b[0m: Agent Starting Run: qvozpzxf with config:\n",
      "\u001b[34m\u001b[1mwandb\u001b[0m: \tbatch_size: 50\n",
      "\u001b[34m\u001b[1mwandb\u001b[0m: \thidden_size1: 50\n",
      "\u001b[34m\u001b[1mwandb\u001b[0m: \thidden_size2: 100\n",
      "\u001b[34m\u001b[1mwandb\u001b[0m: \thidden_size3: 60\n",
      "\u001b[34m\u001b[1mwandb\u001b[0m: \tlr: 0.0004644987166669757\n",
      "\u001b[34m\u001b[1mwandb\u001b[0m: \tweight_decay: 0.0005011614710338505\n"
     ]
    },
    {
     "data": {
      "text/html": [
       "Tracking run with wandb version 0.20.1"
      ],
      "text/plain": [
       "<IPython.core.display.HTML object>"
      ]
     },
     "metadata": {},
     "output_type": "display_data"
    },
    {
     "data": {
      "text/html": [
       "W&B syncing is set to <code>`offline`<code> in this directory. Run <code>`wandb online`<code> or set <code>WANDB_MODE=online<code> to enable cloud syncing."
      ],
      "text/plain": [
       "<IPython.core.display.HTML object>"
      ]
     },
     "metadata": {},
     "output_type": "display_data"
    },
    {
     "name": "stderr",
     "output_type": "stream",
     "text": [
      "100%|██████████| 200/200 [05:08<00:00,  1.54s/it]\n"
     ]
    },
    {
     "data": {
      "text/html": [],
      "text/plain": [
       "<IPython.core.display.HTML object>"
      ]
     },
     "metadata": {},
     "output_type": "display_data"
    },
    {
     "data": {
      "text/html": [
       "<br>    <style><br>        .wandb-row {<br>            display: flex;<br>            flex-direction: row;<br>            flex-wrap: wrap;<br>            justify-content: flex-start;<br>            width: 100%;<br>        }<br>        .wandb-col {<br>            display: flex;<br>            flex-direction: column;<br>            flex-basis: 100%;<br>            flex: 1;<br>            padding: 10px;<br>        }<br>    </style><br><div class=\"wandb-row\"><div class=\"wandb-col\"><h3>Run history:</h3><br/><table class=\"wandb\"><tr><td>GCNConvEdge-4Layers/Accuracy</td><td>▁</td></tr><tr><td>GCNConvEdge-4Layers/F1-score</td><td>▁</td></tr><tr><td>GCNConvEdge-4Layers/FalseNegatives</td><td>▁</td></tr><tr><td>GCNConvEdge-4Layers/FalsePositives</td><td>▁</td></tr><tr><td>GCNConvEdge-4Layers/Precision</td><td>▁</td></tr><tr><td>GCNConvEdge-4Layers/Recall</td><td>▁</td></tr><tr><td>GCNConvEdge-4Layers/TrueNegatives</td><td>▁</td></tr><tr><td>GCNConvEdge-4Layers/TruePositives</td><td>▁</td></tr><tr><td>GCNConvEdge-4Layers/test_acc</td><td>▁▁▁▁▁▁▁▁▁▁▁▁▁▆▆▆▆▆▆█▆▆▆█▆██▆▆▇▆▆▆▆▆▆▆▆▆▆</td></tr><tr><td>GCNConvEdge-4Layers/train_acc</td><td>▁▁▁▁▁▁▁▄▆▅▇▅▆▆█▅▆▇▆▆▇▆▆▆▆▆▆▆▆▆█▅█▆▇▆█▆▆▆</td></tr></table><br/></div><div class=\"wandb-col\"><h3>Run summary:</h3><br/><table class=\"wandb\"><tr><td>GCNConvEdge-4Layers/Accuracy</td><td>0.93466</td></tr><tr><td>GCNConvEdge-4Layers/F1-score</td><td>0.58156</td></tr><tr><td>GCNConvEdge-4Layers/FalseNegatives</td><td>46</td></tr><tr><td>GCNConvEdge-4Layers/FalsePositives</td><td>13</td></tr><tr><td>GCNConvEdge-4Layers/Precision</td><td>0.75926</td></tr><tr><td>GCNConvEdge-4Layers/Recall</td><td>0.47126</td></tr><tr><td>GCNConvEdge-4Layers/TrueNegatives</td><td>803</td></tr><tr><td>GCNConvEdge-4Layers/TruePositives</td><td>41</td></tr><tr><td>GCNConvEdge-4Layers/test_acc</td><td>0.93466</td></tr><tr><td>GCNConvEdge-4Layers/train_acc</td><td>0.93466</td></tr><tr><td>GCNConvEdge4Layers/FalsePositives</td><td>13</td></tr></table><br/></div></div>"
      ],
      "text/plain": [
       "<IPython.core.display.HTML object>"
      ]
     },
     "metadata": {},
     "output_type": "display_data"
    },
    {
     "data": {
      "text/html": [
       "You can sync this run to the cloud by running:<br><code>wandb sync E:\\THY\\EDC-AOP\\GNN\\wandb_runs\\wandb\\offline-run-20250812_011901-qvozpzxf<code>"
      ],
      "text/plain": [
       "<IPython.core.display.HTML object>"
      ]
     },
     "metadata": {},
     "output_type": "display_data"
    },
    {
     "data": {
      "text/html": [
       "Find logs at: <code>E:\\THY\\EDC-AOP\\GNN\\wandb_runs\\wandb\\offline-run-20250812_011901-qvozpzxf\\logs</code>"
      ],
      "text/plain": [
       "<IPython.core.display.HTML object>"
      ]
     },
     "metadata": {},
     "output_type": "display_data"
    },
    {
     "name": "stderr",
     "output_type": "stream",
     "text": [
      "\u001b[34m\u001b[1mwandb\u001b[0m: Agent Starting Run: whzmyhto with config:\n",
      "\u001b[34m\u001b[1mwandb\u001b[0m: \tbatch_size: 300\n",
      "\u001b[34m\u001b[1mwandb\u001b[0m: \thidden_size1: 40\n",
      "\u001b[34m\u001b[1mwandb\u001b[0m: \thidden_size2: 60\n",
      "\u001b[34m\u001b[1mwandb\u001b[0m: \thidden_size3: 50\n",
      "\u001b[34m\u001b[1mwandb\u001b[0m: \tlr: 0.0008756647075625584\n",
      "\u001b[34m\u001b[1mwandb\u001b[0m: \tweight_decay: 0.0005074110087506592\n"
     ]
    },
    {
     "data": {
      "text/html": [
       "Tracking run with wandb version 0.20.1"
      ],
      "text/plain": [
       "<IPython.core.display.HTML object>"
      ]
     },
     "metadata": {},
     "output_type": "display_data"
    },
    {
     "data": {
      "text/html": [
       "W&B syncing is set to <code>`offline`<code> in this directory. Run <code>`wandb online`<code> or set <code>WANDB_MODE=online<code> to enable cloud syncing."
      ],
      "text/plain": [
       "<IPython.core.display.HTML object>"
      ]
     },
     "metadata": {},
     "output_type": "display_data"
    },
    {
     "name": "stderr",
     "output_type": "stream",
     "text": [
      "100%|██████████| 200/200 [04:04<00:00,  1.22s/it]\n"
     ]
    },
    {
     "data": {
      "text/html": [],
      "text/plain": [
       "<IPython.core.display.HTML object>"
      ]
     },
     "metadata": {},
     "output_type": "display_data"
    },
    {
     "data": {
      "text/html": [
       "<br>    <style><br>        .wandb-row {<br>            display: flex;<br>            flex-direction: row;<br>            flex-wrap: wrap;<br>            justify-content: flex-start;<br>            width: 100%;<br>        }<br>        .wandb-col {<br>            display: flex;<br>            flex-direction: column;<br>            flex-basis: 100%;<br>            flex: 1;<br>            padding: 10px;<br>        }<br>    </style><br><div class=\"wandb-row\"><div class=\"wandb-col\"><h3>Run history:</h3><br/><table class=\"wandb\"><tr><td>GCNConvEdge-4Layers/Accuracy</td><td>▁</td></tr><tr><td>GCNConvEdge-4Layers/F1-score</td><td>▁</td></tr><tr><td>GCNConvEdge-4Layers/FalseNegatives</td><td>▁</td></tr><tr><td>GCNConvEdge-4Layers/FalsePositives</td><td>▁</td></tr><tr><td>GCNConvEdge-4Layers/Precision</td><td>▁</td></tr><tr><td>GCNConvEdge-4Layers/Recall</td><td>▁</td></tr><tr><td>GCNConvEdge-4Layers/TrueNegatives</td><td>▁</td></tr><tr><td>GCNConvEdge-4Layers/TruePositives</td><td>▁</td></tr><tr><td>GCNConvEdge-4Layers/test_acc</td><td>▁▁▁▁▁▁▁▁▁▁▁▁▁▁▁▁▁▁▁▁▁▁▁▁▁▁▁▁▁▁▁▁▁▁▁▁█▁▁▁</td></tr><tr><td>GCNConvEdge-4Layers/train_acc</td><td>▁▁▁▁▁▁▁▁▁▁▁▁▁▁▁▁▁▁▁▁▁▁▁▁▁▁▁▁▁▁▁▁▁▁▁▁▁██▃</td></tr></table><br/></div><div class=\"wandb-col\"><h3>Run summary:</h3><br/><table class=\"wandb\"><tr><td>GCNConvEdge-4Layers/Accuracy</td><td>0.9103</td></tr><tr><td>GCNConvEdge-4Layers/F1-score</td><td>0.19802</td></tr><tr><td>GCNConvEdge-4Layers/FalseNegatives</td><td>77</td></tr><tr><td>GCNConvEdge-4Layers/FalsePositives</td><td>4</td></tr><tr><td>GCNConvEdge-4Layers/Precision</td><td>0.71429</td></tr><tr><td>GCNConvEdge-4Layers/Recall</td><td>0.11494</td></tr><tr><td>GCNConvEdge-4Layers/TrueNegatives</td><td>812</td></tr><tr><td>GCNConvEdge-4Layers/TruePositives</td><td>10</td></tr><tr><td>GCNConvEdge-4Layers/test_acc</td><td>0.9103</td></tr><tr><td>GCNConvEdge-4Layers/train_acc</td><td>0.9103</td></tr><tr><td>GCNConvEdge4Layers/FalsePositives</td><td>4</td></tr></table><br/></div></div>"
      ],
      "text/plain": [
       "<IPython.core.display.HTML object>"
      ]
     },
     "metadata": {},
     "output_type": "display_data"
    },
    {
     "data": {
      "text/html": [
       "You can sync this run to the cloud by running:<br><code>wandb sync E:\\THY\\EDC-AOP\\GNN\\wandb_runs\\wandb\\offline-run-20250812_012413-whzmyhto<code>"
      ],
      "text/plain": [
       "<IPython.core.display.HTML object>"
      ]
     },
     "metadata": {},
     "output_type": "display_data"
    },
    {
     "data": {
      "text/html": [
       "Find logs at: <code>E:\\THY\\EDC-AOP\\GNN\\wandb_runs\\wandb\\offline-run-20250812_012413-whzmyhto\\logs</code>"
      ],
      "text/plain": [
       "<IPython.core.display.HTML object>"
      ]
     },
     "metadata": {},
     "output_type": "display_data"
    },
    {
     "name": "stderr",
     "output_type": "stream",
     "text": [
      "\u001b[34m\u001b[1mwandb\u001b[0m: Agent Starting Run: xzeaeacm with config:\n",
      "\u001b[34m\u001b[1mwandb\u001b[0m: \tbatch_size: 100\n",
      "\u001b[34m\u001b[1mwandb\u001b[0m: \thidden_size1: 10\n",
      "\u001b[34m\u001b[1mwandb\u001b[0m: \thidden_size2: 100\n",
      "\u001b[34m\u001b[1mwandb\u001b[0m: \thidden_size3: 50\n",
      "\u001b[34m\u001b[1mwandb\u001b[0m: \tlr: 0.0009348430514871034\n",
      "\u001b[34m\u001b[1mwandb\u001b[0m: \tweight_decay: 0.0004892885044420883\n"
     ]
    },
    {
     "data": {
      "text/html": [
       "Tracking run with wandb version 0.20.1"
      ],
      "text/plain": [
       "<IPython.core.display.HTML object>"
      ]
     },
     "metadata": {},
     "output_type": "display_data"
    },
    {
     "data": {
      "text/html": [
       "W&B syncing is set to <code>`offline`<code> in this directory. Run <code>`wandb online`<code> or set <code>WANDB_MODE=online<code> to enable cloud syncing."
      ],
      "text/plain": [
       "<IPython.core.display.HTML object>"
      ]
     },
     "metadata": {},
     "output_type": "display_data"
    },
    {
     "name": "stderr",
     "output_type": "stream",
     "text": [
      "100%|██████████| 200/200 [04:24<00:00,  1.32s/it]\n"
     ]
    },
    {
     "data": {
      "text/html": [],
      "text/plain": [
       "<IPython.core.display.HTML object>"
      ]
     },
     "metadata": {},
     "output_type": "display_data"
    },
    {
     "data": {
      "text/html": [
       "<br>    <style><br>        .wandb-row {<br>            display: flex;<br>            flex-direction: row;<br>            flex-wrap: wrap;<br>            justify-content: flex-start;<br>            width: 100%;<br>        }<br>        .wandb-col {<br>            display: flex;<br>            flex-direction: column;<br>            flex-basis: 100%;<br>            flex: 1;<br>            padding: 10px;<br>        }<br>    </style><br><div class=\"wandb-row\"><div class=\"wandb-col\"><h3>Run history:</h3><br/><table class=\"wandb\"><tr><td>GCNConvEdge-4Layers/Accuracy</td><td>▁</td></tr><tr><td>GCNConvEdge-4Layers/F1-score</td><td>▁</td></tr><tr><td>GCNConvEdge-4Layers/FalseNegatives</td><td>▁</td></tr><tr><td>GCNConvEdge-4Layers/FalsePositives</td><td>▁</td></tr><tr><td>GCNConvEdge-4Layers/Precision</td><td>▁</td></tr><tr><td>GCNConvEdge-4Layers/Recall</td><td>▁</td></tr><tr><td>GCNConvEdge-4Layers/TrueNegatives</td><td>▁</td></tr><tr><td>GCNConvEdge-4Layers/TruePositives</td><td>▁</td></tr><tr><td>GCNConvEdge-4Layers/test_acc</td><td>▁▁▁▁▁▁▁▁▂▆▂▆▆▆▆▇▆▇█▆▇▇▇▇▆▇▇▆▇▇▇▇█▇▆▇▇▇▇█</td></tr><tr><td>GCNConvEdge-4Layers/train_acc</td><td>▁▁▁▁▁▁▁▁▁▁▂▅▅▅▆▅▆▅▇▅▆▆▆▅▅▆▆█▆▆▆▆▆▆▆▆▆▇▆▆</td></tr></table><br/></div><div class=\"wandb-col\"><h3>Run summary:</h3><br/><table class=\"wandb\"><tr><td>GCNConvEdge-4Layers/Accuracy</td><td>0.94131</td></tr><tr><td>GCNConvEdge-4Layers/F1-score</td><td>0.64901</td></tr><tr><td>GCNConvEdge-4Layers/FalseNegatives</td><td>38</td></tr><tr><td>GCNConvEdge-4Layers/FalsePositives</td><td>15</td></tr><tr><td>GCNConvEdge-4Layers/Precision</td><td>0.76562</td></tr><tr><td>GCNConvEdge-4Layers/Recall</td><td>0.56322</td></tr><tr><td>GCNConvEdge-4Layers/TrueNegatives</td><td>801</td></tr><tr><td>GCNConvEdge-4Layers/TruePositives</td><td>49</td></tr><tr><td>GCNConvEdge-4Layers/test_acc</td><td>0.94131</td></tr><tr><td>GCNConvEdge-4Layers/train_acc</td><td>0.94131</td></tr><tr><td>GCNConvEdge4Layers/FalsePositives</td><td>15</td></tr></table><br/></div></div>"
      ],
      "text/plain": [
       "<IPython.core.display.HTML object>"
      ]
     },
     "metadata": {},
     "output_type": "display_data"
    },
    {
     "data": {
      "text/html": [
       "You can sync this run to the cloud by running:<br><code>wandb sync E:\\THY\\EDC-AOP\\GNN\\wandb_runs\\wandb\\offline-run-20250812_012824-xzeaeacm<code>"
      ],
      "text/plain": [
       "<IPython.core.display.HTML object>"
      ]
     },
     "metadata": {},
     "output_type": "display_data"
    },
    {
     "data": {
      "text/html": [
       "Find logs at: <code>E:\\THY\\EDC-AOP\\GNN\\wandb_runs\\wandb\\offline-run-20250812_012824-xzeaeacm\\logs</code>"
      ],
      "text/plain": [
       "<IPython.core.display.HTML object>"
      ]
     },
     "metadata": {},
     "output_type": "display_data"
    },
    {
     "name": "stderr",
     "output_type": "stream",
     "text": [
      "\u001b[34m\u001b[1mwandb\u001b[0m: Agent Starting Run: azyt2ldt with config:\n",
      "\u001b[34m\u001b[1mwandb\u001b[0m: \tbatch_size: 100\n",
      "\u001b[34m\u001b[1mwandb\u001b[0m: \thidden_size1: 20\n",
      "\u001b[34m\u001b[1mwandb\u001b[0m: \thidden_size2: 40\n",
      "\u001b[34m\u001b[1mwandb\u001b[0m: \thidden_size3: 80\n",
      "\u001b[34m\u001b[1mwandb\u001b[0m: \tlr: 0.0003362118909550924\n",
      "\u001b[34m\u001b[1mwandb\u001b[0m: \tweight_decay: 0.0004924992058672548\n"
     ]
    },
    {
     "data": {
      "text/html": [
       "Tracking run with wandb version 0.20.1"
      ],
      "text/plain": [
       "<IPython.core.display.HTML object>"
      ]
     },
     "metadata": {},
     "output_type": "display_data"
    },
    {
     "data": {
      "text/html": [
       "W&B syncing is set to <code>`offline`<code> in this directory. Run <code>`wandb online`<code> or set <code>WANDB_MODE=online<code> to enable cloud syncing."
      ],
      "text/plain": [
       "<IPython.core.display.HTML object>"
      ]
     },
     "metadata": {},
     "output_type": "display_data"
    },
    {
     "name": "stderr",
     "output_type": "stream",
     "text": [
      "100%|██████████| 200/200 [04:39<00:00,  1.40s/it]\n"
     ]
    },
    {
     "data": {
      "text/html": [],
      "text/plain": [
       "<IPython.core.display.HTML object>"
      ]
     },
     "metadata": {},
     "output_type": "display_data"
    },
    {
     "data": {
      "text/html": [
       "<br>    <style><br>        .wandb-row {<br>            display: flex;<br>            flex-direction: row;<br>            flex-wrap: wrap;<br>            justify-content: flex-start;<br>            width: 100%;<br>        }<br>        .wandb-col {<br>            display: flex;<br>            flex-direction: column;<br>            flex-basis: 100%;<br>            flex: 1;<br>            padding: 10px;<br>        }<br>    </style><br><div class=\"wandb-row\"><div class=\"wandb-col\"><h3>Run history:</h3><br/><table class=\"wandb\"><tr><td>GCNConvEdge-4Layers/Accuracy</td><td>▁</td></tr><tr><td>GCNConvEdge-4Layers/F1-score</td><td>▁</td></tr><tr><td>GCNConvEdge-4Layers/FalseNegatives</td><td>▁</td></tr><tr><td>GCNConvEdge-4Layers/FalsePositives</td><td>▁</td></tr><tr><td>GCNConvEdge-4Layers/Precision</td><td>▁</td></tr><tr><td>GCNConvEdge-4Layers/Recall</td><td>▁</td></tr><tr><td>GCNConvEdge-4Layers/TrueNegatives</td><td>▁</td></tr><tr><td>GCNConvEdge-4Layers/TruePositives</td><td>▁</td></tr><tr><td>GCNConvEdge-4Layers/test_acc</td><td>▁▁▁▁▁▁▁▁▁▁▁▁▁▁▁▂▂▂▆▂▆▆▆▆▆▆▆▆▆▆▆▆▆▆█▆▆▆▆▆</td></tr><tr><td>GCNConvEdge-4Layers/train_acc</td><td>▁▁▁▁▁▁▁▁▁▁▁▁▁▁▁▁▁▂▂▂▆▆▆▆▂▆▆▆▆▆▆▆▆▆▆▆█▆▆▆</td></tr></table><br/></div><div class=\"wandb-col\"><h3>Run summary:</h3><br/><table class=\"wandb\"><tr><td>GCNConvEdge-4Layers/Accuracy</td><td>0.93023</td></tr><tr><td>GCNConvEdge-4Layers/F1-score</td><td>0.53333</td></tr><tr><td>GCNConvEdge-4Layers/FalseNegatives</td><td>51</td></tr><tr><td>GCNConvEdge-4Layers/FalsePositives</td><td>12</td></tr><tr><td>GCNConvEdge-4Layers/Precision</td><td>0.75</td></tr><tr><td>GCNConvEdge-4Layers/Recall</td><td>0.41379</td></tr><tr><td>GCNConvEdge-4Layers/TrueNegatives</td><td>804</td></tr><tr><td>GCNConvEdge-4Layers/TruePositives</td><td>36</td></tr><tr><td>GCNConvEdge-4Layers/test_acc</td><td>0.93023</td></tr><tr><td>GCNConvEdge-4Layers/train_acc</td><td>0.93023</td></tr><tr><td>GCNConvEdge4Layers/FalsePositives</td><td>12</td></tr></table><br/></div></div>"
      ],
      "text/plain": [
       "<IPython.core.display.HTML object>"
      ]
     },
     "metadata": {},
     "output_type": "display_data"
    },
    {
     "data": {
      "text/html": [
       "You can sync this run to the cloud by running:<br><code>wandb sync E:\\THY\\EDC-AOP\\GNN\\wandb_runs\\wandb\\offline-run-20250812_013253-azyt2ldt<code>"
      ],
      "text/plain": [
       "<IPython.core.display.HTML object>"
      ]
     },
     "metadata": {},
     "output_type": "display_data"
    },
    {
     "data": {
      "text/html": [
       "Find logs at: <code>E:\\THY\\EDC-AOP\\GNN\\wandb_runs\\wandb\\offline-run-20250812_013253-azyt2ldt\\logs</code>"
      ],
      "text/plain": [
       "<IPython.core.display.HTML object>"
      ]
     },
     "metadata": {},
     "output_type": "display_data"
    },
    {
     "name": "stderr",
     "output_type": "stream",
     "text": [
      "\u001b[34m\u001b[1mwandb\u001b[0m: Agent Starting Run: t7m1ebtm with config:\n",
      "\u001b[34m\u001b[1mwandb\u001b[0m: \tbatch_size: 50\n",
      "\u001b[34m\u001b[1mwandb\u001b[0m: \thidden_size1: 40\n",
      "\u001b[34m\u001b[1mwandb\u001b[0m: \thidden_size2: 40\n",
      "\u001b[34m\u001b[1mwandb\u001b[0m: \thidden_size3: 50\n",
      "\u001b[34m\u001b[1mwandb\u001b[0m: \tlr: 0.00018788493463005836\n",
      "\u001b[34m\u001b[1mwandb\u001b[0m: \tweight_decay: 0.0005070537872299033\n"
     ]
    },
    {
     "data": {
      "text/html": [
       "Tracking run with wandb version 0.20.1"
      ],
      "text/plain": [
       "<IPython.core.display.HTML object>"
      ]
     },
     "metadata": {},
     "output_type": "display_data"
    },
    {
     "data": {
      "text/html": [
       "W&B syncing is set to <code>`offline`<code> in this directory. Run <code>`wandb online`<code> or set <code>WANDB_MODE=online<code> to enable cloud syncing."
      ],
      "text/plain": [
       "<IPython.core.display.HTML object>"
      ]
     },
     "metadata": {},
     "output_type": "display_data"
    },
    {
     "name": "stderr",
     "output_type": "stream",
     "text": [
      "100%|██████████| 200/200 [05:25<00:00,  1.63s/it]\n"
     ]
    },
    {
     "data": {
      "text/html": [],
      "text/plain": [
       "<IPython.core.display.HTML object>"
      ]
     },
     "metadata": {},
     "output_type": "display_data"
    },
    {
     "data": {
      "text/html": [
       "<br>    <style><br>        .wandb-row {<br>            display: flex;<br>            flex-direction: row;<br>            flex-wrap: wrap;<br>            justify-content: flex-start;<br>            width: 100%;<br>        }<br>        .wandb-col {<br>            display: flex;<br>            flex-direction: column;<br>            flex-basis: 100%;<br>            flex: 1;<br>            padding: 10px;<br>        }<br>    </style><br><div class=\"wandb-row\"><div class=\"wandb-col\"><h3>Run history:</h3><br/><table class=\"wandb\"><tr><td>GCNConvEdge-4Layers/Accuracy</td><td>▁</td></tr><tr><td>GCNConvEdge-4Layers/F1-score</td><td>▁</td></tr><tr><td>GCNConvEdge-4Layers/FalseNegatives</td><td>▁</td></tr><tr><td>GCNConvEdge-4Layers/FalsePositives</td><td>▁</td></tr><tr><td>GCNConvEdge-4Layers/Precision</td><td>▁</td></tr><tr><td>GCNConvEdge-4Layers/Recall</td><td>▁</td></tr><tr><td>GCNConvEdge-4Layers/TrueNegatives</td><td>▁</td></tr><tr><td>GCNConvEdge-4Layers/TruePositives</td><td>▁</td></tr><tr><td>GCNConvEdge-4Layers/test_acc</td><td>▁▁▁▁▁▁▁▁▁▁▁▁▁▁▁▂▃▆▆▆▆▆▆█▆▆▆▆▆▇▆▇▆▆▆▆▆▆▆▆</td></tr><tr><td>GCNConvEdge-4Layers/train_acc</td><td>▁▁▁▁▁▁▁▁▁▁▁▁▁▁▁▂▅▆▆▅▆▆▆█▆▆▆▆▆▆▆▆▆▆▆▆█▆▆▆</td></tr></table><br/></div><div class=\"wandb-col\"><h3>Run summary:</h3><br/><table class=\"wandb\"><tr><td>GCNConvEdge-4Layers/Accuracy</td><td>0.93466</td></tr><tr><td>GCNConvEdge-4Layers/F1-score</td><td>0.58156</td></tr><tr><td>GCNConvEdge-4Layers/FalseNegatives</td><td>46</td></tr><tr><td>GCNConvEdge-4Layers/FalsePositives</td><td>13</td></tr><tr><td>GCNConvEdge-4Layers/Precision</td><td>0.75926</td></tr><tr><td>GCNConvEdge-4Layers/Recall</td><td>0.47126</td></tr><tr><td>GCNConvEdge-4Layers/TrueNegatives</td><td>803</td></tr><tr><td>GCNConvEdge-4Layers/TruePositives</td><td>41</td></tr><tr><td>GCNConvEdge-4Layers/test_acc</td><td>0.93466</td></tr><tr><td>GCNConvEdge-4Layers/train_acc</td><td>0.93466</td></tr><tr><td>GCNConvEdge4Layers/FalsePositives</td><td>13</td></tr></table><br/></div></div>"
      ],
      "text/plain": [
       "<IPython.core.display.HTML object>"
      ]
     },
     "metadata": {},
     "output_type": "display_data"
    },
    {
     "data": {
      "text/html": [
       "You can sync this run to the cloud by running:<br><code>wandb sync E:\\THY\\EDC-AOP\\GNN\\wandb_runs\\wandb\\offline-run-20250812_013736-t7m1ebtm<code>"
      ],
      "text/plain": [
       "<IPython.core.display.HTML object>"
      ]
     },
     "metadata": {},
     "output_type": "display_data"
    },
    {
     "data": {
      "text/html": [
       "Find logs at: <code>E:\\THY\\EDC-AOP\\GNN\\wandb_runs\\wandb\\offline-run-20250812_013736-t7m1ebtm\\logs</code>"
      ],
      "text/plain": [
       "<IPython.core.display.HTML object>"
      ]
     },
     "metadata": {},
     "output_type": "display_data"
    },
    {
     "name": "stderr",
     "output_type": "stream",
     "text": [
      "\u001b[34m\u001b[1mwandb\u001b[0m: Agent Starting Run: rru00m7x with config:\n",
      "\u001b[34m\u001b[1mwandb\u001b[0m: \tbatch_size: 20\n",
      "\u001b[34m\u001b[1mwandb\u001b[0m: \thidden_size1: 100\n",
      "\u001b[34m\u001b[1mwandb\u001b[0m: \thidden_size2: 30\n",
      "\u001b[34m\u001b[1mwandb\u001b[0m: \thidden_size3: 60\n",
      "\u001b[34m\u001b[1mwandb\u001b[0m: \tlr: 0.00015860706894202075\n",
      "\u001b[34m\u001b[1mwandb\u001b[0m: \tweight_decay: 0.0004961135644887283\n"
     ]
    },
    {
     "data": {
      "text/html": [
       "Tracking run with wandb version 0.20.1"
      ],
      "text/plain": [
       "<IPython.core.display.HTML object>"
      ]
     },
     "metadata": {},
     "output_type": "display_data"
    },
    {
     "data": {
      "text/html": [
       "W&B syncing is set to <code>`offline`<code> in this directory. Run <code>`wandb online`<code> or set <code>WANDB_MODE=online<code> to enable cloud syncing."
      ],
      "text/plain": [
       "<IPython.core.display.HTML object>"
      ]
     },
     "metadata": {},
     "output_type": "display_data"
    },
    {
     "name": "stderr",
     "output_type": "stream",
     "text": [
      "100%|██████████| 200/200 [06:17<00:00,  1.89s/it]\n"
     ]
    },
    {
     "data": {
      "text/html": [],
      "text/plain": [
       "<IPython.core.display.HTML object>"
      ]
     },
     "metadata": {},
     "output_type": "display_data"
    },
    {
     "data": {
      "text/html": [
       "<br>    <style><br>        .wandb-row {<br>            display: flex;<br>            flex-direction: row;<br>            flex-wrap: wrap;<br>            justify-content: flex-start;<br>            width: 100%;<br>        }<br>        .wandb-col {<br>            display: flex;<br>            flex-direction: column;<br>            flex-basis: 100%;<br>            flex: 1;<br>            padding: 10px;<br>        }<br>    </style><br><div class=\"wandb-row\"><div class=\"wandb-col\"><h3>Run history:</h3><br/><table class=\"wandb\"><tr><td>GCNConvEdge-4Layers/Accuracy</td><td>▁</td></tr><tr><td>GCNConvEdge-4Layers/F1-score</td><td>▁</td></tr><tr><td>GCNConvEdge-4Layers/FalseNegatives</td><td>▁</td></tr><tr><td>GCNConvEdge-4Layers/FalsePositives</td><td>▁</td></tr><tr><td>GCNConvEdge-4Layers/Precision</td><td>▁</td></tr><tr><td>GCNConvEdge-4Layers/Recall</td><td>▁</td></tr><tr><td>GCNConvEdge-4Layers/TrueNegatives</td><td>▁</td></tr><tr><td>GCNConvEdge-4Layers/TruePositives</td><td>▁</td></tr><tr><td>GCNConvEdge-4Layers/test_acc</td><td>▁▁▁▁▁▁▁▁▁▁▅▅▅▅▆▆▅▅▇▆▇▅▅▅▆▅▆▇▆▆▇▅▆▅▇█▅▅▆▅</td></tr><tr><td>GCNConvEdge-4Layers/train_acc</td><td>▁▁▁▁▁▁▆▂▆▅▆▆▃▆▆▆▆▆▆▆▆▇█▆▆█▆▆▆▇▆▆▆▆█▆▆▆▆▆</td></tr></table><br/></div><div class=\"wandb-col\"><h3>Run summary:</h3><br/><table class=\"wandb\"><tr><td>GCNConvEdge-4Layers/Accuracy</td><td>0.93466</td></tr><tr><td>GCNConvEdge-4Layers/F1-score</td><td>0.56934</td></tr><tr><td>GCNConvEdge-4Layers/FalseNegatives</td><td>48</td></tr><tr><td>GCNConvEdge-4Layers/FalsePositives</td><td>11</td></tr><tr><td>GCNConvEdge-4Layers/Precision</td><td>0.78</td></tr><tr><td>GCNConvEdge-4Layers/Recall</td><td>0.44828</td></tr><tr><td>GCNConvEdge-4Layers/TrueNegatives</td><td>805</td></tr><tr><td>GCNConvEdge-4Layers/TruePositives</td><td>39</td></tr><tr><td>GCNConvEdge-4Layers/test_acc</td><td>0.93466</td></tr><tr><td>GCNConvEdge-4Layers/train_acc</td><td>0.93466</td></tr><tr><td>GCNConvEdge4Layers/FalsePositives</td><td>11</td></tr></table><br/></div></div>"
      ],
      "text/plain": [
       "<IPython.core.display.HTML object>"
      ]
     },
     "metadata": {},
     "output_type": "display_data"
    },
    {
     "data": {
      "text/html": [
       "You can sync this run to the cloud by running:<br><code>wandb sync E:\\THY\\EDC-AOP\\GNN\\wandb_runs\\wandb\\offline-run-20250812_014308-rru00m7x<code>"
      ],
      "text/plain": [
       "<IPython.core.display.HTML object>"
      ]
     },
     "metadata": {},
     "output_type": "display_data"
    },
    {
     "data": {
      "text/html": [
       "Find logs at: <code>E:\\THY\\EDC-AOP\\GNN\\wandb_runs\\wandb\\offline-run-20250812_014308-rru00m7x\\logs</code>"
      ],
      "text/plain": [
       "<IPython.core.display.HTML object>"
      ]
     },
     "metadata": {},
     "output_type": "display_data"
    },
    {
     "name": "stderr",
     "output_type": "stream",
     "text": [
      "\u001b[34m\u001b[1mwandb\u001b[0m: Agent Starting Run: sieu5a72 with config:\n",
      "\u001b[34m\u001b[1mwandb\u001b[0m: \tbatch_size: 300\n",
      "\u001b[34m\u001b[1mwandb\u001b[0m: \thidden_size1: 80\n",
      "\u001b[34m\u001b[1mwandb\u001b[0m: \thidden_size2: 20\n",
      "\u001b[34m\u001b[1mwandb\u001b[0m: \thidden_size3: 100\n",
      "\u001b[34m\u001b[1mwandb\u001b[0m: \tlr: 0.00035861176841281395\n",
      "\u001b[34m\u001b[1mwandb\u001b[0m: \tweight_decay: 0.0004980151620223444\n"
     ]
    },
    {
     "data": {
      "text/html": [
       "Tracking run with wandb version 0.20.1"
      ],
      "text/plain": [
       "<IPython.core.display.HTML object>"
      ]
     },
     "metadata": {},
     "output_type": "display_data"
    },
    {
     "data": {
      "text/html": [
       "W&B syncing is set to <code>`offline`<code> in this directory. Run <code>`wandb online`<code> or set <code>WANDB_MODE=online<code> to enable cloud syncing."
      ],
      "text/plain": [
       "<IPython.core.display.HTML object>"
      ]
     },
     "metadata": {},
     "output_type": "display_data"
    },
    {
     "name": "stderr",
     "output_type": "stream",
     "text": [
      "100%|██████████| 200/200 [04:00<00:00,  1.20s/it]\n"
     ]
    },
    {
     "data": {
      "text/html": [],
      "text/plain": [
       "<IPython.core.display.HTML object>"
      ]
     },
     "metadata": {},
     "output_type": "display_data"
    },
    {
     "data": {
      "text/html": [
       "<br>    <style><br>        .wandb-row {<br>            display: flex;<br>            flex-direction: row;<br>            flex-wrap: wrap;<br>            justify-content: flex-start;<br>            width: 100%;<br>        }<br>        .wandb-col {<br>            display: flex;<br>            flex-direction: column;<br>            flex-basis: 100%;<br>            flex: 1;<br>            padding: 10px;<br>        }<br>    </style><br><div class=\"wandb-row\"><div class=\"wandb-col\"><h3>Run history:</h3><br/><table class=\"wandb\"><tr><td>GCNConvEdge-4Layers/Accuracy</td><td>▁</td></tr><tr><td>GCNConvEdge-4Layers/F1-score</td><td>▁</td></tr><tr><td>GCNConvEdge-4Layers/FalseNegatives</td><td>▁</td></tr><tr><td>GCNConvEdge-4Layers/FalsePositives</td><td>▁</td></tr><tr><td>GCNConvEdge-4Layers/Precision</td><td>▁</td></tr><tr><td>GCNConvEdge-4Layers/Recall</td><td>▁</td></tr><tr><td>GCNConvEdge-4Layers/TrueNegatives</td><td>▁</td></tr><tr><td>GCNConvEdge-4Layers/TruePositives</td><td>▁</td></tr><tr><td>GCNConvEdge-4Layers/test_acc</td><td>▁▁▁▁▁▁▁▁▁▁▁▁▁▁▁▁▁▁▁▁▁▁▁▁▁▁▁▁▁▁▁▁▁▁▁▁▁▁▁▁</td></tr><tr><td>GCNConvEdge-4Layers/train_acc</td><td>▁▁▁▁▁▁▁▁▁▁▁▁▁▁▁▁▁▁▁▁▁▁▁▁▁▁▁▁▁▁▁▁▁▁▁▁▁▁▁▁</td></tr></table><br/></div><div class=\"wandb-col\"><h3>Run summary:</h3><br/><table class=\"wandb\"><tr><td>GCNConvEdge-4Layers/Accuracy</td><td>0.90365</td></tr><tr><td>GCNConvEdge-4Layers/F1-score</td><td>0</td></tr><tr><td>GCNConvEdge-4Layers/FalseNegatives</td><td>87</td></tr><tr><td>GCNConvEdge-4Layers/FalsePositives</td><td>0</td></tr><tr><td>GCNConvEdge-4Layers/Precision</td><td>0</td></tr><tr><td>GCNConvEdge-4Layers/Recall</td><td>0</td></tr><tr><td>GCNConvEdge-4Layers/TrueNegatives</td><td>816</td></tr><tr><td>GCNConvEdge-4Layers/TruePositives</td><td>0</td></tr><tr><td>GCNConvEdge-4Layers/test_acc</td><td>0.90365</td></tr><tr><td>GCNConvEdge-4Layers/train_acc</td><td>0.90365</td></tr><tr><td>GCNConvEdge4Layers/FalsePositives</td><td>0</td></tr></table><br/></div></div>"
      ],
      "text/plain": [
       "<IPython.core.display.HTML object>"
      ]
     },
     "metadata": {},
     "output_type": "display_data"
    },
    {
     "data": {
      "text/html": [
       "You can sync this run to the cloud by running:<br><code>wandb sync E:\\THY\\EDC-AOP\\GNN\\wandb_runs\\wandb\\offline-run-20250812_014929-sieu5a72<code>"
      ],
      "text/plain": [
       "<IPython.core.display.HTML object>"
      ]
     },
     "metadata": {},
     "output_type": "display_data"
    },
    {
     "data": {
      "text/html": [
       "Find logs at: <code>E:\\THY\\EDC-AOP\\GNN\\wandb_runs\\wandb\\offline-run-20250812_014929-sieu5a72\\logs</code>"
      ],
      "text/plain": [
       "<IPython.core.display.HTML object>"
      ]
     },
     "metadata": {},
     "output_type": "display_data"
    },
    {
     "name": "stderr",
     "output_type": "stream",
     "text": [
      "\u001b[34m\u001b[1mwandb\u001b[0m: Sweep Agent: Waiting for job.\n",
      "\u001b[34m\u001b[1mwandb\u001b[0m: Job received.\n",
      "\u001b[34m\u001b[1mwandb\u001b[0m: Agent Starting Run: ok7e2zu2 with config:\n",
      "\u001b[34m\u001b[1mwandb\u001b[0m: \tbatch_size: 50\n",
      "\u001b[34m\u001b[1mwandb\u001b[0m: \thidden_size1: 40\n",
      "\u001b[34m\u001b[1mwandb\u001b[0m: \thidden_size2: 50\n",
      "\u001b[34m\u001b[1mwandb\u001b[0m: \thidden_size3: 60\n",
      "\u001b[34m\u001b[1mwandb\u001b[0m: \tlr: 0.0005901134772109808\n",
      "\u001b[34m\u001b[1mwandb\u001b[0m: \tweight_decay: 0.00048847738760025\n"
     ]
    },
    {
     "data": {
      "text/html": [
       "Tracking run with wandb version 0.20.1"
      ],
      "text/plain": [
       "<IPython.core.display.HTML object>"
      ]
     },
     "metadata": {},
     "output_type": "display_data"
    },
    {
     "data": {
      "text/html": [
       "W&B syncing is set to <code>`offline`<code> in this directory. Run <code>`wandb online`<code> or set <code>WANDB_MODE=online<code> to enable cloud syncing."
      ],
      "text/plain": [
       "<IPython.core.display.HTML object>"
      ]
     },
     "metadata": {},
     "output_type": "display_data"
    },
    {
     "name": "stderr",
     "output_type": "stream",
     "text": [
      "100%|██████████| 200/200 [04:56<00:00,  1.48s/it]\n"
     ]
    },
    {
     "data": {
      "text/html": [],
      "text/plain": [
       "<IPython.core.display.HTML object>"
      ]
     },
     "metadata": {},
     "output_type": "display_data"
    },
    {
     "data": {
      "text/html": [
       "<br>    <style><br>        .wandb-row {<br>            display: flex;<br>            flex-direction: row;<br>            flex-wrap: wrap;<br>            justify-content: flex-start;<br>            width: 100%;<br>        }<br>        .wandb-col {<br>            display: flex;<br>            flex-direction: column;<br>            flex-basis: 100%;<br>            flex: 1;<br>            padding: 10px;<br>        }<br>    </style><br><div class=\"wandb-row\"><div class=\"wandb-col\"><h3>Run history:</h3><br/><table class=\"wandb\"><tr><td>GCNConvEdge-4Layers/Accuracy</td><td>▁</td></tr><tr><td>GCNConvEdge-4Layers/F1-score</td><td>▁</td></tr><tr><td>GCNConvEdge-4Layers/FalseNegatives</td><td>▁</td></tr><tr><td>GCNConvEdge-4Layers/FalsePositives</td><td>▁</td></tr><tr><td>GCNConvEdge-4Layers/Precision</td><td>▁</td></tr><tr><td>GCNConvEdge-4Layers/Recall</td><td>▁</td></tr><tr><td>GCNConvEdge-4Layers/TrueNegatives</td><td>▁</td></tr><tr><td>GCNConvEdge-4Layers/TruePositives</td><td>▁</td></tr><tr><td>GCNConvEdge-4Layers/test_acc</td><td>▁▁▁▁▁▂▄▅▅▄▄▅▅▆▅▄▆▅▅█▆▆▅▅▅▅▅▆▆▅▅▆▅▅▆▅▅▅▆▅</td></tr><tr><td>GCNConvEdge-4Layers/train_acc</td><td>▁▁▁▁▁▁▄▄▄▄▅▅▅▄▅▅▆▅▅▅▄▅▅▆▅▅▅▅▆▆▅▅▅▅█▆▅▆▅▅</td></tr></table><br/></div><div class=\"wandb-col\"><h3>Run summary:</h3><br/><table class=\"wandb\"><tr><td>GCNConvEdge-4Layers/Accuracy</td><td>0.93466</td></tr><tr><td>GCNConvEdge-4Layers/F1-score</td><td>0.58156</td></tr><tr><td>GCNConvEdge-4Layers/FalseNegatives</td><td>46</td></tr><tr><td>GCNConvEdge-4Layers/FalsePositives</td><td>13</td></tr><tr><td>GCNConvEdge-4Layers/Precision</td><td>0.75926</td></tr><tr><td>GCNConvEdge-4Layers/Recall</td><td>0.47126</td></tr><tr><td>GCNConvEdge-4Layers/TrueNegatives</td><td>803</td></tr><tr><td>GCNConvEdge-4Layers/TruePositives</td><td>41</td></tr><tr><td>GCNConvEdge-4Layers/test_acc</td><td>0.93466</td></tr><tr><td>GCNConvEdge-4Layers/train_acc</td><td>0.93466</td></tr><tr><td>GCNConvEdge4Layers/FalsePositives</td><td>13</td></tr></table><br/></div></div>"
      ],
      "text/plain": [
       "<IPython.core.display.HTML object>"
      ]
     },
     "metadata": {},
     "output_type": "display_data"
    },
    {
     "data": {
      "text/html": [
       "You can sync this run to the cloud by running:<br><code>wandb sync E:\\THY\\EDC-AOP\\GNN\\wandb_runs\\wandb\\offline-run-20250812_015342-ok7e2zu2<code>"
      ],
      "text/plain": [
       "<IPython.core.display.HTML object>"
      ]
     },
     "metadata": {},
     "output_type": "display_data"
    },
    {
     "data": {
      "text/html": [
       "Find logs at: <code>E:\\THY\\EDC-AOP\\GNN\\wandb_runs\\wandb\\offline-run-20250812_015342-ok7e2zu2\\logs</code>"
      ],
      "text/plain": [
       "<IPython.core.display.HTML object>"
      ]
     },
     "metadata": {},
     "output_type": "display_data"
    },
    {
     "name": "stderr",
     "output_type": "stream",
     "text": [
      "\u001b[34m\u001b[1mwandb\u001b[0m: Sweep Agent: Waiting for job.\n",
      "\u001b[34m\u001b[1mwandb\u001b[0m: Job received.\n",
      "\u001b[34m\u001b[1mwandb\u001b[0m: Agent Starting Run: q1991kpf with config:\n",
      "\u001b[34m\u001b[1mwandb\u001b[0m: \tbatch_size: 50\n",
      "\u001b[34m\u001b[1mwandb\u001b[0m: \thidden_size1: 20\n",
      "\u001b[34m\u001b[1mwandb\u001b[0m: \thidden_size2: 30\n",
      "\u001b[34m\u001b[1mwandb\u001b[0m: \thidden_size3: 40\n",
      "\u001b[34m\u001b[1mwandb\u001b[0m: \tlr: 0.0003149235655135774\n",
      "\u001b[34m\u001b[1mwandb\u001b[0m: \tweight_decay: 0.0004993432046158795\n"
     ]
    },
    {
     "data": {
      "text/html": [
       "Tracking run with wandb version 0.20.1"
      ],
      "text/plain": [
       "<IPython.core.display.HTML object>"
      ]
     },
     "metadata": {},
     "output_type": "display_data"
    },
    {
     "data": {
      "text/html": [
       "W&B syncing is set to <code>`offline`<code> in this directory. Run <code>`wandb online`<code> or set <code>WANDB_MODE=online<code> to enable cloud syncing."
      ],
      "text/plain": [
       "<IPython.core.display.HTML object>"
      ]
     },
     "metadata": {},
     "output_type": "display_data"
    },
    {
     "name": "stderr",
     "output_type": "stream",
     "text": [
      "100%|██████████| 200/200 [04:53<00:00,  1.47s/it]\n"
     ]
    },
    {
     "data": {
      "text/html": [],
      "text/plain": [
       "<IPython.core.display.HTML object>"
      ]
     },
     "metadata": {},
     "output_type": "display_data"
    },
    {
     "data": {
      "text/html": [
       "<br>    <style><br>        .wandb-row {<br>            display: flex;<br>            flex-direction: row;<br>            flex-wrap: wrap;<br>            justify-content: flex-start;<br>            width: 100%;<br>        }<br>        .wandb-col {<br>            display: flex;<br>            flex-direction: column;<br>            flex-basis: 100%;<br>            flex: 1;<br>            padding: 10px;<br>        }<br>    </style><br><div class=\"wandb-row\"><div class=\"wandb-col\"><h3>Run history:</h3><br/><table class=\"wandb\"><tr><td>GCNConvEdge-4Layers/Accuracy</td><td>▁</td></tr><tr><td>GCNConvEdge-4Layers/F1-score</td><td>▁</td></tr><tr><td>GCNConvEdge-4Layers/FalseNegatives</td><td>▁</td></tr><tr><td>GCNConvEdge-4Layers/FalsePositives</td><td>▁</td></tr><tr><td>GCNConvEdge-4Layers/Precision</td><td>▁</td></tr><tr><td>GCNConvEdge-4Layers/Recall</td><td>▁</td></tr><tr><td>GCNConvEdge-4Layers/TrueNegatives</td><td>▁</td></tr><tr><td>GCNConvEdge-4Layers/TruePositives</td><td>▁</td></tr><tr><td>GCNConvEdge-4Layers/test_acc</td><td>▁▁▁▁▁▁▁▁▁▁▁▁▁▁▁▁▂▇▇▇▇▇▇▇▇█▇▇▇▇▇▇█▇██▇▇▇▇</td></tr><tr><td>GCNConvEdge-4Layers/train_acc</td><td>▁▁▁▁▁▁▁▁▁▁▁▁▁▁▂▇▇▇▇▇▇▇▇▇▇▇▇▇▇▇▇▇█▇▇█▇▇▇█</td></tr></table><br/></div><div class=\"wandb-col\"><h3>Run summary:</h3><br/><table class=\"wandb\"><tr><td>GCNConvEdge-4Layers/Accuracy</td><td>0.93023</td></tr><tr><td>GCNConvEdge-4Layers/F1-score</td><td>0.53333</td></tr><tr><td>GCNConvEdge-4Layers/FalseNegatives</td><td>51</td></tr><tr><td>GCNConvEdge-4Layers/FalsePositives</td><td>12</td></tr><tr><td>GCNConvEdge-4Layers/Precision</td><td>0.75</td></tr><tr><td>GCNConvEdge-4Layers/Recall</td><td>0.41379</td></tr><tr><td>GCNConvEdge-4Layers/TrueNegatives</td><td>804</td></tr><tr><td>GCNConvEdge-4Layers/TruePositives</td><td>36</td></tr><tr><td>GCNConvEdge-4Layers/test_acc</td><td>0.93023</td></tr><tr><td>GCNConvEdge-4Layers/train_acc</td><td>0.93023</td></tr><tr><td>GCNConvEdge4Layers/FalsePositives</td><td>12</td></tr></table><br/></div></div>"
      ],
      "text/plain": [
       "<IPython.core.display.HTML object>"
      ]
     },
     "metadata": {},
     "output_type": "display_data"
    },
    {
     "data": {
      "text/html": [
       "You can sync this run to the cloud by running:<br><code>wandb sync E:\\THY\\EDC-AOP\\GNN\\wandb_runs\\wandb\\offline-run-20250812_015850-q1991kpf<code>"
      ],
      "text/plain": [
       "<IPython.core.display.HTML object>"
      ]
     },
     "metadata": {},
     "output_type": "display_data"
    },
    {
     "data": {
      "text/html": [
       "Find logs at: <code>E:\\THY\\EDC-AOP\\GNN\\wandb_runs\\wandb\\offline-run-20250812_015850-q1991kpf\\logs</code>"
      ],
      "text/plain": [
       "<IPython.core.display.HTML object>"
      ]
     },
     "metadata": {},
     "output_type": "display_data"
    },
    {
     "name": "stderr",
     "output_type": "stream",
     "text": [
      "\u001b[34m\u001b[1mwandb\u001b[0m: Agent Starting Run: gnog15iv with config:\n",
      "\u001b[34m\u001b[1mwandb\u001b[0m: \tbatch_size: 50\n",
      "\u001b[34m\u001b[1mwandb\u001b[0m: \thidden_size1: 50\n",
      "\u001b[34m\u001b[1mwandb\u001b[0m: \thidden_size2: 20\n",
      "\u001b[34m\u001b[1mwandb\u001b[0m: \thidden_size3: 60\n",
      "\u001b[34m\u001b[1mwandb\u001b[0m: \tlr: 0.0005026646426829573\n",
      "\u001b[34m\u001b[1mwandb\u001b[0m: \tweight_decay: 0.0005105643375425622\n"
     ]
    },
    {
     "data": {
      "text/html": [
       "Tracking run with wandb version 0.20.1"
      ],
      "text/plain": [
       "<IPython.core.display.HTML object>"
      ]
     },
     "metadata": {},
     "output_type": "display_data"
    },
    {
     "data": {
      "text/html": [
       "W&B syncing is set to <code>`offline`<code> in this directory. Run <code>`wandb online`<code> or set <code>WANDB_MODE=online<code> to enable cloud syncing."
      ],
      "text/plain": [
       "<IPython.core.display.HTML object>"
      ]
     },
     "metadata": {},
     "output_type": "display_data"
    },
    {
     "name": "stderr",
     "output_type": "stream",
     "text": [
      "100%|██████████| 200/200 [05:14<00:00,  1.57s/it]\n"
     ]
    },
    {
     "data": {
      "text/html": [],
      "text/plain": [
       "<IPython.core.display.HTML object>"
      ]
     },
     "metadata": {},
     "output_type": "display_data"
    },
    {
     "data": {
      "text/html": [
       "<br>    <style><br>        .wandb-row {<br>            display: flex;<br>            flex-direction: row;<br>            flex-wrap: wrap;<br>            justify-content: flex-start;<br>            width: 100%;<br>        }<br>        .wandb-col {<br>            display: flex;<br>            flex-direction: column;<br>            flex-basis: 100%;<br>            flex: 1;<br>            padding: 10px;<br>        }<br>    </style><br><div class=\"wandb-row\"><div class=\"wandb-col\"><h3>Run history:</h3><br/><table class=\"wandb\"><tr><td>GCNConvEdge-4Layers/Accuracy</td><td>▁</td></tr><tr><td>GCNConvEdge-4Layers/F1-score</td><td>▁</td></tr><tr><td>GCNConvEdge-4Layers/FalseNegatives</td><td>▁</td></tr><tr><td>GCNConvEdge-4Layers/FalsePositives</td><td>▁</td></tr><tr><td>GCNConvEdge-4Layers/Precision</td><td>▁</td></tr><tr><td>GCNConvEdge-4Layers/Recall</td><td>▁</td></tr><tr><td>GCNConvEdge-4Layers/TrueNegatives</td><td>▁</td></tr><tr><td>GCNConvEdge-4Layers/TruePositives</td><td>▁</td></tr><tr><td>GCNConvEdge-4Layers/test_acc</td><td>▁▁▁▁▁▁▁▁▁▁▁▁▄▂█▄▅▅▄▅█▅▅▅▅▅▅▅▆▆▅▅▆▆▅▆▅▆▅▆</td></tr><tr><td>GCNConvEdge-4Layers/train_acc</td><td>▁▁▁▁▁▁▁▁▁▁▁▁▅▅▆▆▆▆▆▆▆▆▆▆█▆▆▆█▆▆▆▆██▆▆▆▆▆</td></tr></table><br/></div><div class=\"wandb-col\"><h3>Run summary:</h3><br/><table class=\"wandb\"><tr><td>GCNConvEdge-4Layers/Accuracy</td><td>0.94463</td></tr><tr><td>GCNConvEdge-4Layers/F1-score</td><td>0.67949</td></tr><tr><td>GCNConvEdge-4Layers/FalseNegatives</td><td>34</td></tr><tr><td>GCNConvEdge-4Layers/FalsePositives</td><td>16</td></tr><tr><td>GCNConvEdge-4Layers/Precision</td><td>0.76812</td></tr><tr><td>GCNConvEdge-4Layers/Recall</td><td>0.6092</td></tr><tr><td>GCNConvEdge-4Layers/TrueNegatives</td><td>800</td></tr><tr><td>GCNConvEdge-4Layers/TruePositives</td><td>53</td></tr><tr><td>GCNConvEdge-4Layers/test_acc</td><td>0.94463</td></tr><tr><td>GCNConvEdge-4Layers/train_acc</td><td>0.94463</td></tr><tr><td>GCNConvEdge4Layers/FalsePositives</td><td>16</td></tr></table><br/></div></div>"
      ],
      "text/plain": [
       "<IPython.core.display.HTML object>"
      ]
     },
     "metadata": {},
     "output_type": "display_data"
    },
    {
     "data": {
      "text/html": [
       "You can sync this run to the cloud by running:<br><code>wandb sync E:\\THY\\EDC-AOP\\GNN\\wandb_runs\\wandb\\offline-run-20250812_020348-gnog15iv<code>"
      ],
      "text/plain": [
       "<IPython.core.display.HTML object>"
      ]
     },
     "metadata": {},
     "output_type": "display_data"
    },
    {
     "data": {
      "text/html": [
       "Find logs at: <code>E:\\THY\\EDC-AOP\\GNN\\wandb_runs\\wandb\\offline-run-20250812_020348-gnog15iv\\logs</code>"
      ],
      "text/plain": [
       "<IPython.core.display.HTML object>"
      ]
     },
     "metadata": {},
     "output_type": "display_data"
    },
    {
     "name": "stderr",
     "output_type": "stream",
     "text": [
      "\u001b[34m\u001b[1mwandb\u001b[0m: Sweep Agent: Waiting for job.\n",
      "\u001b[34m\u001b[1mwandb\u001b[0m: Job received.\n",
      "\u001b[34m\u001b[1mwandb\u001b[0m: Agent Starting Run: t4ufj57v with config:\n",
      "\u001b[34m\u001b[1mwandb\u001b[0m: \tbatch_size: 50\n",
      "\u001b[34m\u001b[1mwandb\u001b[0m: \thidden_size1: 60\n",
      "\u001b[34m\u001b[1mwandb\u001b[0m: \thidden_size2: 10\n",
      "\u001b[34m\u001b[1mwandb\u001b[0m: \thidden_size3: 40\n",
      "\u001b[34m\u001b[1mwandb\u001b[0m: \tlr: 0.0004747885725318372\n",
      "\u001b[34m\u001b[1mwandb\u001b[0m: \tweight_decay: 0.0004910197348067454\n"
     ]
    },
    {
     "data": {
      "text/html": [
       "Tracking run with wandb version 0.20.1"
      ],
      "text/plain": [
       "<IPython.core.display.HTML object>"
      ]
     },
     "metadata": {},
     "output_type": "display_data"
    },
    {
     "data": {
      "text/html": [
       "W&B syncing is set to <code>`offline`<code> in this directory. Run <code>`wandb online`<code> or set <code>WANDB_MODE=online<code> to enable cloud syncing."
      ],
      "text/plain": [
       "<IPython.core.display.HTML object>"
      ]
     },
     "metadata": {},
     "output_type": "display_data"
    },
    {
     "name": "stderr",
     "output_type": "stream",
     "text": [
      "100%|██████████| 200/200 [04:52<00:00,  1.46s/it]\n"
     ]
    },
    {
     "data": {
      "text/html": [],
      "text/plain": [
       "<IPython.core.display.HTML object>"
      ]
     },
     "metadata": {},
     "output_type": "display_data"
    },
    {
     "data": {
      "text/html": [
       "<br>    <style><br>        .wandb-row {<br>            display: flex;<br>            flex-direction: row;<br>            flex-wrap: wrap;<br>            justify-content: flex-start;<br>            width: 100%;<br>        }<br>        .wandb-col {<br>            display: flex;<br>            flex-direction: column;<br>            flex-basis: 100%;<br>            flex: 1;<br>            padding: 10px;<br>        }<br>    </style><br><div class=\"wandb-row\"><div class=\"wandb-col\"><h3>Run history:</h3><br/><table class=\"wandb\"><tr><td>GCNConvEdge-4Layers/Accuracy</td><td>▁</td></tr><tr><td>GCNConvEdge-4Layers/F1-score</td><td>▁</td></tr><tr><td>GCNConvEdge-4Layers/FalseNegatives</td><td>▁</td></tr><tr><td>GCNConvEdge-4Layers/FalsePositives</td><td>▁</td></tr><tr><td>GCNConvEdge-4Layers/Precision</td><td>▁</td></tr><tr><td>GCNConvEdge-4Layers/Recall</td><td>▁</td></tr><tr><td>GCNConvEdge-4Layers/TrueNegatives</td><td>▁</td></tr><tr><td>GCNConvEdge-4Layers/TruePositives</td><td>▁</td></tr><tr><td>GCNConvEdge-4Layers/test_acc</td><td>▁▁▁▁▁▁▁▁▁▆▆▆█▆▆█▆▆▆▇▆▆▆▆▆██▆▆▆▆▆█▆▆▆█▆▆▆</td></tr><tr><td>GCNConvEdge-4Layers/train_acc</td><td>▁▁▁▁▁▁▁▁▂▂▅▆▆▆▆▆▆▆▆█▆▆▆▆▇▆▆▆██▆▆▆█▆▆▆▆▆▆</td></tr></table><br/></div><div class=\"wandb-col\"><h3>Run summary:</h3><br/><table class=\"wandb\"><tr><td>GCNConvEdge-4Layers/Accuracy</td><td>0.93577</td></tr><tr><td>GCNConvEdge-4Layers/F1-score</td><td>0.57971</td></tr><tr><td>GCNConvEdge-4Layers/FalseNegatives</td><td>47</td></tr><tr><td>GCNConvEdge-4Layers/FalsePositives</td><td>11</td></tr><tr><td>GCNConvEdge-4Layers/Precision</td><td>0.78431</td></tr><tr><td>GCNConvEdge-4Layers/Recall</td><td>0.45977</td></tr><tr><td>GCNConvEdge-4Layers/TrueNegatives</td><td>805</td></tr><tr><td>GCNConvEdge-4Layers/TruePositives</td><td>40</td></tr><tr><td>GCNConvEdge-4Layers/test_acc</td><td>0.93577</td></tr><tr><td>GCNConvEdge-4Layers/train_acc</td><td>0.93577</td></tr><tr><td>GCNConvEdge4Layers/FalsePositives</td><td>11</td></tr></table><br/></div></div>"
      ],
      "text/plain": [
       "<IPython.core.display.HTML object>"
      ]
     },
     "metadata": {},
     "output_type": "display_data"
    },
    {
     "data": {
      "text/html": [
       "You can sync this run to the cloud by running:<br><code>wandb sync E:\\THY\\EDC-AOP\\GNN\\wandb_runs\\wandb\\offline-run-20250812_020914-t4ufj57v<code>"
      ],
      "text/plain": [
       "<IPython.core.display.HTML object>"
      ]
     },
     "metadata": {},
     "output_type": "display_data"
    },
    {
     "data": {
      "text/html": [
       "Find logs at: <code>E:\\THY\\EDC-AOP\\GNN\\wandb_runs\\wandb\\offline-run-20250812_020914-t4ufj57v\\logs</code>"
      ],
      "text/plain": [
       "<IPython.core.display.HTML object>"
      ]
     },
     "metadata": {},
     "output_type": "display_data"
    },
    {
     "name": "stderr",
     "output_type": "stream",
     "text": [
      "\u001b[34m\u001b[1mwandb\u001b[0m: Agent Starting Run: z57gdbrv with config:\n",
      "\u001b[34m\u001b[1mwandb\u001b[0m: \tbatch_size: 200\n",
      "\u001b[34m\u001b[1mwandb\u001b[0m: \thidden_size1: 20\n",
      "\u001b[34m\u001b[1mwandb\u001b[0m: \thidden_size2: 80\n",
      "\u001b[34m\u001b[1mwandb\u001b[0m: \thidden_size3: 40\n",
      "\u001b[34m\u001b[1mwandb\u001b[0m: \tlr: 0.0005855525593884546\n",
      "\u001b[34m\u001b[1mwandb\u001b[0m: \tweight_decay: 0.0005150926605720456\n"
     ]
    },
    {
     "data": {
      "text/html": [
       "Tracking run with wandb version 0.20.1"
      ],
      "text/plain": [
       "<IPython.core.display.HTML object>"
      ]
     },
     "metadata": {},
     "output_type": "display_data"
    },
    {
     "data": {
      "text/html": [
       "W&B syncing is set to <code>`offline`<code> in this directory. Run <code>`wandb online`<code> or set <code>WANDB_MODE=online<code> to enable cloud syncing."
      ],
      "text/plain": [
       "<IPython.core.display.HTML object>"
      ]
     },
     "metadata": {},
     "output_type": "display_data"
    },
    {
     "name": "stderr",
     "output_type": "stream",
     "text": [
      "100%|██████████| 200/200 [03:50<00:00,  1.15s/it]\n"
     ]
    },
    {
     "data": {
      "text/html": [],
      "text/plain": [
       "<IPython.core.display.HTML object>"
      ]
     },
     "metadata": {},
     "output_type": "display_data"
    },
    {
     "data": {
      "text/html": [
       "<br>    <style><br>        .wandb-row {<br>            display: flex;<br>            flex-direction: row;<br>            flex-wrap: wrap;<br>            justify-content: flex-start;<br>            width: 100%;<br>        }<br>        .wandb-col {<br>            display: flex;<br>            flex-direction: column;<br>            flex-basis: 100%;<br>            flex: 1;<br>            padding: 10px;<br>        }<br>    </style><br><div class=\"wandb-row\"><div class=\"wandb-col\"><h3>Run history:</h3><br/><table class=\"wandb\"><tr><td>GCNConvEdge-4Layers/Accuracy</td><td>▁</td></tr><tr><td>GCNConvEdge-4Layers/F1-score</td><td>▁</td></tr><tr><td>GCNConvEdge-4Layers/FalseNegatives</td><td>▁</td></tr><tr><td>GCNConvEdge-4Layers/FalsePositives</td><td>▁</td></tr><tr><td>GCNConvEdge-4Layers/Precision</td><td>▁</td></tr><tr><td>GCNConvEdge-4Layers/Recall</td><td>▁</td></tr><tr><td>GCNConvEdge-4Layers/TrueNegatives</td><td>▁</td></tr><tr><td>GCNConvEdge-4Layers/TruePositives</td><td>▁</td></tr><tr><td>GCNConvEdge-4Layers/test_acc</td><td>▁▁▁▁▁▁▁▁▁▁▁▁▁▁▂▆▆▆▆▆▆▆▆▆▆▆▆▆▆▆▆▆▆▆▆█▆▆▆▆</td></tr><tr><td>GCNConvEdge-4Layers/train_acc</td><td>▁▁▁▁▁▁▁▁▁▁▃▇▇▇▇▇▇▇▇▇▇▇▇▇▇▇▇▇▇▇▇▇▇▇▇▇█▇██</td></tr></table><br/></div><div class=\"wandb-col\"><h3>Run summary:</h3><br/><table class=\"wandb\"><tr><td>GCNConvEdge-4Layers/Accuracy</td><td>0.93466</td></tr><tr><td>GCNConvEdge-4Layers/F1-score</td><td>0.57554</td></tr><tr><td>GCNConvEdge-4Layers/FalseNegatives</td><td>47</td></tr><tr><td>GCNConvEdge-4Layers/FalsePositives</td><td>12</td></tr><tr><td>GCNConvEdge-4Layers/Precision</td><td>0.76923</td></tr><tr><td>GCNConvEdge-4Layers/Recall</td><td>0.45977</td></tr><tr><td>GCNConvEdge-4Layers/TrueNegatives</td><td>804</td></tr><tr><td>GCNConvEdge-4Layers/TruePositives</td><td>40</td></tr><tr><td>GCNConvEdge-4Layers/test_acc</td><td>0.93466</td></tr><tr><td>GCNConvEdge-4Layers/train_acc</td><td>0.93466</td></tr><tr><td>GCNConvEdge4Layers/FalsePositives</td><td>12</td></tr></table><br/></div></div>"
      ],
      "text/plain": [
       "<IPython.core.display.HTML object>"
      ]
     },
     "metadata": {},
     "output_type": "display_data"
    },
    {
     "data": {
      "text/html": [
       "You can sync this run to the cloud by running:<br><code>wandb sync E:\\THY\\EDC-AOP\\GNN\\wandb_runs\\wandb\\offline-run-20250812_021413-z57gdbrv<code>"
      ],
      "text/plain": [
       "<IPython.core.display.HTML object>"
      ]
     },
     "metadata": {},
     "output_type": "display_data"
    },
    {
     "data": {
      "text/html": [
       "Find logs at: <code>E:\\THY\\EDC-AOP\\GNN\\wandb_runs\\wandb\\offline-run-20250812_021413-z57gdbrv\\logs</code>"
      ],
      "text/plain": [
       "<IPython.core.display.HTML object>"
      ]
     },
     "metadata": {},
     "output_type": "display_data"
    },
    {
     "name": "stderr",
     "output_type": "stream",
     "text": [
      "\u001b[34m\u001b[1mwandb\u001b[0m: Agent Starting Run: bq48ollz with config:\n",
      "\u001b[34m\u001b[1mwandb\u001b[0m: \tbatch_size: 300\n",
      "\u001b[34m\u001b[1mwandb\u001b[0m: \thidden_size1: 50\n",
      "\u001b[34m\u001b[1mwandb\u001b[0m: \thidden_size2: 50\n",
      "\u001b[34m\u001b[1mwandb\u001b[0m: \thidden_size3: 60\n",
      "\u001b[34m\u001b[1mwandb\u001b[0m: \tlr: 0.00027472362345084763\n",
      "\u001b[34m\u001b[1mwandb\u001b[0m: \tweight_decay: 0.00048157765002374784\n"
     ]
    },
    {
     "data": {
      "text/html": [
       "Tracking run with wandb version 0.20.1"
      ],
      "text/plain": [
       "<IPython.core.display.HTML object>"
      ]
     },
     "metadata": {},
     "output_type": "display_data"
    },
    {
     "data": {
      "text/html": [
       "W&B syncing is set to <code>`offline`<code> in this directory. Run <code>`wandb online`<code> or set <code>WANDB_MODE=online<code> to enable cloud syncing."
      ],
      "text/plain": [
       "<IPython.core.display.HTML object>"
      ]
     },
     "metadata": {},
     "output_type": "display_data"
    },
    {
     "name": "stderr",
     "output_type": "stream",
     "text": [
      "100%|██████████| 200/200 [03:52<00:00,  1.16s/it]\n"
     ]
    },
    {
     "data": {
      "text/html": [],
      "text/plain": [
       "<IPython.core.display.HTML object>"
      ]
     },
     "metadata": {},
     "output_type": "display_data"
    },
    {
     "data": {
      "text/html": [
       "<br>    <style><br>        .wandb-row {<br>            display: flex;<br>            flex-direction: row;<br>            flex-wrap: wrap;<br>            justify-content: flex-start;<br>            width: 100%;<br>        }<br>        .wandb-col {<br>            display: flex;<br>            flex-direction: column;<br>            flex-basis: 100%;<br>            flex: 1;<br>            padding: 10px;<br>        }<br>    </style><br><div class=\"wandb-row\"><div class=\"wandb-col\"><h3>Run history:</h3><br/><table class=\"wandb\"><tr><td>GCNConvEdge-4Layers/Accuracy</td><td>▁</td></tr><tr><td>GCNConvEdge-4Layers/F1-score</td><td>▁</td></tr><tr><td>GCNConvEdge-4Layers/FalseNegatives</td><td>▁</td></tr><tr><td>GCNConvEdge-4Layers/FalsePositives</td><td>▁</td></tr><tr><td>GCNConvEdge-4Layers/Precision</td><td>▁</td></tr><tr><td>GCNConvEdge-4Layers/Recall</td><td>▁</td></tr><tr><td>GCNConvEdge-4Layers/TrueNegatives</td><td>▁</td></tr><tr><td>GCNConvEdge-4Layers/TruePositives</td><td>▁</td></tr><tr><td>GCNConvEdge-4Layers/test_acc</td><td>▁▁▁▁▁▁▁▁▁▁▁▁▁▁▁▁▁▁▁▁▁▁▁▁▁▁▁▁▁▁▁▁▁▁▁▁▁▁▁▁</td></tr><tr><td>GCNConvEdge-4Layers/train_acc</td><td>▁▁▁▁▁▁▁▁▁▁▁▁▁▁▁▁▁▁▁▁▁▁▁▁▁▁▁▁▁▁▁▁▁▁▁▁▁▁▁▁</td></tr></table><br/></div><div class=\"wandb-col\"><h3>Run summary:</h3><br/><table class=\"wandb\"><tr><td>GCNConvEdge-4Layers/Accuracy</td><td>0.90365</td></tr><tr><td>GCNConvEdge-4Layers/F1-score</td><td>0</td></tr><tr><td>GCNConvEdge-4Layers/FalseNegatives</td><td>87</td></tr><tr><td>GCNConvEdge-4Layers/FalsePositives</td><td>0</td></tr><tr><td>GCNConvEdge-4Layers/Precision</td><td>0</td></tr><tr><td>GCNConvEdge-4Layers/Recall</td><td>0</td></tr><tr><td>GCNConvEdge-4Layers/TrueNegatives</td><td>816</td></tr><tr><td>GCNConvEdge-4Layers/TruePositives</td><td>0</td></tr><tr><td>GCNConvEdge-4Layers/test_acc</td><td>0.90365</td></tr><tr><td>GCNConvEdge-4Layers/train_acc</td><td>0.90365</td></tr><tr><td>GCNConvEdge4Layers/FalsePositives</td><td>0</td></tr></table><br/></div></div>"
      ],
      "text/plain": [
       "<IPython.core.display.HTML object>"
      ]
     },
     "metadata": {},
     "output_type": "display_data"
    },
    {
     "data": {
      "text/html": [
       "You can sync this run to the cloud by running:<br><code>wandb sync E:\\THY\\EDC-AOP\\GNN\\wandb_runs\\wandb\\offline-run-20250812_021806-bq48ollz<code>"
      ],
      "text/plain": [
       "<IPython.core.display.HTML object>"
      ]
     },
     "metadata": {},
     "output_type": "display_data"
    },
    {
     "data": {
      "text/html": [
       "Find logs at: <code>E:\\THY\\EDC-AOP\\GNN\\wandb_runs\\wandb\\offline-run-20250812_021806-bq48ollz\\logs</code>"
      ],
      "text/plain": [
       "<IPython.core.display.HTML object>"
      ]
     },
     "metadata": {},
     "output_type": "display_data"
    },
    {
     "name": "stderr",
     "output_type": "stream",
     "text": [
      "\u001b[34m\u001b[1mwandb\u001b[0m: Agent Starting Run: qvozpzxf with config:\n",
      "\u001b[34m\u001b[1mwandb\u001b[0m: \tbatch_size: 50\n",
      "\u001b[34m\u001b[1mwandb\u001b[0m: \thidden_size1: 50\n",
      "\u001b[34m\u001b[1mwandb\u001b[0m: \thidden_size2: 100\n",
      "\u001b[34m\u001b[1mwandb\u001b[0m: \thidden_size3: 60\n",
      "\u001b[34m\u001b[1mwandb\u001b[0m: \tlr: 0.0004644987166669757\n",
      "\u001b[34m\u001b[1mwandb\u001b[0m: \tweight_decay: 0.0005011614710338505\n"
     ]
    },
    {
     "data": {
      "text/html": [
       "Tracking run with wandb version 0.20.1"
      ],
      "text/plain": [
       "<IPython.core.display.HTML object>"
      ]
     },
     "metadata": {},
     "output_type": "display_data"
    },
    {
     "data": {
      "text/html": [
       "W&B syncing is set to <code>`offline`<code> in this directory. Run <code>`wandb online`<code> or set <code>WANDB_MODE=online<code> to enable cloud syncing."
      ],
      "text/plain": [
       "<IPython.core.display.HTML object>"
      ]
     },
     "metadata": {},
     "output_type": "display_data"
    },
    {
     "name": "stderr",
     "output_type": "stream",
     "text": [
      "100%|██████████| 200/200 [05:00<00:00,  1.50s/it]\n"
     ]
    },
    {
     "data": {
      "text/html": [],
      "text/plain": [
       "<IPython.core.display.HTML object>"
      ]
     },
     "metadata": {},
     "output_type": "display_data"
    },
    {
     "data": {
      "text/html": [
       "<br>    <style><br>        .wandb-row {<br>            display: flex;<br>            flex-direction: row;<br>            flex-wrap: wrap;<br>            justify-content: flex-start;<br>            width: 100%;<br>        }<br>        .wandb-col {<br>            display: flex;<br>            flex-direction: column;<br>            flex-basis: 100%;<br>            flex: 1;<br>            padding: 10px;<br>        }<br>    </style><br><div class=\"wandb-row\"><div class=\"wandb-col\"><h3>Run history:</h3><br/><table class=\"wandb\"><tr><td>GCNConvEdge-4Layers/Accuracy</td><td>▁</td></tr><tr><td>GCNConvEdge-4Layers/F1-score</td><td>▁</td></tr><tr><td>GCNConvEdge-4Layers/FalseNegatives</td><td>▁</td></tr><tr><td>GCNConvEdge-4Layers/FalsePositives</td><td>▁</td></tr><tr><td>GCNConvEdge-4Layers/Precision</td><td>▁</td></tr><tr><td>GCNConvEdge-4Layers/Recall</td><td>▁</td></tr><tr><td>GCNConvEdge-4Layers/TrueNegatives</td><td>▁</td></tr><tr><td>GCNConvEdge-4Layers/TruePositives</td><td>▁</td></tr><tr><td>GCNConvEdge-4Layers/test_acc</td><td>▁▁▁▁▁▁▁▆▅▅▄▄▅▅▆▆▄▆▅▆▅▄▅▅▅▅▅▅▅▅█▅▅▅▅▅▆▅▅▅</td></tr><tr><td>GCNConvEdge-4Layers/train_acc</td><td>▁▁▁▁▁▁▁▁▁▅▅▆▆▆▅▇▅▆▇▅▆▆▇▅▅▆▆█▇▆▆▆▆▆▆▆▆▇▆▆</td></tr></table><br/></div><div class=\"wandb-col\"><h3>Run summary:</h3><br/><table class=\"wandb\"><tr><td>GCNConvEdge-4Layers/Accuracy</td><td>0.93577</td></tr><tr><td>GCNConvEdge-4Layers/F1-score</td><td>0.57971</td></tr><tr><td>GCNConvEdge-4Layers/FalseNegatives</td><td>47</td></tr><tr><td>GCNConvEdge-4Layers/FalsePositives</td><td>11</td></tr><tr><td>GCNConvEdge-4Layers/Precision</td><td>0.78431</td></tr><tr><td>GCNConvEdge-4Layers/Recall</td><td>0.45977</td></tr><tr><td>GCNConvEdge-4Layers/TrueNegatives</td><td>805</td></tr><tr><td>GCNConvEdge-4Layers/TruePositives</td><td>40</td></tr><tr><td>GCNConvEdge-4Layers/test_acc</td><td>0.93577</td></tr><tr><td>GCNConvEdge-4Layers/train_acc</td><td>0.93577</td></tr><tr><td>GCNConvEdge4Layers/FalsePositives</td><td>11</td></tr></table><br/></div></div>"
      ],
      "text/plain": [
       "<IPython.core.display.HTML object>"
      ]
     },
     "metadata": {},
     "output_type": "display_data"
    },
    {
     "data": {
      "text/html": [
       "You can sync this run to the cloud by running:<br><code>wandb sync E:\\THY\\EDC-AOP\\GNN\\wandb_runs\\wandb\\offline-run-20250812_022204-qvozpzxf<code>"
      ],
      "text/plain": [
       "<IPython.core.display.HTML object>"
      ]
     },
     "metadata": {},
     "output_type": "display_data"
    },
    {
     "data": {
      "text/html": [
       "Find logs at: <code>E:\\THY\\EDC-AOP\\GNN\\wandb_runs\\wandb\\offline-run-20250812_022204-qvozpzxf\\logs</code>"
      ],
      "text/plain": [
       "<IPython.core.display.HTML object>"
      ]
     },
     "metadata": {},
     "output_type": "display_data"
    },
    {
     "name": "stderr",
     "output_type": "stream",
     "text": [
      "\u001b[34m\u001b[1mwandb\u001b[0m: Sweep Agent: Waiting for job.\n",
      "\u001b[34m\u001b[1mwandb\u001b[0m: Job received.\n",
      "\u001b[34m\u001b[1mwandb\u001b[0m: Agent Starting Run: whzmyhto with config:\n",
      "\u001b[34m\u001b[1mwandb\u001b[0m: \tbatch_size: 300\n",
      "\u001b[34m\u001b[1mwandb\u001b[0m: \thidden_size1: 40\n",
      "\u001b[34m\u001b[1mwandb\u001b[0m: \thidden_size2: 60\n",
      "\u001b[34m\u001b[1mwandb\u001b[0m: \thidden_size3: 50\n",
      "\u001b[34m\u001b[1mwandb\u001b[0m: \tlr: 0.0008756647075625584\n",
      "\u001b[34m\u001b[1mwandb\u001b[0m: \tweight_decay: 0.0005074110087506592\n"
     ]
    },
    {
     "data": {
      "text/html": [
       "Tracking run with wandb version 0.20.1"
      ],
      "text/plain": [
       "<IPython.core.display.HTML object>"
      ]
     },
     "metadata": {},
     "output_type": "display_data"
    },
    {
     "data": {
      "text/html": [
       "W&B syncing is set to <code>`offline`<code> in this directory. Run <code>`wandb online`<code> or set <code>WANDB_MODE=online<code> to enable cloud syncing."
      ],
      "text/plain": [
       "<IPython.core.display.HTML object>"
      ]
     },
     "metadata": {},
     "output_type": "display_data"
    },
    {
     "name": "stderr",
     "output_type": "stream",
     "text": [
      "100%|██████████| 200/200 [03:56<00:00,  1.18s/it]\n"
     ]
    },
    {
     "data": {
      "text/html": [],
      "text/plain": [
       "<IPython.core.display.HTML object>"
      ]
     },
     "metadata": {},
     "output_type": "display_data"
    },
    {
     "data": {
      "text/html": [
       "<br>    <style><br>        .wandb-row {<br>            display: flex;<br>            flex-direction: row;<br>            flex-wrap: wrap;<br>            justify-content: flex-start;<br>            width: 100%;<br>        }<br>        .wandb-col {<br>            display: flex;<br>            flex-direction: column;<br>            flex-basis: 100%;<br>            flex: 1;<br>            padding: 10px;<br>        }<br>    </style><br><div class=\"wandb-row\"><div class=\"wandb-col\"><h3>Run history:</h3><br/><table class=\"wandb\"><tr><td>GCNConvEdge-4Layers/Accuracy</td><td>▁</td></tr><tr><td>GCNConvEdge-4Layers/F1-score</td><td>▁</td></tr><tr><td>GCNConvEdge-4Layers/FalseNegatives</td><td>▁</td></tr><tr><td>GCNConvEdge-4Layers/FalsePositives</td><td>▁</td></tr><tr><td>GCNConvEdge-4Layers/Precision</td><td>▁</td></tr><tr><td>GCNConvEdge-4Layers/Recall</td><td>▁</td></tr><tr><td>GCNConvEdge-4Layers/TrueNegatives</td><td>▁</td></tr><tr><td>GCNConvEdge-4Layers/TruePositives</td><td>▁</td></tr><tr><td>GCNConvEdge-4Layers/test_acc</td><td>▁▁▁▁▁▁▁▁▁▁▁▁▁▁▁▁▁▁▁▁▁▁▁▁▁▁▁▁▁▁▁█▁▁▃▁▁▁▁▃</td></tr><tr><td>GCNConvEdge-4Layers/train_acc</td><td>▁▁▁▁▁▁▁▁▁▁▁▁▁▁▁▁▁▁▁▁▁▁▁▁▁▁▁▁▁▁▁▁▁▁▁█▃▁▇▇</td></tr></table><br/></div><div class=\"wandb-col\"><h3>Run summary:</h3><br/><table class=\"wandb\"><tr><td>GCNConvEdge-4Layers/Accuracy</td><td>0.9103</td></tr><tr><td>GCNConvEdge-4Layers/F1-score</td><td>0.19802</td></tr><tr><td>GCNConvEdge-4Layers/FalseNegatives</td><td>77</td></tr><tr><td>GCNConvEdge-4Layers/FalsePositives</td><td>4</td></tr><tr><td>GCNConvEdge-4Layers/Precision</td><td>0.71429</td></tr><tr><td>GCNConvEdge-4Layers/Recall</td><td>0.11494</td></tr><tr><td>GCNConvEdge-4Layers/TrueNegatives</td><td>812</td></tr><tr><td>GCNConvEdge-4Layers/TruePositives</td><td>10</td></tr><tr><td>GCNConvEdge-4Layers/test_acc</td><td>0.9103</td></tr><tr><td>GCNConvEdge-4Layers/train_acc</td><td>0.9103</td></tr><tr><td>GCNConvEdge4Layers/FalsePositives</td><td>4</td></tr></table><br/></div></div>"
      ],
      "text/plain": [
       "<IPython.core.display.HTML object>"
      ]
     },
     "metadata": {},
     "output_type": "display_data"
    },
    {
     "data": {
      "text/html": [
       "You can sync this run to the cloud by running:<br><code>wandb sync E:\\THY\\EDC-AOP\\GNN\\wandb_runs\\wandb\\offline-run-20250812_022716-whzmyhto<code>"
      ],
      "text/plain": [
       "<IPython.core.display.HTML object>"
      ]
     },
     "metadata": {},
     "output_type": "display_data"
    },
    {
     "data": {
      "text/html": [
       "Find logs at: <code>E:\\THY\\EDC-AOP\\GNN\\wandb_runs\\wandb\\offline-run-20250812_022716-whzmyhto\\logs</code>"
      ],
      "text/plain": [
       "<IPython.core.display.HTML object>"
      ]
     },
     "metadata": {},
     "output_type": "display_data"
    },
    {
     "name": "stderr",
     "output_type": "stream",
     "text": [
      "\u001b[34m\u001b[1mwandb\u001b[0m: Agent Starting Run: xzeaeacm with config:\n",
      "\u001b[34m\u001b[1mwandb\u001b[0m: \tbatch_size: 100\n",
      "\u001b[34m\u001b[1mwandb\u001b[0m: \thidden_size1: 10\n",
      "\u001b[34m\u001b[1mwandb\u001b[0m: \thidden_size2: 100\n",
      "\u001b[34m\u001b[1mwandb\u001b[0m: \thidden_size3: 50\n",
      "\u001b[34m\u001b[1mwandb\u001b[0m: \tlr: 0.0009348430514871034\n",
      "\u001b[34m\u001b[1mwandb\u001b[0m: \tweight_decay: 0.0004892885044420883\n"
     ]
    },
    {
     "data": {
      "text/html": [
       "Tracking run with wandb version 0.20.1"
      ],
      "text/plain": [
       "<IPython.core.display.HTML object>"
      ]
     },
     "metadata": {},
     "output_type": "display_data"
    },
    {
     "data": {
      "text/html": [
       "W&B syncing is set to <code>`offline`<code> in this directory. Run <code>`wandb online`<code> or set <code>WANDB_MODE=online<code> to enable cloud syncing."
      ],
      "text/plain": [
       "<IPython.core.display.HTML object>"
      ]
     },
     "metadata": {},
     "output_type": "display_data"
    },
    {
     "name": "stderr",
     "output_type": "stream",
     "text": [
      "100%|██████████| 200/200 [04:13<00:00,  1.27s/it]\n"
     ]
    },
    {
     "data": {
      "text/html": [],
      "text/plain": [
       "<IPython.core.display.HTML object>"
      ]
     },
     "metadata": {},
     "output_type": "display_data"
    },
    {
     "data": {
      "text/html": [
       "<br>    <style><br>        .wandb-row {<br>            display: flex;<br>            flex-direction: row;<br>            flex-wrap: wrap;<br>            justify-content: flex-start;<br>            width: 100%;<br>        }<br>        .wandb-col {<br>            display: flex;<br>            flex-direction: column;<br>            flex-basis: 100%;<br>            flex: 1;<br>            padding: 10px;<br>        }<br>    </style><br><div class=\"wandb-row\"><div class=\"wandb-col\"><h3>Run history:</h3><br/><table class=\"wandb\"><tr><td>GCNConvEdge-4Layers/Accuracy</td><td>▁</td></tr><tr><td>GCNConvEdge-4Layers/F1-score</td><td>▁</td></tr><tr><td>GCNConvEdge-4Layers/FalseNegatives</td><td>▁</td></tr><tr><td>GCNConvEdge-4Layers/FalsePositives</td><td>▁</td></tr><tr><td>GCNConvEdge-4Layers/Precision</td><td>▁</td></tr><tr><td>GCNConvEdge-4Layers/Recall</td><td>▁</td></tr><tr><td>GCNConvEdge-4Layers/TrueNegatives</td><td>▁</td></tr><tr><td>GCNConvEdge-4Layers/TruePositives</td><td>▁</td></tr><tr><td>GCNConvEdge-4Layers/test_acc</td><td>▁▁▁▁▁▁▁▁▁▁▁▁█▂▅▆▆▇▅▅▅▆▆▆▆▆▅▆▆▆█▆▅▆▆▆▆▆▆▆</td></tr><tr><td>GCNConvEdge-4Layers/train_acc</td><td>▁▁▁▁▁▁▁▁▁▁▁▁▁▆█▆▆▆▆▇▆▇▇▆▇▇▆▇▇▇▆▇▇▇▇▆▆▇▇▇</td></tr></table><br/></div><div class=\"wandb-col\"><h3>Run summary:</h3><br/><table class=\"wandb\"><tr><td>GCNConvEdge-4Layers/Accuracy</td><td>0.94131</td></tr><tr><td>GCNConvEdge-4Layers/F1-score</td><td>0.64901</td></tr><tr><td>GCNConvEdge-4Layers/FalseNegatives</td><td>38</td></tr><tr><td>GCNConvEdge-4Layers/FalsePositives</td><td>15</td></tr><tr><td>GCNConvEdge-4Layers/Precision</td><td>0.76562</td></tr><tr><td>GCNConvEdge-4Layers/Recall</td><td>0.56322</td></tr><tr><td>GCNConvEdge-4Layers/TrueNegatives</td><td>801</td></tr><tr><td>GCNConvEdge-4Layers/TruePositives</td><td>49</td></tr><tr><td>GCNConvEdge-4Layers/test_acc</td><td>0.94131</td></tr><tr><td>GCNConvEdge-4Layers/train_acc</td><td>0.94131</td></tr><tr><td>GCNConvEdge4Layers/FalsePositives</td><td>15</td></tr></table><br/></div></div>"
      ],
      "text/plain": [
       "<IPython.core.display.HTML object>"
      ]
     },
     "metadata": {},
     "output_type": "display_data"
    },
    {
     "data": {
      "text/html": [
       "You can sync this run to the cloud by running:<br><code>wandb sync E:\\THY\\EDC-AOP\\GNN\\wandb_runs\\wandb\\offline-run-20250812_023118-xzeaeacm<code>"
      ],
      "text/plain": [
       "<IPython.core.display.HTML object>"
      ]
     },
     "metadata": {},
     "output_type": "display_data"
    },
    {
     "data": {
      "text/html": [
       "Find logs at: <code>E:\\THY\\EDC-AOP\\GNN\\wandb_runs\\wandb\\offline-run-20250812_023118-xzeaeacm\\logs</code>"
      ],
      "text/plain": [
       "<IPython.core.display.HTML object>"
      ]
     },
     "metadata": {},
     "output_type": "display_data"
    },
    {
     "name": "stderr",
     "output_type": "stream",
     "text": [
      "\u001b[34m\u001b[1mwandb\u001b[0m: Agent Starting Run: azyt2ldt with config:\n",
      "\u001b[34m\u001b[1mwandb\u001b[0m: \tbatch_size: 100\n",
      "\u001b[34m\u001b[1mwandb\u001b[0m: \thidden_size1: 20\n",
      "\u001b[34m\u001b[1mwandb\u001b[0m: \thidden_size2: 40\n",
      "\u001b[34m\u001b[1mwandb\u001b[0m: \thidden_size3: 80\n",
      "\u001b[34m\u001b[1mwandb\u001b[0m: \tlr: 0.0003362118909550924\n",
      "\u001b[34m\u001b[1mwandb\u001b[0m: \tweight_decay: 0.0004924992058672548\n"
     ]
    },
    {
     "data": {
      "text/html": [
       "Tracking run with wandb version 0.20.1"
      ],
      "text/plain": [
       "<IPython.core.display.HTML object>"
      ]
     },
     "metadata": {},
     "output_type": "display_data"
    },
    {
     "data": {
      "text/html": [
       "W&B syncing is set to <code>`offline`<code> in this directory. Run <code>`wandb online`<code> or set <code>WANDB_MODE=online<code> to enable cloud syncing."
      ],
      "text/plain": [
       "<IPython.core.display.HTML object>"
      ]
     },
     "metadata": {},
     "output_type": "display_data"
    },
    {
     "name": "stderr",
     "output_type": "stream",
     "text": [
      "100%|██████████| 200/200 [04:24<00:00,  1.32s/it]\n"
     ]
    },
    {
     "data": {
      "text/html": [],
      "text/plain": [
       "<IPython.core.display.HTML object>"
      ]
     },
     "metadata": {},
     "output_type": "display_data"
    },
    {
     "data": {
      "text/html": [
       "<br>    <style><br>        .wandb-row {<br>            display: flex;<br>            flex-direction: row;<br>            flex-wrap: wrap;<br>            justify-content: flex-start;<br>            width: 100%;<br>        }<br>        .wandb-col {<br>            display: flex;<br>            flex-direction: column;<br>            flex-basis: 100%;<br>            flex: 1;<br>            padding: 10px;<br>        }<br>    </style><br><div class=\"wandb-row\"><div class=\"wandb-col\"><h3>Run history:</h3><br/><table class=\"wandb\"><tr><td>GCNConvEdge-4Layers/Accuracy</td><td>▁</td></tr><tr><td>GCNConvEdge-4Layers/F1-score</td><td>▁</td></tr><tr><td>GCNConvEdge-4Layers/FalseNegatives</td><td>▁</td></tr><tr><td>GCNConvEdge-4Layers/FalsePositives</td><td>▁</td></tr><tr><td>GCNConvEdge-4Layers/Precision</td><td>▁</td></tr><tr><td>GCNConvEdge-4Layers/Recall</td><td>▁</td></tr><tr><td>GCNConvEdge-4Layers/TrueNegatives</td><td>▁</td></tr><tr><td>GCNConvEdge-4Layers/TruePositives</td><td>▁</td></tr><tr><td>GCNConvEdge-4Layers/test_acc</td><td>▁▁▁▁▁▁▁▁▁▁▁▁▁▁▁▁▁▁▁▃▃▆██████████████████</td></tr><tr><td>GCNConvEdge-4Layers/train_acc</td><td>▁▁▁▁▁▁▁▁▁▁▁▁▁▁▁▁▃███▇███████████████████</td></tr></table><br/></div><div class=\"wandb-col\"><h3>Run summary:</h3><br/><table class=\"wandb\"><tr><td>GCNConvEdge-4Layers/Accuracy</td><td>0.93023</td></tr><tr><td>GCNConvEdge-4Layers/F1-score</td><td>0.53333</td></tr><tr><td>GCNConvEdge-4Layers/FalseNegatives</td><td>51</td></tr><tr><td>GCNConvEdge-4Layers/FalsePositives</td><td>12</td></tr><tr><td>GCNConvEdge-4Layers/Precision</td><td>0.75</td></tr><tr><td>GCNConvEdge-4Layers/Recall</td><td>0.41379</td></tr><tr><td>GCNConvEdge-4Layers/TrueNegatives</td><td>804</td></tr><tr><td>GCNConvEdge-4Layers/TruePositives</td><td>36</td></tr><tr><td>GCNConvEdge-4Layers/test_acc</td><td>0.93023</td></tr><tr><td>GCNConvEdge-4Layers/train_acc</td><td>0.93023</td></tr><tr><td>GCNConvEdge4Layers/FalsePositives</td><td>12</td></tr></table><br/></div></div>"
      ],
      "text/plain": [
       "<IPython.core.display.HTML object>"
      ]
     },
     "metadata": {},
     "output_type": "display_data"
    },
    {
     "data": {
      "text/html": [
       "You can sync this run to the cloud by running:<br><code>wandb sync E:\\THY\\EDC-AOP\\GNN\\wandb_runs\\wandb\\offline-run-20250812_023535-azyt2ldt<code>"
      ],
      "text/plain": [
       "<IPython.core.display.HTML object>"
      ]
     },
     "metadata": {},
     "output_type": "display_data"
    },
    {
     "data": {
      "text/html": [
       "Find logs at: <code>E:\\THY\\EDC-AOP\\GNN\\wandb_runs\\wandb\\offline-run-20250812_023535-azyt2ldt\\logs</code>"
      ],
      "text/plain": [
       "<IPython.core.display.HTML object>"
      ]
     },
     "metadata": {},
     "output_type": "display_data"
    },
    {
     "name": "stderr",
     "output_type": "stream",
     "text": [
      "\u001b[34m\u001b[1mwandb\u001b[0m: Sweep Agent: Waiting for job.\n",
      "\u001b[34m\u001b[1mwandb\u001b[0m: Job received.\n",
      "\u001b[34m\u001b[1mwandb\u001b[0m: Agent Starting Run: t7m1ebtm with config:\n",
      "\u001b[34m\u001b[1mwandb\u001b[0m: \tbatch_size: 50\n",
      "\u001b[34m\u001b[1mwandb\u001b[0m: \thidden_size1: 40\n",
      "\u001b[34m\u001b[1mwandb\u001b[0m: \thidden_size2: 40\n",
      "\u001b[34m\u001b[1mwandb\u001b[0m: \thidden_size3: 50\n",
      "\u001b[34m\u001b[1mwandb\u001b[0m: \tlr: 0.00018788493463005836\n",
      "\u001b[34m\u001b[1mwandb\u001b[0m: \tweight_decay: 0.0005070537872299033\n"
     ]
    },
    {
     "data": {
      "text/html": [
       "Tracking run with wandb version 0.20.1"
      ],
      "text/plain": [
       "<IPython.core.display.HTML object>"
      ]
     },
     "metadata": {},
     "output_type": "display_data"
    },
    {
     "data": {
      "text/html": [
       "W&B syncing is set to <code>`offline`<code> in this directory. Run <code>`wandb online`<code> or set <code>WANDB_MODE=online<code> to enable cloud syncing."
      ],
      "text/plain": [
       "<IPython.core.display.HTML object>"
      ]
     },
     "metadata": {},
     "output_type": "display_data"
    },
    {
     "name": "stderr",
     "output_type": "stream",
     "text": [
      "100%|██████████| 200/200 [05:02<00:00,  1.51s/it]\n"
     ]
    },
    {
     "data": {
      "text/html": [],
      "text/plain": [
       "<IPython.core.display.HTML object>"
      ]
     },
     "metadata": {},
     "output_type": "display_data"
    },
    {
     "data": {
      "text/html": [
       "<br>    <style><br>        .wandb-row {<br>            display: flex;<br>            flex-direction: row;<br>            flex-wrap: wrap;<br>            justify-content: flex-start;<br>            width: 100%;<br>        }<br>        .wandb-col {<br>            display: flex;<br>            flex-direction: column;<br>            flex-basis: 100%;<br>            flex: 1;<br>            padding: 10px;<br>        }<br>    </style><br><div class=\"wandb-row\"><div class=\"wandb-col\"><h3>Run history:</h3><br/><table class=\"wandb\"><tr><td>GCNConvEdge-4Layers/Accuracy</td><td>▁</td></tr><tr><td>GCNConvEdge-4Layers/F1-score</td><td>▁</td></tr><tr><td>GCNConvEdge-4Layers/FalseNegatives</td><td>▁</td></tr><tr><td>GCNConvEdge-4Layers/FalsePositives</td><td>▁</td></tr><tr><td>GCNConvEdge-4Layers/Precision</td><td>▁</td></tr><tr><td>GCNConvEdge-4Layers/Recall</td><td>▁</td></tr><tr><td>GCNConvEdge-4Layers/TrueNegatives</td><td>▁</td></tr><tr><td>GCNConvEdge-4Layers/TruePositives</td><td>▁</td></tr><tr><td>GCNConvEdge-4Layers/test_acc</td><td>▁▁▁▁▁▁▁▁▁▁▁▁▁▁▂▂▅▆▆▆▆▆▆█▆▆▆▆▇▆▆▆▆▆▇▆▇▆█▆</td></tr><tr><td>GCNConvEdge-4Layers/train_acc</td><td>▁▁▁▁▁▁▁▁▁▁▁▁▁▁▂▂▂▃▅▆▆▆▆▆▆▆▆▆▆▆▆▇▆▆▆▆▆█▆▆</td></tr></table><br/></div><div class=\"wandb-col\"><h3>Run summary:</h3><br/><table class=\"wandb\"><tr><td>GCNConvEdge-4Layers/Accuracy</td><td>0.93466</td></tr><tr><td>GCNConvEdge-4Layers/F1-score</td><td>0.58156</td></tr><tr><td>GCNConvEdge-4Layers/FalseNegatives</td><td>46</td></tr><tr><td>GCNConvEdge-4Layers/FalsePositives</td><td>13</td></tr><tr><td>GCNConvEdge-4Layers/Precision</td><td>0.75926</td></tr><tr><td>GCNConvEdge-4Layers/Recall</td><td>0.47126</td></tr><tr><td>GCNConvEdge-4Layers/TrueNegatives</td><td>803</td></tr><tr><td>GCNConvEdge-4Layers/TruePositives</td><td>41</td></tr><tr><td>GCNConvEdge-4Layers/test_acc</td><td>0.93466</td></tr><tr><td>GCNConvEdge-4Layers/train_acc</td><td>0.93466</td></tr><tr><td>GCNConvEdge4Layers/FalsePositives</td><td>13</td></tr></table><br/></div></div>"
      ],
      "text/plain": [
       "<IPython.core.display.HTML object>"
      ]
     },
     "metadata": {},
     "output_type": "display_data"
    },
    {
     "data": {
      "text/html": [
       "You can sync this run to the cloud by running:<br><code>wandb sync E:\\THY\\EDC-AOP\\GNN\\wandb_runs\\wandb\\offline-run-20250812_024012-t7m1ebtm<code>"
      ],
      "text/plain": [
       "<IPython.core.display.HTML object>"
      ]
     },
     "metadata": {},
     "output_type": "display_data"
    },
    {
     "data": {
      "text/html": [
       "Find logs at: <code>E:\\THY\\EDC-AOP\\GNN\\wandb_runs\\wandb\\offline-run-20250812_024012-t7m1ebtm\\logs</code>"
      ],
      "text/plain": [
       "<IPython.core.display.HTML object>"
      ]
     },
     "metadata": {},
     "output_type": "display_data"
    },
    {
     "name": "stderr",
     "output_type": "stream",
     "text": [
      "\u001b[34m\u001b[1mwandb\u001b[0m: Agent Starting Run: rru00m7x with config:\n",
      "\u001b[34m\u001b[1mwandb\u001b[0m: \tbatch_size: 20\n",
      "\u001b[34m\u001b[1mwandb\u001b[0m: \thidden_size1: 100\n",
      "\u001b[34m\u001b[1mwandb\u001b[0m: \thidden_size2: 30\n",
      "\u001b[34m\u001b[1mwandb\u001b[0m: \thidden_size3: 60\n",
      "\u001b[34m\u001b[1mwandb\u001b[0m: \tlr: 0.00015860706894202075\n",
      "\u001b[34m\u001b[1mwandb\u001b[0m: \tweight_decay: 0.0004961135644887283\n"
     ]
    },
    {
     "data": {
      "text/html": [
       "Tracking run with wandb version 0.20.1"
      ],
      "text/plain": [
       "<IPython.core.display.HTML object>"
      ]
     },
     "metadata": {},
     "output_type": "display_data"
    },
    {
     "data": {
      "text/html": [
       "W&B syncing is set to <code>`offline`<code> in this directory. Run <code>`wandb online`<code> or set <code>WANDB_MODE=online<code> to enable cloud syncing."
      ],
      "text/plain": [
       "<IPython.core.display.HTML object>"
      ]
     },
     "metadata": {},
     "output_type": "display_data"
    },
    {
     "name": "stderr",
     "output_type": "stream",
     "text": [
      "100%|██████████| 200/200 [06:12<00:00,  1.86s/it]\n"
     ]
    },
    {
     "data": {
      "text/html": [],
      "text/plain": [
       "<IPython.core.display.HTML object>"
      ]
     },
     "metadata": {},
     "output_type": "display_data"
    },
    {
     "data": {
      "text/html": [
       "<br>    <style><br>        .wandb-row {<br>            display: flex;<br>            flex-direction: row;<br>            flex-wrap: wrap;<br>            justify-content: flex-start;<br>            width: 100%;<br>        }<br>        .wandb-col {<br>            display: flex;<br>            flex-direction: column;<br>            flex-basis: 100%;<br>            flex: 1;<br>            padding: 10px;<br>        }<br>    </style><br><div class=\"wandb-row\"><div class=\"wandb-col\"><h3>Run history:</h3><br/><table class=\"wandb\"><tr><td>GCNConvEdge-4Layers/Accuracy</td><td>▁</td></tr><tr><td>GCNConvEdge-4Layers/F1-score</td><td>▁</td></tr><tr><td>GCNConvEdge-4Layers/FalseNegatives</td><td>▁</td></tr><tr><td>GCNConvEdge-4Layers/FalsePositives</td><td>▁</td></tr><tr><td>GCNConvEdge-4Layers/Precision</td><td>▁</td></tr><tr><td>GCNConvEdge-4Layers/Recall</td><td>▁</td></tr><tr><td>GCNConvEdge-4Layers/TrueNegatives</td><td>▁</td></tr><tr><td>GCNConvEdge-4Layers/TruePositives</td><td>▁</td></tr><tr><td>GCNConvEdge-4Layers/test_acc</td><td>▁▁▁▁▁▁▁▁▁▁▄▄▄▄▄▅▅▄▅▆▄▅▅▄▅▅▆▆▄▅▅▅▅▅█▅▅▅▅▅</td></tr><tr><td>GCNConvEdge-4Layers/train_acc</td><td>▁▁▁▁▁▁▁▁▁▅▅▅▄▅▅▅▅▅▆▅▅▅▅▅▅▇▅▅▅▅▅▇▅█▅▅▅▆▅▅</td></tr></table><br/></div><div class=\"wandb-col\"><h3>Run summary:</h3><br/><table class=\"wandb\"><tr><td>GCNConvEdge-4Layers/Accuracy</td><td>0.93466</td></tr><tr><td>GCNConvEdge-4Layers/F1-score</td><td>0.56934</td></tr><tr><td>GCNConvEdge-4Layers/FalseNegatives</td><td>48</td></tr><tr><td>GCNConvEdge-4Layers/FalsePositives</td><td>11</td></tr><tr><td>GCNConvEdge-4Layers/Precision</td><td>0.78</td></tr><tr><td>GCNConvEdge-4Layers/Recall</td><td>0.44828</td></tr><tr><td>GCNConvEdge-4Layers/TrueNegatives</td><td>805</td></tr><tr><td>GCNConvEdge-4Layers/TruePositives</td><td>39</td></tr><tr><td>GCNConvEdge-4Layers/test_acc</td><td>0.93466</td></tr><tr><td>GCNConvEdge-4Layers/train_acc</td><td>0.93466</td></tr><tr><td>GCNConvEdge4Layers/FalsePositives</td><td>11</td></tr></table><br/></div></div>"
      ],
      "text/plain": [
       "<IPython.core.display.HTML object>"
      ]
     },
     "metadata": {},
     "output_type": "display_data"
    },
    {
     "data": {
      "text/html": [
       "You can sync this run to the cloud by running:<br><code>wandb sync E:\\THY\\EDC-AOP\\GNN\\wandb_runs\\wandb\\offline-run-20250812_024518-rru00m7x<code>"
      ],
      "text/plain": [
       "<IPython.core.display.HTML object>"
      ]
     },
     "metadata": {},
     "output_type": "display_data"
    },
    {
     "data": {
      "text/html": [
       "Find logs at: <code>E:\\THY\\EDC-AOP\\GNN\\wandb_runs\\wandb\\offline-run-20250812_024518-rru00m7x\\logs</code>"
      ],
      "text/plain": [
       "<IPython.core.display.HTML object>"
      ]
     },
     "metadata": {},
     "output_type": "display_data"
    },
    {
     "name": "stderr",
     "output_type": "stream",
     "text": [
      "\u001b[34m\u001b[1mwandb\u001b[0m: Agent Starting Run: sieu5a72 with config:\n",
      "\u001b[34m\u001b[1mwandb\u001b[0m: \tbatch_size: 300\n",
      "\u001b[34m\u001b[1mwandb\u001b[0m: \thidden_size1: 80\n",
      "\u001b[34m\u001b[1mwandb\u001b[0m: \thidden_size2: 20\n",
      "\u001b[34m\u001b[1mwandb\u001b[0m: \thidden_size3: 100\n",
      "\u001b[34m\u001b[1mwandb\u001b[0m: \tlr: 0.00035861176841281395\n",
      "\u001b[34m\u001b[1mwandb\u001b[0m: \tweight_decay: 0.0004980151620223444\n"
     ]
    },
    {
     "data": {
      "text/html": [
       "Tracking run with wandb version 0.20.1"
      ],
      "text/plain": [
       "<IPython.core.display.HTML object>"
      ]
     },
     "metadata": {},
     "output_type": "display_data"
    },
    {
     "data": {
      "text/html": [
       "W&B syncing is set to <code>`offline`<code> in this directory. Run <code>`wandb online`<code> or set <code>WANDB_MODE=online<code> to enable cloud syncing."
      ],
      "text/plain": [
       "<IPython.core.display.HTML object>"
      ]
     },
     "metadata": {},
     "output_type": "display_data"
    },
    {
     "name": "stderr",
     "output_type": "stream",
     "text": [
      "100%|██████████| 200/200 [03:56<00:00,  1.18s/it]\n"
     ]
    },
    {
     "data": {
      "text/html": [],
      "text/plain": [
       "<IPython.core.display.HTML object>"
      ]
     },
     "metadata": {},
     "output_type": "display_data"
    },
    {
     "data": {
      "text/html": [
       "<br>    <style><br>        .wandb-row {<br>            display: flex;<br>            flex-direction: row;<br>            flex-wrap: wrap;<br>            justify-content: flex-start;<br>            width: 100%;<br>        }<br>        .wandb-col {<br>            display: flex;<br>            flex-direction: column;<br>            flex-basis: 100%;<br>            flex: 1;<br>            padding: 10px;<br>        }<br>    </style><br><div class=\"wandb-row\"><div class=\"wandb-col\"><h3>Run history:</h3><br/><table class=\"wandb\"><tr><td>GCNConvEdge-4Layers/Accuracy</td><td>▁</td></tr><tr><td>GCNConvEdge-4Layers/F1-score</td><td>▁</td></tr><tr><td>GCNConvEdge-4Layers/FalseNegatives</td><td>▁</td></tr><tr><td>GCNConvEdge-4Layers/FalsePositives</td><td>▁</td></tr><tr><td>GCNConvEdge-4Layers/Precision</td><td>▁</td></tr><tr><td>GCNConvEdge-4Layers/Recall</td><td>▁</td></tr><tr><td>GCNConvEdge-4Layers/TrueNegatives</td><td>▁</td></tr><tr><td>GCNConvEdge-4Layers/TruePositives</td><td>▁</td></tr><tr><td>GCNConvEdge-4Layers/test_acc</td><td>▁▁▁▁▁▁▁▁▁▁▁▁▁▁▁▁▁▁▁▁▁▁▁▁▁▁▁▁▁▁▁▁▁▁▁▁▁▁▁▁</td></tr><tr><td>GCNConvEdge-4Layers/train_acc</td><td>▁▁▁▁▁▁▁▁▁▁▁▁▁▁▁▁▁▁▁▁▁▁▁▁▁▁▁▁▁▁▁▁▁▁▁▁▁▁▁▁</td></tr></table><br/></div><div class=\"wandb-col\"><h3>Run summary:</h3><br/><table class=\"wandb\"><tr><td>GCNConvEdge-4Layers/Accuracy</td><td>0.90365</td></tr><tr><td>GCNConvEdge-4Layers/F1-score</td><td>0</td></tr><tr><td>GCNConvEdge-4Layers/FalseNegatives</td><td>87</td></tr><tr><td>GCNConvEdge-4Layers/FalsePositives</td><td>0</td></tr><tr><td>GCNConvEdge-4Layers/Precision</td><td>0</td></tr><tr><td>GCNConvEdge-4Layers/Recall</td><td>0</td></tr><tr><td>GCNConvEdge-4Layers/TrueNegatives</td><td>816</td></tr><tr><td>GCNConvEdge-4Layers/TruePositives</td><td>0</td></tr><tr><td>GCNConvEdge-4Layers/test_acc</td><td>0.90365</td></tr><tr><td>GCNConvEdge-4Layers/train_acc</td><td>0.90365</td></tr><tr><td>GCNConvEdge4Layers/FalsePositives</td><td>0</td></tr></table><br/></div></div>"
      ],
      "text/plain": [
       "<IPython.core.display.HTML object>"
      ]
     },
     "metadata": {},
     "output_type": "display_data"
    },
    {
     "data": {
      "text/html": [
       "You can sync this run to the cloud by running:<br><code>wandb sync E:\\THY\\EDC-AOP\\GNN\\wandb_runs\\wandb\\offline-run-20250812_025134-sieu5a72<code>"
      ],
      "text/plain": [
       "<IPython.core.display.HTML object>"
      ]
     },
     "metadata": {},
     "output_type": "display_data"
    },
    {
     "data": {
      "text/html": [
       "Find logs at: <code>E:\\THY\\EDC-AOP\\GNN\\wandb_runs\\wandb\\offline-run-20250812_025134-sieu5a72\\logs</code>"
      ],
      "text/plain": [
       "<IPython.core.display.HTML object>"
      ]
     },
     "metadata": {},
     "output_type": "display_data"
    },
    {
     "name": "stderr",
     "output_type": "stream",
     "text": [
      "\u001b[34m\u001b[1mwandb\u001b[0m: Agent Starting Run: ok7e2zu2 with config:\n",
      "\u001b[34m\u001b[1mwandb\u001b[0m: \tbatch_size: 50\n",
      "\u001b[34m\u001b[1mwandb\u001b[0m: \thidden_size1: 40\n",
      "\u001b[34m\u001b[1mwandb\u001b[0m: \thidden_size2: 50\n",
      "\u001b[34m\u001b[1mwandb\u001b[0m: \thidden_size3: 60\n",
      "\u001b[34m\u001b[1mwandb\u001b[0m: \tlr: 0.0005901134772109808\n",
      "\u001b[34m\u001b[1mwandb\u001b[0m: \tweight_decay: 0.00048847738760025\n"
     ]
    },
    {
     "data": {
      "text/html": [
       "Tracking run with wandb version 0.20.1"
      ],
      "text/plain": [
       "<IPython.core.display.HTML object>"
      ]
     },
     "metadata": {},
     "output_type": "display_data"
    },
    {
     "data": {
      "text/html": [
       "W&B syncing is set to <code>`offline`<code> in this directory. Run <code>`wandb online`<code> or set <code>WANDB_MODE=online<code> to enable cloud syncing."
      ],
      "text/plain": [
       "<IPython.core.display.HTML object>"
      ]
     },
     "metadata": {},
     "output_type": "display_data"
    },
    {
     "name": "stderr",
     "output_type": "stream",
     "text": [
      "100%|██████████| 200/200 [04:52<00:00,  1.46s/it]\n"
     ]
    },
    {
     "data": {
      "text/html": [],
      "text/plain": [
       "<IPython.core.display.HTML object>"
      ]
     },
     "metadata": {},
     "output_type": "display_data"
    },
    {
     "data": {
      "text/html": [
       "<br>    <style><br>        .wandb-row {<br>            display: flex;<br>            flex-direction: row;<br>            flex-wrap: wrap;<br>            justify-content: flex-start;<br>            width: 100%;<br>        }<br>        .wandb-col {<br>            display: flex;<br>            flex-direction: column;<br>            flex-basis: 100%;<br>            flex: 1;<br>            padding: 10px;<br>        }<br>    </style><br><div class=\"wandb-row\"><div class=\"wandb-col\"><h3>Run history:</h3><br/><table class=\"wandb\"><tr><td>GCNConvEdge-4Layers/Accuracy</td><td>▁</td></tr><tr><td>GCNConvEdge-4Layers/F1-score</td><td>▁</td></tr><tr><td>GCNConvEdge-4Layers/FalseNegatives</td><td>▁</td></tr><tr><td>GCNConvEdge-4Layers/FalsePositives</td><td>▁</td></tr><tr><td>GCNConvEdge-4Layers/Precision</td><td>▁</td></tr><tr><td>GCNConvEdge-4Layers/Recall</td><td>▁</td></tr><tr><td>GCNConvEdge-4Layers/TrueNegatives</td><td>▁</td></tr><tr><td>GCNConvEdge-4Layers/TruePositives</td><td>▁</td></tr><tr><td>GCNConvEdge-4Layers/test_acc</td><td>▁▁▁▁▁▁▅▆▅▆▅▅▆▆▆▆▆▆▆█▆▆▆▆▆█▇▆▆▇▆█▇▆█▆▆▆▆▇</td></tr><tr><td>GCNConvEdge-4Layers/train_acc</td><td>▁▁▁▁▁▁▂▅▆▅▅▆▆▆▆▆▆█▆▆▆▇▆▆▆▆█▆▇▇█▆▇▆▆▆█▆▆▆</td></tr></table><br/></div><div class=\"wandb-col\"><h3>Run summary:</h3><br/><table class=\"wandb\"><tr><td>GCNConvEdge-4Layers/Accuracy</td><td>0.93466</td></tr><tr><td>GCNConvEdge-4Layers/F1-score</td><td>0.58156</td></tr><tr><td>GCNConvEdge-4Layers/FalseNegatives</td><td>46</td></tr><tr><td>GCNConvEdge-4Layers/FalsePositives</td><td>13</td></tr><tr><td>GCNConvEdge-4Layers/Precision</td><td>0.75926</td></tr><tr><td>GCNConvEdge-4Layers/Recall</td><td>0.47126</td></tr><tr><td>GCNConvEdge-4Layers/TrueNegatives</td><td>803</td></tr><tr><td>GCNConvEdge-4Layers/TruePositives</td><td>41</td></tr><tr><td>GCNConvEdge-4Layers/test_acc</td><td>0.93466</td></tr><tr><td>GCNConvEdge-4Layers/train_acc</td><td>0.93466</td></tr><tr><td>GCNConvEdge4Layers/FalsePositives</td><td>13</td></tr></table><br/></div></div>"
      ],
      "text/plain": [
       "<IPython.core.display.HTML object>"
      ]
     },
     "metadata": {},
     "output_type": "display_data"
    },
    {
     "data": {
      "text/html": [
       "You can sync this run to the cloud by running:<br><code>wandb sync E:\\THY\\EDC-AOP\\GNN\\wandb_runs\\wandb\\offline-run-20250812_025534-ok7e2zu2<code>"
      ],
      "text/plain": [
       "<IPython.core.display.HTML object>"
      ]
     },
     "metadata": {},
     "output_type": "display_data"
    },
    {
     "data": {
      "text/html": [
       "Find logs at: <code>E:\\THY\\EDC-AOP\\GNN\\wandb_runs\\wandb\\offline-run-20250812_025534-ok7e2zu2\\logs</code>"
      ],
      "text/plain": [
       "<IPython.core.display.HTML object>"
      ]
     },
     "metadata": {},
     "output_type": "display_data"
    },
    {
     "name": "stderr",
     "output_type": "stream",
     "text": [
      "\u001b[34m\u001b[1mwandb\u001b[0m: Agent Starting Run: q1991kpf with config:\n",
      "\u001b[34m\u001b[1mwandb\u001b[0m: \tbatch_size: 50\n",
      "\u001b[34m\u001b[1mwandb\u001b[0m: \thidden_size1: 20\n",
      "\u001b[34m\u001b[1mwandb\u001b[0m: \thidden_size2: 30\n",
      "\u001b[34m\u001b[1mwandb\u001b[0m: \thidden_size3: 40\n",
      "\u001b[34m\u001b[1mwandb\u001b[0m: \tlr: 0.0003149235655135774\n",
      "\u001b[34m\u001b[1mwandb\u001b[0m: \tweight_decay: 0.0004993432046158795\n"
     ]
    },
    {
     "data": {
      "text/html": [
       "Tracking run with wandb version 0.20.1"
      ],
      "text/plain": [
       "<IPython.core.display.HTML object>"
      ]
     },
     "metadata": {},
     "output_type": "display_data"
    },
    {
     "data": {
      "text/html": [
       "W&B syncing is set to <code>`offline`<code> in this directory. Run <code>`wandb online`<code> or set <code>WANDB_MODE=online<code> to enable cloud syncing."
      ],
      "text/plain": [
       "<IPython.core.display.HTML object>"
      ]
     },
     "metadata": {},
     "output_type": "display_data"
    },
    {
     "name": "stderr",
     "output_type": "stream",
     "text": [
      "100%|██████████| 200/200 [04:52<00:00,  1.46s/it]\n"
     ]
    },
    {
     "data": {
      "text/html": [],
      "text/plain": [
       "<IPython.core.display.HTML object>"
      ]
     },
     "metadata": {},
     "output_type": "display_data"
    },
    {
     "data": {
      "text/html": [
       "<br>    <style><br>        .wandb-row {<br>            display: flex;<br>            flex-direction: row;<br>            flex-wrap: wrap;<br>            justify-content: flex-start;<br>            width: 100%;<br>        }<br>        .wandb-col {<br>            display: flex;<br>            flex-direction: column;<br>            flex-basis: 100%;<br>            flex: 1;<br>            padding: 10px;<br>        }<br>    </style><br><div class=\"wandb-row\"><div class=\"wandb-col\"><h3>Run history:</h3><br/><table class=\"wandb\"><tr><td>GCNConvEdge-4Layers/Accuracy</td><td>▁</td></tr><tr><td>GCNConvEdge-4Layers/F1-score</td><td>▁</td></tr><tr><td>GCNConvEdge-4Layers/FalseNegatives</td><td>▁</td></tr><tr><td>GCNConvEdge-4Layers/FalsePositives</td><td>▁</td></tr><tr><td>GCNConvEdge-4Layers/Precision</td><td>▁</td></tr><tr><td>GCNConvEdge-4Layers/Recall</td><td>▁</td></tr><tr><td>GCNConvEdge-4Layers/TrueNegatives</td><td>▁</td></tr><tr><td>GCNConvEdge-4Layers/TruePositives</td><td>▁</td></tr><tr><td>GCNConvEdge-4Layers/test_acc</td><td>▁▁▁▁▁▁▁▁▁▁▁▁▁▂▂▇▇▂▇▇▇▇▇▇▇▇▇▇▇▇▇▇▇▇█▇▇▇▇▇</td></tr><tr><td>GCNConvEdge-4Layers/train_acc</td><td>▁▁▁▁▁▁▁▁▁▁▁▁▂▆▆▆▆▆▆▆▆▆▆▆█▆▆▆▆▇▆▆▆▆▇▇▆▆▆▆</td></tr></table><br/></div><div class=\"wandb-col\"><h3>Run summary:</h3><br/><table class=\"wandb\"><tr><td>GCNConvEdge-4Layers/Accuracy</td><td>0.93023</td></tr><tr><td>GCNConvEdge-4Layers/F1-score</td><td>0.53333</td></tr><tr><td>GCNConvEdge-4Layers/FalseNegatives</td><td>51</td></tr><tr><td>GCNConvEdge-4Layers/FalsePositives</td><td>12</td></tr><tr><td>GCNConvEdge-4Layers/Precision</td><td>0.75</td></tr><tr><td>GCNConvEdge-4Layers/Recall</td><td>0.41379</td></tr><tr><td>GCNConvEdge-4Layers/TrueNegatives</td><td>804</td></tr><tr><td>GCNConvEdge-4Layers/TruePositives</td><td>36</td></tr><tr><td>GCNConvEdge-4Layers/test_acc</td><td>0.93023</td></tr><tr><td>GCNConvEdge-4Layers/train_acc</td><td>0.93023</td></tr><tr><td>GCNConvEdge4Layers/FalsePositives</td><td>12</td></tr></table><br/></div></div>"
      ],
      "text/plain": [
       "<IPython.core.display.HTML object>"
      ]
     },
     "metadata": {},
     "output_type": "display_data"
    },
    {
     "data": {
      "text/html": [
       "You can sync this run to the cloud by running:<br><code>wandb sync E:\\THY\\EDC-AOP\\GNN\\wandb_runs\\wandb\\offline-run-20250812_030030-q1991kpf<code>"
      ],
      "text/plain": [
       "<IPython.core.display.HTML object>"
      ]
     },
     "metadata": {},
     "output_type": "display_data"
    },
    {
     "data": {
      "text/html": [
       "Find logs at: <code>E:\\THY\\EDC-AOP\\GNN\\wandb_runs\\wandb\\offline-run-20250812_030030-q1991kpf\\logs</code>"
      ],
      "text/plain": [
       "<IPython.core.display.HTML object>"
      ]
     },
     "metadata": {},
     "output_type": "display_data"
    },
    {
     "name": "stderr",
     "output_type": "stream",
     "text": [
      "\u001b[34m\u001b[1mwandb\u001b[0m: Agent Starting Run: gnog15iv with config:\n",
      "\u001b[34m\u001b[1mwandb\u001b[0m: \tbatch_size: 50\n",
      "\u001b[34m\u001b[1mwandb\u001b[0m: \thidden_size1: 50\n",
      "\u001b[34m\u001b[1mwandb\u001b[0m: \thidden_size2: 20\n",
      "\u001b[34m\u001b[1mwandb\u001b[0m: \thidden_size3: 60\n",
      "\u001b[34m\u001b[1mwandb\u001b[0m: \tlr: 0.0005026646426829573\n",
      "\u001b[34m\u001b[1mwandb\u001b[0m: \tweight_decay: 0.0005105643375425622\n"
     ]
    },
    {
     "data": {
      "text/html": [
       "Tracking run with wandb version 0.20.1"
      ],
      "text/plain": [
       "<IPython.core.display.HTML object>"
      ]
     },
     "metadata": {},
     "output_type": "display_data"
    },
    {
     "data": {
      "text/html": [
       "W&B syncing is set to <code>`offline`<code> in this directory. Run <code>`wandb online`<code> or set <code>WANDB_MODE=online<code> to enable cloud syncing."
      ],
      "text/plain": [
       "<IPython.core.display.HTML object>"
      ]
     },
     "metadata": {},
     "output_type": "display_data"
    },
    {
     "name": "stderr",
     "output_type": "stream",
     "text": [
      "100%|██████████| 200/200 [04:57<00:00,  1.49s/it]\n"
     ]
    },
    {
     "data": {
      "text/html": [],
      "text/plain": [
       "<IPython.core.display.HTML object>"
      ]
     },
     "metadata": {},
     "output_type": "display_data"
    },
    {
     "data": {
      "text/html": [
       "<br>    <style><br>        .wandb-row {<br>            display: flex;<br>            flex-direction: row;<br>            flex-wrap: wrap;<br>            justify-content: flex-start;<br>            width: 100%;<br>        }<br>        .wandb-col {<br>            display: flex;<br>            flex-direction: column;<br>            flex-basis: 100%;<br>            flex: 1;<br>            padding: 10px;<br>        }<br>    </style><br><div class=\"wandb-row\"><div class=\"wandb-col\"><h3>Run history:</h3><br/><table class=\"wandb\"><tr><td>GCNConvEdge-4Layers/Accuracy</td><td>▁</td></tr><tr><td>GCNConvEdge-4Layers/F1-score</td><td>▁</td></tr><tr><td>GCNConvEdge-4Layers/FalseNegatives</td><td>▁</td></tr><tr><td>GCNConvEdge-4Layers/FalsePositives</td><td>▁</td></tr><tr><td>GCNConvEdge-4Layers/Precision</td><td>▁</td></tr><tr><td>GCNConvEdge-4Layers/Recall</td><td>▁</td></tr><tr><td>GCNConvEdge-4Layers/TrueNegatives</td><td>▁</td></tr><tr><td>GCNConvEdge-4Layers/TruePositives</td><td>▁</td></tr><tr><td>GCNConvEdge-4Layers/test_acc</td><td>▁▁▁▁▁▁▁▁▁▁▁▁▁▁▁▂▆▅▅▆▅▆█▆▅▆▆▆▆▆▆▇▆█▆▆▆▆▆▆</td></tr><tr><td>GCNConvEdge-4Layers/train_acc</td><td>▁▁▁▁▁▁▁▁▁▁▁▁▂█▅▅▅▅▄▄▅▅▅▄▅▅▅▅▅▅▅▅▆▅▅▆▆▆▆▆</td></tr></table><br/></div><div class=\"wandb-col\"><h3>Run summary:</h3><br/><table class=\"wandb\"><tr><td>GCNConvEdge-4Layers/Accuracy</td><td>0.94463</td></tr><tr><td>GCNConvEdge-4Layers/F1-score</td><td>0.67949</td></tr><tr><td>GCNConvEdge-4Layers/FalseNegatives</td><td>34</td></tr><tr><td>GCNConvEdge-4Layers/FalsePositives</td><td>16</td></tr><tr><td>GCNConvEdge-4Layers/Precision</td><td>0.76812</td></tr><tr><td>GCNConvEdge-4Layers/Recall</td><td>0.6092</td></tr><tr><td>GCNConvEdge-4Layers/TrueNegatives</td><td>800</td></tr><tr><td>GCNConvEdge-4Layers/TruePositives</td><td>53</td></tr><tr><td>GCNConvEdge-4Layers/test_acc</td><td>0.94463</td></tr><tr><td>GCNConvEdge-4Layers/train_acc</td><td>0.94463</td></tr><tr><td>GCNConvEdge4Layers/FalsePositives</td><td>16</td></tr></table><br/></div></div>"
      ],
      "text/plain": [
       "<IPython.core.display.HTML object>"
      ]
     },
     "metadata": {},
     "output_type": "display_data"
    },
    {
     "data": {
      "text/html": [
       "You can sync this run to the cloud by running:<br><code>wandb sync E:\\THY\\EDC-AOP\\GNN\\wandb_runs\\wandb\\offline-run-20250812_030529-gnog15iv<code>"
      ],
      "text/plain": [
       "<IPython.core.display.HTML object>"
      ]
     },
     "metadata": {},
     "output_type": "display_data"
    },
    {
     "data": {
      "text/html": [
       "Find logs at: <code>E:\\THY\\EDC-AOP\\GNN\\wandb_runs\\wandb\\offline-run-20250812_030529-gnog15iv\\logs</code>"
      ],
      "text/plain": [
       "<IPython.core.display.HTML object>"
      ]
     },
     "metadata": {},
     "output_type": "display_data"
    },
    {
     "name": "stderr",
     "output_type": "stream",
     "text": [
      "\u001b[34m\u001b[1mwandb\u001b[0m: Sweep Agent: Waiting for job.\n",
      "\u001b[34m\u001b[1mwandb\u001b[0m: Job received.\n",
      "\u001b[34m\u001b[1mwandb\u001b[0m: Agent Starting Run: t4ufj57v with config:\n",
      "\u001b[34m\u001b[1mwandb\u001b[0m: \tbatch_size: 50\n",
      "\u001b[34m\u001b[1mwandb\u001b[0m: \thidden_size1: 60\n",
      "\u001b[34m\u001b[1mwandb\u001b[0m: \thidden_size2: 10\n",
      "\u001b[34m\u001b[1mwandb\u001b[0m: \thidden_size3: 40\n",
      "\u001b[34m\u001b[1mwandb\u001b[0m: \tlr: 0.0004747885725318372\n",
      "\u001b[34m\u001b[1mwandb\u001b[0m: \tweight_decay: 0.0004910197348067454\n"
     ]
    },
    {
     "data": {
      "text/html": [
       "Tracking run with wandb version 0.20.1"
      ],
      "text/plain": [
       "<IPython.core.display.HTML object>"
      ]
     },
     "metadata": {},
     "output_type": "display_data"
    },
    {
     "data": {
      "text/html": [
       "W&B syncing is set to <code>`offline`<code> in this directory. Run <code>`wandb online`<code> or set <code>WANDB_MODE=online<code> to enable cloud syncing."
      ],
      "text/plain": [
       "<IPython.core.display.HTML object>"
      ]
     },
     "metadata": {},
     "output_type": "display_data"
    },
    {
     "name": "stderr",
     "output_type": "stream",
     "text": [
      "100%|██████████| 200/200 [05:03<00:00,  1.52s/it]\n"
     ]
    },
    {
     "data": {
      "text/html": [],
      "text/plain": [
       "<IPython.core.display.HTML object>"
      ]
     },
     "metadata": {},
     "output_type": "display_data"
    },
    {
     "data": {
      "text/html": [
       "<br>    <style><br>        .wandb-row {<br>            display: flex;<br>            flex-direction: row;<br>            flex-wrap: wrap;<br>            justify-content: flex-start;<br>            width: 100%;<br>        }<br>        .wandb-col {<br>            display: flex;<br>            flex-direction: column;<br>            flex-basis: 100%;<br>            flex: 1;<br>            padding: 10px;<br>        }<br>    </style><br><div class=\"wandb-row\"><div class=\"wandb-col\"><h3>Run history:</h3><br/><table class=\"wandb\"><tr><td>GCNConvEdge-4Layers/Accuracy</td><td>▁</td></tr><tr><td>GCNConvEdge-4Layers/F1-score</td><td>▁</td></tr><tr><td>GCNConvEdge-4Layers/FalseNegatives</td><td>▁</td></tr><tr><td>GCNConvEdge-4Layers/FalsePositives</td><td>▁</td></tr><tr><td>GCNConvEdge-4Layers/Precision</td><td>▁</td></tr><tr><td>GCNConvEdge-4Layers/Recall</td><td>▁</td></tr><tr><td>GCNConvEdge-4Layers/TrueNegatives</td><td>▁</td></tr><tr><td>GCNConvEdge-4Layers/TruePositives</td><td>▁</td></tr><tr><td>GCNConvEdge-4Layers/test_acc</td><td>▁▁▁▁▁▁▂▆▆▆▆▆▆▆▆▆▆▆█▆▆▆▆▆▆▆▆▆███▆█▆▆▆▆▆▆▆</td></tr><tr><td>GCNConvEdge-4Layers/train_acc</td><td>▁▁▁▁▁▁▁▁▁▁▁▅▅▆█▆▆▆▆▆▆▆▆▆▆█▆▆▆▆██▆▆▆▆▆▆▆▆</td></tr></table><br/></div><div class=\"wandb-col\"><h3>Run summary:</h3><br/><table class=\"wandb\"><tr><td>GCNConvEdge-4Layers/Accuracy</td><td>0.93577</td></tr><tr><td>GCNConvEdge-4Layers/F1-score</td><td>0.57971</td></tr><tr><td>GCNConvEdge-4Layers/FalseNegatives</td><td>47</td></tr><tr><td>GCNConvEdge-4Layers/FalsePositives</td><td>11</td></tr><tr><td>GCNConvEdge-4Layers/Precision</td><td>0.78431</td></tr><tr><td>GCNConvEdge-4Layers/Recall</td><td>0.45977</td></tr><tr><td>GCNConvEdge-4Layers/TrueNegatives</td><td>805</td></tr><tr><td>GCNConvEdge-4Layers/TruePositives</td><td>40</td></tr><tr><td>GCNConvEdge-4Layers/test_acc</td><td>0.93577</td></tr><tr><td>GCNConvEdge-4Layers/train_acc</td><td>0.93577</td></tr><tr><td>GCNConvEdge4Layers/FalsePositives</td><td>11</td></tr></table><br/></div></div>"
      ],
      "text/plain": [
       "<IPython.core.display.HTML object>"
      ]
     },
     "metadata": {},
     "output_type": "display_data"
    },
    {
     "data": {
      "text/html": [
       "You can sync this run to the cloud by running:<br><code>wandb sync E:\\THY\\EDC-AOP\\GNN\\wandb_runs\\wandb\\offline-run-20250812_031038-t4ufj57v<code>"
      ],
      "text/plain": [
       "<IPython.core.display.HTML object>"
      ]
     },
     "metadata": {},
     "output_type": "display_data"
    },
    {
     "data": {
      "text/html": [
       "Find logs at: <code>E:\\THY\\EDC-AOP\\GNN\\wandb_runs\\wandb\\offline-run-20250812_031038-t4ufj57v\\logs</code>"
      ],
      "text/plain": [
       "<IPython.core.display.HTML object>"
      ]
     },
     "metadata": {},
     "output_type": "display_data"
    },
    {
     "name": "stderr",
     "output_type": "stream",
     "text": [
      "\u001b[34m\u001b[1mwandb\u001b[0m: Sweep Agent: Waiting for job.\n",
      "\u001b[34m\u001b[1mwandb\u001b[0m: Job received.\n",
      "\u001b[34m\u001b[1mwandb\u001b[0m: Agent Starting Run: z57gdbrv with config:\n",
      "\u001b[34m\u001b[1mwandb\u001b[0m: \tbatch_size: 200\n",
      "\u001b[34m\u001b[1mwandb\u001b[0m: \thidden_size1: 20\n",
      "\u001b[34m\u001b[1mwandb\u001b[0m: \thidden_size2: 80\n",
      "\u001b[34m\u001b[1mwandb\u001b[0m: \thidden_size3: 40\n",
      "\u001b[34m\u001b[1mwandb\u001b[0m: \tlr: 0.0005855525593884546\n",
      "\u001b[34m\u001b[1mwandb\u001b[0m: \tweight_decay: 0.0005150926605720456\n"
     ]
    },
    {
     "data": {
      "text/html": [
       "Tracking run with wandb version 0.20.1"
      ],
      "text/plain": [
       "<IPython.core.display.HTML object>"
      ]
     },
     "metadata": {},
     "output_type": "display_data"
    },
    {
     "data": {
      "text/html": [
       "W&B syncing is set to <code>`offline`<code> in this directory. Run <code>`wandb online`<code> or set <code>WANDB_MODE=online<code> to enable cloud syncing."
      ],
      "text/plain": [
       "<IPython.core.display.HTML object>"
      ]
     },
     "metadata": {},
     "output_type": "display_data"
    },
    {
     "name": "stderr",
     "output_type": "stream",
     "text": [
      "100%|██████████| 200/200 [04:02<00:00,  1.21s/it]\n"
     ]
    },
    {
     "data": {
      "text/html": [],
      "text/plain": [
       "<IPython.core.display.HTML object>"
      ]
     },
     "metadata": {},
     "output_type": "display_data"
    },
    {
     "data": {
      "text/html": [
       "<br>    <style><br>        .wandb-row {<br>            display: flex;<br>            flex-direction: row;<br>            flex-wrap: wrap;<br>            justify-content: flex-start;<br>            width: 100%;<br>        }<br>        .wandb-col {<br>            display: flex;<br>            flex-direction: column;<br>            flex-basis: 100%;<br>            flex: 1;<br>            padding: 10px;<br>        }<br>    </style><br><div class=\"wandb-row\"><div class=\"wandb-col\"><h3>Run history:</h3><br/><table class=\"wandb\"><tr><td>GCNConvEdge-4Layers/Accuracy</td><td>▁</td></tr><tr><td>GCNConvEdge-4Layers/F1-score</td><td>▁</td></tr><tr><td>GCNConvEdge-4Layers/FalseNegatives</td><td>▁</td></tr><tr><td>GCNConvEdge-4Layers/FalsePositives</td><td>▁</td></tr><tr><td>GCNConvEdge-4Layers/Precision</td><td>▁</td></tr><tr><td>GCNConvEdge-4Layers/Recall</td><td>▁</td></tr><tr><td>GCNConvEdge-4Layers/TrueNegatives</td><td>▁</td></tr><tr><td>GCNConvEdge-4Layers/TruePositives</td><td>▁</td></tr><tr><td>GCNConvEdge-4Layers/test_acc</td><td>▁▁▁▁▁▁▁▁▁▁▁▁▂▂▅▆▆▆▆▆▆▆▆▆▆▆▆▆▆▆▆▆▆▆▆█▆▆▆▆</td></tr><tr><td>GCNConvEdge-4Layers/train_acc</td><td>▁▁▁▁▁▁▁▁▁▁▁▁▁▁▁▇▇▇▇▇▇▇▇▇▇▇▇▇▇▇▇▇▇▇▇▇▇██▇</td></tr></table><br/></div><div class=\"wandb-col\"><h3>Run summary:</h3><br/><table class=\"wandb\"><tr><td>GCNConvEdge-4Layers/Accuracy</td><td>0.93466</td></tr><tr><td>GCNConvEdge-4Layers/F1-score</td><td>0.57554</td></tr><tr><td>GCNConvEdge-4Layers/FalseNegatives</td><td>47</td></tr><tr><td>GCNConvEdge-4Layers/FalsePositives</td><td>12</td></tr><tr><td>GCNConvEdge-4Layers/Precision</td><td>0.76923</td></tr><tr><td>GCNConvEdge-4Layers/Recall</td><td>0.45977</td></tr><tr><td>GCNConvEdge-4Layers/TrueNegatives</td><td>804</td></tr><tr><td>GCNConvEdge-4Layers/TruePositives</td><td>40</td></tr><tr><td>GCNConvEdge-4Layers/test_acc</td><td>0.93466</td></tr><tr><td>GCNConvEdge-4Layers/train_acc</td><td>0.93466</td></tr><tr><td>GCNConvEdge4Layers/FalsePositives</td><td>12</td></tr></table><br/></div></div>"
      ],
      "text/plain": [
       "<IPython.core.display.HTML object>"
      ]
     },
     "metadata": {},
     "output_type": "display_data"
    },
    {
     "data": {
      "text/html": [
       "You can sync this run to the cloud by running:<br><code>wandb sync E:\\THY\\EDC-AOP\\GNN\\wandb_runs\\wandb\\offline-run-20250812_031553-z57gdbrv<code>"
      ],
      "text/plain": [
       "<IPython.core.display.HTML object>"
      ]
     },
     "metadata": {},
     "output_type": "display_data"
    },
    {
     "data": {
      "text/html": [
       "Find logs at: <code>E:\\THY\\EDC-AOP\\GNN\\wandb_runs\\wandb\\offline-run-20250812_031553-z57gdbrv\\logs</code>"
      ],
      "text/plain": [
       "<IPython.core.display.HTML object>"
      ]
     },
     "metadata": {},
     "output_type": "display_data"
    },
    {
     "name": "stderr",
     "output_type": "stream",
     "text": [
      "\u001b[34m\u001b[1mwandb\u001b[0m: Agent Starting Run: bq48ollz with config:\n",
      "\u001b[34m\u001b[1mwandb\u001b[0m: \tbatch_size: 300\n",
      "\u001b[34m\u001b[1mwandb\u001b[0m: \thidden_size1: 50\n",
      "\u001b[34m\u001b[1mwandb\u001b[0m: \thidden_size2: 50\n",
      "\u001b[34m\u001b[1mwandb\u001b[0m: \thidden_size3: 60\n",
      "\u001b[34m\u001b[1mwandb\u001b[0m: \tlr: 0.00027472362345084763\n",
      "\u001b[34m\u001b[1mwandb\u001b[0m: \tweight_decay: 0.00048157765002374784\n"
     ]
    },
    {
     "data": {
      "text/html": [
       "Tracking run with wandb version 0.20.1"
      ],
      "text/plain": [
       "<IPython.core.display.HTML object>"
      ]
     },
     "metadata": {},
     "output_type": "display_data"
    },
    {
     "data": {
      "text/html": [
       "W&B syncing is set to <code>`offline`<code> in this directory. Run <code>`wandb online`<code> or set <code>WANDB_MODE=online<code> to enable cloud syncing."
      ],
      "text/plain": [
       "<IPython.core.display.HTML object>"
      ]
     },
     "metadata": {},
     "output_type": "display_data"
    },
    {
     "name": "stderr",
     "output_type": "stream",
     "text": [
      "100%|██████████| 200/200 [03:57<00:00,  1.19s/it]\n"
     ]
    },
    {
     "data": {
      "text/html": [],
      "text/plain": [
       "<IPython.core.display.HTML object>"
      ]
     },
     "metadata": {},
     "output_type": "display_data"
    },
    {
     "data": {
      "text/html": [
       "<br>    <style><br>        .wandb-row {<br>            display: flex;<br>            flex-direction: row;<br>            flex-wrap: wrap;<br>            justify-content: flex-start;<br>            width: 100%;<br>        }<br>        .wandb-col {<br>            display: flex;<br>            flex-direction: column;<br>            flex-basis: 100%;<br>            flex: 1;<br>            padding: 10px;<br>        }<br>    </style><br><div class=\"wandb-row\"><div class=\"wandb-col\"><h3>Run history:</h3><br/><table class=\"wandb\"><tr><td>GCNConvEdge-4Layers/Accuracy</td><td>▁</td></tr><tr><td>GCNConvEdge-4Layers/F1-score</td><td>▁</td></tr><tr><td>GCNConvEdge-4Layers/FalseNegatives</td><td>▁</td></tr><tr><td>GCNConvEdge-4Layers/FalsePositives</td><td>▁</td></tr><tr><td>GCNConvEdge-4Layers/Precision</td><td>▁</td></tr><tr><td>GCNConvEdge-4Layers/Recall</td><td>▁</td></tr><tr><td>GCNConvEdge-4Layers/TrueNegatives</td><td>▁</td></tr><tr><td>GCNConvEdge-4Layers/TruePositives</td><td>▁</td></tr><tr><td>GCNConvEdge-4Layers/test_acc</td><td>▁▁▁▁▁▁▁▁▁▁▁▁▁▁▁▁▁▁▁▁▁▁▁▁▁▁▁▁▁▁▁▁▁▁▁▁▁▁▁▁</td></tr><tr><td>GCNConvEdge-4Layers/train_acc</td><td>▁▁▁▁▁▁▁▁▁▁▁▁▁▁▁▁▁▁▁▁▁▁▁▁▁▁▁▁▁▁▁▁▁▁▁▁▁▁▁▁</td></tr></table><br/></div><div class=\"wandb-col\"><h3>Run summary:</h3><br/><table class=\"wandb\"><tr><td>GCNConvEdge-4Layers/Accuracy</td><td>0.90365</td></tr><tr><td>GCNConvEdge-4Layers/F1-score</td><td>0</td></tr><tr><td>GCNConvEdge-4Layers/FalseNegatives</td><td>87</td></tr><tr><td>GCNConvEdge-4Layers/FalsePositives</td><td>0</td></tr><tr><td>GCNConvEdge-4Layers/Precision</td><td>0</td></tr><tr><td>GCNConvEdge-4Layers/Recall</td><td>0</td></tr><tr><td>GCNConvEdge-4Layers/TrueNegatives</td><td>816</td></tr><tr><td>GCNConvEdge-4Layers/TruePositives</td><td>0</td></tr><tr><td>GCNConvEdge-4Layers/test_acc</td><td>0.90365</td></tr><tr><td>GCNConvEdge-4Layers/train_acc</td><td>0.90365</td></tr><tr><td>GCNConvEdge4Layers/FalsePositives</td><td>0</td></tr></table><br/></div></div>"
      ],
      "text/plain": [
       "<IPython.core.display.HTML object>"
      ]
     },
     "metadata": {},
     "output_type": "display_data"
    },
    {
     "data": {
      "text/html": [
       "You can sync this run to the cloud by running:<br><code>wandb sync E:\\THY\\EDC-AOP\\GNN\\wandb_runs\\wandb\\offline-run-20250812_032000-bq48ollz<code>"
      ],
      "text/plain": [
       "<IPython.core.display.HTML object>"
      ]
     },
     "metadata": {},
     "output_type": "display_data"
    },
    {
     "data": {
      "text/html": [
       "Find logs at: <code>E:\\THY\\EDC-AOP\\GNN\\wandb_runs\\wandb\\offline-run-20250812_032000-bq48ollz\\logs</code>"
      ],
      "text/plain": [
       "<IPython.core.display.HTML object>"
      ]
     },
     "metadata": {},
     "output_type": "display_data"
    },
    {
     "name": "stderr",
     "output_type": "stream",
     "text": [
      "\u001b[34m\u001b[1mwandb\u001b[0m: Sweep Agent: Waiting for job.\n",
      "\u001b[34m\u001b[1mwandb\u001b[0m: Job received.\n",
      "\u001b[34m\u001b[1mwandb\u001b[0m: Agent Starting Run: qvozpzxf with config:\n",
      "\u001b[34m\u001b[1mwandb\u001b[0m: \tbatch_size: 50\n",
      "\u001b[34m\u001b[1mwandb\u001b[0m: \thidden_size1: 50\n",
      "\u001b[34m\u001b[1mwandb\u001b[0m: \thidden_size2: 100\n",
      "\u001b[34m\u001b[1mwandb\u001b[0m: \thidden_size3: 60\n",
      "\u001b[34m\u001b[1mwandb\u001b[0m: \tlr: 0.0004644987166669757\n",
      "\u001b[34m\u001b[1mwandb\u001b[0m: \tweight_decay: 0.0005011614710338505\n"
     ]
    },
    {
     "data": {
      "text/html": [
       "Tracking run with wandb version 0.20.1"
      ],
      "text/plain": [
       "<IPython.core.display.HTML object>"
      ]
     },
     "metadata": {},
     "output_type": "display_data"
    },
    {
     "data": {
      "text/html": [
       "W&B syncing is set to <code>`offline`<code> in this directory. Run <code>`wandb online`<code> or set <code>WANDB_MODE=online<code> to enable cloud syncing."
      ],
      "text/plain": [
       "<IPython.core.display.HTML object>"
      ]
     },
     "metadata": {},
     "output_type": "display_data"
    },
    {
     "name": "stderr",
     "output_type": "stream",
     "text": [
      "100%|██████████| 200/200 [04:55<00:00,  1.48s/it]\n"
     ]
    },
    {
     "data": {
      "text/html": [],
      "text/plain": [
       "<IPython.core.display.HTML object>"
      ]
     },
     "metadata": {},
     "output_type": "display_data"
    },
    {
     "data": {
      "text/html": [
       "<br>    <style><br>        .wandb-row {<br>            display: flex;<br>            flex-direction: row;<br>            flex-wrap: wrap;<br>            justify-content: flex-start;<br>            width: 100%;<br>        }<br>        .wandb-col {<br>            display: flex;<br>            flex-direction: column;<br>            flex-basis: 100%;<br>            flex: 1;<br>            padding: 10px;<br>        }<br>    </style><br><div class=\"wandb-row\"><div class=\"wandb-col\"><h3>Run history:</h3><br/><table class=\"wandb\"><tr><td>GCNConvEdge-4Layers/Accuracy</td><td>▁</td></tr><tr><td>GCNConvEdge-4Layers/F1-score</td><td>▁</td></tr><tr><td>GCNConvEdge-4Layers/FalseNegatives</td><td>▁</td></tr><tr><td>GCNConvEdge-4Layers/FalsePositives</td><td>▁</td></tr><tr><td>GCNConvEdge-4Layers/Precision</td><td>▁</td></tr><tr><td>GCNConvEdge-4Layers/Recall</td><td>▁</td></tr><tr><td>GCNConvEdge-4Layers/TrueNegatives</td><td>▁</td></tr><tr><td>GCNConvEdge-4Layers/TruePositives</td><td>▁</td></tr><tr><td>GCNConvEdge-4Layers/test_acc</td><td>▁▁▁▁▁▁▆▅▆▇▆▆▆▆▆█▆▆▆█▆█▆▆▆▆█▆█▆▆▆▆▆▆▆▇█▆▆</td></tr><tr><td>GCNConvEdge-4Layers/train_acc</td><td>▁▁▁▁▁█▆▆▆▆▆█▆▆█▆▆▆▆▆██▆▆▇▆▆█▇▆▆▆▆▆▆█▆▆▆▇</td></tr></table><br/></div><div class=\"wandb-col\"><h3>Run summary:</h3><br/><table class=\"wandb\"><tr><td>GCNConvEdge-4Layers/Accuracy</td><td>0.93577</td></tr><tr><td>GCNConvEdge-4Layers/F1-score</td><td>0.57971</td></tr><tr><td>GCNConvEdge-4Layers/FalseNegatives</td><td>47</td></tr><tr><td>GCNConvEdge-4Layers/FalsePositives</td><td>11</td></tr><tr><td>GCNConvEdge-4Layers/Precision</td><td>0.78431</td></tr><tr><td>GCNConvEdge-4Layers/Recall</td><td>0.45977</td></tr><tr><td>GCNConvEdge-4Layers/TrueNegatives</td><td>805</td></tr><tr><td>GCNConvEdge-4Layers/TruePositives</td><td>40</td></tr><tr><td>GCNConvEdge-4Layers/test_acc</td><td>0.93577</td></tr><tr><td>GCNConvEdge-4Layers/train_acc</td><td>0.93577</td></tr><tr><td>GCNConvEdge4Layers/FalsePositives</td><td>11</td></tr></table><br/></div></div>"
      ],
      "text/plain": [
       "<IPython.core.display.HTML object>"
      ]
     },
     "metadata": {},
     "output_type": "display_data"
    },
    {
     "data": {
      "text/html": [
       "You can sync this run to the cloud by running:<br><code>wandb sync E:\\THY\\EDC-AOP\\GNN\\wandb_runs\\wandb\\offline-run-20250812_032408-qvozpzxf<code>"
      ],
      "text/plain": [
       "<IPython.core.display.HTML object>"
      ]
     },
     "metadata": {},
     "output_type": "display_data"
    },
    {
     "data": {
      "text/html": [
       "Find logs at: <code>E:\\THY\\EDC-AOP\\GNN\\wandb_runs\\wandb\\offline-run-20250812_032408-qvozpzxf\\logs</code>"
      ],
      "text/plain": [
       "<IPython.core.display.HTML object>"
      ]
     },
     "metadata": {},
     "output_type": "display_data"
    },
    {
     "name": "stderr",
     "output_type": "stream",
     "text": [
      "\u001b[34m\u001b[1mwandb\u001b[0m: Agent Starting Run: whzmyhto with config:\n",
      "\u001b[34m\u001b[1mwandb\u001b[0m: \tbatch_size: 300\n",
      "\u001b[34m\u001b[1mwandb\u001b[0m: \thidden_size1: 40\n",
      "\u001b[34m\u001b[1mwandb\u001b[0m: \thidden_size2: 60\n",
      "\u001b[34m\u001b[1mwandb\u001b[0m: \thidden_size3: 50\n",
      "\u001b[34m\u001b[1mwandb\u001b[0m: \tlr: 0.0008756647075625584\n",
      "\u001b[34m\u001b[1mwandb\u001b[0m: \tweight_decay: 0.0005074110087506592\n"
     ]
    },
    {
     "data": {
      "text/html": [
       "Tracking run with wandb version 0.20.1"
      ],
      "text/plain": [
       "<IPython.core.display.HTML object>"
      ]
     },
     "metadata": {},
     "output_type": "display_data"
    },
    {
     "data": {
      "text/html": [
       "W&B syncing is set to <code>`offline`<code> in this directory. Run <code>`wandb online`<code> or set <code>WANDB_MODE=online<code> to enable cloud syncing."
      ],
      "text/plain": [
       "<IPython.core.display.HTML object>"
      ]
     },
     "metadata": {},
     "output_type": "display_data"
    },
    {
     "name": "stderr",
     "output_type": "stream",
     "text": [
      "100%|██████████| 200/200 [04:15<00:00,  1.28s/it]\n"
     ]
    },
    {
     "data": {
      "text/html": [],
      "text/plain": [
       "<IPython.core.display.HTML object>"
      ]
     },
     "metadata": {},
     "output_type": "display_data"
    },
    {
     "data": {
      "text/html": [
       "<br>    <style><br>        .wandb-row {<br>            display: flex;<br>            flex-direction: row;<br>            flex-wrap: wrap;<br>            justify-content: flex-start;<br>            width: 100%;<br>        }<br>        .wandb-col {<br>            display: flex;<br>            flex-direction: column;<br>            flex-basis: 100%;<br>            flex: 1;<br>            padding: 10px;<br>        }<br>    </style><br><div class=\"wandb-row\"><div class=\"wandb-col\"><h3>Run history:</h3><br/><table class=\"wandb\"><tr><td>GCNConvEdge-4Layers/Accuracy</td><td>▁</td></tr><tr><td>GCNConvEdge-4Layers/F1-score</td><td>▁</td></tr><tr><td>GCNConvEdge-4Layers/FalseNegatives</td><td>▁</td></tr><tr><td>GCNConvEdge-4Layers/FalsePositives</td><td>▁</td></tr><tr><td>GCNConvEdge-4Layers/Precision</td><td>▁</td></tr><tr><td>GCNConvEdge-4Layers/Recall</td><td>▁</td></tr><tr><td>GCNConvEdge-4Layers/TrueNegatives</td><td>▁</td></tr><tr><td>GCNConvEdge-4Layers/TruePositives</td><td>▁</td></tr><tr><td>GCNConvEdge-4Layers/test_acc</td><td>▁▁▁▁▁▁▁▁▁▁▁▁▁▁▁▁▁▁▁▁▁▁▁▁▁▁▁▁▁▁▁▁█▁▁▁▁▁██</td></tr><tr><td>GCNConvEdge-4Layers/train_acc</td><td>▁▁▁▁▁▁▁▁▁▁▁▁▁▁▁▁▁▁▁▁▁▁▁▁▁▁▁▁▁▁▁▁▁▁▁▁▁▁▇█</td></tr></table><br/></div><div class=\"wandb-col\"><h3>Run summary:</h3><br/><table class=\"wandb\"><tr><td>GCNConvEdge-4Layers/Accuracy</td><td>0.9103</td></tr><tr><td>GCNConvEdge-4Layers/F1-score</td><td>0.19802</td></tr><tr><td>GCNConvEdge-4Layers/FalseNegatives</td><td>77</td></tr><tr><td>GCNConvEdge-4Layers/FalsePositives</td><td>4</td></tr><tr><td>GCNConvEdge-4Layers/Precision</td><td>0.71429</td></tr><tr><td>GCNConvEdge-4Layers/Recall</td><td>0.11494</td></tr><tr><td>GCNConvEdge-4Layers/TrueNegatives</td><td>812</td></tr><tr><td>GCNConvEdge-4Layers/TruePositives</td><td>10</td></tr><tr><td>GCNConvEdge-4Layers/test_acc</td><td>0.9103</td></tr><tr><td>GCNConvEdge-4Layers/train_acc</td><td>0.9103</td></tr><tr><td>GCNConvEdge4Layers/FalsePositives</td><td>4</td></tr></table><br/></div></div>"
      ],
      "text/plain": [
       "<IPython.core.display.HTML object>"
      ]
     },
     "metadata": {},
     "output_type": "display_data"
    },
    {
     "data": {
      "text/html": [
       "You can sync this run to the cloud by running:<br><code>wandb sync E:\\THY\\EDC-AOP\\GNN\\wandb_runs\\wandb\\offline-run-20250812_032909-whzmyhto<code>"
      ],
      "text/plain": [
       "<IPython.core.display.HTML object>"
      ]
     },
     "metadata": {},
     "output_type": "display_data"
    },
    {
     "data": {
      "text/html": [
       "Find logs at: <code>E:\\THY\\EDC-AOP\\GNN\\wandb_runs\\wandb\\offline-run-20250812_032909-whzmyhto\\logs</code>"
      ],
      "text/plain": [
       "<IPython.core.display.HTML object>"
      ]
     },
     "metadata": {},
     "output_type": "display_data"
    },
    {
     "name": "stderr",
     "output_type": "stream",
     "text": [
      "\u001b[34m\u001b[1mwandb\u001b[0m: Agent Starting Run: xzeaeacm with config:\n",
      "\u001b[34m\u001b[1mwandb\u001b[0m: \tbatch_size: 100\n",
      "\u001b[34m\u001b[1mwandb\u001b[0m: \thidden_size1: 10\n",
      "\u001b[34m\u001b[1mwandb\u001b[0m: \thidden_size2: 100\n",
      "\u001b[34m\u001b[1mwandb\u001b[0m: \thidden_size3: 50\n",
      "\u001b[34m\u001b[1mwandb\u001b[0m: \tlr: 0.0009348430514871034\n",
      "\u001b[34m\u001b[1mwandb\u001b[0m: \tweight_decay: 0.0004892885044420883\n"
     ]
    },
    {
     "data": {
      "text/html": [
       "Tracking run with wandb version 0.20.1"
      ],
      "text/plain": [
       "<IPython.core.display.HTML object>"
      ]
     },
     "metadata": {},
     "output_type": "display_data"
    },
    {
     "data": {
      "text/html": [
       "W&B syncing is set to <code>`offline`<code> in this directory. Run <code>`wandb online`<code> or set <code>WANDB_MODE=online<code> to enable cloud syncing."
      ],
      "text/plain": [
       "<IPython.core.display.HTML object>"
      ]
     },
     "metadata": {},
     "output_type": "display_data"
    },
    {
     "name": "stderr",
     "output_type": "stream",
     "text": [
      "100%|██████████| 200/200 [04:25<00:00,  1.33s/it]\n"
     ]
    },
    {
     "data": {
      "text/html": [],
      "text/plain": [
       "<IPython.core.display.HTML object>"
      ]
     },
     "metadata": {},
     "output_type": "display_data"
    },
    {
     "data": {
      "text/html": [
       "<br>    <style><br>        .wandb-row {<br>            display: flex;<br>            flex-direction: row;<br>            flex-wrap: wrap;<br>            justify-content: flex-start;<br>            width: 100%;<br>        }<br>        .wandb-col {<br>            display: flex;<br>            flex-direction: column;<br>            flex-basis: 100%;<br>            flex: 1;<br>            padding: 10px;<br>        }<br>    </style><br><div class=\"wandb-row\"><div class=\"wandb-col\"><h3>Run history:</h3><br/><table class=\"wandb\"><tr><td>GCNConvEdge-4Layers/Accuracy</td><td>▁</td></tr><tr><td>GCNConvEdge-4Layers/F1-score</td><td>▁</td></tr><tr><td>GCNConvEdge-4Layers/FalseNegatives</td><td>▁</td></tr><tr><td>GCNConvEdge-4Layers/FalsePositives</td><td>▁</td></tr><tr><td>GCNConvEdge-4Layers/Precision</td><td>▁</td></tr><tr><td>GCNConvEdge-4Layers/Recall</td><td>▁</td></tr><tr><td>GCNConvEdge-4Layers/TrueNegatives</td><td>▁</td></tr><tr><td>GCNConvEdge-4Layers/TruePositives</td><td>▁</td></tr><tr><td>GCNConvEdge-4Layers/test_acc</td><td>▁▁▁▁▁▁▁▁▁▁▇▆▆▆▆▇▆▇█▆▇▇▇▇▇▇▇▆▆▆▇▆▆▇▇▇▇▇▇▇</td></tr><tr><td>GCNConvEdge-4Layers/train_acc</td><td>▁▁▁▁▁▁▁▁▁▁▁▅▂█▅▅▆▆▆▆▆▆▆▆▆▆▆▆▆▆▆▆▆▆▆▆▆▆▆▆</td></tr></table><br/></div><div class=\"wandb-col\"><h3>Run summary:</h3><br/><table class=\"wandb\"><tr><td>GCNConvEdge-4Layers/Accuracy</td><td>0.93355</td></tr><tr><td>GCNConvEdge-4Layers/F1-score</td><td>0.57746</td></tr><tr><td>GCNConvEdge-4Layers/FalseNegatives</td><td>46</td></tr><tr><td>GCNConvEdge-4Layers/FalsePositives</td><td>14</td></tr><tr><td>GCNConvEdge-4Layers/Precision</td><td>0.74545</td></tr><tr><td>GCNConvEdge-4Layers/Recall</td><td>0.47126</td></tr><tr><td>GCNConvEdge-4Layers/TrueNegatives</td><td>802</td></tr><tr><td>GCNConvEdge-4Layers/TruePositives</td><td>41</td></tr><tr><td>GCNConvEdge-4Layers/test_acc</td><td>0.93355</td></tr><tr><td>GCNConvEdge-4Layers/train_acc</td><td>0.93355</td></tr><tr><td>GCNConvEdge4Layers/FalsePositives</td><td>14</td></tr></table><br/></div></div>"
      ],
      "text/plain": [
       "<IPython.core.display.HTML object>"
      ]
     },
     "metadata": {},
     "output_type": "display_data"
    },
    {
     "data": {
      "text/html": [
       "You can sync this run to the cloud by running:<br><code>wandb sync E:\\THY\\EDC-AOP\\GNN\\wandb_runs\\wandb\\offline-run-20250812_033330-xzeaeacm<code>"
      ],
      "text/plain": [
       "<IPython.core.display.HTML object>"
      ]
     },
     "metadata": {},
     "output_type": "display_data"
    },
    {
     "data": {
      "text/html": [
       "Find logs at: <code>E:\\THY\\EDC-AOP\\GNN\\wandb_runs\\wandb\\offline-run-20250812_033330-xzeaeacm\\logs</code>"
      ],
      "text/plain": [
       "<IPython.core.display.HTML object>"
      ]
     },
     "metadata": {},
     "output_type": "display_data"
    },
    {
     "name": "stderr",
     "output_type": "stream",
     "text": [
      "\u001b[34m\u001b[1mwandb\u001b[0m: Agent Starting Run: azyt2ldt with config:\n",
      "\u001b[34m\u001b[1mwandb\u001b[0m: \tbatch_size: 100\n",
      "\u001b[34m\u001b[1mwandb\u001b[0m: \thidden_size1: 20\n",
      "\u001b[34m\u001b[1mwandb\u001b[0m: \thidden_size2: 40\n",
      "\u001b[34m\u001b[1mwandb\u001b[0m: \thidden_size3: 80\n",
      "\u001b[34m\u001b[1mwandb\u001b[0m: \tlr: 0.0003362118909550924\n",
      "\u001b[34m\u001b[1mwandb\u001b[0m: \tweight_decay: 0.0004924992058672548\n"
     ]
    },
    {
     "data": {
      "text/html": [
       "Tracking run with wandb version 0.20.1"
      ],
      "text/plain": [
       "<IPython.core.display.HTML object>"
      ]
     },
     "metadata": {},
     "output_type": "display_data"
    },
    {
     "data": {
      "text/html": [
       "W&B syncing is set to <code>`offline`<code> in this directory. Run <code>`wandb online`<code> or set <code>WANDB_MODE=online<code> to enable cloud syncing."
      ],
      "text/plain": [
       "<IPython.core.display.HTML object>"
      ]
     },
     "metadata": {},
     "output_type": "display_data"
    },
    {
     "name": "stderr",
     "output_type": "stream",
     "text": [
      "100%|██████████| 200/200 [04:28<00:00,  1.34s/it]\n"
     ]
    },
    {
     "data": {
      "text/html": [],
      "text/plain": [
       "<IPython.core.display.HTML object>"
      ]
     },
     "metadata": {},
     "output_type": "display_data"
    },
    {
     "data": {
      "text/html": [
       "<br>    <style><br>        .wandb-row {<br>            display: flex;<br>            flex-direction: row;<br>            flex-wrap: wrap;<br>            justify-content: flex-start;<br>            width: 100%;<br>        }<br>        .wandb-col {<br>            display: flex;<br>            flex-direction: column;<br>            flex-basis: 100%;<br>            flex: 1;<br>            padding: 10px;<br>        }<br>    </style><br><div class=\"wandb-row\"><div class=\"wandb-col\"><h3>Run history:</h3><br/><table class=\"wandb\"><tr><td>GCNConvEdge-4Layers/Accuracy</td><td>▁</td></tr><tr><td>GCNConvEdge-4Layers/F1-score</td><td>▁</td></tr><tr><td>GCNConvEdge-4Layers/FalseNegatives</td><td>▁</td></tr><tr><td>GCNConvEdge-4Layers/FalsePositives</td><td>▁</td></tr><tr><td>GCNConvEdge-4Layers/Precision</td><td>▁</td></tr><tr><td>GCNConvEdge-4Layers/Recall</td><td>▁</td></tr><tr><td>GCNConvEdge-4Layers/TrueNegatives</td><td>▁</td></tr><tr><td>GCNConvEdge-4Layers/TruePositives</td><td>▁</td></tr><tr><td>GCNConvEdge-4Layers/test_acc</td><td>▁▁▁▁▁▁▁▁▁▁▁▁▁▁▂▆▆▆▆▆▆▆▆▆▆▆▆▆▆▆▆▆█▆▆▆▆▆▆▆</td></tr><tr><td>GCNConvEdge-4Layers/train_acc</td><td>▁▁▁▁▁▁▁▁▁▁▁▁▁▁▁▆▆▆▆▆▆█▆▆▆▆▆▆▆▆▆▆▆▆▆▆▆▆█▆</td></tr></table><br/></div><div class=\"wandb-col\"><h3>Run summary:</h3><br/><table class=\"wandb\"><tr><td>GCNConvEdge-4Layers/Accuracy</td><td>0.93023</td></tr><tr><td>GCNConvEdge-4Layers/F1-score</td><td>0.53333</td></tr><tr><td>GCNConvEdge-4Layers/FalseNegatives</td><td>51</td></tr><tr><td>GCNConvEdge-4Layers/FalsePositives</td><td>12</td></tr><tr><td>GCNConvEdge-4Layers/Precision</td><td>0.75</td></tr><tr><td>GCNConvEdge-4Layers/Recall</td><td>0.41379</td></tr><tr><td>GCNConvEdge-4Layers/TrueNegatives</td><td>804</td></tr><tr><td>GCNConvEdge-4Layers/TruePositives</td><td>36</td></tr><tr><td>GCNConvEdge-4Layers/test_acc</td><td>0.93023</td></tr><tr><td>GCNConvEdge-4Layers/train_acc</td><td>0.93023</td></tr><tr><td>GCNConvEdge4Layers/FalsePositives</td><td>12</td></tr></table><br/></div></div>"
      ],
      "text/plain": [
       "<IPython.core.display.HTML object>"
      ]
     },
     "metadata": {},
     "output_type": "display_data"
    },
    {
     "data": {
      "text/html": [
       "You can sync this run to the cloud by running:<br><code>wandb sync E:\\THY\\EDC-AOP\\GNN\\wandb_runs\\wandb\\offline-run-20250812_033758-azyt2ldt<code>"
      ],
      "text/plain": [
       "<IPython.core.display.HTML object>"
      ]
     },
     "metadata": {},
     "output_type": "display_data"
    },
    {
     "data": {
      "text/html": [
       "Find logs at: <code>E:\\THY\\EDC-AOP\\GNN\\wandb_runs\\wandb\\offline-run-20250812_033758-azyt2ldt\\logs</code>"
      ],
      "text/plain": [
       "<IPython.core.display.HTML object>"
      ]
     },
     "metadata": {},
     "output_type": "display_data"
    },
    {
     "name": "stderr",
     "output_type": "stream",
     "text": [
      "\u001b[34m\u001b[1mwandb\u001b[0m: Agent Starting Run: t7m1ebtm with config:\n",
      "\u001b[34m\u001b[1mwandb\u001b[0m: \tbatch_size: 50\n",
      "\u001b[34m\u001b[1mwandb\u001b[0m: \thidden_size1: 40\n",
      "\u001b[34m\u001b[1mwandb\u001b[0m: \thidden_size2: 40\n",
      "\u001b[34m\u001b[1mwandb\u001b[0m: \thidden_size3: 50\n",
      "\u001b[34m\u001b[1mwandb\u001b[0m: \tlr: 0.00018788493463005836\n",
      "\u001b[34m\u001b[1mwandb\u001b[0m: \tweight_decay: 0.0005070537872299033\n"
     ]
    },
    {
     "data": {
      "text/html": [
       "Tracking run with wandb version 0.20.1"
      ],
      "text/plain": [
       "<IPython.core.display.HTML object>"
      ]
     },
     "metadata": {},
     "output_type": "display_data"
    },
    {
     "data": {
      "text/html": [
       "W&B syncing is set to <code>`offline`<code> in this directory. Run <code>`wandb online`<code> or set <code>WANDB_MODE=online<code> to enable cloud syncing."
      ],
      "text/plain": [
       "<IPython.core.display.HTML object>"
      ]
     },
     "metadata": {},
     "output_type": "display_data"
    },
    {
     "name": "stderr",
     "output_type": "stream",
     "text": [
      "100%|██████████| 200/200 [05:04<00:00,  1.52s/it]\n"
     ]
    },
    {
     "data": {
      "text/html": [],
      "text/plain": [
       "<IPython.core.display.HTML object>"
      ]
     },
     "metadata": {},
     "output_type": "display_data"
    },
    {
     "data": {
      "text/html": [
       "<br>    <style><br>        .wandb-row {<br>            display: flex;<br>            flex-direction: row;<br>            flex-wrap: wrap;<br>            justify-content: flex-start;<br>            width: 100%;<br>        }<br>        .wandb-col {<br>            display: flex;<br>            flex-direction: column;<br>            flex-basis: 100%;<br>            flex: 1;<br>            padding: 10px;<br>        }<br>    </style><br><div class=\"wandb-row\"><div class=\"wandb-col\"><h3>Run history:</h3><br/><table class=\"wandb\"><tr><td>GCNConvEdge-4Layers/Accuracy</td><td>▁</td></tr><tr><td>GCNConvEdge-4Layers/F1-score</td><td>▁</td></tr><tr><td>GCNConvEdge-4Layers/FalseNegatives</td><td>▁</td></tr><tr><td>GCNConvEdge-4Layers/FalsePositives</td><td>▁</td></tr><tr><td>GCNConvEdge-4Layers/Precision</td><td>▁</td></tr><tr><td>GCNConvEdge-4Layers/Recall</td><td>▁</td></tr><tr><td>GCNConvEdge-4Layers/TrueNegatives</td><td>▁</td></tr><tr><td>GCNConvEdge-4Layers/TruePositives</td><td>▁</td></tr><tr><td>GCNConvEdge-4Layers/test_acc</td><td>▁▁▁▁▁▁▁▁▁▁▁▁▁▁▁▁▁▂▁▇▇█▇▇▇▇█▇▇███▇▇▇█▇███</td></tr><tr><td>GCNConvEdge-4Layers/train_acc</td><td>▁▁▁▁▁▁▁▁▁▁▁▁▁▁▄▆▆▆▇▆▆▆▆▆▇█▇█▇▆▇█▇▆▇▆▇▇▇▇</td></tr></table><br/></div><div class=\"wandb-col\"><h3>Run summary:</h3><br/><table class=\"wandb\"><tr><td>GCNConvEdge-4Layers/Accuracy</td><td>0.93466</td></tr><tr><td>GCNConvEdge-4Layers/F1-score</td><td>0.58156</td></tr><tr><td>GCNConvEdge-4Layers/FalseNegatives</td><td>46</td></tr><tr><td>GCNConvEdge-4Layers/FalsePositives</td><td>13</td></tr><tr><td>GCNConvEdge-4Layers/Precision</td><td>0.75926</td></tr><tr><td>GCNConvEdge-4Layers/Recall</td><td>0.47126</td></tr><tr><td>GCNConvEdge-4Layers/TrueNegatives</td><td>803</td></tr><tr><td>GCNConvEdge-4Layers/TruePositives</td><td>41</td></tr><tr><td>GCNConvEdge-4Layers/test_acc</td><td>0.93466</td></tr><tr><td>GCNConvEdge-4Layers/train_acc</td><td>0.93466</td></tr><tr><td>GCNConvEdge4Layers/FalsePositives</td><td>13</td></tr></table><br/></div></div>"
      ],
      "text/plain": [
       "<IPython.core.display.HTML object>"
      ]
     },
     "metadata": {},
     "output_type": "display_data"
    },
    {
     "data": {
      "text/html": [
       "You can sync this run to the cloud by running:<br><code>wandb sync E:\\THY\\EDC-AOP\\GNN\\wandb_runs\\wandb\\offline-run-20250812_034231-t7m1ebtm<code>"
      ],
      "text/plain": [
       "<IPython.core.display.HTML object>"
      ]
     },
     "metadata": {},
     "output_type": "display_data"
    },
    {
     "data": {
      "text/html": [
       "Find logs at: <code>E:\\THY\\EDC-AOP\\GNN\\wandb_runs\\wandb\\offline-run-20250812_034231-t7m1ebtm\\logs</code>"
      ],
      "text/plain": [
       "<IPython.core.display.HTML object>"
      ]
     },
     "metadata": {},
     "output_type": "display_data"
    },
    {
     "name": "stderr",
     "output_type": "stream",
     "text": [
      "\u001b[34m\u001b[1mwandb\u001b[0m: Agent Starting Run: rru00m7x with config:\n",
      "\u001b[34m\u001b[1mwandb\u001b[0m: \tbatch_size: 20\n",
      "\u001b[34m\u001b[1mwandb\u001b[0m: \thidden_size1: 100\n",
      "\u001b[34m\u001b[1mwandb\u001b[0m: \thidden_size2: 30\n",
      "\u001b[34m\u001b[1mwandb\u001b[0m: \thidden_size3: 60\n",
      "\u001b[34m\u001b[1mwandb\u001b[0m: \tlr: 0.00015860706894202075\n",
      "\u001b[34m\u001b[1mwandb\u001b[0m: \tweight_decay: 0.0004961135644887283\n"
     ]
    },
    {
     "data": {
      "text/html": [
       "Tracking run with wandb version 0.20.1"
      ],
      "text/plain": [
       "<IPython.core.display.HTML object>"
      ]
     },
     "metadata": {},
     "output_type": "display_data"
    },
    {
     "data": {
      "text/html": [
       "W&B syncing is set to <code>`offline`<code> in this directory. Run <code>`wandb online`<code> or set <code>WANDB_MODE=online<code> to enable cloud syncing."
      ],
      "text/plain": [
       "<IPython.core.display.HTML object>"
      ]
     },
     "metadata": {},
     "output_type": "display_data"
    },
    {
     "name": "stderr",
     "output_type": "stream",
     "text": [
      "100%|██████████| 200/200 [06:07<00:00,  1.84s/it]\n"
     ]
    },
    {
     "data": {
      "text/html": [],
      "text/plain": [
       "<IPython.core.display.HTML object>"
      ]
     },
     "metadata": {},
     "output_type": "display_data"
    },
    {
     "data": {
      "text/html": [
       "<br>    <style><br>        .wandb-row {<br>            display: flex;<br>            flex-direction: row;<br>            flex-wrap: wrap;<br>            justify-content: flex-start;<br>            width: 100%;<br>        }<br>        .wandb-col {<br>            display: flex;<br>            flex-direction: column;<br>            flex-basis: 100%;<br>            flex: 1;<br>            padding: 10px;<br>        }<br>    </style><br><div class=\"wandb-row\"><div class=\"wandb-col\"><h3>Run history:</h3><br/><table class=\"wandb\"><tr><td>GCNConvEdge-4Layers/Accuracy</td><td>▁</td></tr><tr><td>GCNConvEdge-4Layers/F1-score</td><td>▁</td></tr><tr><td>GCNConvEdge-4Layers/FalseNegatives</td><td>▁</td></tr><tr><td>GCNConvEdge-4Layers/FalsePositives</td><td>▁</td></tr><tr><td>GCNConvEdge-4Layers/Precision</td><td>▁</td></tr><tr><td>GCNConvEdge-4Layers/Recall</td><td>▁</td></tr><tr><td>GCNConvEdge-4Layers/TrueNegatives</td><td>▁</td></tr><tr><td>GCNConvEdge-4Layers/TruePositives</td><td>▁</td></tr><tr><td>GCNConvEdge-4Layers/test_acc</td><td>▁▁▁▁▁▁▁▂▁▄▅▅▅▆▄▅▅▅▅▅▆▅▆▇▇▅▅▅▅▅▆▇█▅▅▅▅▅▅▅</td></tr><tr><td>GCNConvEdge-4Layers/train_acc</td><td>▁▁▁▁▁▁▆▅▆▂▆▆▆▆▆▆▆▆▆▆▆█▆▆▆▆▆▆▆▆▆▆▆▆▆▆▆▆█▆</td></tr></table><br/></div><div class=\"wandb-col\"><h3>Run summary:</h3><br/><table class=\"wandb\"><tr><td>GCNConvEdge-4Layers/Accuracy</td><td>0.93466</td></tr><tr><td>GCNConvEdge-4Layers/F1-score</td><td>0.56934</td></tr><tr><td>GCNConvEdge-4Layers/FalseNegatives</td><td>48</td></tr><tr><td>GCNConvEdge-4Layers/FalsePositives</td><td>11</td></tr><tr><td>GCNConvEdge-4Layers/Precision</td><td>0.78</td></tr><tr><td>GCNConvEdge-4Layers/Recall</td><td>0.44828</td></tr><tr><td>GCNConvEdge-4Layers/TrueNegatives</td><td>805</td></tr><tr><td>GCNConvEdge-4Layers/TruePositives</td><td>39</td></tr><tr><td>GCNConvEdge-4Layers/test_acc</td><td>0.93466</td></tr><tr><td>GCNConvEdge-4Layers/train_acc</td><td>0.93466</td></tr><tr><td>GCNConvEdge4Layers/FalsePositives</td><td>11</td></tr></table><br/></div></div>"
      ],
      "text/plain": [
       "<IPython.core.display.HTML object>"
      ]
     },
     "metadata": {},
     "output_type": "display_data"
    },
    {
     "data": {
      "text/html": [
       "You can sync this run to the cloud by running:<br><code>wandb sync E:\\THY\\EDC-AOP\\GNN\\wandb_runs\\wandb\\offline-run-20250812_034741-rru00m7x<code>"
      ],
      "text/plain": [
       "<IPython.core.display.HTML object>"
      ]
     },
     "metadata": {},
     "output_type": "display_data"
    },
    {
     "data": {
      "text/html": [
       "Find logs at: <code>E:\\THY\\EDC-AOP\\GNN\\wandb_runs\\wandb\\offline-run-20250812_034741-rru00m7x\\logs</code>"
      ],
      "text/plain": [
       "<IPython.core.display.HTML object>"
      ]
     },
     "metadata": {},
     "output_type": "display_data"
    },
    {
     "name": "stderr",
     "output_type": "stream",
     "text": [
      "\u001b[34m\u001b[1mwandb\u001b[0m: Agent Starting Run: sieu5a72 with config:\n",
      "\u001b[34m\u001b[1mwandb\u001b[0m: \tbatch_size: 300\n",
      "\u001b[34m\u001b[1mwandb\u001b[0m: \thidden_size1: 80\n",
      "\u001b[34m\u001b[1mwandb\u001b[0m: \thidden_size2: 20\n",
      "\u001b[34m\u001b[1mwandb\u001b[0m: \thidden_size3: 100\n",
      "\u001b[34m\u001b[1mwandb\u001b[0m: \tlr: 0.00035861176841281395\n",
      "\u001b[34m\u001b[1mwandb\u001b[0m: \tweight_decay: 0.0004980151620223444\n"
     ]
    },
    {
     "data": {
      "text/html": [
       "Tracking run with wandb version 0.20.1"
      ],
      "text/plain": [
       "<IPython.core.display.HTML object>"
      ]
     },
     "metadata": {},
     "output_type": "display_data"
    },
    {
     "data": {
      "text/html": [
       "W&B syncing is set to <code>`offline`<code> in this directory. Run <code>`wandb online`<code> or set <code>WANDB_MODE=online<code> to enable cloud syncing."
      ],
      "text/plain": [
       "<IPython.core.display.HTML object>"
      ]
     },
     "metadata": {},
     "output_type": "display_data"
    },
    {
     "name": "stderr",
     "output_type": "stream",
     "text": [
      "100%|██████████| 200/200 [04:08<00:00,  1.24s/it]\n"
     ]
    },
    {
     "data": {
      "text/html": [],
      "text/plain": [
       "<IPython.core.display.HTML object>"
      ]
     },
     "metadata": {},
     "output_type": "display_data"
    },
    {
     "data": {
      "text/html": [
       "<br>    <style><br>        .wandb-row {<br>            display: flex;<br>            flex-direction: row;<br>            flex-wrap: wrap;<br>            justify-content: flex-start;<br>            width: 100%;<br>        }<br>        .wandb-col {<br>            display: flex;<br>            flex-direction: column;<br>            flex-basis: 100%;<br>            flex: 1;<br>            padding: 10px;<br>        }<br>    </style><br><div class=\"wandb-row\"><div class=\"wandb-col\"><h3>Run history:</h3><br/><table class=\"wandb\"><tr><td>GCNConvEdge-4Layers/Accuracy</td><td>▁</td></tr><tr><td>GCNConvEdge-4Layers/F1-score</td><td>▁</td></tr><tr><td>GCNConvEdge-4Layers/FalseNegatives</td><td>▁</td></tr><tr><td>GCNConvEdge-4Layers/FalsePositives</td><td>▁</td></tr><tr><td>GCNConvEdge-4Layers/Precision</td><td>▁</td></tr><tr><td>GCNConvEdge-4Layers/Recall</td><td>▁</td></tr><tr><td>GCNConvEdge-4Layers/TrueNegatives</td><td>▁</td></tr><tr><td>GCNConvEdge-4Layers/TruePositives</td><td>▁</td></tr><tr><td>GCNConvEdge-4Layers/test_acc</td><td>▁▁▁▁▁▁▁▁▁▁▁▁▁▁▁▁▁▁▁▁▁▁▁▁▁▁▁▁▁▁▁▁▁▁▁▁▁▁▁▁</td></tr><tr><td>GCNConvEdge-4Layers/train_acc</td><td>▁▁▁▁▁▁▁▁▁▁▁▁▁▁▁▁▁▁▁▁▁▁▁▁▁▁▁▁▁▁▁▁▁▁▁▁▁▁▁▁</td></tr></table><br/></div><div class=\"wandb-col\"><h3>Run summary:</h3><br/><table class=\"wandb\"><tr><td>GCNConvEdge-4Layers/Accuracy</td><td>0.90365</td></tr><tr><td>GCNConvEdge-4Layers/F1-score</td><td>0</td></tr><tr><td>GCNConvEdge-4Layers/FalseNegatives</td><td>87</td></tr><tr><td>GCNConvEdge-4Layers/FalsePositives</td><td>0</td></tr><tr><td>GCNConvEdge-4Layers/Precision</td><td>0</td></tr><tr><td>GCNConvEdge-4Layers/Recall</td><td>0</td></tr><tr><td>GCNConvEdge-4Layers/TrueNegatives</td><td>816</td></tr><tr><td>GCNConvEdge-4Layers/TruePositives</td><td>0</td></tr><tr><td>GCNConvEdge-4Layers/test_acc</td><td>0.90365</td></tr><tr><td>GCNConvEdge-4Layers/train_acc</td><td>0.90365</td></tr><tr><td>GCNConvEdge4Layers/FalsePositives</td><td>0</td></tr></table><br/></div></div>"
      ],
      "text/plain": [
       "<IPython.core.display.HTML object>"
      ]
     },
     "metadata": {},
     "output_type": "display_data"
    },
    {
     "data": {
      "text/html": [
       "You can sync this run to the cloud by running:<br><code>wandb sync E:\\THY\\EDC-AOP\\GNN\\wandb_runs\\wandb\\offline-run-20250812_035355-sieu5a72<code>"
      ],
      "text/plain": [
       "<IPython.core.display.HTML object>"
      ]
     },
     "metadata": {},
     "output_type": "display_data"
    },
    {
     "data": {
      "text/html": [
       "Find logs at: <code>E:\\THY\\EDC-AOP\\GNN\\wandb_runs\\wandb\\offline-run-20250812_035355-sieu5a72\\logs</code>"
      ],
      "text/plain": [
       "<IPython.core.display.HTML object>"
      ]
     },
     "metadata": {},
     "output_type": "display_data"
    },
    {
     "name": "stderr",
     "output_type": "stream",
     "text": [
      "\u001b[34m\u001b[1mwandb\u001b[0m: Agent Starting Run: ok7e2zu2 with config:\n",
      "\u001b[34m\u001b[1mwandb\u001b[0m: \tbatch_size: 50\n",
      "\u001b[34m\u001b[1mwandb\u001b[0m: \thidden_size1: 40\n",
      "\u001b[34m\u001b[1mwandb\u001b[0m: \thidden_size2: 50\n",
      "\u001b[34m\u001b[1mwandb\u001b[0m: \thidden_size3: 60\n",
      "\u001b[34m\u001b[1mwandb\u001b[0m: \tlr: 0.0005901134772109808\n",
      "\u001b[34m\u001b[1mwandb\u001b[0m: \tweight_decay: 0.00048847738760025\n"
     ]
    },
    {
     "data": {
      "text/html": [
       "Tracking run with wandb version 0.20.1"
      ],
      "text/plain": [
       "<IPython.core.display.HTML object>"
      ]
     },
     "metadata": {},
     "output_type": "display_data"
    },
    {
     "data": {
      "text/html": [
       "W&B syncing is set to <code>`offline`<code> in this directory. Run <code>`wandb online`<code> or set <code>WANDB_MODE=online<code> to enable cloud syncing."
      ],
      "text/plain": [
       "<IPython.core.display.HTML object>"
      ]
     },
     "metadata": {},
     "output_type": "display_data"
    },
    {
     "name": "stderr",
     "output_type": "stream",
     "text": [
      "100%|██████████| 200/200 [04:46<00:00,  1.43s/it]\n"
     ]
    },
    {
     "data": {
      "text/html": [],
      "text/plain": [
       "<IPython.core.display.HTML object>"
      ]
     },
     "metadata": {},
     "output_type": "display_data"
    },
    {
     "data": {
      "text/html": [
       "<br>    <style><br>        .wandb-row {<br>            display: flex;<br>            flex-direction: row;<br>            flex-wrap: wrap;<br>            justify-content: flex-start;<br>            width: 100%;<br>        }<br>        .wandb-col {<br>            display: flex;<br>            flex-direction: column;<br>            flex-basis: 100%;<br>            flex: 1;<br>            padding: 10px;<br>        }<br>    </style><br><div class=\"wandb-row\"><div class=\"wandb-col\"><h3>Run history:</h3><br/><table class=\"wandb\"><tr><td>GCNConvEdge-4Layers/Accuracy</td><td>▁</td></tr><tr><td>GCNConvEdge-4Layers/F1-score</td><td>▁</td></tr><tr><td>GCNConvEdge-4Layers/FalseNegatives</td><td>▁</td></tr><tr><td>GCNConvEdge-4Layers/FalsePositives</td><td>▁</td></tr><tr><td>GCNConvEdge-4Layers/Precision</td><td>▁</td></tr><tr><td>GCNConvEdge-4Layers/Recall</td><td>▁</td></tr><tr><td>GCNConvEdge-4Layers/TrueNegatives</td><td>▁</td></tr><tr><td>GCNConvEdge-4Layers/TruePositives</td><td>▁</td></tr><tr><td>GCNConvEdge-4Layers/test_acc</td><td>▁▁▁▁▁▁▁▂▅▄▄▄▄▆▆▅▅▅▅▅▆▅▆▅▅▆▅▆▆▅▆▅█▆▅▆▅▅▆▅</td></tr><tr><td>GCNConvEdge-4Layers/train_acc</td><td>▁▁▁▁▁▁▁▄▅▇▄▆▅▄▅▆▅▅▅▅▅▅▅▆▅▆█▆▆▅▆▆▆▆▅▅▅▅▅▅</td></tr></table><br/></div><div class=\"wandb-col\"><h3>Run summary:</h3><br/><table class=\"wandb\"><tr><td>GCNConvEdge-4Layers/Accuracy</td><td>0.93466</td></tr><tr><td>GCNConvEdge-4Layers/F1-score</td><td>0.58156</td></tr><tr><td>GCNConvEdge-4Layers/FalseNegatives</td><td>46</td></tr><tr><td>GCNConvEdge-4Layers/FalsePositives</td><td>13</td></tr><tr><td>GCNConvEdge-4Layers/Precision</td><td>0.75926</td></tr><tr><td>GCNConvEdge-4Layers/Recall</td><td>0.47126</td></tr><tr><td>GCNConvEdge-4Layers/TrueNegatives</td><td>803</td></tr><tr><td>GCNConvEdge-4Layers/TruePositives</td><td>41</td></tr><tr><td>GCNConvEdge-4Layers/test_acc</td><td>0.93466</td></tr><tr><td>GCNConvEdge-4Layers/train_acc</td><td>0.93466</td></tr><tr><td>GCNConvEdge4Layers/FalsePositives</td><td>13</td></tr></table><br/></div></div>"
      ],
      "text/plain": [
       "<IPython.core.display.HTML object>"
      ]
     },
     "metadata": {},
     "output_type": "display_data"
    },
    {
     "data": {
      "text/html": [
       "You can sync this run to the cloud by running:<br><code>wandb sync E:\\THY\\EDC-AOP\\GNN\\wandb_runs\\wandb\\offline-run-20250812_035807-ok7e2zu2<code>"
      ],
      "text/plain": [
       "<IPython.core.display.HTML object>"
      ]
     },
     "metadata": {},
     "output_type": "display_data"
    },
    {
     "data": {
      "text/html": [
       "Find logs at: <code>E:\\THY\\EDC-AOP\\GNN\\wandb_runs\\wandb\\offline-run-20250812_035807-ok7e2zu2\\logs</code>"
      ],
      "text/plain": [
       "<IPython.core.display.HTML object>"
      ]
     },
     "metadata": {},
     "output_type": "display_data"
    },
    {
     "name": "stderr",
     "output_type": "stream",
     "text": [
      "\u001b[34m\u001b[1mwandb\u001b[0m: Agent Starting Run: q1991kpf with config:\n",
      "\u001b[34m\u001b[1mwandb\u001b[0m: \tbatch_size: 50\n",
      "\u001b[34m\u001b[1mwandb\u001b[0m: \thidden_size1: 20\n",
      "\u001b[34m\u001b[1mwandb\u001b[0m: \thidden_size2: 30\n",
      "\u001b[34m\u001b[1mwandb\u001b[0m: \thidden_size3: 40\n",
      "\u001b[34m\u001b[1mwandb\u001b[0m: \tlr: 0.0003149235655135774\n",
      "\u001b[34m\u001b[1mwandb\u001b[0m: \tweight_decay: 0.0004993432046158795\n"
     ]
    },
    {
     "data": {
      "text/html": [
       "Tracking run with wandb version 0.20.1"
      ],
      "text/plain": [
       "<IPython.core.display.HTML object>"
      ]
     },
     "metadata": {},
     "output_type": "display_data"
    },
    {
     "data": {
      "text/html": [
       "W&B syncing is set to <code>`offline`<code> in this directory. Run <code>`wandb online`<code> or set <code>WANDB_MODE=online<code> to enable cloud syncing."
      ],
      "text/plain": [
       "<IPython.core.display.HTML object>"
      ]
     },
     "metadata": {},
     "output_type": "display_data"
    },
    {
     "name": "stderr",
     "output_type": "stream",
     "text": [
      "100%|██████████| 200/200 [04:43<00:00,  1.42s/it]\n"
     ]
    },
    {
     "data": {
      "text/html": [],
      "text/plain": [
       "<IPython.core.display.HTML object>"
      ]
     },
     "metadata": {},
     "output_type": "display_data"
    },
    {
     "data": {
      "text/html": [
       "<br>    <style><br>        .wandb-row {<br>            display: flex;<br>            flex-direction: row;<br>            flex-wrap: wrap;<br>            justify-content: flex-start;<br>            width: 100%;<br>        }<br>        .wandb-col {<br>            display: flex;<br>            flex-direction: column;<br>            flex-basis: 100%;<br>            flex: 1;<br>            padding: 10px;<br>        }<br>    </style><br><div class=\"wandb-row\"><div class=\"wandb-col\"><h3>Run history:</h3><br/><table class=\"wandb\"><tr><td>GCNConvEdge-4Layers/Accuracy</td><td>▁</td></tr><tr><td>GCNConvEdge-4Layers/F1-score</td><td>▁</td></tr><tr><td>GCNConvEdge-4Layers/FalseNegatives</td><td>▁</td></tr><tr><td>GCNConvEdge-4Layers/FalsePositives</td><td>▁</td></tr><tr><td>GCNConvEdge-4Layers/Precision</td><td>▁</td></tr><tr><td>GCNConvEdge-4Layers/Recall</td><td>▁</td></tr><tr><td>GCNConvEdge-4Layers/TrueNegatives</td><td>▁</td></tr><tr><td>GCNConvEdge-4Layers/TruePositives</td><td>▁</td></tr><tr><td>GCNConvEdge-4Layers/test_acc</td><td>▁▁▁▁▁▁▁▁▁▁▁▁▁▁▃█▇███████████████████████</td></tr><tr><td>GCNConvEdge-4Layers/train_acc</td><td>▁▁▁▁▁▁▁▁▂▂▇▇▇▇▇▂▇▇▇▇▇▇▇▇▇▇▇▇▇█▇▇▇▇▇▇▇█▇▇</td></tr></table><br/></div><div class=\"wandb-col\"><h3>Run summary:</h3><br/><table class=\"wandb\"><tr><td>GCNConvEdge-4Layers/Accuracy</td><td>0.93023</td></tr><tr><td>GCNConvEdge-4Layers/F1-score</td><td>0.53333</td></tr><tr><td>GCNConvEdge-4Layers/FalseNegatives</td><td>51</td></tr><tr><td>GCNConvEdge-4Layers/FalsePositives</td><td>12</td></tr><tr><td>GCNConvEdge-4Layers/Precision</td><td>0.75</td></tr><tr><td>GCNConvEdge-4Layers/Recall</td><td>0.41379</td></tr><tr><td>GCNConvEdge-4Layers/TrueNegatives</td><td>804</td></tr><tr><td>GCNConvEdge-4Layers/TruePositives</td><td>36</td></tr><tr><td>GCNConvEdge-4Layers/test_acc</td><td>0.93023</td></tr><tr><td>GCNConvEdge-4Layers/train_acc</td><td>0.93023</td></tr><tr><td>GCNConvEdge4Layers/FalsePositives</td><td>12</td></tr></table><br/></div></div>"
      ],
      "text/plain": [
       "<IPython.core.display.HTML object>"
      ]
     },
     "metadata": {},
     "output_type": "display_data"
    },
    {
     "data": {
      "text/html": [
       "You can sync this run to the cloud by running:<br><code>wandb sync E:\\THY\\EDC-AOP\\GNN\\wandb_runs\\wandb\\offline-run-20250812_040257-q1991kpf<code>"
      ],
      "text/plain": [
       "<IPython.core.display.HTML object>"
      ]
     },
     "metadata": {},
     "output_type": "display_data"
    },
    {
     "data": {
      "text/html": [
       "Find logs at: <code>E:\\THY\\EDC-AOP\\GNN\\wandb_runs\\wandb\\offline-run-20250812_040257-q1991kpf\\logs</code>"
      ],
      "text/plain": [
       "<IPython.core.display.HTML object>"
      ]
     },
     "metadata": {},
     "output_type": "display_data"
    },
    {
     "name": "stderr",
     "output_type": "stream",
     "text": [
      "\u001b[34m\u001b[1mwandb\u001b[0m: Agent Starting Run: gnog15iv with config:\n",
      "\u001b[34m\u001b[1mwandb\u001b[0m: \tbatch_size: 50\n",
      "\u001b[34m\u001b[1mwandb\u001b[0m: \thidden_size1: 50\n",
      "\u001b[34m\u001b[1mwandb\u001b[0m: \thidden_size2: 20\n",
      "\u001b[34m\u001b[1mwandb\u001b[0m: \thidden_size3: 60\n",
      "\u001b[34m\u001b[1mwandb\u001b[0m: \tlr: 0.0005026646426829573\n",
      "\u001b[34m\u001b[1mwandb\u001b[0m: \tweight_decay: 0.0005105643375425622\n"
     ]
    },
    {
     "data": {
      "text/html": [
       "Tracking run with wandb version 0.20.1"
      ],
      "text/plain": [
       "<IPython.core.display.HTML object>"
      ]
     },
     "metadata": {},
     "output_type": "display_data"
    },
    {
     "data": {
      "text/html": [
       "W&B syncing is set to <code>`offline`<code> in this directory. Run <code>`wandb online`<code> or set <code>WANDB_MODE=online<code> to enable cloud syncing."
      ],
      "text/plain": [
       "<IPython.core.display.HTML object>"
      ]
     },
     "metadata": {},
     "output_type": "display_data"
    },
    {
     "name": "stderr",
     "output_type": "stream",
     "text": [
      "100%|██████████| 200/200 [04:48<00:00,  1.44s/it]\n"
     ]
    },
    {
     "data": {
      "text/html": [],
      "text/plain": [
       "<IPython.core.display.HTML object>"
      ]
     },
     "metadata": {},
     "output_type": "display_data"
    },
    {
     "data": {
      "text/html": [
       "<br>    <style><br>        .wandb-row {<br>            display: flex;<br>            flex-direction: row;<br>            flex-wrap: wrap;<br>            justify-content: flex-start;<br>            width: 100%;<br>        }<br>        .wandb-col {<br>            display: flex;<br>            flex-direction: column;<br>            flex-basis: 100%;<br>            flex: 1;<br>            padding: 10px;<br>        }<br>    </style><br><div class=\"wandb-row\"><div class=\"wandb-col\"><h3>Run history:</h3><br/><table class=\"wandb\"><tr><td>GCNConvEdge-4Layers/Accuracy</td><td>▁</td></tr><tr><td>GCNConvEdge-4Layers/F1-score</td><td>▁</td></tr><tr><td>GCNConvEdge-4Layers/FalseNegatives</td><td>▁</td></tr><tr><td>GCNConvEdge-4Layers/FalsePositives</td><td>▁</td></tr><tr><td>GCNConvEdge-4Layers/Precision</td><td>▁</td></tr><tr><td>GCNConvEdge-4Layers/Recall</td><td>▁</td></tr><tr><td>GCNConvEdge-4Layers/TrueNegatives</td><td>▁</td></tr><tr><td>GCNConvEdge-4Layers/TruePositives</td><td>▁</td></tr><tr><td>GCNConvEdge-4Layers/test_acc</td><td>▁▁▁▁▁▁▁▁▁▁▁▁▁▄▄▅▅▅▅▆▅▄▅▅▅▅▅▅▅▆▆▅▅▆▅▆█▅▅▆</td></tr><tr><td>GCNConvEdge-4Layers/train_acc</td><td>▁▁▁▁▁▁▁▁▁▁▁▅▅▆▆▅▅▆▆█▆█▆▆▆▆▆█▆▆▆█▇█▆▆▆█▆▆</td></tr></table><br/></div><div class=\"wandb-col\"><h3>Run summary:</h3><br/><table class=\"wandb\"><tr><td>GCNConvEdge-4Layers/Accuracy</td><td>0.94463</td></tr><tr><td>GCNConvEdge-4Layers/F1-score</td><td>0.67949</td></tr><tr><td>GCNConvEdge-4Layers/FalseNegatives</td><td>34</td></tr><tr><td>GCNConvEdge-4Layers/FalsePositives</td><td>16</td></tr><tr><td>GCNConvEdge-4Layers/Precision</td><td>0.76812</td></tr><tr><td>GCNConvEdge-4Layers/Recall</td><td>0.6092</td></tr><tr><td>GCNConvEdge-4Layers/TrueNegatives</td><td>800</td></tr><tr><td>GCNConvEdge-4Layers/TruePositives</td><td>53</td></tr><tr><td>GCNConvEdge-4Layers/test_acc</td><td>0.94463</td></tr><tr><td>GCNConvEdge-4Layers/train_acc</td><td>0.94463</td></tr><tr><td>GCNConvEdge4Layers/FalsePositives</td><td>16</td></tr></table><br/></div></div>"
      ],
      "text/plain": [
       "<IPython.core.display.HTML object>"
      ]
     },
     "metadata": {},
     "output_type": "display_data"
    },
    {
     "data": {
      "text/html": [
       "You can sync this run to the cloud by running:<br><code>wandb sync E:\\THY\\EDC-AOP\\GNN\\wandb_runs\\wandb\\offline-run-20250812_040746-gnog15iv<code>"
      ],
      "text/plain": [
       "<IPython.core.display.HTML object>"
      ]
     },
     "metadata": {},
     "output_type": "display_data"
    },
    {
     "data": {
      "text/html": [
       "Find logs at: <code>E:\\THY\\EDC-AOP\\GNN\\wandb_runs\\wandb\\offline-run-20250812_040746-gnog15iv\\logs</code>"
      ],
      "text/plain": [
       "<IPython.core.display.HTML object>"
      ]
     },
     "metadata": {},
     "output_type": "display_data"
    },
    {
     "name": "stderr",
     "output_type": "stream",
     "text": [
      "\u001b[34m\u001b[1mwandb\u001b[0m: Agent Starting Run: t4ufj57v with config:\n",
      "\u001b[34m\u001b[1mwandb\u001b[0m: \tbatch_size: 50\n",
      "\u001b[34m\u001b[1mwandb\u001b[0m: \thidden_size1: 60\n",
      "\u001b[34m\u001b[1mwandb\u001b[0m: \thidden_size2: 10\n",
      "\u001b[34m\u001b[1mwandb\u001b[0m: \thidden_size3: 40\n",
      "\u001b[34m\u001b[1mwandb\u001b[0m: \tlr: 0.0004747885725318372\n",
      "\u001b[34m\u001b[1mwandb\u001b[0m: \tweight_decay: 0.0004910197348067454\n"
     ]
    },
    {
     "data": {
      "text/html": [
       "Tracking run with wandb version 0.20.1"
      ],
      "text/plain": [
       "<IPython.core.display.HTML object>"
      ]
     },
     "metadata": {},
     "output_type": "display_data"
    },
    {
     "data": {
      "text/html": [
       "W&B syncing is set to <code>`offline`<code> in this directory. Run <code>`wandb online`<code> or set <code>WANDB_MODE=online<code> to enable cloud syncing."
      ],
      "text/plain": [
       "<IPython.core.display.HTML object>"
      ]
     },
     "metadata": {},
     "output_type": "display_data"
    },
    {
     "name": "stderr",
     "output_type": "stream",
     "text": [
      "100%|██████████| 200/200 [04:43<00:00,  1.42s/it]\n"
     ]
    },
    {
     "data": {
      "text/html": [],
      "text/plain": [
       "<IPython.core.display.HTML object>"
      ]
     },
     "metadata": {},
     "output_type": "display_data"
    },
    {
     "data": {
      "text/html": [
       "<br>    <style><br>        .wandb-row {<br>            display: flex;<br>            flex-direction: row;<br>            flex-wrap: wrap;<br>            justify-content: flex-start;<br>            width: 100%;<br>        }<br>        .wandb-col {<br>            display: flex;<br>            flex-direction: column;<br>            flex-basis: 100%;<br>            flex: 1;<br>            padding: 10px;<br>        }<br>    </style><br><div class=\"wandb-row\"><div class=\"wandb-col\"><h3>Run history:</h3><br/><table class=\"wandb\"><tr><td>GCNConvEdge-4Layers/Accuracy</td><td>▁</td></tr><tr><td>GCNConvEdge-4Layers/F1-score</td><td>▁</td></tr><tr><td>GCNConvEdge-4Layers/FalseNegatives</td><td>▁</td></tr><tr><td>GCNConvEdge-4Layers/FalsePositives</td><td>▁</td></tr><tr><td>GCNConvEdge-4Layers/Precision</td><td>▁</td></tr><tr><td>GCNConvEdge-4Layers/Recall</td><td>▁</td></tr><tr><td>GCNConvEdge-4Layers/TrueNegatives</td><td>▁</td></tr><tr><td>GCNConvEdge-4Layers/TruePositives</td><td>▁</td></tr><tr><td>GCNConvEdge-4Layers/test_acc</td><td>▁▁▁▁▁▅▅▆▆▆▆▆▆▆█▆▆▆▆▆▆▆▆▆▆▆▆▇▆▆█▆▂█▆▆█▆▆▆</td></tr><tr><td>GCNConvEdge-4Layers/train_acc</td><td>▁▁▁▁▁▂▅▆▆▆▅▆▆▆▆█▆▆▆▆▆▆▆▆▆▆▆▆█▆▆▆▆▆▆▆▆▆▆▆</td></tr></table><br/></div><div class=\"wandb-col\"><h3>Run summary:</h3><br/><table class=\"wandb\"><tr><td>GCNConvEdge-4Layers/Accuracy</td><td>0.93577</td></tr><tr><td>GCNConvEdge-4Layers/F1-score</td><td>0.57971</td></tr><tr><td>GCNConvEdge-4Layers/FalseNegatives</td><td>47</td></tr><tr><td>GCNConvEdge-4Layers/FalsePositives</td><td>11</td></tr><tr><td>GCNConvEdge-4Layers/Precision</td><td>0.78431</td></tr><tr><td>GCNConvEdge-4Layers/Recall</td><td>0.45977</td></tr><tr><td>GCNConvEdge-4Layers/TrueNegatives</td><td>805</td></tr><tr><td>GCNConvEdge-4Layers/TruePositives</td><td>40</td></tr><tr><td>GCNConvEdge-4Layers/test_acc</td><td>0.93577</td></tr><tr><td>GCNConvEdge-4Layers/train_acc</td><td>0.93577</td></tr><tr><td>GCNConvEdge4Layers/FalsePositives</td><td>11</td></tr></table><br/></div></div>"
      ],
      "text/plain": [
       "<IPython.core.display.HTML object>"
      ]
     },
     "metadata": {},
     "output_type": "display_data"
    },
    {
     "data": {
      "text/html": [
       "You can sync this run to the cloud by running:<br><code>wandb sync E:\\THY\\EDC-AOP\\GNN\\wandb_runs\\wandb\\offline-run-20250812_041246-t4ufj57v<code>"
      ],
      "text/plain": [
       "<IPython.core.display.HTML object>"
      ]
     },
     "metadata": {},
     "output_type": "display_data"
    },
    {
     "data": {
      "text/html": [
       "Find logs at: <code>E:\\THY\\EDC-AOP\\GNN\\wandb_runs\\wandb\\offline-run-20250812_041246-t4ufj57v\\logs</code>"
      ],
      "text/plain": [
       "<IPython.core.display.HTML object>"
      ]
     },
     "metadata": {},
     "output_type": "display_data"
    },
    {
     "name": "stderr",
     "output_type": "stream",
     "text": [
      "\u001b[34m\u001b[1mwandb\u001b[0m: Agent Starting Run: z57gdbrv with config:\n",
      "\u001b[34m\u001b[1mwandb\u001b[0m: \tbatch_size: 200\n",
      "\u001b[34m\u001b[1mwandb\u001b[0m: \thidden_size1: 20\n",
      "\u001b[34m\u001b[1mwandb\u001b[0m: \thidden_size2: 80\n",
      "\u001b[34m\u001b[1mwandb\u001b[0m: \thidden_size3: 40\n",
      "\u001b[34m\u001b[1mwandb\u001b[0m: \tlr: 0.0005855525593884546\n",
      "\u001b[34m\u001b[1mwandb\u001b[0m: \tweight_decay: 0.0005150926605720456\n"
     ]
    },
    {
     "data": {
      "text/html": [
       "Tracking run with wandb version 0.20.1"
      ],
      "text/plain": [
       "<IPython.core.display.HTML object>"
      ]
     },
     "metadata": {},
     "output_type": "display_data"
    },
    {
     "data": {
      "text/html": [
       "W&B syncing is set to <code>`offline`<code> in this directory. Run <code>`wandb online`<code> or set <code>WANDB_MODE=online<code> to enable cloud syncing."
      ],
      "text/plain": [
       "<IPython.core.display.HTML object>"
      ]
     },
     "metadata": {},
     "output_type": "display_data"
    },
    {
     "name": "stderr",
     "output_type": "stream",
     "text": [
      "100%|██████████| 200/200 [04:05<00:00,  1.23s/it]\n"
     ]
    },
    {
     "data": {
      "text/html": [],
      "text/plain": [
       "<IPython.core.display.HTML object>"
      ]
     },
     "metadata": {},
     "output_type": "display_data"
    },
    {
     "data": {
      "text/html": [
       "<br>    <style><br>        .wandb-row {<br>            display: flex;<br>            flex-direction: row;<br>            flex-wrap: wrap;<br>            justify-content: flex-start;<br>            width: 100%;<br>        }<br>        .wandb-col {<br>            display: flex;<br>            flex-direction: column;<br>            flex-basis: 100%;<br>            flex: 1;<br>            padding: 10px;<br>        }<br>    </style><br><div class=\"wandb-row\"><div class=\"wandb-col\"><h3>Run history:</h3><br/><table class=\"wandb\"><tr><td>GCNConvEdge-4Layers/Accuracy</td><td>▁</td></tr><tr><td>GCNConvEdge-4Layers/F1-score</td><td>▁</td></tr><tr><td>GCNConvEdge-4Layers/FalseNegatives</td><td>▁</td></tr><tr><td>GCNConvEdge-4Layers/FalsePositives</td><td>▁</td></tr><tr><td>GCNConvEdge-4Layers/Precision</td><td>▁</td></tr><tr><td>GCNConvEdge-4Layers/Recall</td><td>▁</td></tr><tr><td>GCNConvEdge-4Layers/TrueNegatives</td><td>▁</td></tr><tr><td>GCNConvEdge-4Layers/TruePositives</td><td>▁</td></tr><tr><td>GCNConvEdge-4Layers/test_acc</td><td>▁▁▁▁▁▁▁▁▁▁▁▁▁▃▇▇▇▇▇▇▇▇▇▇▇▇▇▇▇▇▇▇▇██▇▇█▇▇</td></tr><tr><td>GCNConvEdge-4Layers/train_acc</td><td>▁▁▁▁▁▁▁▁▁▁▂▂▂▅▆▆▆▆▆▆▆▆▆▆▆▆▆▆▆▆▆▆▆▆▆▆▆█▆▆</td></tr></table><br/></div><div class=\"wandb-col\"><h3>Run summary:</h3><br/><table class=\"wandb\"><tr><td>GCNConvEdge-4Layers/Accuracy</td><td>0.93466</td></tr><tr><td>GCNConvEdge-4Layers/F1-score</td><td>0.57554</td></tr><tr><td>GCNConvEdge-4Layers/FalseNegatives</td><td>47</td></tr><tr><td>GCNConvEdge-4Layers/FalsePositives</td><td>12</td></tr><tr><td>GCNConvEdge-4Layers/Precision</td><td>0.76923</td></tr><tr><td>GCNConvEdge-4Layers/Recall</td><td>0.45977</td></tr><tr><td>GCNConvEdge-4Layers/TrueNegatives</td><td>804</td></tr><tr><td>GCNConvEdge-4Layers/TruePositives</td><td>40</td></tr><tr><td>GCNConvEdge-4Layers/test_acc</td><td>0.93466</td></tr><tr><td>GCNConvEdge-4Layers/train_acc</td><td>0.93466</td></tr><tr><td>GCNConvEdge4Layers/FalsePositives</td><td>12</td></tr></table><br/></div></div>"
      ],
      "text/plain": [
       "<IPython.core.display.HTML object>"
      ]
     },
     "metadata": {},
     "output_type": "display_data"
    },
    {
     "data": {
      "text/html": [
       "You can sync this run to the cloud by running:<br><code>wandb sync E:\\THY\\EDC-AOP\\GNN\\wandb_runs\\wandb\\offline-run-20250812_041734-z57gdbrv<code>"
      ],
      "text/plain": [
       "<IPython.core.display.HTML object>"
      ]
     },
     "metadata": {},
     "output_type": "display_data"
    },
    {
     "data": {
      "text/html": [
       "Find logs at: <code>E:\\THY\\EDC-AOP\\GNN\\wandb_runs\\wandb\\offline-run-20250812_041734-z57gdbrv\\logs</code>"
      ],
      "text/plain": [
       "<IPython.core.display.HTML object>"
      ]
     },
     "metadata": {},
     "output_type": "display_data"
    },
    {
     "name": "stderr",
     "output_type": "stream",
     "text": [
      "\u001b[34m\u001b[1mwandb\u001b[0m: Agent Starting Run: bq48ollz with config:\n",
      "\u001b[34m\u001b[1mwandb\u001b[0m: \tbatch_size: 300\n",
      "\u001b[34m\u001b[1mwandb\u001b[0m: \thidden_size1: 50\n",
      "\u001b[34m\u001b[1mwandb\u001b[0m: \thidden_size2: 50\n",
      "\u001b[34m\u001b[1mwandb\u001b[0m: \thidden_size3: 60\n",
      "\u001b[34m\u001b[1mwandb\u001b[0m: \tlr: 0.00027472362345084763\n",
      "\u001b[34m\u001b[1mwandb\u001b[0m: \tweight_decay: 0.00048157765002374784\n"
     ]
    },
    {
     "data": {
      "text/html": [
       "Tracking run with wandb version 0.20.1"
      ],
      "text/plain": [
       "<IPython.core.display.HTML object>"
      ]
     },
     "metadata": {},
     "output_type": "display_data"
    },
    {
     "data": {
      "text/html": [
       "W&B syncing is set to <code>`offline`<code> in this directory. Run <code>`wandb online`<code> or set <code>WANDB_MODE=online<code> to enable cloud syncing."
      ],
      "text/plain": [
       "<IPython.core.display.HTML object>"
      ]
     },
     "metadata": {},
     "output_type": "display_data"
    },
    {
     "name": "stderr",
     "output_type": "stream",
     "text": [
      "100%|██████████| 200/200 [03:46<00:00,  1.13s/it]\n"
     ]
    },
    {
     "data": {
      "text/html": [],
      "text/plain": [
       "<IPython.core.display.HTML object>"
      ]
     },
     "metadata": {},
     "output_type": "display_data"
    },
    {
     "data": {
      "text/html": [
       "<br>    <style><br>        .wandb-row {<br>            display: flex;<br>            flex-direction: row;<br>            flex-wrap: wrap;<br>            justify-content: flex-start;<br>            width: 100%;<br>        }<br>        .wandb-col {<br>            display: flex;<br>            flex-direction: column;<br>            flex-basis: 100%;<br>            flex: 1;<br>            padding: 10px;<br>        }<br>    </style><br><div class=\"wandb-row\"><div class=\"wandb-col\"><h3>Run history:</h3><br/><table class=\"wandb\"><tr><td>GCNConvEdge-4Layers/Accuracy</td><td>▁</td></tr><tr><td>GCNConvEdge-4Layers/F1-score</td><td>▁</td></tr><tr><td>GCNConvEdge-4Layers/FalseNegatives</td><td>▁</td></tr><tr><td>GCNConvEdge-4Layers/FalsePositives</td><td>▁</td></tr><tr><td>GCNConvEdge-4Layers/Precision</td><td>▁</td></tr><tr><td>GCNConvEdge-4Layers/Recall</td><td>▁</td></tr><tr><td>GCNConvEdge-4Layers/TrueNegatives</td><td>▁</td></tr><tr><td>GCNConvEdge-4Layers/TruePositives</td><td>▁</td></tr><tr><td>GCNConvEdge-4Layers/test_acc</td><td>▁▁▁▁▁▁▁▁▁▁▁▁▁▁▁▁▁▁▁▁▁▁▁▁▁▁▁▁▁▁▁▁▁▁▁▁▁▁▁▁</td></tr><tr><td>GCNConvEdge-4Layers/train_acc</td><td>▁▁▁▁▁▁▁▁▁▁▁▁▁▁▁▁▁▁▁▁▁▁▁▁▁▁▁▁▁▁▁▁▁▁▁▁▁▁▁▁</td></tr></table><br/></div><div class=\"wandb-col\"><h3>Run summary:</h3><br/><table class=\"wandb\"><tr><td>GCNConvEdge-4Layers/Accuracy</td><td>0.90365</td></tr><tr><td>GCNConvEdge-4Layers/F1-score</td><td>0</td></tr><tr><td>GCNConvEdge-4Layers/FalseNegatives</td><td>87</td></tr><tr><td>GCNConvEdge-4Layers/FalsePositives</td><td>0</td></tr><tr><td>GCNConvEdge-4Layers/Precision</td><td>0</td></tr><tr><td>GCNConvEdge-4Layers/Recall</td><td>0</td></tr><tr><td>GCNConvEdge-4Layers/TrueNegatives</td><td>816</td></tr><tr><td>GCNConvEdge-4Layers/TruePositives</td><td>0</td></tr><tr><td>GCNConvEdge-4Layers/test_acc</td><td>0.90365</td></tr><tr><td>GCNConvEdge-4Layers/train_acc</td><td>0.90365</td></tr><tr><td>GCNConvEdge4Layers/FalsePositives</td><td>0</td></tr></table><br/></div></div>"
      ],
      "text/plain": [
       "<IPython.core.display.HTML object>"
      ]
     },
     "metadata": {},
     "output_type": "display_data"
    },
    {
     "data": {
      "text/html": [
       "You can sync this run to the cloud by running:<br><code>wandb sync E:\\THY\\EDC-AOP\\GNN\\wandb_runs\\wandb\\offline-run-20250812_042144-bq48ollz<code>"
      ],
      "text/plain": [
       "<IPython.core.display.HTML object>"
      ]
     },
     "metadata": {},
     "output_type": "display_data"
    },
    {
     "data": {
      "text/html": [
       "Find logs at: <code>E:\\THY\\EDC-AOP\\GNN\\wandb_runs\\wandb\\offline-run-20250812_042144-bq48ollz\\logs</code>"
      ],
      "text/plain": [
       "<IPython.core.display.HTML object>"
      ]
     },
     "metadata": {},
     "output_type": "display_data"
    },
    {
     "name": "stderr",
     "output_type": "stream",
     "text": [
      "\u001b[34m\u001b[1mwandb\u001b[0m: Sweep Agent: Waiting for job.\n",
      "\u001b[34m\u001b[1mwandb\u001b[0m: Job received.\n",
      "\u001b[34m\u001b[1mwandb\u001b[0m: Agent Starting Run: qvozpzxf with config:\n",
      "\u001b[34m\u001b[1mwandb\u001b[0m: \tbatch_size: 50\n",
      "\u001b[34m\u001b[1mwandb\u001b[0m: \thidden_size1: 50\n",
      "\u001b[34m\u001b[1mwandb\u001b[0m: \thidden_size2: 100\n",
      "\u001b[34m\u001b[1mwandb\u001b[0m: \thidden_size3: 60\n",
      "\u001b[34m\u001b[1mwandb\u001b[0m: \tlr: 0.0004644987166669757\n",
      "\u001b[34m\u001b[1mwandb\u001b[0m: \tweight_decay: 0.0005011614710338505\n"
     ]
    },
    {
     "data": {
      "text/html": [
       "Tracking run with wandb version 0.20.1"
      ],
      "text/plain": [
       "<IPython.core.display.HTML object>"
      ]
     },
     "metadata": {},
     "output_type": "display_data"
    },
    {
     "data": {
      "text/html": [
       "W&B syncing is set to <code>`offline`<code> in this directory. Run <code>`wandb online`<code> or set <code>WANDB_MODE=online<code> to enable cloud syncing."
      ],
      "text/plain": [
       "<IPython.core.display.HTML object>"
      ]
     },
     "metadata": {},
     "output_type": "display_data"
    },
    {
     "name": "stderr",
     "output_type": "stream",
     "text": [
      "100%|██████████| 200/200 [04:54<00:00,  1.47s/it]\n"
     ]
    },
    {
     "data": {
      "text/html": [],
      "text/plain": [
       "<IPython.core.display.HTML object>"
      ]
     },
     "metadata": {},
     "output_type": "display_data"
    },
    {
     "data": {
      "text/html": [
       "<br>    <style><br>        .wandb-row {<br>            display: flex;<br>            flex-direction: row;<br>            flex-wrap: wrap;<br>            justify-content: flex-start;<br>            width: 100%;<br>        }<br>        .wandb-col {<br>            display: flex;<br>            flex-direction: column;<br>            flex-basis: 100%;<br>            flex: 1;<br>            padding: 10px;<br>        }<br>    </style><br><div class=\"wandb-row\"><div class=\"wandb-col\"><h3>Run history:</h3><br/><table class=\"wandb\"><tr><td>GCNConvEdge-4Layers/Accuracy</td><td>▁</td></tr><tr><td>GCNConvEdge-4Layers/F1-score</td><td>▁</td></tr><tr><td>GCNConvEdge-4Layers/FalseNegatives</td><td>▁</td></tr><tr><td>GCNConvEdge-4Layers/FalsePositives</td><td>▁</td></tr><tr><td>GCNConvEdge-4Layers/Precision</td><td>▁</td></tr><tr><td>GCNConvEdge-4Layers/Recall</td><td>▁</td></tr><tr><td>GCNConvEdge-4Layers/TrueNegatives</td><td>▁</td></tr><tr><td>GCNConvEdge-4Layers/TruePositives</td><td>▁</td></tr><tr><td>GCNConvEdge-4Layers/test_acc</td><td>▁▁▁▁▁▁▁▁▁▁▆▅▆▆▆▆▅▆▆▆█▆▆▆▆▆▆▆▆▆▆▆▆▆▆▆▆▆▆▆</td></tr><tr><td>GCNConvEdge-4Layers/train_acc</td><td>▁▁▁▁▁▁▁▁▁▁▁▁█▆▆█▆▇▆▆▆▆▅█▆▆▆▆▆█▆▆▆▆▅█▅▆▆▆</td></tr></table><br/></div><div class=\"wandb-col\"><h3>Run summary:</h3><br/><table class=\"wandb\"><tr><td>GCNConvEdge-4Layers/Accuracy</td><td>0.93577</td></tr><tr><td>GCNConvEdge-4Layers/F1-score</td><td>0.57971</td></tr><tr><td>GCNConvEdge-4Layers/FalseNegatives</td><td>47</td></tr><tr><td>GCNConvEdge-4Layers/FalsePositives</td><td>11</td></tr><tr><td>GCNConvEdge-4Layers/Precision</td><td>0.78431</td></tr><tr><td>GCNConvEdge-4Layers/Recall</td><td>0.45977</td></tr><tr><td>GCNConvEdge-4Layers/TrueNegatives</td><td>805</td></tr><tr><td>GCNConvEdge-4Layers/TruePositives</td><td>40</td></tr><tr><td>GCNConvEdge-4Layers/test_acc</td><td>0.93577</td></tr><tr><td>GCNConvEdge-4Layers/train_acc</td><td>0.93577</td></tr><tr><td>GCNConvEdge4Layers/FalsePositives</td><td>11</td></tr></table><br/></div></div>"
      ],
      "text/plain": [
       "<IPython.core.display.HTML object>"
      ]
     },
     "metadata": {},
     "output_type": "display_data"
    },
    {
     "data": {
      "text/html": [
       "You can sync this run to the cloud by running:<br><code>wandb sync E:\\THY\\EDC-AOP\\GNN\\wandb_runs\\wandb\\offline-run-20250812_042542-qvozpzxf<code>"
      ],
      "text/plain": [
       "<IPython.core.display.HTML object>"
      ]
     },
     "metadata": {},
     "output_type": "display_data"
    },
    {
     "data": {
      "text/html": [
       "Find logs at: <code>E:\\THY\\EDC-AOP\\GNN\\wandb_runs\\wandb\\offline-run-20250812_042542-qvozpzxf\\logs</code>"
      ],
      "text/plain": [
       "<IPython.core.display.HTML object>"
      ]
     },
     "metadata": {},
     "output_type": "display_data"
    },
    {
     "name": "stderr",
     "output_type": "stream",
     "text": [
      "\u001b[34m\u001b[1mwandb\u001b[0m: Sweep Agent: Waiting for job.\n",
      "\u001b[34m\u001b[1mwandb\u001b[0m: Job received.\n",
      "\u001b[34m\u001b[1mwandb\u001b[0m: Agent Starting Run: whzmyhto with config:\n",
      "\u001b[34m\u001b[1mwandb\u001b[0m: \tbatch_size: 300\n",
      "\u001b[34m\u001b[1mwandb\u001b[0m: \thidden_size1: 40\n",
      "\u001b[34m\u001b[1mwandb\u001b[0m: \thidden_size2: 60\n",
      "\u001b[34m\u001b[1mwandb\u001b[0m: \thidden_size3: 50\n",
      "\u001b[34m\u001b[1mwandb\u001b[0m: \tlr: 0.0008756647075625584\n",
      "\u001b[34m\u001b[1mwandb\u001b[0m: \tweight_decay: 0.0005074110087506592\n"
     ]
    },
    {
     "data": {
      "text/html": [
       "Tracking run with wandb version 0.20.1"
      ],
      "text/plain": [
       "<IPython.core.display.HTML object>"
      ]
     },
     "metadata": {},
     "output_type": "display_data"
    },
    {
     "data": {
      "text/html": [
       "W&B syncing is set to <code>`offline`<code> in this directory. Run <code>`wandb online`<code> or set <code>WANDB_MODE=online<code> to enable cloud syncing."
      ],
      "text/plain": [
       "<IPython.core.display.HTML object>"
      ]
     },
     "metadata": {},
     "output_type": "display_data"
    },
    {
     "name": "stderr",
     "output_type": "stream",
     "text": [
      "100%|██████████| 200/200 [03:52<00:00,  1.16s/it]\n"
     ]
    },
    {
     "data": {
      "text/html": [],
      "text/plain": [
       "<IPython.core.display.HTML object>"
      ]
     },
     "metadata": {},
     "output_type": "display_data"
    },
    {
     "data": {
      "text/html": [
       "<br>    <style><br>        .wandb-row {<br>            display: flex;<br>            flex-direction: row;<br>            flex-wrap: wrap;<br>            justify-content: flex-start;<br>            width: 100%;<br>        }<br>        .wandb-col {<br>            display: flex;<br>            flex-direction: column;<br>            flex-basis: 100%;<br>            flex: 1;<br>            padding: 10px;<br>        }<br>    </style><br><div class=\"wandb-row\"><div class=\"wandb-col\"><h3>Run history:</h3><br/><table class=\"wandb\"><tr><td>GCNConvEdge-4Layers/Accuracy</td><td>▁</td></tr><tr><td>GCNConvEdge-4Layers/F1-score</td><td>▁</td></tr><tr><td>GCNConvEdge-4Layers/FalseNegatives</td><td>▁</td></tr><tr><td>GCNConvEdge-4Layers/FalsePositives</td><td>▁</td></tr><tr><td>GCNConvEdge-4Layers/Precision</td><td>▁</td></tr><tr><td>GCNConvEdge-4Layers/Recall</td><td>▁</td></tr><tr><td>GCNConvEdge-4Layers/TrueNegatives</td><td>▁</td></tr><tr><td>GCNConvEdge-4Layers/TruePositives</td><td>▁</td></tr><tr><td>GCNConvEdge-4Layers/test_acc</td><td>▁▁▁▁▁▁▁▁▁▁▁▁▁▁▁▁▁▁▁▁▁▁▁▁▁▁▁▁▁▁▁▁▁▁█▁█▁▁█</td></tr><tr><td>GCNConvEdge-4Layers/train_acc</td><td>▁▁▁▁▁▁▁▁▁▁▁▁▁▁▁▁▁▁▁▁▁▁▁▁▁▁▁▁▁▁▁▁▁▁▁▁█▁▁▃</td></tr></table><br/></div><div class=\"wandb-col\"><h3>Run summary:</h3><br/><table class=\"wandb\"><tr><td>GCNConvEdge-4Layers/Accuracy</td><td>0.9103</td></tr><tr><td>GCNConvEdge-4Layers/F1-score</td><td>0.19802</td></tr><tr><td>GCNConvEdge-4Layers/FalseNegatives</td><td>77</td></tr><tr><td>GCNConvEdge-4Layers/FalsePositives</td><td>4</td></tr><tr><td>GCNConvEdge-4Layers/Precision</td><td>0.71429</td></tr><tr><td>GCNConvEdge-4Layers/Recall</td><td>0.11494</td></tr><tr><td>GCNConvEdge-4Layers/TrueNegatives</td><td>812</td></tr><tr><td>GCNConvEdge-4Layers/TruePositives</td><td>10</td></tr><tr><td>GCNConvEdge-4Layers/test_acc</td><td>0.9103</td></tr><tr><td>GCNConvEdge-4Layers/train_acc</td><td>0.9103</td></tr><tr><td>GCNConvEdge4Layers/FalsePositives</td><td>4</td></tr></table><br/></div></div>"
      ],
      "text/plain": [
       "<IPython.core.display.HTML object>"
      ]
     },
     "metadata": {},
     "output_type": "display_data"
    },
    {
     "data": {
      "text/html": [
       "You can sync this run to the cloud by running:<br><code>wandb sync E:\\THY\\EDC-AOP\\GNN\\wandb_runs\\wandb\\offline-run-20250812_043048-whzmyhto<code>"
      ],
      "text/plain": [
       "<IPython.core.display.HTML object>"
      ]
     },
     "metadata": {},
     "output_type": "display_data"
    },
    {
     "data": {
      "text/html": [
       "Find logs at: <code>E:\\THY\\EDC-AOP\\GNN\\wandb_runs\\wandb\\offline-run-20250812_043048-whzmyhto\\logs</code>"
      ],
      "text/plain": [
       "<IPython.core.display.HTML object>"
      ]
     },
     "metadata": {},
     "output_type": "display_data"
    },
    {
     "name": "stderr",
     "output_type": "stream",
     "text": [
      "\u001b[34m\u001b[1mwandb\u001b[0m: Agent Starting Run: xzeaeacm with config:\n",
      "\u001b[34m\u001b[1mwandb\u001b[0m: \tbatch_size: 100\n",
      "\u001b[34m\u001b[1mwandb\u001b[0m: \thidden_size1: 10\n",
      "\u001b[34m\u001b[1mwandb\u001b[0m: \thidden_size2: 100\n",
      "\u001b[34m\u001b[1mwandb\u001b[0m: \thidden_size3: 50\n",
      "\u001b[34m\u001b[1mwandb\u001b[0m: \tlr: 0.0009348430514871034\n",
      "\u001b[34m\u001b[1mwandb\u001b[0m: \tweight_decay: 0.0004892885044420883\n"
     ]
    },
    {
     "data": {
      "text/html": [
       "Tracking run with wandb version 0.20.1"
      ],
      "text/plain": [
       "<IPython.core.display.HTML object>"
      ]
     },
     "metadata": {},
     "output_type": "display_data"
    },
    {
     "data": {
      "text/html": [
       "W&B syncing is set to <code>`offline`<code> in this directory. Run <code>`wandb online`<code> or set <code>WANDB_MODE=online<code> to enable cloud syncing."
      ],
      "text/plain": [
       "<IPython.core.display.HTML object>"
      ]
     },
     "metadata": {},
     "output_type": "display_data"
    },
    {
     "name": "stderr",
     "output_type": "stream",
     "text": [
      "100%|██████████| 200/200 [04:18<00:00,  1.29s/it]\n"
     ]
    },
    {
     "data": {
      "text/html": [],
      "text/plain": [
       "<IPython.core.display.HTML object>"
      ]
     },
     "metadata": {},
     "output_type": "display_data"
    },
    {
     "data": {
      "text/html": [
       "<br>    <style><br>        .wandb-row {<br>            display: flex;<br>            flex-direction: row;<br>            flex-wrap: wrap;<br>            justify-content: flex-start;<br>            width: 100%;<br>        }<br>        .wandb-col {<br>            display: flex;<br>            flex-direction: column;<br>            flex-basis: 100%;<br>            flex: 1;<br>            padding: 10px;<br>        }<br>    </style><br><div class=\"wandb-row\"><div class=\"wandb-col\"><h3>Run history:</h3><br/><table class=\"wandb\"><tr><td>GCNConvEdge-4Layers/Accuracy</td><td>▁</td></tr><tr><td>GCNConvEdge-4Layers/F1-score</td><td>▁</td></tr><tr><td>GCNConvEdge-4Layers/FalseNegatives</td><td>▁</td></tr><tr><td>GCNConvEdge-4Layers/FalsePositives</td><td>▁</td></tr><tr><td>GCNConvEdge-4Layers/Precision</td><td>▁</td></tr><tr><td>GCNConvEdge-4Layers/Recall</td><td>▁</td></tr><tr><td>GCNConvEdge-4Layers/TrueNegatives</td><td>▁</td></tr><tr><td>GCNConvEdge-4Layers/TruePositives</td><td>▁</td></tr><tr><td>GCNConvEdge-4Layers/test_acc</td><td>▁▁▁▁▁▁▁▁▁█▇▆▆▇▆▇▇▇▇▇▇▆▆▇▇▇▇▇▇▆▆▇▇▇▇▇▇█▇▇</td></tr><tr><td>GCNConvEdge-4Layers/train_acc</td><td>▁▁▁▁▁▁▁▁▁▁▆▅▆▆█▆▆▆▆▇▆▆▆▆▆▆▆▆▆▆▆▆▆▆▆▆▆▇▆▆</td></tr></table><br/></div><div class=\"wandb-col\"><h3>Run summary:</h3><br/><table class=\"wandb\"><tr><td>GCNConvEdge-4Layers/Accuracy</td><td>0.93355</td></tr><tr><td>GCNConvEdge-4Layers/F1-score</td><td>0.57746</td></tr><tr><td>GCNConvEdge-4Layers/FalseNegatives</td><td>46</td></tr><tr><td>GCNConvEdge-4Layers/FalsePositives</td><td>14</td></tr><tr><td>GCNConvEdge-4Layers/Precision</td><td>0.74545</td></tr><tr><td>GCNConvEdge-4Layers/Recall</td><td>0.47126</td></tr><tr><td>GCNConvEdge-4Layers/TrueNegatives</td><td>802</td></tr><tr><td>GCNConvEdge-4Layers/TruePositives</td><td>41</td></tr><tr><td>GCNConvEdge-4Layers/test_acc</td><td>0.93355</td></tr><tr><td>GCNConvEdge-4Layers/train_acc</td><td>0.93355</td></tr><tr><td>GCNConvEdge4Layers/FalsePositives</td><td>14</td></tr></table><br/></div></div>"
      ],
      "text/plain": [
       "<IPython.core.display.HTML object>"
      ]
     },
     "metadata": {},
     "output_type": "display_data"
    },
    {
     "data": {
      "text/html": [
       "You can sync this run to the cloud by running:<br><code>wandb sync E:\\THY\\EDC-AOP\\GNN\\wandb_runs\\wandb\\offline-run-20250812_043444-xzeaeacm<code>"
      ],
      "text/plain": [
       "<IPython.core.display.HTML object>"
      ]
     },
     "metadata": {},
     "output_type": "display_data"
    },
    {
     "data": {
      "text/html": [
       "Find logs at: <code>E:\\THY\\EDC-AOP\\GNN\\wandb_runs\\wandb\\offline-run-20250812_043444-xzeaeacm\\logs</code>"
      ],
      "text/plain": [
       "<IPython.core.display.HTML object>"
      ]
     },
     "metadata": {},
     "output_type": "display_data"
    },
    {
     "name": "stderr",
     "output_type": "stream",
     "text": [
      "\u001b[34m\u001b[1mwandb\u001b[0m: Agent Starting Run: azyt2ldt with config:\n",
      "\u001b[34m\u001b[1mwandb\u001b[0m: \tbatch_size: 100\n",
      "\u001b[34m\u001b[1mwandb\u001b[0m: \thidden_size1: 20\n",
      "\u001b[34m\u001b[1mwandb\u001b[0m: \thidden_size2: 40\n",
      "\u001b[34m\u001b[1mwandb\u001b[0m: \thidden_size3: 80\n",
      "\u001b[34m\u001b[1mwandb\u001b[0m: \tlr: 0.0003362118909550924\n",
      "\u001b[34m\u001b[1mwandb\u001b[0m: \tweight_decay: 0.0004924992058672548\n"
     ]
    },
    {
     "data": {
      "text/html": [
       "Tracking run with wandb version 0.20.1"
      ],
      "text/plain": [
       "<IPython.core.display.HTML object>"
      ]
     },
     "metadata": {},
     "output_type": "display_data"
    },
    {
     "data": {
      "text/html": [
       "W&B syncing is set to <code>`offline`<code> in this directory. Run <code>`wandb online`<code> or set <code>WANDB_MODE=online<code> to enable cloud syncing."
      ],
      "text/plain": [
       "<IPython.core.display.HTML object>"
      ]
     },
     "metadata": {},
     "output_type": "display_data"
    },
    {
     "name": "stderr",
     "output_type": "stream",
     "text": [
      "100%|██████████| 200/200 [04:12<00:00,  1.26s/it]\n"
     ]
    },
    {
     "data": {
      "text/html": [],
      "text/plain": [
       "<IPython.core.display.HTML object>"
      ]
     },
     "metadata": {},
     "output_type": "display_data"
    },
    {
     "data": {
      "text/html": [
       "<br>    <style><br>        .wandb-row {<br>            display: flex;<br>            flex-direction: row;<br>            flex-wrap: wrap;<br>            justify-content: flex-start;<br>            width: 100%;<br>        }<br>        .wandb-col {<br>            display: flex;<br>            flex-direction: column;<br>            flex-basis: 100%;<br>            flex: 1;<br>            padding: 10px;<br>        }<br>    </style><br><div class=\"wandb-row\"><div class=\"wandb-col\"><h3>Run history:</h3><br/><table class=\"wandb\"><tr><td>GCNConvEdge-4Layers/Accuracy</td><td>▁</td></tr><tr><td>GCNConvEdge-4Layers/F1-score</td><td>▁</td></tr><tr><td>GCNConvEdge-4Layers/FalseNegatives</td><td>▁</td></tr><tr><td>GCNConvEdge-4Layers/FalsePositives</td><td>▁</td></tr><tr><td>GCNConvEdge-4Layers/Precision</td><td>▁</td></tr><tr><td>GCNConvEdge-4Layers/Recall</td><td>▁</td></tr><tr><td>GCNConvEdge-4Layers/TrueNegatives</td><td>▁</td></tr><tr><td>GCNConvEdge-4Layers/TruePositives</td><td>▁</td></tr><tr><td>GCNConvEdge-4Layers/test_acc</td><td>▁▁▁▁▁▁▁▁▁▁▁▁▁▁▁▁▁▁▂▂▂▆▆▆▆▆▆▆▆▆▆▆▆▆▆▆▆▆▆█</td></tr><tr><td>GCNConvEdge-4Layers/train_acc</td><td>▁▁▁▁▁▁▁▁▁▁▁▁▁▁▁▁▁▁▂▂▆▆▆▆▆▆▆▆▆▆▆▆▆▆█▆▆▆▆▆</td></tr></table><br/></div><div class=\"wandb-col\"><h3>Run summary:</h3><br/><table class=\"wandb\"><tr><td>GCNConvEdge-4Layers/Accuracy</td><td>0.93023</td></tr><tr><td>GCNConvEdge-4Layers/F1-score</td><td>0.53333</td></tr><tr><td>GCNConvEdge-4Layers/FalseNegatives</td><td>51</td></tr><tr><td>GCNConvEdge-4Layers/FalsePositives</td><td>12</td></tr><tr><td>GCNConvEdge-4Layers/Precision</td><td>0.75</td></tr><tr><td>GCNConvEdge-4Layers/Recall</td><td>0.41379</td></tr><tr><td>GCNConvEdge-4Layers/TrueNegatives</td><td>804</td></tr><tr><td>GCNConvEdge-4Layers/TruePositives</td><td>36</td></tr><tr><td>GCNConvEdge-4Layers/test_acc</td><td>0.93023</td></tr><tr><td>GCNConvEdge-4Layers/train_acc</td><td>0.93023</td></tr><tr><td>GCNConvEdge4Layers/FalsePositives</td><td>12</td></tr></table><br/></div></div>"
      ],
      "text/plain": [
       "<IPython.core.display.HTML object>"
      ]
     },
     "metadata": {},
     "output_type": "display_data"
    },
    {
     "data": {
      "text/html": [
       "You can sync this run to the cloud by running:<br><code>wandb sync E:\\THY\\EDC-AOP\\GNN\\wandb_runs\\wandb\\offline-run-20250812_043905-azyt2ldt<code>"
      ],
      "text/plain": [
       "<IPython.core.display.HTML object>"
      ]
     },
     "metadata": {},
     "output_type": "display_data"
    },
    {
     "data": {
      "text/html": [
       "Find logs at: <code>E:\\THY\\EDC-AOP\\GNN\\wandb_runs\\wandb\\offline-run-20250812_043905-azyt2ldt\\logs</code>"
      ],
      "text/plain": [
       "<IPython.core.display.HTML object>"
      ]
     },
     "metadata": {},
     "output_type": "display_data"
    },
    {
     "name": "stderr",
     "output_type": "stream",
     "text": [
      "\u001b[34m\u001b[1mwandb\u001b[0m: Agent Starting Run: t7m1ebtm with config:\n",
      "\u001b[34m\u001b[1mwandb\u001b[0m: \tbatch_size: 50\n",
      "\u001b[34m\u001b[1mwandb\u001b[0m: \thidden_size1: 40\n",
      "\u001b[34m\u001b[1mwandb\u001b[0m: \thidden_size2: 40\n",
      "\u001b[34m\u001b[1mwandb\u001b[0m: \thidden_size3: 50\n",
      "\u001b[34m\u001b[1mwandb\u001b[0m: \tlr: 0.00018788493463005836\n",
      "\u001b[34m\u001b[1mwandb\u001b[0m: \tweight_decay: 0.0005070537872299033\n"
     ]
    },
    {
     "data": {
      "text/html": [
       "Tracking run with wandb version 0.20.1"
      ],
      "text/plain": [
       "<IPython.core.display.HTML object>"
      ]
     },
     "metadata": {},
     "output_type": "display_data"
    },
    {
     "data": {
      "text/html": [
       "W&B syncing is set to <code>`offline`<code> in this directory. Run <code>`wandb online`<code> or set <code>WANDB_MODE=online<code> to enable cloud syncing."
      ],
      "text/plain": [
       "<IPython.core.display.HTML object>"
      ]
     },
     "metadata": {},
     "output_type": "display_data"
    },
    {
     "name": "stderr",
     "output_type": "stream",
     "text": [
      "100%|██████████| 200/200 [04:58<00:00,  1.49s/it]\n"
     ]
    },
    {
     "data": {
      "text/html": [],
      "text/plain": [
       "<IPython.core.display.HTML object>"
      ]
     },
     "metadata": {},
     "output_type": "display_data"
    },
    {
     "data": {
      "text/html": [
       "<br>    <style><br>        .wandb-row {<br>            display: flex;<br>            flex-direction: row;<br>            flex-wrap: wrap;<br>            justify-content: flex-start;<br>            width: 100%;<br>        }<br>        .wandb-col {<br>            display: flex;<br>            flex-direction: column;<br>            flex-basis: 100%;<br>            flex: 1;<br>            padding: 10px;<br>        }<br>    </style><br><div class=\"wandb-row\"><div class=\"wandb-col\"><h3>Run history:</h3><br/><table class=\"wandb\"><tr><td>GCNConvEdge-4Layers/Accuracy</td><td>▁</td></tr><tr><td>GCNConvEdge-4Layers/F1-score</td><td>▁</td></tr><tr><td>GCNConvEdge-4Layers/FalseNegatives</td><td>▁</td></tr><tr><td>GCNConvEdge-4Layers/FalsePositives</td><td>▁</td></tr><tr><td>GCNConvEdge-4Layers/Precision</td><td>▁</td></tr><tr><td>GCNConvEdge-4Layers/Recall</td><td>▁</td></tr><tr><td>GCNConvEdge-4Layers/TrueNegatives</td><td>▁</td></tr><tr><td>GCNConvEdge-4Layers/TruePositives</td><td>▁</td></tr><tr><td>GCNConvEdge-4Layers/test_acc</td><td>▁▁▁▁▁▁▁▁▁▁▁▁▁▁▁▆▅▆▆▆▆▆▆▆▆▆█▆▆▆▆▆▇▆▆▆▆▆▆▆</td></tr><tr><td>GCNConvEdge-4Layers/train_acc</td><td>▁▁▁▁▁▁▁▁▁▁▁▁▁▁▁▁▂▂▅▂▅▆▆▅▆█▆▆▆▆▆▆▆▆▆▆▆▆▆▆</td></tr></table><br/></div><div class=\"wandb-col\"><h3>Run summary:</h3><br/><table class=\"wandb\"><tr><td>GCNConvEdge-4Layers/Accuracy</td><td>0.93466</td></tr><tr><td>GCNConvEdge-4Layers/F1-score</td><td>0.58156</td></tr><tr><td>GCNConvEdge-4Layers/FalseNegatives</td><td>46</td></tr><tr><td>GCNConvEdge-4Layers/FalsePositives</td><td>13</td></tr><tr><td>GCNConvEdge-4Layers/Precision</td><td>0.75926</td></tr><tr><td>GCNConvEdge-4Layers/Recall</td><td>0.47126</td></tr><tr><td>GCNConvEdge-4Layers/TrueNegatives</td><td>803</td></tr><tr><td>GCNConvEdge-4Layers/TruePositives</td><td>41</td></tr><tr><td>GCNConvEdge-4Layers/test_acc</td><td>0.93466</td></tr><tr><td>GCNConvEdge-4Layers/train_acc</td><td>0.93466</td></tr><tr><td>GCNConvEdge4Layers/FalsePositives</td><td>13</td></tr></table><br/></div></div>"
      ],
      "text/plain": [
       "<IPython.core.display.HTML object>"
      ]
     },
     "metadata": {},
     "output_type": "display_data"
    },
    {
     "data": {
      "text/html": [
       "You can sync this run to the cloud by running:<br><code>wandb sync E:\\THY\\EDC-AOP\\GNN\\wandb_runs\\wandb\\offline-run-20250812_044320-t7m1ebtm<code>"
      ],
      "text/plain": [
       "<IPython.core.display.HTML object>"
      ]
     },
     "metadata": {},
     "output_type": "display_data"
    },
    {
     "data": {
      "text/html": [
       "Find logs at: <code>E:\\THY\\EDC-AOP\\GNN\\wandb_runs\\wandb\\offline-run-20250812_044320-t7m1ebtm\\logs</code>"
      ],
      "text/plain": [
       "<IPython.core.display.HTML object>"
      ]
     },
     "metadata": {},
     "output_type": "display_data"
    },
    {
     "name": "stderr",
     "output_type": "stream",
     "text": [
      "\u001b[34m\u001b[1mwandb\u001b[0m: Sweep Agent: Waiting for job.\n",
      "\u001b[34m\u001b[1mwandb\u001b[0m: Job received.\n",
      "\u001b[34m\u001b[1mwandb\u001b[0m: Agent Starting Run: rru00m7x with config:\n",
      "\u001b[34m\u001b[1mwandb\u001b[0m: \tbatch_size: 20\n",
      "\u001b[34m\u001b[1mwandb\u001b[0m: \thidden_size1: 100\n",
      "\u001b[34m\u001b[1mwandb\u001b[0m: \thidden_size2: 30\n",
      "\u001b[34m\u001b[1mwandb\u001b[0m: \thidden_size3: 60\n",
      "\u001b[34m\u001b[1mwandb\u001b[0m: \tlr: 0.00015860706894202075\n",
      "\u001b[34m\u001b[1mwandb\u001b[0m: \tweight_decay: 0.0004961135644887283\n"
     ]
    },
    {
     "data": {
      "text/html": [
       "Tracking run with wandb version 0.20.1"
      ],
      "text/plain": [
       "<IPython.core.display.HTML object>"
      ]
     },
     "metadata": {},
     "output_type": "display_data"
    },
    {
     "data": {
      "text/html": [
       "W&B syncing is set to <code>`offline`<code> in this directory. Run <code>`wandb online`<code> or set <code>WANDB_MODE=online<code> to enable cloud syncing."
      ],
      "text/plain": [
       "<IPython.core.display.HTML object>"
      ]
     },
     "metadata": {},
     "output_type": "display_data"
    },
    {
     "name": "stderr",
     "output_type": "stream",
     "text": [
      "100%|██████████| 200/200 [05:55<00:00,  1.78s/it]\n"
     ]
    },
    {
     "data": {
      "text/html": [],
      "text/plain": [
       "<IPython.core.display.HTML object>"
      ]
     },
     "metadata": {},
     "output_type": "display_data"
    },
    {
     "data": {
      "text/html": [
       "<br>    <style><br>        .wandb-row {<br>            display: flex;<br>            flex-direction: row;<br>            flex-wrap: wrap;<br>            justify-content: flex-start;<br>            width: 100%;<br>        }<br>        .wandb-col {<br>            display: flex;<br>            flex-direction: column;<br>            flex-basis: 100%;<br>            flex: 1;<br>            padding: 10px;<br>        }<br>    </style><br><div class=\"wandb-row\"><div class=\"wandb-col\"><h3>Run history:</h3><br/><table class=\"wandb\"><tr><td>GCNConvEdge-4Layers/Accuracy</td><td>▁</td></tr><tr><td>GCNConvEdge-4Layers/F1-score</td><td>▁</td></tr><tr><td>GCNConvEdge-4Layers/FalseNegatives</td><td>▁</td></tr><tr><td>GCNConvEdge-4Layers/FalsePositives</td><td>▁</td></tr><tr><td>GCNConvEdge-4Layers/Precision</td><td>▁</td></tr><tr><td>GCNConvEdge-4Layers/Recall</td><td>▁</td></tr><tr><td>GCNConvEdge-4Layers/TrueNegatives</td><td>▁</td></tr><tr><td>GCNConvEdge-4Layers/TruePositives</td><td>▁</td></tr><tr><td>GCNConvEdge-4Layers/test_acc</td><td>▁▁▁▁▁▁▂▂▄▅▄▄▅▅▅▅▅▅▅▅▅▄▅▆▅▅▇▅▅▅▅▅▅▅▅▅█▅▅▅</td></tr><tr><td>GCNConvEdge-4Layers/train_acc</td><td>▁▁▁▁▁▁▁▂▄▄▅▄▅▆▆▄▅▄▆▆▅▅▆▅▅▅▅▆█▅▅▅▇▅▅▅▅▅▅▄</td></tr></table><br/></div><div class=\"wandb-col\"><h3>Run summary:</h3><br/><table class=\"wandb\"><tr><td>GCNConvEdge-4Layers/Accuracy</td><td>0.93466</td></tr><tr><td>GCNConvEdge-4Layers/F1-score</td><td>0.56934</td></tr><tr><td>GCNConvEdge-4Layers/FalseNegatives</td><td>48</td></tr><tr><td>GCNConvEdge-4Layers/FalsePositives</td><td>11</td></tr><tr><td>GCNConvEdge-4Layers/Precision</td><td>0.78</td></tr><tr><td>GCNConvEdge-4Layers/Recall</td><td>0.44828</td></tr><tr><td>GCNConvEdge-4Layers/TrueNegatives</td><td>805</td></tr><tr><td>GCNConvEdge-4Layers/TruePositives</td><td>39</td></tr><tr><td>GCNConvEdge-4Layers/test_acc</td><td>0.93466</td></tr><tr><td>GCNConvEdge-4Layers/train_acc</td><td>0.93466</td></tr><tr><td>GCNConvEdge4Layers/FalsePositives</td><td>11</td></tr></table><br/></div></div>"
      ],
      "text/plain": [
       "<IPython.core.display.HTML object>"
      ]
     },
     "metadata": {},
     "output_type": "display_data"
    },
    {
     "data": {
      "text/html": [
       "You can sync this run to the cloud by running:<br><code>wandb sync E:\\THY\\EDC-AOP\\GNN\\wandb_runs\\wandb\\offline-run-20250812_044830-rru00m7x<code>"
      ],
      "text/plain": [
       "<IPython.core.display.HTML object>"
      ]
     },
     "metadata": {},
     "output_type": "display_data"
    },
    {
     "data": {
      "text/html": [
       "Find logs at: <code>E:\\THY\\EDC-AOP\\GNN\\wandb_runs\\wandb\\offline-run-20250812_044830-rru00m7x\\logs</code>"
      ],
      "text/plain": [
       "<IPython.core.display.HTML object>"
      ]
     },
     "metadata": {},
     "output_type": "display_data"
    },
    {
     "name": "stderr",
     "output_type": "stream",
     "text": [
      "\u001b[34m\u001b[1mwandb\u001b[0m: Agent Starting Run: sieu5a72 with config:\n",
      "\u001b[34m\u001b[1mwandb\u001b[0m: \tbatch_size: 300\n",
      "\u001b[34m\u001b[1mwandb\u001b[0m: \thidden_size1: 80\n",
      "\u001b[34m\u001b[1mwandb\u001b[0m: \thidden_size2: 20\n",
      "\u001b[34m\u001b[1mwandb\u001b[0m: \thidden_size3: 100\n",
      "\u001b[34m\u001b[1mwandb\u001b[0m: \tlr: 0.00035861176841281395\n",
      "\u001b[34m\u001b[1mwandb\u001b[0m: \tweight_decay: 0.0004980151620223444\n"
     ]
    },
    {
     "data": {
      "text/html": [
       "Tracking run with wandb version 0.20.1"
      ],
      "text/plain": [
       "<IPython.core.display.HTML object>"
      ]
     },
     "metadata": {},
     "output_type": "display_data"
    },
    {
     "data": {
      "text/html": [
       "W&B syncing is set to <code>`offline`<code> in this directory. Run <code>`wandb online`<code> or set <code>WANDB_MODE=online<code> to enable cloud syncing."
      ],
      "text/plain": [
       "<IPython.core.display.HTML object>"
      ]
     },
     "metadata": {},
     "output_type": "display_data"
    },
    {
     "name": "stderr",
     "output_type": "stream",
     "text": [
      "100%|██████████| 200/200 [03:57<00:00,  1.19s/it]\n"
     ]
    },
    {
     "data": {
      "text/html": [],
      "text/plain": [
       "<IPython.core.display.HTML object>"
      ]
     },
     "metadata": {},
     "output_type": "display_data"
    },
    {
     "data": {
      "text/html": [
       "<br>    <style><br>        .wandb-row {<br>            display: flex;<br>            flex-direction: row;<br>            flex-wrap: wrap;<br>            justify-content: flex-start;<br>            width: 100%;<br>        }<br>        .wandb-col {<br>            display: flex;<br>            flex-direction: column;<br>            flex-basis: 100%;<br>            flex: 1;<br>            padding: 10px;<br>        }<br>    </style><br><div class=\"wandb-row\"><div class=\"wandb-col\"><h3>Run history:</h3><br/><table class=\"wandb\"><tr><td>GCNConvEdge-4Layers/Accuracy</td><td>▁</td></tr><tr><td>GCNConvEdge-4Layers/F1-score</td><td>▁</td></tr><tr><td>GCNConvEdge-4Layers/FalseNegatives</td><td>▁</td></tr><tr><td>GCNConvEdge-4Layers/FalsePositives</td><td>▁</td></tr><tr><td>GCNConvEdge-4Layers/Precision</td><td>▁</td></tr><tr><td>GCNConvEdge-4Layers/Recall</td><td>▁</td></tr><tr><td>GCNConvEdge-4Layers/TrueNegatives</td><td>▁</td></tr><tr><td>GCNConvEdge-4Layers/TruePositives</td><td>▁</td></tr><tr><td>GCNConvEdge-4Layers/test_acc</td><td>▁▁▁▁▁▁▁▁▁▁▁▁▁▁▁▁▁▁▁▁▁▁▁▁▁▁▁▁▁▁▁▁▁▁▁▁▁▁▁▁</td></tr><tr><td>GCNConvEdge-4Layers/train_acc</td><td>▁▁▁▁▁▁▁▁▁▁▁▁▁▁▁▁▁▁▁▁▁▁▁▁▁▁▁▁▁▁▁▁▁▁▁▁▁▁▁▁</td></tr></table><br/></div><div class=\"wandb-col\"><h3>Run summary:</h3><br/><table class=\"wandb\"><tr><td>GCNConvEdge-4Layers/Accuracy</td><td>0.90365</td></tr><tr><td>GCNConvEdge-4Layers/F1-score</td><td>0</td></tr><tr><td>GCNConvEdge-4Layers/FalseNegatives</td><td>87</td></tr><tr><td>GCNConvEdge-4Layers/FalsePositives</td><td>0</td></tr><tr><td>GCNConvEdge-4Layers/Precision</td><td>0</td></tr><tr><td>GCNConvEdge-4Layers/Recall</td><td>0</td></tr><tr><td>GCNConvEdge-4Layers/TrueNegatives</td><td>816</td></tr><tr><td>GCNConvEdge-4Layers/TruePositives</td><td>0</td></tr><tr><td>GCNConvEdge-4Layers/test_acc</td><td>0.90365</td></tr><tr><td>GCNConvEdge-4Layers/train_acc</td><td>0.90365</td></tr><tr><td>GCNConvEdge4Layers/FalsePositives</td><td>0</td></tr></table><br/></div></div>"
      ],
      "text/plain": [
       "<IPython.core.display.HTML object>"
      ]
     },
     "metadata": {},
     "output_type": "display_data"
    },
    {
     "data": {
      "text/html": [
       "You can sync this run to the cloud by running:<br><code>wandb sync E:\\THY\\EDC-AOP\\GNN\\wandb_runs\\wandb\\offline-run-20250812_045431-sieu5a72<code>"
      ],
      "text/plain": [
       "<IPython.core.display.HTML object>"
      ]
     },
     "metadata": {},
     "output_type": "display_data"
    },
    {
     "data": {
      "text/html": [
       "Find logs at: <code>E:\\THY\\EDC-AOP\\GNN\\wandb_runs\\wandb\\offline-run-20250812_045431-sieu5a72\\logs</code>"
      ],
      "text/plain": [
       "<IPython.core.display.HTML object>"
      ]
     },
     "metadata": {},
     "output_type": "display_data"
    },
    {
     "name": "stderr",
     "output_type": "stream",
     "text": [
      "\u001b[34m\u001b[1mwandb\u001b[0m: Sweep Agent: Waiting for job.\n",
      "\u001b[34m\u001b[1mwandb\u001b[0m: Job received.\n",
      "\u001b[34m\u001b[1mwandb\u001b[0m: Agent Starting Run: ok7e2zu2 with config:\n",
      "\u001b[34m\u001b[1mwandb\u001b[0m: \tbatch_size: 50\n",
      "\u001b[34m\u001b[1mwandb\u001b[0m: \thidden_size1: 40\n",
      "\u001b[34m\u001b[1mwandb\u001b[0m: \thidden_size2: 50\n",
      "\u001b[34m\u001b[1mwandb\u001b[0m: \thidden_size3: 60\n",
      "\u001b[34m\u001b[1mwandb\u001b[0m: \tlr: 0.0005901134772109808\n",
      "\u001b[34m\u001b[1mwandb\u001b[0m: \tweight_decay: 0.00048847738760025\n"
     ]
    },
    {
     "data": {
      "text/html": [
       "Tracking run with wandb version 0.20.1"
      ],
      "text/plain": [
       "<IPython.core.display.HTML object>"
      ]
     },
     "metadata": {},
     "output_type": "display_data"
    },
    {
     "data": {
      "text/html": [
       "W&B syncing is set to <code>`offline`<code> in this directory. Run <code>`wandb online`<code> or set <code>WANDB_MODE=online<code> to enable cloud syncing."
      ],
      "text/plain": [
       "<IPython.core.display.HTML object>"
      ]
     },
     "metadata": {},
     "output_type": "display_data"
    },
    {
     "name": "stderr",
     "output_type": "stream",
     "text": [
      "100%|██████████| 200/200 [05:09<00:00,  1.55s/it]\n"
     ]
    },
    {
     "data": {
      "text/html": [],
      "text/plain": [
       "<IPython.core.display.HTML object>"
      ]
     },
     "metadata": {},
     "output_type": "display_data"
    },
    {
     "data": {
      "text/html": [
       "<br>    <style><br>        .wandb-row {<br>            display: flex;<br>            flex-direction: row;<br>            flex-wrap: wrap;<br>            justify-content: flex-start;<br>            width: 100%;<br>        }<br>        .wandb-col {<br>            display: flex;<br>            flex-direction: column;<br>            flex-basis: 100%;<br>            flex: 1;<br>            padding: 10px;<br>        }<br>    </style><br><div class=\"wandb-row\"><div class=\"wandb-col\"><h3>Run history:</h3><br/><table class=\"wandb\"><tr><td>GCNConvEdge-4Layers/Accuracy</td><td>▁</td></tr><tr><td>GCNConvEdge-4Layers/F1-score</td><td>▁</td></tr><tr><td>GCNConvEdge-4Layers/FalseNegatives</td><td>▁</td></tr><tr><td>GCNConvEdge-4Layers/FalsePositives</td><td>▁</td></tr><tr><td>GCNConvEdge-4Layers/Precision</td><td>▁</td></tr><tr><td>GCNConvEdge-4Layers/Recall</td><td>▁</td></tr><tr><td>GCNConvEdge-4Layers/TrueNegatives</td><td>▁</td></tr><tr><td>GCNConvEdge-4Layers/TruePositives</td><td>▁</td></tr><tr><td>GCNConvEdge-4Layers/test_acc</td><td>▁▁▁▁▁▁▁▁▅▅▄▅▄▄▅▅▄▆▆█▆▆▆▅▅▅▆▅▅▅▆▅█▆▅▅▆▅▅▆</td></tr><tr><td>GCNConvEdge-4Layers/train_acc</td><td>▁▁▁▁▅█▂▅▅▆▅▅▆▅▅▆▅▆▅▆▅▆▆▇▆▆▇▅▇▅▅▅▆▇▆▅▆▅▆▅</td></tr></table><br/></div><div class=\"wandb-col\"><h3>Run summary:</h3><br/><table class=\"wandb\"><tr><td>GCNConvEdge-4Layers/Accuracy</td><td>0.93466</td></tr><tr><td>GCNConvEdge-4Layers/F1-score</td><td>0.58156</td></tr><tr><td>GCNConvEdge-4Layers/FalseNegatives</td><td>46</td></tr><tr><td>GCNConvEdge-4Layers/FalsePositives</td><td>13</td></tr><tr><td>GCNConvEdge-4Layers/Precision</td><td>0.75926</td></tr><tr><td>GCNConvEdge-4Layers/Recall</td><td>0.47126</td></tr><tr><td>GCNConvEdge-4Layers/TrueNegatives</td><td>803</td></tr><tr><td>GCNConvEdge-4Layers/TruePositives</td><td>41</td></tr><tr><td>GCNConvEdge-4Layers/test_acc</td><td>0.93466</td></tr><tr><td>GCNConvEdge-4Layers/train_acc</td><td>0.93466</td></tr><tr><td>GCNConvEdge4Layers/FalsePositives</td><td>13</td></tr></table><br/></div></div>"
      ],
      "text/plain": [
       "<IPython.core.display.HTML object>"
      ]
     },
     "metadata": {},
     "output_type": "display_data"
    },
    {
     "data": {
      "text/html": [
       "You can sync this run to the cloud by running:<br><code>wandb sync E:\\THY\\EDC-AOP\\GNN\\wandb_runs\\wandb\\offline-run-20250812_045840-ok7e2zu2<code>"
      ],
      "text/plain": [
       "<IPython.core.display.HTML object>"
      ]
     },
     "metadata": {},
     "output_type": "display_data"
    },
    {
     "data": {
      "text/html": [
       "Find logs at: <code>E:\\THY\\EDC-AOP\\GNN\\wandb_runs\\wandb\\offline-run-20250812_045840-ok7e2zu2\\logs</code>"
      ],
      "text/plain": [
       "<IPython.core.display.HTML object>"
      ]
     },
     "metadata": {},
     "output_type": "display_data"
    },
    {
     "name": "stderr",
     "output_type": "stream",
     "text": [
      "\u001b[34m\u001b[1mwandb\u001b[0m: Sweep Agent: Waiting for job.\n",
      "\u001b[34m\u001b[1mwandb\u001b[0m: Job received.\n",
      "\u001b[34m\u001b[1mwandb\u001b[0m: Agent Starting Run: q1991kpf with config:\n",
      "\u001b[34m\u001b[1mwandb\u001b[0m: \tbatch_size: 50\n",
      "\u001b[34m\u001b[1mwandb\u001b[0m: \thidden_size1: 20\n",
      "\u001b[34m\u001b[1mwandb\u001b[0m: \thidden_size2: 30\n",
      "\u001b[34m\u001b[1mwandb\u001b[0m: \thidden_size3: 40\n",
      "\u001b[34m\u001b[1mwandb\u001b[0m: \tlr: 0.0003149235655135774\n",
      "\u001b[34m\u001b[1mwandb\u001b[0m: \tweight_decay: 0.0004993432046158795\n"
     ]
    },
    {
     "data": {
      "text/html": [
       "Tracking run with wandb version 0.20.1"
      ],
      "text/plain": [
       "<IPython.core.display.HTML object>"
      ]
     },
     "metadata": {},
     "output_type": "display_data"
    },
    {
     "data": {
      "text/html": [
       "W&B syncing is set to <code>`offline`<code> in this directory. Run <code>`wandb online`<code> or set <code>WANDB_MODE=online<code> to enable cloud syncing."
      ],
      "text/plain": [
       "<IPython.core.display.HTML object>"
      ]
     },
     "metadata": {},
     "output_type": "display_data"
    },
    {
     "name": "stderr",
     "output_type": "stream",
     "text": [
      "100%|██████████| 200/200 [04:55<00:00,  1.48s/it]\n"
     ]
    },
    {
     "data": {
      "text/html": [],
      "text/plain": [
       "<IPython.core.display.HTML object>"
      ]
     },
     "metadata": {},
     "output_type": "display_data"
    },
    {
     "data": {
      "text/html": [
       "<br>    <style><br>        .wandb-row {<br>            display: flex;<br>            flex-direction: row;<br>            flex-wrap: wrap;<br>            justify-content: flex-start;<br>            width: 100%;<br>        }<br>        .wandb-col {<br>            display: flex;<br>            flex-direction: column;<br>            flex-basis: 100%;<br>            flex: 1;<br>            padding: 10px;<br>        }<br>    </style><br><div class=\"wandb-row\"><div class=\"wandb-col\"><h3>Run history:</h3><br/><table class=\"wandb\"><tr><td>GCNConvEdge-4Layers/Accuracy</td><td>▁</td></tr><tr><td>GCNConvEdge-4Layers/F1-score</td><td>▁</td></tr><tr><td>GCNConvEdge-4Layers/FalseNegatives</td><td>▁</td></tr><tr><td>GCNConvEdge-4Layers/FalsePositives</td><td>▁</td></tr><tr><td>GCNConvEdge-4Layers/Precision</td><td>▁</td></tr><tr><td>GCNConvEdge-4Layers/Recall</td><td>▁</td></tr><tr><td>GCNConvEdge-4Layers/TrueNegatives</td><td>▁</td></tr><tr><td>GCNConvEdge-4Layers/TruePositives</td><td>▁</td></tr><tr><td>GCNConvEdge-4Layers/test_acc</td><td>▁▁▁▁▁▁▁▁▁▁▁▁▁▁▂▇▇▇▇▇▇▇▇▇▇▇▇▇█▇▇▇██▇▇▇▇▇▇</td></tr><tr><td>GCNConvEdge-4Layers/train_acc</td><td>▁▁▁▁▁▁▁▁▁▂▇▄▇▇▇▇▇▇▇▇▇▇▇▇▇▇▇█▇▇▇▇█▇▇▇▇▇▇█</td></tr></table><br/></div><div class=\"wandb-col\"><h3>Run summary:</h3><br/><table class=\"wandb\"><tr><td>GCNConvEdge-4Layers/Accuracy</td><td>0.93023</td></tr><tr><td>GCNConvEdge-4Layers/F1-score</td><td>0.53333</td></tr><tr><td>GCNConvEdge-4Layers/FalseNegatives</td><td>51</td></tr><tr><td>GCNConvEdge-4Layers/FalsePositives</td><td>12</td></tr><tr><td>GCNConvEdge-4Layers/Precision</td><td>0.75</td></tr><tr><td>GCNConvEdge-4Layers/Recall</td><td>0.41379</td></tr><tr><td>GCNConvEdge-4Layers/TrueNegatives</td><td>804</td></tr><tr><td>GCNConvEdge-4Layers/TruePositives</td><td>36</td></tr><tr><td>GCNConvEdge-4Layers/test_acc</td><td>0.93023</td></tr><tr><td>GCNConvEdge-4Layers/train_acc</td><td>0.93023</td></tr><tr><td>GCNConvEdge4Layers/FalsePositives</td><td>12</td></tr></table><br/></div></div>"
      ],
      "text/plain": [
       "<IPython.core.display.HTML object>"
      ]
     },
     "metadata": {},
     "output_type": "display_data"
    },
    {
     "data": {
      "text/html": [
       "You can sync this run to the cloud by running:<br><code>wandb sync E:\\THY\\EDC-AOP\\GNN\\wandb_runs\\wandb\\offline-run-20250812_050402-q1991kpf<code>"
      ],
      "text/plain": [
       "<IPython.core.display.HTML object>"
      ]
     },
     "metadata": {},
     "output_type": "display_data"
    },
    {
     "data": {
      "text/html": [
       "Find logs at: <code>E:\\THY\\EDC-AOP\\GNN\\wandb_runs\\wandb\\offline-run-20250812_050402-q1991kpf\\logs</code>"
      ],
      "text/plain": [
       "<IPython.core.display.HTML object>"
      ]
     },
     "metadata": {},
     "output_type": "display_data"
    },
    {
     "name": "stderr",
     "output_type": "stream",
     "text": [
      "\u001b[34m\u001b[1mwandb\u001b[0m: Agent Starting Run: gnog15iv with config:\n",
      "\u001b[34m\u001b[1mwandb\u001b[0m: \tbatch_size: 50\n",
      "\u001b[34m\u001b[1mwandb\u001b[0m: \thidden_size1: 50\n",
      "\u001b[34m\u001b[1mwandb\u001b[0m: \thidden_size2: 20\n",
      "\u001b[34m\u001b[1mwandb\u001b[0m: \thidden_size3: 60\n",
      "\u001b[34m\u001b[1mwandb\u001b[0m: \tlr: 0.0005026646426829573\n",
      "\u001b[34m\u001b[1mwandb\u001b[0m: \tweight_decay: 0.0005105643375425622\n"
     ]
    },
    {
     "data": {
      "text/html": [
       "Tracking run with wandb version 0.20.1"
      ],
      "text/plain": [
       "<IPython.core.display.HTML object>"
      ]
     },
     "metadata": {},
     "output_type": "display_data"
    },
    {
     "data": {
      "text/html": [
       "W&B syncing is set to <code>`offline`<code> in this directory. Run <code>`wandb online`<code> or set <code>WANDB_MODE=online<code> to enable cloud syncing."
      ],
      "text/plain": [
       "<IPython.core.display.HTML object>"
      ]
     },
     "metadata": {},
     "output_type": "display_data"
    },
    {
     "name": "stderr",
     "output_type": "stream",
     "text": [
      "100%|██████████| 200/200 [05:01<00:00,  1.51s/it]\n"
     ]
    },
    {
     "data": {
      "text/html": [],
      "text/plain": [
       "<IPython.core.display.HTML object>"
      ]
     },
     "metadata": {},
     "output_type": "display_data"
    },
    {
     "data": {
      "text/html": [
       "<br>    <style><br>        .wandb-row {<br>            display: flex;<br>            flex-direction: row;<br>            flex-wrap: wrap;<br>            justify-content: flex-start;<br>            width: 100%;<br>        }<br>        .wandb-col {<br>            display: flex;<br>            flex-direction: column;<br>            flex-basis: 100%;<br>            flex: 1;<br>            padding: 10px;<br>        }<br>    </style><br><div class=\"wandb-row\"><div class=\"wandb-col\"><h3>Run history:</h3><br/><table class=\"wandb\"><tr><td>GCNConvEdge-4Layers/Accuracy</td><td>▁</td></tr><tr><td>GCNConvEdge-4Layers/F1-score</td><td>▁</td></tr><tr><td>GCNConvEdge-4Layers/FalseNegatives</td><td>▁</td></tr><tr><td>GCNConvEdge-4Layers/FalsePositives</td><td>▁</td></tr><tr><td>GCNConvEdge-4Layers/Precision</td><td>▁</td></tr><tr><td>GCNConvEdge-4Layers/Recall</td><td>▁</td></tr><tr><td>GCNConvEdge-4Layers/TrueNegatives</td><td>▁</td></tr><tr><td>GCNConvEdge-4Layers/TruePositives</td><td>▁</td></tr><tr><td>GCNConvEdge-4Layers/test_acc</td><td>▁▁▁▁▁▁▁▁▁▁▁▁▁▁▄▅▅▅█▅▅▆▅▅▅▆▆▅▅▅▆▆▅▅▅▅▅▅▅▅</td></tr><tr><td>GCNConvEdge-4Layers/train_acc</td><td>▁▁▁▁▁▁▁▁▂▁▅▆▆█▅▆▆▆█▇▆▆█▆▆▆▆▆▆█▆▆█▆█▆▇▆█▆</td></tr></table><br/></div><div class=\"wandb-col\"><h3>Run summary:</h3><br/><table class=\"wandb\"><tr><td>GCNConvEdge-4Layers/Accuracy</td><td>0.94463</td></tr><tr><td>GCNConvEdge-4Layers/F1-score</td><td>0.68354</td></tr><tr><td>GCNConvEdge-4Layers/FalseNegatives</td><td>33</td></tr><tr><td>GCNConvEdge-4Layers/FalsePositives</td><td>17</td></tr><tr><td>GCNConvEdge-4Layers/Precision</td><td>0.76056</td></tr><tr><td>GCNConvEdge-4Layers/Recall</td><td>0.62069</td></tr><tr><td>GCNConvEdge-4Layers/TrueNegatives</td><td>799</td></tr><tr><td>GCNConvEdge-4Layers/TruePositives</td><td>54</td></tr><tr><td>GCNConvEdge-4Layers/test_acc</td><td>0.94463</td></tr><tr><td>GCNConvEdge-4Layers/train_acc</td><td>0.94463</td></tr><tr><td>GCNConvEdge4Layers/FalsePositives</td><td>17</td></tr></table><br/></div></div>"
      ],
      "text/plain": [
       "<IPython.core.display.HTML object>"
      ]
     },
     "metadata": {},
     "output_type": "display_data"
    },
    {
     "data": {
      "text/html": [
       "You can sync this run to the cloud by running:<br><code>wandb sync E:\\THY\\EDC-AOP\\GNN\\wandb_runs\\wandb\\offline-run-20250812_050904-gnog15iv<code>"
      ],
      "text/plain": [
       "<IPython.core.display.HTML object>"
      ]
     },
     "metadata": {},
     "output_type": "display_data"
    },
    {
     "data": {
      "text/html": [
       "Find logs at: <code>E:\\THY\\EDC-AOP\\GNN\\wandb_runs\\wandb\\offline-run-20250812_050904-gnog15iv\\logs</code>"
      ],
      "text/plain": [
       "<IPython.core.display.HTML object>"
      ]
     },
     "metadata": {},
     "output_type": "display_data"
    },
    {
     "name": "stderr",
     "output_type": "stream",
     "text": [
      "\u001b[34m\u001b[1mwandb\u001b[0m: Agent Starting Run: t4ufj57v with config:\n",
      "\u001b[34m\u001b[1mwandb\u001b[0m: \tbatch_size: 50\n",
      "\u001b[34m\u001b[1mwandb\u001b[0m: \thidden_size1: 60\n",
      "\u001b[34m\u001b[1mwandb\u001b[0m: \thidden_size2: 10\n",
      "\u001b[34m\u001b[1mwandb\u001b[0m: \thidden_size3: 40\n",
      "\u001b[34m\u001b[1mwandb\u001b[0m: \tlr: 0.0004747885725318372\n",
      "\u001b[34m\u001b[1mwandb\u001b[0m: \tweight_decay: 0.0004910197348067454\n"
     ]
    },
    {
     "data": {
      "text/html": [
       "Tracking run with wandb version 0.20.1"
      ],
      "text/plain": [
       "<IPython.core.display.HTML object>"
      ]
     },
     "metadata": {},
     "output_type": "display_data"
    },
    {
     "data": {
      "text/html": [
       "W&B syncing is set to <code>`offline`<code> in this directory. Run <code>`wandb online`<code> or set <code>WANDB_MODE=online<code> to enable cloud syncing."
      ],
      "text/plain": [
       "<IPython.core.display.HTML object>"
      ]
     },
     "metadata": {},
     "output_type": "display_data"
    },
    {
     "name": "stderr",
     "output_type": "stream",
     "text": [
      "100%|██████████| 200/200 [04:53<00:00,  1.47s/it]\n"
     ]
    },
    {
     "data": {
      "text/html": [],
      "text/plain": [
       "<IPython.core.display.HTML object>"
      ]
     },
     "metadata": {},
     "output_type": "display_data"
    },
    {
     "data": {
      "text/html": [
       "<br>    <style><br>        .wandb-row {<br>            display: flex;<br>            flex-direction: row;<br>            flex-wrap: wrap;<br>            justify-content: flex-start;<br>            width: 100%;<br>        }<br>        .wandb-col {<br>            display: flex;<br>            flex-direction: column;<br>            flex-basis: 100%;<br>            flex: 1;<br>            padding: 10px;<br>        }<br>    </style><br><div class=\"wandb-row\"><div class=\"wandb-col\"><h3>Run history:</h3><br/><table class=\"wandb\"><tr><td>GCNConvEdge-4Layers/Accuracy</td><td>▁</td></tr><tr><td>GCNConvEdge-4Layers/F1-score</td><td>▁</td></tr><tr><td>GCNConvEdge-4Layers/FalseNegatives</td><td>▁</td></tr><tr><td>GCNConvEdge-4Layers/FalsePositives</td><td>▁</td></tr><tr><td>GCNConvEdge-4Layers/Precision</td><td>▁</td></tr><tr><td>GCNConvEdge-4Layers/Recall</td><td>▁</td></tr><tr><td>GCNConvEdge-4Layers/TrueNegatives</td><td>▁</td></tr><tr><td>GCNConvEdge-4Layers/TruePositives</td><td>▁</td></tr><tr><td>GCNConvEdge-4Layers/test_acc</td><td>▁▁▁▁▁▁▁▁▁▁▂▅▅▆▅▆▆▆██▅▆▆▆▆▆▆▆▆▆▆█▆▆▇▆▅▆▇▇</td></tr><tr><td>GCNConvEdge-4Layers/train_acc</td><td>▁▁▁▁▁▁▁▁▁▅▆▆▆▆▆█▆▆▆▆▆▆▆▆▆▆▆▆█▆▆▆█▆▆▆▆▆▇▇</td></tr></table><br/></div><div class=\"wandb-col\"><h3>Run summary:</h3><br/><table class=\"wandb\"><tr><td>GCNConvEdge-4Layers/Accuracy</td><td>0.93577</td></tr><tr><td>GCNConvEdge-4Layers/F1-score</td><td>0.57971</td></tr><tr><td>GCNConvEdge-4Layers/FalseNegatives</td><td>47</td></tr><tr><td>GCNConvEdge-4Layers/FalsePositives</td><td>11</td></tr><tr><td>GCNConvEdge-4Layers/Precision</td><td>0.78431</td></tr><tr><td>GCNConvEdge-4Layers/Recall</td><td>0.45977</td></tr><tr><td>GCNConvEdge-4Layers/TrueNegatives</td><td>805</td></tr><tr><td>GCNConvEdge-4Layers/TruePositives</td><td>40</td></tr><tr><td>GCNConvEdge-4Layers/test_acc</td><td>0.93577</td></tr><tr><td>GCNConvEdge-4Layers/train_acc</td><td>0.93577</td></tr><tr><td>GCNConvEdge4Layers/FalsePositives</td><td>11</td></tr></table><br/></div></div>"
      ],
      "text/plain": [
       "<IPython.core.display.HTML object>"
      ]
     },
     "metadata": {},
     "output_type": "display_data"
    },
    {
     "data": {
      "text/html": [
       "You can sync this run to the cloud by running:<br><code>wandb sync E:\\THY\\EDC-AOP\\GNN\\wandb_runs\\wandb\\offline-run-20250812_051410-t4ufj57v<code>"
      ],
      "text/plain": [
       "<IPython.core.display.HTML object>"
      ]
     },
     "metadata": {},
     "output_type": "display_data"
    },
    {
     "data": {
      "text/html": [
       "Find logs at: <code>E:\\THY\\EDC-AOP\\GNN\\wandb_runs\\wandb\\offline-run-20250812_051410-t4ufj57v\\logs</code>"
      ],
      "text/plain": [
       "<IPython.core.display.HTML object>"
      ]
     },
     "metadata": {},
     "output_type": "display_data"
    },
    {
     "name": "stderr",
     "output_type": "stream",
     "text": [
      "\u001b[34m\u001b[1mwandb\u001b[0m: Sweep Agent: Waiting for job.\n",
      "\u001b[34m\u001b[1mwandb\u001b[0m: Job received.\n",
      "\u001b[34m\u001b[1mwandb\u001b[0m: Agent Starting Run: z57gdbrv with config:\n",
      "\u001b[34m\u001b[1mwandb\u001b[0m: \tbatch_size: 200\n",
      "\u001b[34m\u001b[1mwandb\u001b[0m: \thidden_size1: 20\n",
      "\u001b[34m\u001b[1mwandb\u001b[0m: \thidden_size2: 80\n",
      "\u001b[34m\u001b[1mwandb\u001b[0m: \thidden_size3: 40\n",
      "\u001b[34m\u001b[1mwandb\u001b[0m: \tlr: 0.0005855525593884546\n",
      "\u001b[34m\u001b[1mwandb\u001b[0m: \tweight_decay: 0.0005150926605720456\n"
     ]
    },
    {
     "data": {
      "text/html": [
       "Tracking run with wandb version 0.20.1"
      ],
      "text/plain": [
       "<IPython.core.display.HTML object>"
      ]
     },
     "metadata": {},
     "output_type": "display_data"
    },
    {
     "data": {
      "text/html": [
       "W&B syncing is set to <code>`offline`<code> in this directory. Run <code>`wandb online`<code> or set <code>WANDB_MODE=online<code> to enable cloud syncing."
      ],
      "text/plain": [
       "<IPython.core.display.HTML object>"
      ]
     },
     "metadata": {},
     "output_type": "display_data"
    },
    {
     "name": "stderr",
     "output_type": "stream",
     "text": [
      "100%|██████████| 200/200 [04:00<00:00,  1.20s/it]\n"
     ]
    },
    {
     "data": {
      "text/html": [],
      "text/plain": [
       "<IPython.core.display.HTML object>"
      ]
     },
     "metadata": {},
     "output_type": "display_data"
    },
    {
     "data": {
      "text/html": [
       "<br>    <style><br>        .wandb-row {<br>            display: flex;<br>            flex-direction: row;<br>            flex-wrap: wrap;<br>            justify-content: flex-start;<br>            width: 100%;<br>        }<br>        .wandb-col {<br>            display: flex;<br>            flex-direction: column;<br>            flex-basis: 100%;<br>            flex: 1;<br>            padding: 10px;<br>        }<br>    </style><br><div class=\"wandb-row\"><div class=\"wandb-col\"><h3>Run history:</h3><br/><table class=\"wandb\"><tr><td>GCNConvEdge-4Layers/Accuracy</td><td>▁</td></tr><tr><td>GCNConvEdge-4Layers/F1-score</td><td>▁</td></tr><tr><td>GCNConvEdge-4Layers/FalseNegatives</td><td>▁</td></tr><tr><td>GCNConvEdge-4Layers/FalsePositives</td><td>▁</td></tr><tr><td>GCNConvEdge-4Layers/Precision</td><td>▁</td></tr><tr><td>GCNConvEdge-4Layers/Recall</td><td>▁</td></tr><tr><td>GCNConvEdge-4Layers/TrueNegatives</td><td>▁</td></tr><tr><td>GCNConvEdge-4Layers/TruePositives</td><td>▁</td></tr><tr><td>GCNConvEdge-4Layers/test_acc</td><td>▁▁▁▁▁▁▁▁▁▁▁▁▁▁▂▇▇▇▇█▇▇█▇▇▇▇▇▇▇▇█▇▇▇▇▇▇▇▇</td></tr><tr><td>GCNConvEdge-4Layers/train_acc</td><td>▁▁▁▁▁▁▁▁▁▁▇▇▇▇▇▇▇▇█▇▇▇▇▇▇▇▇▇▇▇▇▇█▇▇▇▇▇██</td></tr></table><br/></div><div class=\"wandb-col\"><h3>Run summary:</h3><br/><table class=\"wandb\"><tr><td>GCNConvEdge-4Layers/Accuracy</td><td>0.93466</td></tr><tr><td>GCNConvEdge-4Layers/F1-score</td><td>0.57554</td></tr><tr><td>GCNConvEdge-4Layers/FalseNegatives</td><td>47</td></tr><tr><td>GCNConvEdge-4Layers/FalsePositives</td><td>12</td></tr><tr><td>GCNConvEdge-4Layers/Precision</td><td>0.76923</td></tr><tr><td>GCNConvEdge-4Layers/Recall</td><td>0.45977</td></tr><tr><td>GCNConvEdge-4Layers/TrueNegatives</td><td>804</td></tr><tr><td>GCNConvEdge-4Layers/TruePositives</td><td>40</td></tr><tr><td>GCNConvEdge-4Layers/test_acc</td><td>0.93466</td></tr><tr><td>GCNConvEdge-4Layers/train_acc</td><td>0.93466</td></tr><tr><td>GCNConvEdge4Layers/FalsePositives</td><td>12</td></tr></table><br/></div></div>"
      ],
      "text/plain": [
       "<IPython.core.display.HTML object>"
      ]
     },
     "metadata": {},
     "output_type": "display_data"
    },
    {
     "data": {
      "text/html": [
       "You can sync this run to the cloud by running:<br><code>wandb sync E:\\THY\\EDC-AOP\\GNN\\wandb_runs\\wandb\\offline-run-20250812_051915-z57gdbrv<code>"
      ],
      "text/plain": [
       "<IPython.core.display.HTML object>"
      ]
     },
     "metadata": {},
     "output_type": "display_data"
    },
    {
     "data": {
      "text/html": [
       "Find logs at: <code>E:\\THY\\EDC-AOP\\GNN\\wandb_runs\\wandb\\offline-run-20250812_051915-z57gdbrv\\logs</code>"
      ],
      "text/plain": [
       "<IPython.core.display.HTML object>"
      ]
     },
     "metadata": {},
     "output_type": "display_data"
    },
    {
     "name": "stderr",
     "output_type": "stream",
     "text": [
      "\u001b[34m\u001b[1mwandb\u001b[0m: Agent Starting Run: bq48ollz with config:\n",
      "\u001b[34m\u001b[1mwandb\u001b[0m: \tbatch_size: 300\n",
      "\u001b[34m\u001b[1mwandb\u001b[0m: \thidden_size1: 50\n",
      "\u001b[34m\u001b[1mwandb\u001b[0m: \thidden_size2: 50\n",
      "\u001b[34m\u001b[1mwandb\u001b[0m: \thidden_size3: 60\n",
      "\u001b[34m\u001b[1mwandb\u001b[0m: \tlr: 0.00027472362345084763\n",
      "\u001b[34m\u001b[1mwandb\u001b[0m: \tweight_decay: 0.00048157765002374784\n"
     ]
    },
    {
     "data": {
      "text/html": [
       "Tracking run with wandb version 0.20.1"
      ],
      "text/plain": [
       "<IPython.core.display.HTML object>"
      ]
     },
     "metadata": {},
     "output_type": "display_data"
    },
    {
     "data": {
      "text/html": [
       "W&B syncing is set to <code>`offline`<code> in this directory. Run <code>`wandb online`<code> or set <code>WANDB_MODE=online<code> to enable cloud syncing."
      ],
      "text/plain": [
       "<IPython.core.display.HTML object>"
      ]
     },
     "metadata": {},
     "output_type": "display_data"
    },
    {
     "name": "stderr",
     "output_type": "stream",
     "text": [
      "100%|██████████| 200/200 [04:08<00:00,  1.24s/it]\n"
     ]
    },
    {
     "data": {
      "text/html": [],
      "text/plain": [
       "<IPython.core.display.HTML object>"
      ]
     },
     "metadata": {},
     "output_type": "display_data"
    },
    {
     "data": {
      "text/html": [
       "<br>    <style><br>        .wandb-row {<br>            display: flex;<br>            flex-direction: row;<br>            flex-wrap: wrap;<br>            justify-content: flex-start;<br>            width: 100%;<br>        }<br>        .wandb-col {<br>            display: flex;<br>            flex-direction: column;<br>            flex-basis: 100%;<br>            flex: 1;<br>            padding: 10px;<br>        }<br>    </style><br><div class=\"wandb-row\"><div class=\"wandb-col\"><h3>Run history:</h3><br/><table class=\"wandb\"><tr><td>GCNConvEdge-4Layers/Accuracy</td><td>▁</td></tr><tr><td>GCNConvEdge-4Layers/F1-score</td><td>▁</td></tr><tr><td>GCNConvEdge-4Layers/FalseNegatives</td><td>▁</td></tr><tr><td>GCNConvEdge-4Layers/FalsePositives</td><td>▁</td></tr><tr><td>GCNConvEdge-4Layers/Precision</td><td>▁</td></tr><tr><td>GCNConvEdge-4Layers/Recall</td><td>▁</td></tr><tr><td>GCNConvEdge-4Layers/TrueNegatives</td><td>▁</td></tr><tr><td>GCNConvEdge-4Layers/TruePositives</td><td>▁</td></tr><tr><td>GCNConvEdge-4Layers/test_acc</td><td>▁▁▁▁▁▁▁▁▁▁▁▁▁▁▁▁▁▁▁▁▁▁▁▁▁▁▁▁▁▁▁▁▁▁▁▁▁▁▁▁</td></tr><tr><td>GCNConvEdge-4Layers/train_acc</td><td>▁▁▁▁▁▁▁▁▁▁▁▁▁▁▁▁▁▁▁▁▁▁▁▁▁▁▁▁▁▁▁▁▁▁▁▁▁▁▁▁</td></tr></table><br/></div><div class=\"wandb-col\"><h3>Run summary:</h3><br/><table class=\"wandb\"><tr><td>GCNConvEdge-4Layers/Accuracy</td><td>0.90365</td></tr><tr><td>GCNConvEdge-4Layers/F1-score</td><td>0</td></tr><tr><td>GCNConvEdge-4Layers/FalseNegatives</td><td>87</td></tr><tr><td>GCNConvEdge-4Layers/FalsePositives</td><td>0</td></tr><tr><td>GCNConvEdge-4Layers/Precision</td><td>0</td></tr><tr><td>GCNConvEdge-4Layers/Recall</td><td>0</td></tr><tr><td>GCNConvEdge-4Layers/TrueNegatives</td><td>816</td></tr><tr><td>GCNConvEdge-4Layers/TruePositives</td><td>0</td></tr><tr><td>GCNConvEdge-4Layers/test_acc</td><td>0.90365</td></tr><tr><td>GCNConvEdge-4Layers/train_acc</td><td>0.90365</td></tr><tr><td>GCNConvEdge4Layers/FalsePositives</td><td>0</td></tr></table><br/></div></div>"
      ],
      "text/plain": [
       "<IPython.core.display.HTML object>"
      ]
     },
     "metadata": {},
     "output_type": "display_data"
    },
    {
     "data": {
      "text/html": [
       "You can sync this run to the cloud by running:<br><code>wandb sync E:\\THY\\EDC-AOP\\GNN\\wandb_runs\\wandb\\offline-run-20250812_052322-bq48ollz<code>"
      ],
      "text/plain": [
       "<IPython.core.display.HTML object>"
      ]
     },
     "metadata": {},
     "output_type": "display_data"
    },
    {
     "data": {
      "text/html": [
       "Find logs at: <code>E:\\THY\\EDC-AOP\\GNN\\wandb_runs\\wandb\\offline-run-20250812_052322-bq48ollz\\logs</code>"
      ],
      "text/plain": [
       "<IPython.core.display.HTML object>"
      ]
     },
     "metadata": {},
     "output_type": "display_data"
    },
    {
     "name": "stderr",
     "output_type": "stream",
     "text": [
      "\u001b[34m\u001b[1mwandb\u001b[0m: Sweep Agent: Waiting for job.\n",
      "\u001b[34m\u001b[1mwandb\u001b[0m: Job received.\n",
      "\u001b[34m\u001b[1mwandb\u001b[0m: Agent Starting Run: qvozpzxf with config:\n",
      "\u001b[34m\u001b[1mwandb\u001b[0m: \tbatch_size: 50\n",
      "\u001b[34m\u001b[1mwandb\u001b[0m: \thidden_size1: 50\n",
      "\u001b[34m\u001b[1mwandb\u001b[0m: \thidden_size2: 100\n",
      "\u001b[34m\u001b[1mwandb\u001b[0m: \thidden_size3: 60\n",
      "\u001b[34m\u001b[1mwandb\u001b[0m: \tlr: 0.0004644987166669757\n",
      "\u001b[34m\u001b[1mwandb\u001b[0m: \tweight_decay: 0.0005011614710338505\n"
     ]
    },
    {
     "data": {
      "text/html": [
       "Tracking run with wandb version 0.20.1"
      ],
      "text/plain": [
       "<IPython.core.display.HTML object>"
      ]
     },
     "metadata": {},
     "output_type": "display_data"
    },
    {
     "data": {
      "text/html": [
       "W&B syncing is set to <code>`offline`<code> in this directory. Run <code>`wandb online`<code> or set <code>WANDB_MODE=online<code> to enable cloud syncing."
      ],
      "text/plain": [
       "<IPython.core.display.HTML object>"
      ]
     },
     "metadata": {},
     "output_type": "display_data"
    },
    {
     "name": "stderr",
     "output_type": "stream",
     "text": [
      "100%|██████████| 200/200 [05:00<00:00,  1.50s/it]\n"
     ]
    },
    {
     "data": {
      "text/html": [],
      "text/plain": [
       "<IPython.core.display.HTML object>"
      ]
     },
     "metadata": {},
     "output_type": "display_data"
    },
    {
     "data": {
      "text/html": [
       "<br>    <style><br>        .wandb-row {<br>            display: flex;<br>            flex-direction: row;<br>            flex-wrap: wrap;<br>            justify-content: flex-start;<br>            width: 100%;<br>        }<br>        .wandb-col {<br>            display: flex;<br>            flex-direction: column;<br>            flex-basis: 100%;<br>            flex: 1;<br>            padding: 10px;<br>        }<br>    </style><br><div class=\"wandb-row\"><div class=\"wandb-col\"><h3>Run history:</h3><br/><table class=\"wandb\"><tr><td>GCNConvEdge-4Layers/Accuracy</td><td>▁</td></tr><tr><td>GCNConvEdge-4Layers/F1-score</td><td>▁</td></tr><tr><td>GCNConvEdge-4Layers/FalseNegatives</td><td>▁</td></tr><tr><td>GCNConvEdge-4Layers/FalsePositives</td><td>▁</td></tr><tr><td>GCNConvEdge-4Layers/Precision</td><td>▁</td></tr><tr><td>GCNConvEdge-4Layers/Recall</td><td>▁</td></tr><tr><td>GCNConvEdge-4Layers/TrueNegatives</td><td>▁</td></tr><tr><td>GCNConvEdge-4Layers/TruePositives</td><td>▁</td></tr><tr><td>GCNConvEdge-4Layers/test_acc</td><td>▁▁▁▁▁▁▁▆▅▆▅▆▆▆█▆▆▆▆▆▆█▆▆▆▆▆▆▆█▆▆▆▆▅▆▆▆█▆</td></tr><tr><td>GCNConvEdge-4Layers/train_acc</td><td>▁▁▁▁▁▁▁▁▁▁▅▅▅▅▅▇▆▇▇▆▅▆█▆▇▆▆▆▆▆▆▆▆▇▆▆▇▆▆▆</td></tr></table><br/></div><div class=\"wandb-col\"><h3>Run summary:</h3><br/><table class=\"wandb\"><tr><td>GCNConvEdge-4Layers/Accuracy</td><td>0.93577</td></tr><tr><td>GCNConvEdge-4Layers/F1-score</td><td>0.57971</td></tr><tr><td>GCNConvEdge-4Layers/FalseNegatives</td><td>47</td></tr><tr><td>GCNConvEdge-4Layers/FalsePositives</td><td>11</td></tr><tr><td>GCNConvEdge-4Layers/Precision</td><td>0.78431</td></tr><tr><td>GCNConvEdge-4Layers/Recall</td><td>0.45977</td></tr><tr><td>GCNConvEdge-4Layers/TrueNegatives</td><td>805</td></tr><tr><td>GCNConvEdge-4Layers/TruePositives</td><td>40</td></tr><tr><td>GCNConvEdge-4Layers/test_acc</td><td>0.93577</td></tr><tr><td>GCNConvEdge-4Layers/train_acc</td><td>0.93577</td></tr><tr><td>GCNConvEdge4Layers/FalsePositives</td><td>11</td></tr></table><br/></div></div>"
      ],
      "text/plain": [
       "<IPython.core.display.HTML object>"
      ]
     },
     "metadata": {},
     "output_type": "display_data"
    },
    {
     "data": {
      "text/html": [
       "You can sync this run to the cloud by running:<br><code>wandb sync E:\\THY\\EDC-AOP\\GNN\\wandb_runs\\wandb\\offline-run-20250812_052742-qvozpzxf<code>"
      ],
      "text/plain": [
       "<IPython.core.display.HTML object>"
      ]
     },
     "metadata": {},
     "output_type": "display_data"
    },
    {
     "data": {
      "text/html": [
       "Find logs at: <code>E:\\THY\\EDC-AOP\\GNN\\wandb_runs\\wandb\\offline-run-20250812_052742-qvozpzxf\\logs</code>"
      ],
      "text/plain": [
       "<IPython.core.display.HTML object>"
      ]
     },
     "metadata": {},
     "output_type": "display_data"
    },
    {
     "name": "stderr",
     "output_type": "stream",
     "text": [
      "\u001b[34m\u001b[1mwandb\u001b[0m: Sweep Agent: Waiting for job.\n",
      "\u001b[34m\u001b[1mwandb\u001b[0m: Job received.\n",
      "\u001b[34m\u001b[1mwandb\u001b[0m: Agent Starting Run: whzmyhto with config:\n",
      "\u001b[34m\u001b[1mwandb\u001b[0m: \tbatch_size: 300\n",
      "\u001b[34m\u001b[1mwandb\u001b[0m: \thidden_size1: 40\n",
      "\u001b[34m\u001b[1mwandb\u001b[0m: \thidden_size2: 60\n",
      "\u001b[34m\u001b[1mwandb\u001b[0m: \thidden_size3: 50\n",
      "\u001b[34m\u001b[1mwandb\u001b[0m: \tlr: 0.0008756647075625584\n",
      "\u001b[34m\u001b[1mwandb\u001b[0m: \tweight_decay: 0.0005074110087506592\n"
     ]
    },
    {
     "data": {
      "text/html": [
       "Tracking run with wandb version 0.20.1"
      ],
      "text/plain": [
       "<IPython.core.display.HTML object>"
      ]
     },
     "metadata": {},
     "output_type": "display_data"
    },
    {
     "data": {
      "text/html": [
       "W&B syncing is set to <code>`offline`<code> in this directory. Run <code>`wandb online`<code> or set <code>WANDB_MODE=online<code> to enable cloud syncing."
      ],
      "text/plain": [
       "<IPython.core.display.HTML object>"
      ]
     },
     "metadata": {},
     "output_type": "display_data"
    },
    {
     "name": "stderr",
     "output_type": "stream",
     "text": [
      "100%|██████████| 200/200 [03:58<00:00,  1.19s/it]\n"
     ]
    },
    {
     "data": {
      "text/html": [],
      "text/plain": [
       "<IPython.core.display.HTML object>"
      ]
     },
     "metadata": {},
     "output_type": "display_data"
    },
    {
     "data": {
      "text/html": [
       "<br>    <style><br>        .wandb-row {<br>            display: flex;<br>            flex-direction: row;<br>            flex-wrap: wrap;<br>            justify-content: flex-start;<br>            width: 100%;<br>        }<br>        .wandb-col {<br>            display: flex;<br>            flex-direction: column;<br>            flex-basis: 100%;<br>            flex: 1;<br>            padding: 10px;<br>        }<br>    </style><br><div class=\"wandb-row\"><div class=\"wandb-col\"><h3>Run history:</h3><br/><table class=\"wandb\"><tr><td>GCNConvEdge-4Layers/Accuracy</td><td>▁</td></tr><tr><td>GCNConvEdge-4Layers/F1-score</td><td>▁</td></tr><tr><td>GCNConvEdge-4Layers/FalseNegatives</td><td>▁</td></tr><tr><td>GCNConvEdge-4Layers/FalsePositives</td><td>▁</td></tr><tr><td>GCNConvEdge-4Layers/Precision</td><td>▁</td></tr><tr><td>GCNConvEdge-4Layers/Recall</td><td>▁</td></tr><tr><td>GCNConvEdge-4Layers/TrueNegatives</td><td>▁</td></tr><tr><td>GCNConvEdge-4Layers/TruePositives</td><td>▁</td></tr><tr><td>GCNConvEdge-4Layers/test_acc</td><td>▁▁▁▁▁▁▁▁▁▁▁▁▁▁▁▁▁▁▁▁▁▁▁▁▁▁▁▁▁▁▁▁█▁▁▁▁█▁█</td></tr><tr><td>GCNConvEdge-4Layers/train_acc</td><td>▁▁▁▁▁▁▁▁▁▁▁▁▁▁▁▁▁▁▁▁▁▁▁▁▁▁▁▁▁▁▁▁▁▁▁▁▁██▃</td></tr></table><br/></div><div class=\"wandb-col\"><h3>Run summary:</h3><br/><table class=\"wandb\"><tr><td>GCNConvEdge-4Layers/Accuracy</td><td>0.9103</td></tr><tr><td>GCNConvEdge-4Layers/F1-score</td><td>0.19802</td></tr><tr><td>GCNConvEdge-4Layers/FalseNegatives</td><td>77</td></tr><tr><td>GCNConvEdge-4Layers/FalsePositives</td><td>4</td></tr><tr><td>GCNConvEdge-4Layers/Precision</td><td>0.71429</td></tr><tr><td>GCNConvEdge-4Layers/Recall</td><td>0.11494</td></tr><tr><td>GCNConvEdge-4Layers/TrueNegatives</td><td>812</td></tr><tr><td>GCNConvEdge-4Layers/TruePositives</td><td>10</td></tr><tr><td>GCNConvEdge-4Layers/test_acc</td><td>0.9103</td></tr><tr><td>GCNConvEdge-4Layers/train_acc</td><td>0.9103</td></tr><tr><td>GCNConvEdge4Layers/FalsePositives</td><td>4</td></tr></table><br/></div></div>"
      ],
      "text/plain": [
       "<IPython.core.display.HTML object>"
      ]
     },
     "metadata": {},
     "output_type": "display_data"
    },
    {
     "data": {
      "text/html": [
       "You can sync this run to the cloud by running:<br><code>wandb sync E:\\THY\\EDC-AOP\\GNN\\wandb_runs\\wandb\\offline-run-20250812_053255-whzmyhto<code>"
      ],
      "text/plain": [
       "<IPython.core.display.HTML object>"
      ]
     },
     "metadata": {},
     "output_type": "display_data"
    },
    {
     "data": {
      "text/html": [
       "Find logs at: <code>E:\\THY\\EDC-AOP\\GNN\\wandb_runs\\wandb\\offline-run-20250812_053255-whzmyhto\\logs</code>"
      ],
      "text/plain": [
       "<IPython.core.display.HTML object>"
      ]
     },
     "metadata": {},
     "output_type": "display_data"
    }
   ],
   "source": [
    "# Run the Sweeps agent\n",
    "wandb.agent(sweep_id, project=PROJECT, function=agent_fn, count=100)"
   ]
  },
  {
   "cell_type": "code",
   "execution_count": null,
   "metadata": {},
   "outputs": [
    {
     "name": "stdout",
     "output_type": "stream",
     "text": [
      "Syncing: E:\\THY\\EDC-AOP\\GNN\\wandb_runs\\wandb\\offline-run-20250811_215727-t4ufj57v\n",
      "Syncing: E:\\THY\\EDC-AOP\\GNN\\wandb_runs\\wandb\\offline-run-20250811_220201-z57gdbrv\n",
      "Syncing: E:\\THY\\EDC-AOP\\GNN\\wandb_runs\\wandb\\offline-run-20250811_220558-bq48ollz\n",
      "Syncing: E:\\THY\\EDC-AOP\\GNN\\wandb_runs\\wandb\\offline-run-20250811_220935-qvozpzxf\n",
      "Syncing: E:\\THY\\EDC-AOP\\GNN\\wandb_runs\\wandb\\offline-run-20250811_221415-whzmyhto\n",
      "Syncing: E:\\THY\\EDC-AOP\\GNN\\wandb_runs\\wandb\\offline-run-20250811_221758-xzeaeacm\n",
      "Syncing: E:\\THY\\EDC-AOP\\GNN\\wandb_runs\\wandb\\offline-run-20250811_222153-azyt2ldt\n",
      "Syncing: E:\\THY\\EDC-AOP\\GNN\\wandb_runs\\wandb\\offline-run-20250811_222605-t7m1ebtm\n",
      "Syncing: E:\\THY\\EDC-AOP\\GNN\\wandb_runs\\wandb\\offline-run-20250811_223109-rru00m7x\n",
      "Syncing: E:\\THY\\EDC-AOP\\GNN\\wandb_runs\\wandb\\offline-run-20250811_223651-sieu5a72\n",
      "Syncing: E:\\THY\\EDC-AOP\\GNN\\wandb_runs\\wandb\\offline-run-20250811_224020-ok7e2zu2\n",
      "Syncing: E:\\THY\\EDC-AOP\\GNN\\wandb_runs\\wandb\\offline-run-20250811_224440-q1991kpf\n",
      "Syncing: E:\\THY\\EDC-AOP\\GNN\\wandb_runs\\wandb\\offline-run-20250811_224858-gnog15iv\n",
      "Syncing: E:\\THY\\EDC-AOP\\GNN\\wandb_runs\\wandb\\offline-run-20250811_225346-3e5sapjr\n",
      "Syncing: E:\\THY\\EDC-AOP\\GNN\\wandb_runs\\wandb\\offline-run-20250811_225714-jzidiaov\n",
      "Syncing: E:\\THY\\EDC-AOP\\GNN\\wandb_runs\\wandb\\offline-run-20250811_230149-t4ufj57v\n",
      "Syncing: E:\\THY\\EDC-AOP\\GNN\\wandb_runs\\wandb\\offline-run-20250811_230607-z57gdbrv\n",
      "Syncing: E:\\THY\\EDC-AOP\\GNN\\wandb_runs\\wandb\\offline-run-20250811_230940-bq48ollz\n",
      "Syncing: E:\\THY\\EDC-AOP\\GNN\\wandb_runs\\wandb\\offline-run-20250811_231308-qvozpzxf\n",
      "Syncing: E:\\THY\\EDC-AOP\\GNN\\wandb_runs\\wandb\\offline-run-20250811_231735-whzmyhto\n",
      "Syncing: E:\\THY\\EDC-AOP\\GNN\\wandb_runs\\wandb\\offline-run-20250811_232103-xzeaeacm\n",
      "Syncing: E:\\THY\\EDC-AOP\\GNN\\wandb_runs\\wandb\\offline-run-20250811_232458-azyt2ldt\n",
      "Syncing: E:\\THY\\EDC-AOP\\GNN\\wandb_runs\\wandb\\offline-run-20250811_232859-t7m1ebtm\n",
      "Syncing: E:\\THY\\EDC-AOP\\GNN\\wandb_runs\\wandb\\offline-run-20250811_233339-rru00m7x\n",
      "Syncing: E:\\THY\\EDC-AOP\\GNN\\wandb_runs\\wandb\\offline-run-20250811_233922-sieu5a72\n",
      "Syncing: E:\\THY\\EDC-AOP\\GNN\\wandb_runs\\wandb\\offline-run-20250811_234251-ok7e2zu2\n",
      "Syncing: E:\\THY\\EDC-AOP\\GNN\\wandb_runs\\wandb\\offline-run-20250811_234708-q1991kpf\n",
      "Syncing: E:\\THY\\EDC-AOP\\GNN\\wandb_runs\\wandb\\offline-run-20250811_235135-gnog15iv\n",
      "Syncing: E:\\THY\\EDC-AOP\\GNN\\wandb_runs\\wandb\\offline-run-20250811_235601-3e5sapjr\n",
      "Syncing: E:\\THY\\EDC-AOP\\GNN\\wandb_runs\\wandb\\offline-run-20250811_235927-jzidiaov\n",
      "Syncing: E:\\THY\\EDC-AOP\\GNN\\wandb_runs\\wandb\\offline-run-20250812_000334-t4ufj57v\n",
      "Syncing: E:\\THY\\EDC-AOP\\GNN\\wandb_runs\\wandb\\offline-run-20250812_000802-z57gdbrv\n",
      "Syncing: E:\\THY\\EDC-AOP\\GNN\\wandb_runs\\wandb\\offline-run-20250812_001205-bq48ollz\n",
      "Syncing: E:\\THY\\EDC-AOP\\GNN\\wandb_runs\\wandb\\offline-run-20250812_001604-qvozpzxf\n",
      "Syncing: E:\\THY\\EDC-AOP\\GNN\\wandb_runs\\wandb\\offline-run-20250812_002116-whzmyhto\n",
      "Syncing: E:\\THY\\EDC-AOP\\GNN\\wandb_runs\\wandb\\offline-run-20250812_002513-xzeaeacm\n",
      "Syncing: E:\\THY\\EDC-AOP\\GNN\\wandb_runs\\wandb\\offline-run-20250812_002941-azyt2ldt\n",
      "Syncing: E:\\THY\\EDC-AOP\\GNN\\wandb_runs\\wandb\\offline-run-20250812_003417-t7m1ebtm\n",
      "Syncing: E:\\THY\\EDC-AOP\\GNN\\wandb_runs\\wandb\\offline-run-20250812_003941-rru00m7x\n",
      "Syncing: E:\\THY\\EDC-AOP\\GNN\\wandb_runs\\wandb\\offline-run-20250812_004555-sieu5a72\n",
      "Syncing: E:\\THY\\EDC-AOP\\GNN\\wandb_runs\\wandb\\offline-run-20250812_005002-ok7e2zu2\n",
      "Syncing: E:\\THY\\EDC-AOP\\GNN\\wandb_runs\\wandb\\offline-run-20250812_005521-q1991kpf\n",
      "Syncing: E:\\THY\\EDC-AOP\\GNN\\wandb_runs\\wandb\\offline-run-20250812_010019-gnog15iv\n",
      "Syncing: E:\\THY\\EDC-AOP\\GNN\\wandb_runs\\wandb\\offline-run-20250812_010529-t4ufj57v\n",
      "Syncing: E:\\THY\\EDC-AOP\\GNN\\wandb_runs\\wandb\\offline-run-20250812_011033-z57gdbrv\n",
      "Syncing: E:\\THY\\EDC-AOP\\GNN\\wandb_runs\\wandb\\offline-run-20250812_011444-bq48ollz\n",
      "Syncing: E:\\THY\\EDC-AOP\\GNN\\wandb_runs\\wandb\\offline-run-20250812_011901-qvozpzxf\n",
      "Syncing: E:\\THY\\EDC-AOP\\GNN\\wandb_runs\\wandb\\offline-run-20250812_012413-whzmyhto\n",
      "Syncing: E:\\THY\\EDC-AOP\\GNN\\wandb_runs\\wandb\\offline-run-20250812_012824-xzeaeacm\n",
      "Syncing: E:\\THY\\EDC-AOP\\GNN\\wandb_runs\\wandb\\offline-run-20250812_013253-azyt2ldt\n",
      "Syncing: E:\\THY\\EDC-AOP\\GNN\\wandb_runs\\wandb\\offline-run-20250812_013736-t7m1ebtm\n",
      "Syncing: E:\\THY\\EDC-AOP\\GNN\\wandb_runs\\wandb\\offline-run-20250812_014308-rru00m7x\n",
      "Syncing: E:\\THY\\EDC-AOP\\GNN\\wandb_runs\\wandb\\offline-run-20250812_014929-sieu5a72\n",
      "Syncing: E:\\THY\\EDC-AOP\\GNN\\wandb_runs\\wandb\\offline-run-20250812_015342-ok7e2zu2\n",
      "Syncing: E:\\THY\\EDC-AOP\\GNN\\wandb_runs\\wandb\\offline-run-20250812_015850-q1991kpf\n",
      "Syncing: E:\\THY\\EDC-AOP\\GNN\\wandb_runs\\wandb\\offline-run-20250812_020348-gnog15iv\n",
      "Syncing: E:\\THY\\EDC-AOP\\GNN\\wandb_runs\\wandb\\offline-run-20250812_020914-t4ufj57v\n",
      "Syncing: E:\\THY\\EDC-AOP\\GNN\\wandb_runs\\wandb\\offline-run-20250812_021413-z57gdbrv\n",
      "Syncing: E:\\THY\\EDC-AOP\\GNN\\wandb_runs\\wandb\\offline-run-20250812_021806-bq48ollz\n",
      "Syncing: E:\\THY\\EDC-AOP\\GNN\\wandb_runs\\wandb\\offline-run-20250812_022204-qvozpzxf\n",
      "Syncing: E:\\THY\\EDC-AOP\\GNN\\wandb_runs\\wandb\\offline-run-20250812_022716-whzmyhto\n",
      "Syncing: E:\\THY\\EDC-AOP\\GNN\\wandb_runs\\wandb\\offline-run-20250812_023118-xzeaeacm\n",
      "Syncing: E:\\THY\\EDC-AOP\\GNN\\wandb_runs\\wandb\\offline-run-20250812_023535-azyt2ldt\n",
      "Syncing: E:\\THY\\EDC-AOP\\GNN\\wandb_runs\\wandb\\offline-run-20250812_024012-t7m1ebtm\n",
      "Syncing: E:\\THY\\EDC-AOP\\GNN\\wandb_runs\\wandb\\offline-run-20250812_024518-rru00m7x\n",
      "Syncing: E:\\THY\\EDC-AOP\\GNN\\wandb_runs\\wandb\\offline-run-20250812_025134-sieu5a72\n",
      "Syncing: E:\\THY\\EDC-AOP\\GNN\\wandb_runs\\wandb\\offline-run-20250812_025534-ok7e2zu2\n",
      "Syncing: E:\\THY\\EDC-AOP\\GNN\\wandb_runs\\wandb\\offline-run-20250812_030030-q1991kpf\n",
      "Syncing: E:\\THY\\EDC-AOP\\GNN\\wandb_runs\\wandb\\offline-run-20250812_030529-gnog15iv\n",
      "Syncing: E:\\THY\\EDC-AOP\\GNN\\wandb_runs\\wandb\\offline-run-20250812_031038-t4ufj57v\n",
      "Syncing: E:\\THY\\EDC-AOP\\GNN\\wandb_runs\\wandb\\offline-run-20250812_031553-z57gdbrv\n",
      "Syncing: E:\\THY\\EDC-AOP\\GNN\\wandb_runs\\wandb\\offline-run-20250812_032000-bq48ollz\n",
      "Syncing: E:\\THY\\EDC-AOP\\GNN\\wandb_runs\\wandb\\offline-run-20250812_032408-qvozpzxf\n",
      "Syncing: E:\\THY\\EDC-AOP\\GNN\\wandb_runs\\wandb\\offline-run-20250812_032909-whzmyhto\n",
      "Syncing: E:\\THY\\EDC-AOP\\GNN\\wandb_runs\\wandb\\offline-run-20250812_033330-xzeaeacm\n",
      "Syncing: E:\\THY\\EDC-AOP\\GNN\\wandb_runs\\wandb\\offline-run-20250812_033758-azyt2ldt\n",
      "Syncing: E:\\THY\\EDC-AOP\\GNN\\wandb_runs\\wandb\\offline-run-20250812_034231-t7m1ebtm\n",
      "Syncing: E:\\THY\\EDC-AOP\\GNN\\wandb_runs\\wandb\\offline-run-20250812_034741-rru00m7x\n",
      "Syncing: E:\\THY\\EDC-AOP\\GNN\\wandb_runs\\wandb\\offline-run-20250812_035355-sieu5a72\n",
      "Syncing: E:\\THY\\EDC-AOP\\GNN\\wandb_runs\\wandb\\offline-run-20250812_035807-ok7e2zu2\n",
      "Syncing: E:\\THY\\EDC-AOP\\GNN\\wandb_runs\\wandb\\offline-run-20250812_040257-q1991kpf\n",
      "Syncing: E:\\THY\\EDC-AOP\\GNN\\wandb_runs\\wandb\\offline-run-20250812_040746-gnog15iv\n",
      "Syncing: E:\\THY\\EDC-AOP\\GNN\\wandb_runs\\wandb\\offline-run-20250812_041246-t4ufj57v\n",
      "Syncing: E:\\THY\\EDC-AOP\\GNN\\wandb_runs\\wandb\\offline-run-20250812_041734-z57gdbrv\n",
      "Syncing: E:\\THY\\EDC-AOP\\GNN\\wandb_runs\\wandb\\offline-run-20250812_042144-bq48ollz\n",
      "Syncing: E:\\THY\\EDC-AOP\\GNN\\wandb_runs\\wandb\\offline-run-20250812_042542-qvozpzxf\n",
      "Syncing: E:\\THY\\EDC-AOP\\GNN\\wandb_runs\\wandb\\offline-run-20250812_043048-whzmyhto\n",
      "Syncing: E:\\THY\\EDC-AOP\\GNN\\wandb_runs\\wandb\\offline-run-20250812_043444-xzeaeacm\n",
      "Syncing: E:\\THY\\EDC-AOP\\GNN\\wandb_runs\\wandb\\offline-run-20250812_043905-azyt2ldt\n",
      "Syncing: E:\\THY\\EDC-AOP\\GNN\\wandb_runs\\wandb\\offline-run-20250812_044320-t7m1ebtm\n",
      "Syncing: E:\\THY\\EDC-AOP\\GNN\\wandb_runs\\wandb\\offline-run-20250812_044830-rru00m7x\n",
      "Syncing: E:\\THY\\EDC-AOP\\GNN\\wandb_runs\\wandb\\offline-run-20250812_045431-sieu5a72\n",
      "Syncing: E:\\THY\\EDC-AOP\\GNN\\wandb_runs\\wandb\\offline-run-20250812_045840-ok7e2zu2\n",
      "Syncing: E:\\THY\\EDC-AOP\\GNN\\wandb_runs\\wandb\\offline-run-20250812_050402-q1991kpf\n",
      "Syncing: E:\\THY\\EDC-AOP\\GNN\\wandb_runs\\wandb\\offline-run-20250812_050904-gnog15iv\n",
      "Syncing: E:\\THY\\EDC-AOP\\GNN\\wandb_runs\\wandb\\offline-run-20250812_051410-t4ufj57v\n",
      "Syncing: E:\\THY\\EDC-AOP\\GNN\\wandb_runs\\wandb\\offline-run-20250812_051915-z57gdbrv\n",
      "Syncing: E:\\THY\\EDC-AOP\\GNN\\wandb_runs\\wandb\\offline-run-20250812_052322-bq48ollz\n",
      "Syncing: E:\\THY\\EDC-AOP\\GNN\\wandb_runs\\wandb\\offline-run-20250812_052742-qvozpzxf\n",
      "Syncing: E:\\THY\\EDC-AOP\\GNN\\wandb_runs\\wandb\\offline-run-20250812_053255-whzmyhto\n",
      "Syncing: E:\\THY\\EDC-AOP\\GNN\\wandb_runs\\wandb\\sweep-hwetukn4\n",
      "All done. Check your project on W&B.\n"
     ]
    }
   ],
   "source": [
    "import os, sys, subprocess, glob\n",
    "\n",
    "def sync_path(p):\n",
    "    env = os.environ.copy()\n",
    "    env[\"WANDB_MODE\"] = \"online\"\n",
    "    print(\"Syncing:\", p)\n",
    "    if p.endswith(os.sep + \"files\"):\n",
    "        p = os.path.dirname(p)\n",
    "    if os.path.exists(p):\n",
    "        subprocess.run([sys.executable, \"-m\", \"wandb\", \"sync\", p], check=False, env=env)\n",
    "\n",
    "for p in glob.glob(r\"E:\\THY\\EDC-AOP\\GNN\\wandb_runs\\wandb\\offline-run-*\"):\n",
    "    sync_path(p)\n",
    "\n",
    "for p in glob.glob(r\"E:\\THY\\EDC-AOP\\GNN\\wandb_runs\\wandb\\sweep-*\"):\n",
    "    sync_path(p)\n",
    "\n",
    "print(\"All done. Check your project on W&B.\")"
   ]
  }
 ],
 "metadata": {
  "kernelspec": {
   "display_name": "sklearn",
   "language": "python",
   "name": "python3"
  },
  "language_info": {
   "codemirror_mode": {
    "name": "ipython",
    "version": 3
   },
   "file_extension": ".py",
   "mimetype": "text/x-python",
   "name": "python",
   "nbconvert_exporter": "python",
   "pygments_lexer": "ipython3",
   "version": "3.12.0"
  },
  "orig_nbformat": 4
 },
 "nbformat": 4,
 "nbformat_minor": 2
}
