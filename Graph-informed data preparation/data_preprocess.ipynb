{
 "cells": [
  {
   "cell_type": "code",
   "execution_count": 4,
   "id": "776905b4",
   "metadata": {},
   "outputs": [],
   "source": [
    "import pandas as pd\n",
    "import numpy as np\n",
    "\n",
    "from sklearn.preprocessing import StandardScaler\n",
    "from sklearn.ensemble import RandomForestClassifier\n",
    "from sklearn.model_selection import train_test_split, cross_val_score\n",
    "from sklearn.feature_selection import VarianceThreshold, SelectKBest, mutual_info_classif\n",
    "\n",
    "from imblearn.over_sampling import SMOTE"
   ]
  },
  {
   "cell_type": "code",
   "execution_count": 5,
   "id": "451a8318",
   "metadata": {},
   "outputs": [],
   "source": [
    "str = 'event_7-abortion_finger'"
   ]
  },
  {
   "cell_type": "markdown",
   "id": "76db652a",
   "metadata": {},
   "source": [
    "### Preprocessing"
   ]
  },
  {
   "cell_type": "code",
   "execution_count": 6,
   "metadata": {},
   "outputs": [
    {
     "name": "stdout",
     "output_type": "stream",
     "text": [
      "(1647, 883)\n",
      "number of active:  59\n",
      "number of inactive:  1588\n"
     ]
    }
   ],
   "source": [
    "# input data\n",
    "Data = pd.read_csv(str + '.csv')\n",
    "print(Data.shape)\n",
    "\n",
    "# imbalance\n",
    "print('number of active: ', sum(Data.iloc[:,-1] != 0))\n",
    "print('number of inactive: ', sum(Data.iloc[:,-1] == 0))\n"
   ]
  },
  {
   "cell_type": "code",
   "execution_count": null,
   "id": "c2c9ac79",
   "metadata": {},
   "outputs": [
    {
     "name": "stdout",
     "output_type": "stream",
     "text": [
      "(1647, 881)\n",
      "(1647,)\n",
      "[0 1]\n"
     ]
    }
   ],
   "source": [
    "Columns = []\n",
    "\n",
    "for i in range(Data.shape[1]):\n",
    "    for j in range(Data.shape[0]):\n",
    "        a = Data.iloc[j,i]\n",
    "        if a == '#NAME?':\n",
    "            Columns.append(i)\n",
    "            #print(i)\n",
    "            break\n",
    "            \n",
    "list1 = list(Data.columns)\n",
    "\n",
    "for i in range(len(Columns)):\n",
    "    Data.drop(list1[Columns[i]],axis = 1,inplace = True)\n",
    "\n",
    "X = Data.iloc[:,1:-1]\n",
    "y = Data.iloc[:,-1]\n",
    "\n",
    "print(X.shape)\n",
    "print(y.shape)\n",
    "print(y.unique())"
   ]
  },
  {
   "cell_type": "code",
   "execution_count": null,
   "id": "61ce6018",
   "metadata": {},
   "outputs": [
    {
     "name": "stdout",
     "output_type": "stream",
     "text": [
      "[]\n"
     ]
    },
    {
     "data": {
      "text/plain": [
       "(1647, 881)"
      ]
     },
     "execution_count": 8,
     "metadata": {},
     "output_type": "execute_result"
    }
   ],
   "source": [
    "Columns_ = []\n",
    "\n",
    "for i in range(X.shape[1]):\n",
    "    if X.iloc[:,i].max() >= 10000:\n",
    "        Columns_.append(i)\n",
    "\n",
    "print(Columns_)\n",
    "\n",
    "list2 = list(X.columns)\n",
    "\n",
    "for i in range(len(Columns_)):\n",
    "    X.drop(list2[Columns_[i]],axis = 1,inplace = True)\n",
    "\n",
    "X.shape"
   ]
  },
  {
   "cell_type": "code",
   "execution_count": null,
   "id": "79d0a078",
   "metadata": {},
   "outputs": [
    {
     "name": "stdout",
     "output_type": "stream",
     "text": [
      "[]\n"
     ]
    },
    {
     "data": {
      "text/plain": [
       "(1647, 881)"
      ]
     },
     "execution_count": 9,
     "metadata": {},
     "output_type": "execute_result"
    }
   ],
   "source": [
    "Columns_1 = []\n",
    "\n",
    "for i in range(X.shape[1]):\n",
    "    for j in range(X.shape[0]):\n",
    "        a = X.iloc[j,i]\n",
    "        if pd.isnull(a) == True:\n",
    "            Columns_1.append(i)\n",
    "            break\n",
    "    \n",
    "print(Columns_1)\n",
    "\n",
    "list3 = list(X.columns)\n",
    "\n",
    "for i in range(len(Columns_1)):\n",
    "    X.drop(list3[Columns_1[i]],axis = 1,inplace = True)\n",
    "\n",
    "X.shape"
   ]
  },
  {
   "cell_type": "code",
   "execution_count": null,
   "id": "2a220040",
   "metadata": {},
   "outputs": [
    {
     "data": {
      "text/plain": [
       "(1647, 679)"
      ]
     },
     "execution_count": 10,
     "metadata": {},
     "output_type": "execute_result"
    }
   ],
   "source": [
    "selector = VarianceThreshold()\n",
    "selector = selector.fit(X)\n",
    "X_var0 = selector.transform(X)\n",
    "X_var0.shape"
   ]
  },
  {
   "cell_type": "code",
   "execution_count": 11,
   "id": "b1f8cf73",
   "metadata": {},
   "outputs": [
    {
     "data": {
      "text/plain": [
       "(1647, 679)"
      ]
     },
     "execution_count": 11,
     "metadata": {},
     "output_type": "execute_result"
    }
   ],
   "source": [
    "list4 = selector.get_feature_names_out()\n",
    "X_var0 = pd.DataFrame(X_var0)\n",
    "X_var0.columns = list4\n",
    "X_var0.shape"
   ]
  },
  {
   "cell_type": "code",
   "execution_count": null,
   "id": "73b5ffe1",
   "metadata": {},
   "outputs": [
    {
     "name": "stdout",
     "output_type": "stream",
     "text": [
      "370\n",
      "0.9575002302661877\n",
      "(1647, 370)\n"
     ]
    }
   ],
   "source": [
    "result = mutual_info_classif(X_var0,y)\n",
    "k = result.shape[0] - sum(result <= 0)\n",
    "mlc = SelectKBest(mutual_info_classif, k=k).fit(X_var0, y)\n",
    "X_fsmic = mlc.transform(X_var0)\n",
    "cr = cross_val_score(RandomForestClassifier(n_estimators=10,random_state=0),X_fsmic,y,cv=5).mean()\n",
    "\n",
    "print(k) \n",
    "print(cr)\n",
    "print(X_fsmic.shape)"
   ]
  },
  {
   "cell_type": "code",
   "execution_count": 13,
   "id": "fc208864",
   "metadata": {},
   "outputs": [
    {
     "data": {
      "text/plain": [
       "(1647, 370)"
      ]
     },
     "execution_count": 13,
     "metadata": {},
     "output_type": "execute_result"
    }
   ],
   "source": [
    "list5 = mlc.get_feature_names_out()\n",
    "X_fsmic = pd.DataFrame(X_fsmic)\n",
    "X_fsmic.columns = list5\n",
    "X_fsmic.shape"
   ]
  },
  {
   "cell_type": "code",
   "execution_count": 14,
   "id": "47bed077",
   "metadata": {},
   "outputs": [
    {
     "data": {
      "text/plain": [
       "((1647, 370), (1647,))"
      ]
     },
     "execution_count": 14,
     "metadata": {},
     "output_type": "execute_result"
    }
   ],
   "source": [
    "X_fsmic.to_csv(str + '-2.csv')\n",
    "X_ = pd.read_csv(str + '-2.csv', index_col=0)\n",
    "list_ = list(X_.columns)\n",
    "\n",
    "y.to_csv(str + '-3.csv')\n",
    "y_ = pd.read_csv(str + '-3.csv', index_col=0)\n",
    "y_ = np.array(y_).reshape(-1)\n",
    "\n",
    "X_.shape, y_.shape"
   ]
  },
  {
   "cell_type": "code",
   "execution_count": null,
   "id": "716ba848",
   "metadata": {},
   "outputs": [
    {
     "data": {
      "text/plain": [
       "((1317, 370), (330, 370), (1317,), (330,))"
      ]
     },
     "execution_count": 15,
     "metadata": {},
     "output_type": "execute_result"
    }
   ],
   "source": [
    "# preprocessing.StandardScaler\n",
    "# training set\n",
    "scaler = StandardScaler()\n",
    "scaler =scaler.fit(X_)\n",
    "X_std = scaler.transform(X_)\n",
    "X_std = pd.DataFrame(X_std)\n",
    "X_std.columns = X_.columns\n",
    "\n",
    "Xtrain, Xtest, Ytrain, Ytest = train_test_split(X_std,y_,test_size=0.2,random_state=0)\n",
    "\n",
    "Xtrain.shape, Xtest.shape, Ytrain.shape, Ytest.shape"
   ]
  },
  {
   "cell_type": "code",
   "execution_count": null,
   "id": "3331e196",
   "metadata": {},
   "outputs": [
    {
     "name": "stdout",
     "output_type": "stream",
     "text": [
      "0    1268\n",
      "1      49\n",
      "Name: count, dtype: int64\n",
      "0    320\n",
      "1     10\n",
      "Name: count, dtype: int64\n"
     ]
    }
   ],
   "source": [
    "Ytrain=pd.Series(Ytrain)\n",
    "Ytest=pd.Series(Ytest)\n",
    "print(Ytrain.value_counts())\n",
    "print(Ytest.value_counts())"
   ]
  },
  {
   "cell_type": "code",
   "execution_count": null,
   "id": "22206d38",
   "metadata": {},
   "outputs": [],
   "source": [
    "sm = SMOTE(random_state=42)\n",
    "Xtrain_,Ytrain_ = sm.fit_resample(Xtrain,Ytrain)"
   ]
  },
  {
   "cell_type": "code",
   "execution_count": 18,
   "id": "292a4ebc",
   "metadata": {},
   "outputs": [
    {
     "data": {
      "text/plain": [
       "2536"
      ]
     },
     "execution_count": 18,
     "metadata": {},
     "output_type": "execute_result"
    }
   ],
   "source": [
    "n_sample_ = Xtrain_.shape[0]\n",
    "n_sample_"
   ]
  },
  {
   "cell_type": "code",
   "execution_count": 19,
   "id": "1325ed4e",
   "metadata": {},
   "outputs": [
    {
     "name": "stdout",
     "output_type": "stream",
     "text": [
      "0    1268\n",
      "1    1268\n",
      "Name: count, dtype: int64\n"
     ]
    }
   ],
   "source": [
    "print(Ytrain_.value_counts())"
   ]
  },
  {
   "cell_type": "code",
   "execution_count": 20,
   "id": "c00f5967",
   "metadata": {},
   "outputs": [],
   "source": [
    "Xtrain.to_csv(str + '-Xtrain.csv')\n",
    "Xtrain_.to_csv(str + '-Xtrain_.csv')\n",
    "Xtest.to_csv(str + '-Xtest.csv')\n",
    "Ytrain.to_csv(str + '-Ytrain.csv')\n",
    "Ytrain_.to_csv(str + '-Ytrain_.csv')\n",
    "Ytest.to_csv(str + '-Ytest.csv')"
   ]
  }
 ],
 "metadata": {
  "kernelspec": {
   "display_name": "sklearn",
   "language": "python",
   "name": "python3"
  },
  "language_info": {
   "codemirror_mode": {
    "name": "ipython",
    "version": 3
   },
   "file_extension": ".py",
   "mimetype": "text/x-python",
   "name": "python",
   "nbconvert_exporter": "python",
   "pygments_lexer": "ipython3",
   "version": "3.12.0"
  }
 },
 "nbformat": 4,
 "nbformat_minor": 5
}
